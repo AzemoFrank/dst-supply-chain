{
 "cells": [
  {
   "cell_type": "markdown",
   "id": "0e621550",
   "metadata": {},
   "source": [
    "---\n",
    "<style>\n",
    "hr {\n",
    "    border-width:2px;\n",
    "    border-color:#75DFC1;\n",
    "}\n",
    "</style>\n",
    "---\n",
    "\n",
    "<center> <h1> Projet - Supply Chain </h1> </center>\n",
    "<center> <h2> Étape : Scrape les données à partir du site : fr.trustpilot.com </h2></center>\n",
    "\n",
    "---\n",
    "\n",
    "# Informations explicatives\n",
    "\n",
    "## Catégorie ciblée : Services aux entreprises\n",
    "## Sous catégorie ciblée : Transport et logistique\n",
    "\n",
    "Avec cette URL [https://fr.trustpilot.com/categories/business_services](https://fr.trustpilot.com/categories/business_services), on doit scraper les informations nécessaires.\n",
    "\n",
    "Deux DataFrames vont être générés :\n",
    "\n",
    "1. `df_Entreprise.csv` contient les informations suivantes pour chaque entreprise :\n",
    "   - Nom de l'entreprise\n",
    "   - Location/Lieu\n",
    "   - Trust score\n",
    "   - Nombre d'avis\n",
    "   - Services proposés (liste)\n",
    "\n",
    "2. `Df_avis.csv` : contient les informations suivantes pour chaque entreprise :\n",
    "   - Nom de l'entreprise\n",
    "   - Nom de l'utilisateur (s'il existe)\n",
    "   - La date de l'avis\n",
    "   - La note donnée\n",
    "   - Commentaire_client\n",
    "   - Réponse de l'entreprise\n"
   ]
  },
  {
   "cell_type": "code",
   "execution_count": 1,
   "id": "591760f7",
   "metadata": {},
   "outputs": [],
   "source": [
    "# importation des packages\n",
    "\n",
    "import requests  # Importe la bibliothèque requests, utilisée pour envoyer des requêtes HTTP en Python.\n",
    "from bs4 import BeautifulSoup as ps # Importe la classe BeautifulSoup de la bibliothèque bs4 et la renomme ps pour l'analyse du contenu HTML.\n",
    "\n",
    "\n",
    "#Définition de l'URL cible\n",
    "url_Cat_Transp_Logistique=\"https://fr.trustpilot.com/categories/business_services?subcategories=shipping_logistics\"\n",
    "\n",
    "Page_HtMl=requests.get(url_Cat_Transp_Logistique)\n",
    "\n",
    "Soup=ps(Page_HtMl.content,'lxml')\n",
    "\n",
    "#print(Soup.prettify().splitlines()[0:30]) # affichage 30 lignes\n",
    "\n"
   ]
  },
  {
   "cell_type": "code",
   "execution_count": null,
   "id": "4bce0010",
   "metadata": {},
   "outputs": [],
   "source": []
  },
  {
   "cell_type": "markdown",
   "id": "7e39a6c1",
   "metadata": {},
   "source": [
    "\n"
   ]
  },
  {
   "cell_type": "code",
   "execution_count": 2,
   "id": "4b3b26d5",
   "metadata": {},
   "outputs": [],
   "source": [
    "#Teste 3::: Scraper les donner sur deux pages \n",
    "#  listes pour stocker les informations\n",
    "Entreprises = []\n",
    "Locations = []\n",
    "TrustScores = []\n",
    "NombreAvis = []\n",
    "ServicesProposes = []\n",
    "\n",
    "# pages à parcourir\n",
    "nombre_de_pages = 2 \n",
    "\n",
    "# parcourur le nombre de pages\n",
    "for page in range(1, nombre_de_pages + 1):\n",
    "    # Construction de l'URL ppour chaque page\n",
    "    url = f\"https://fr.trustpilot.com/categories/business_services?page={page}&subcategories=shipping_logistics\"\n",
    "    \n",
    "    # Requête HTTP pour récupere la page htme\n",
    "    response = requests.get(url)\n",
    "    # beautifulesoup pour parcer avec le parceaus lxml\n",
    "    \n",
    "    soup = ps(response.content, 'lxml')\n",
    "    \n",
    "    # iodentifier les information et les extraire de la page courante\n",
    "    info_entreprises = soup.find_all('div', class_=\"paper_paper__1PY90 paper_outline__lwsUX card_card__lQWDv card_noPadding__D8PcU styles_wrapper__2JOo2\")\n",
    "    \n",
    "    for entreprise in info_entreprises:\n",
    "        # pour chque information , on l extraire de ca baliser et les sotcker dans la table correspondants\n",
    "        # Nom_entrprise\n",
    "        nom = entreprise.find('p', class_='styles_displayName__GOhL2').text if entreprise.find('p', class_='styles_displayName__GOhL2') else 'Non'\n",
    "        Entreprises.append(nom)\n",
    "        # Score_entrprise\n",
    "        score = entreprise.find('span', class_='styles_trustScore__8emxJ')\n",
    "        TrustScores.append(score.text.replace('TrustScore', '').strip() if score else 'Non')\n",
    "        # Nb avise_entrprise\n",
    "        avis_text = entreprise.find('p', class_='styles_ratingText__yQ5S7').text\n",
    "        parts = avis_text.split('|')\n",
    "        NombreAvis.append(''.join(filter(str.isdigit, parts[1])) if len(parts) > 1 else 'Non ')\n",
    "        # lieu_entrprise\n",
    "        loc = entreprise.find('span', class_='styles_location__ILZb0')\n",
    "        Locations.append(loc.text if loc else 'Non ')\n",
    "        # services proposé_entrprise\n",
    "        services_elems = entreprise.find_all('span', class_='typography_body-s__aY15Q')\n",
    "        ServicesProposes.append([service.text for service in services_elems] if services_elems else ['Non '])\n",
    "\n",
    "# Création du dictionnaire <<>>> stocker toutes les informations extraite pour construire apres un data frame\n",
    "Dictionnaire_ = {\n",
    "    'Entreprise': Entreprises,\n",
    "    'Location': Locations,\n",
    "    'TrustScore': TrustScores,\n",
    "    'NombreAvis': NombreAvis,\n",
    "    'ServicesProposes': ServicesProposes\n",
    "}\n",
    "\n",
    "# vérification\n",
    "#print(Dictionnaire_)\n"
   ]
  },
  {
   "cell_type": "code",
   "execution_count": 3,
   "id": "39d23415",
   "metadata": {},
   "outputs": [
    {
     "data": {
      "text/html": [
       "<div>\n",
       "<style scoped>\n",
       "    .dataframe tbody tr th:only-of-type {\n",
       "        vertical-align: middle;\n",
       "    }\n",
       "\n",
       "    .dataframe tbody tr th {\n",
       "        vertical-align: top;\n",
       "    }\n",
       "\n",
       "    .dataframe thead th {\n",
       "        text-align: right;\n",
       "    }\n",
       "</style>\n",
       "<table border=\"1\" class=\"dataframe\">\n",
       "  <thead>\n",
       "    <tr style=\"text-align: right;\">\n",
       "      <th></th>\n",
       "      <th>Entreprise</th>\n",
       "      <th>Location</th>\n",
       "      <th>TrustScore</th>\n",
       "      <th>NombreAvis</th>\n",
       "      <th>ServicesProposes</th>\n",
       "    </tr>\n",
       "  </thead>\n",
       "  <tbody>\n",
       "    <tr>\n",
       "      <th>0</th>\n",
       "      <td>Nextories (ex i-Demenager)</td>\n",
       "      <td>PARIS, France</td>\n",
       "      <td>4,9</td>\n",
       "      <td>3725</td>\n",
       "      <td>[Services de déménagement et de stockage, Démé...</td>\n",
       "    </tr>\n",
       "    <tr>\n",
       "      <th>1</th>\n",
       "      <td>La Tournée</td>\n",
       "      <td>Paris, France</td>\n",
       "      <td>4,9</td>\n",
       "      <td>489</td>\n",
       "      <td>[Boutique de boissons non alcoolisées, Distrib...</td>\n",
       "    </tr>\n",
       "    <tr>\n",
       "      <th>2</th>\n",
       "      <td>CartonsDeDemenagement.com</td>\n",
       "      <td>LIMONEST, France</td>\n",
       "      <td>4,8</td>\n",
       "      <td>11398</td>\n",
       "      <td>[Magasin d'articles d'emballage, Magasin d'art...</td>\n",
       "    </tr>\n",
       "    <tr>\n",
       "      <th>3</th>\n",
       "      <td>LOCABOX</td>\n",
       "      <td>Lormont, France</td>\n",
       "      <td>4,8</td>\n",
       "      <td>7524</td>\n",
       "      <td>[Centre de stockage, Entrepôt, Centre de stock...</td>\n",
       "    </tr>\n",
       "    <tr>\n",
       "      <th>4</th>\n",
       "      <td>La Tribu du Carton</td>\n",
       "      <td>Vénissieux, France</td>\n",
       "      <td>4,8</td>\n",
       "      <td>5182</td>\n",
       "      <td>[Magasin d'articles d'emballage, Magasin d'art...</td>\n",
       "    </tr>\n",
       "  </tbody>\n",
       "</table>\n",
       "</div>"
      ],
      "text/plain": [
       "                   Entreprise            Location TrustScore NombreAvis  \\\n",
       "0  Nextories (ex i-Demenager)       PARIS, France        4,9       3725   \n",
       "1                  La Tournée       Paris, France        4,9        489   \n",
       "2   CartonsDeDemenagement.com    LIMONEST, France        4,8      11398   \n",
       "3                     LOCABOX     Lormont, France        4,8       7524   \n",
       "4          La Tribu du Carton  Vénissieux, France        4,8       5182   \n",
       "\n",
       "                                    ServicesProposes  \n",
       "0  [Services de déménagement et de stockage, Démé...  \n",
       "1  [Boutique de boissons non alcoolisées, Distrib...  \n",
       "2  [Magasin d'articles d'emballage, Magasin d'art...  \n",
       "3  [Centre de stockage, Entrepôt, Centre de stock...  \n",
       "4  [Magasin d'articles d'emballage, Magasin d'art...  "
      ]
     },
     "metadata": {},
     "output_type": "display_data"
    },
    {
     "name": "stdout",
     "output_type": "stream",
     "text": [
      "<class 'pandas.core.frame.DataFrame'>\n",
      "RangeIndex: 40 entries, 0 to 39\n",
      "Data columns (total 5 columns):\n",
      " #   Column            Non-Null Count  Dtype \n",
      "---  ------            --------------  ----- \n",
      " 0   Entreprise        40 non-null     object\n",
      " 1   Location          40 non-null     object\n",
      " 2   TrustScore        40 non-null     object\n",
      " 3   NombreAvis        40 non-null     object\n",
      " 4   ServicesProposes  40 non-null     object\n",
      "dtypes: object(5)\n",
      "memory usage: 1.7+ KB\n"
     ]
    },
    {
     "data": {
      "text/plain": [
       "None"
      ]
     },
     "metadata": {},
     "output_type": "display_data"
    }
   ],
   "source": [
    "import pandas as pd\n",
    "\n",
    "\n",
    "df_Intreprise=pd.DataFrame(Dictionnaire_)\n",
    "display(df_Intreprise.head())\n",
    "display(df_Intreprise.info())\n",
    "\n",
    "\n",
    "# stocker dans ficher csv\n",
    "df_Intreprise.to_csv('df_Intreprise.csv', index=False)"
   ]
  },
  {
   "cell_type": "markdown",
   "id": "0f5a7908",
   "metadata": {},
   "source": [
    "\n"
   ]
  },
  {
   "cell_type": "code",
   "execution_count": 4,
   "id": "b4f4cd61",
   "metadata": {},
   "outputs": [
    {
     "name": "stdout",
     "output_type": "stream",
     "text": [
      "nextories\n"
     ]
    },
    {
     "data": {
      "text/plain": [
       "'https://fr.trustpilot.com/review/nextories.com?page=1'"
      ]
     },
     "metadata": {},
     "output_type": "display_data"
    },
    {
     "data": {
      "text/plain": [
       "'https://fr.trustpilot.com/review/nextories.com?page=2'"
      ]
     },
     "metadata": {},
     "output_type": "display_data"
    },
    {
     "data": {
      "text/plain": [
       "'https://fr.trustpilot.com/review/nextories.com?page=3'"
      ]
     },
     "metadata": {},
     "output_type": "display_data"
    },
    {
     "data": {
      "text/plain": [
       "'https://fr.trustpilot.com/review/nextories.com?page=4'"
      ]
     },
     "metadata": {},
     "output_type": "display_data"
    },
    {
     "data": {
      "text/plain": [
       "'https://fr.trustpilot.com/review/nextories.com?page=5'"
      ]
     },
     "metadata": {},
     "output_type": "display_data"
    },
    {
     "data": {
      "text/plain": [
       "'https://fr.trustpilot.com/review/nextories.com?page=6'"
      ]
     },
     "metadata": {},
     "output_type": "display_data"
    },
    {
     "data": {
      "text/plain": [
       "'https://fr.trustpilot.com/review/nextories.com?page=7'"
      ]
     },
     "metadata": {},
     "output_type": "display_data"
    },
    {
     "data": {
      "text/plain": [
       "'https://fr.trustpilot.com/review/nextories.com?page=8'"
      ]
     },
     "metadata": {},
     "output_type": "display_data"
    },
    {
     "data": {
      "text/plain": [
       "'https://fr.trustpilot.com/review/nextories.com?page=9'"
      ]
     },
     "metadata": {},
     "output_type": "display_data"
    },
    {
     "data": {
      "text/plain": [
       "'https://fr.trustpilot.com/review/nextories.com?page=10'"
      ]
     },
     "metadata": {},
     "output_type": "display_data"
    },
    {
     "data": {
      "text/plain": [
       "'https://fr.trustpilot.com/review/nextories.com?page=11'"
      ]
     },
     "metadata": {},
     "output_type": "display_data"
    },
    {
     "data": {
      "text/plain": [
       "'https://fr.trustpilot.com/review/nextories.com?page=12'"
      ]
     },
     "metadata": {},
     "output_type": "display_data"
    },
    {
     "data": {
      "text/plain": [
       "'https://fr.trustpilot.com/review/nextories.com?page=13'"
      ]
     },
     "metadata": {},
     "output_type": "display_data"
    },
    {
     "data": {
      "text/plain": [
       "'https://fr.trustpilot.com/review/nextories.com?page=14'"
      ]
     },
     "metadata": {},
     "output_type": "display_data"
    },
    {
     "data": {
      "text/plain": [
       "'https://fr.trustpilot.com/review/nextories.com?page=15'"
      ]
     },
     "metadata": {},
     "output_type": "display_data"
    },
    {
     "data": {
      "text/plain": [
       "'https://fr.trustpilot.com/review/nextories.com?page=16'"
      ]
     },
     "metadata": {},
     "output_type": "display_data"
    },
    {
     "data": {
      "text/plain": [
       "'https://fr.trustpilot.com/review/nextories.com?page=17'"
      ]
     },
     "metadata": {},
     "output_type": "display_data"
    },
    {
     "data": {
      "text/plain": [
       "'https://fr.trustpilot.com/review/nextories.com?page=18'"
      ]
     },
     "metadata": {},
     "output_type": "display_data"
    },
    {
     "data": {
      "text/plain": [
       "'https://fr.trustpilot.com/review/nextories.com?page=19'"
      ]
     },
     "metadata": {},
     "output_type": "display_data"
    },
    {
     "data": {
      "text/plain": [
       "'https://fr.trustpilot.com/review/nextories.com?page=20'"
      ]
     },
     "metadata": {},
     "output_type": "display_data"
    },
    {
     "name": "stdout",
     "output_type": "stream",
     "text": [
      "la-tournee\n"
     ]
    },
    {
     "data": {
      "text/plain": [
       "'https://fr.trustpilot.com/review/www.la-tournee.co?page=1'"
      ]
     },
     "metadata": {},
     "output_type": "display_data"
    },
    {
     "data": {
      "text/plain": [
       "'https://fr.trustpilot.com/review/www.la-tournee.co?page=2'"
      ]
     },
     "metadata": {},
     "output_type": "display_data"
    },
    {
     "data": {
      "text/plain": [
       "'https://fr.trustpilot.com/review/www.la-tournee.co?page=3'"
      ]
     },
     "metadata": {},
     "output_type": "display_data"
    },
    {
     "data": {
      "text/plain": [
       "'https://fr.trustpilot.com/review/www.la-tournee.co?page=4'"
      ]
     },
     "metadata": {},
     "output_type": "display_data"
    },
    {
     "data": {
      "text/plain": [
       "'https://fr.trustpilot.com/review/www.la-tournee.co?page=5'"
      ]
     },
     "metadata": {},
     "output_type": "display_data"
    },
    {
     "data": {
      "text/plain": [
       "'https://fr.trustpilot.com/review/www.la-tournee.co?page=6'"
      ]
     },
     "metadata": {},
     "output_type": "display_data"
    },
    {
     "data": {
      "text/plain": [
       "'https://fr.trustpilot.com/review/www.la-tournee.co?page=7'"
      ]
     },
     "metadata": {},
     "output_type": "display_data"
    },
    {
     "data": {
      "text/plain": [
       "'https://fr.trustpilot.com/review/www.la-tournee.co?page=8'"
      ]
     },
     "metadata": {},
     "output_type": "display_data"
    },
    {
     "data": {
      "text/plain": [
       "'https://fr.trustpilot.com/review/www.la-tournee.co?page=9'"
      ]
     },
     "metadata": {},
     "output_type": "display_data"
    },
    {
     "data": {
      "text/plain": [
       "'https://fr.trustpilot.com/review/www.la-tournee.co?page=10'"
      ]
     },
     "metadata": {},
     "output_type": "display_data"
    },
    {
     "data": {
      "text/plain": [
       "'https://fr.trustpilot.com/review/www.la-tournee.co?page=11'"
      ]
     },
     "metadata": {},
     "output_type": "display_data"
    },
    {
     "data": {
      "text/plain": [
       "'https://fr.trustpilot.com/review/www.la-tournee.co?page=12'"
      ]
     },
     "metadata": {},
     "output_type": "display_data"
    },
    {
     "data": {
      "text/plain": [
       "'https://fr.trustpilot.com/review/www.la-tournee.co?page=13'"
      ]
     },
     "metadata": {},
     "output_type": "display_data"
    },
    {
     "data": {
      "text/plain": [
       "'https://fr.trustpilot.com/review/www.la-tournee.co?page=14'"
      ]
     },
     "metadata": {},
     "output_type": "display_data"
    },
    {
     "data": {
      "text/plain": [
       "'https://fr.trustpilot.com/review/www.la-tournee.co?page=15'"
      ]
     },
     "metadata": {},
     "output_type": "display_data"
    },
    {
     "data": {
      "text/plain": [
       "'https://fr.trustpilot.com/review/www.la-tournee.co?page=16'"
      ]
     },
     "metadata": {},
     "output_type": "display_data"
    },
    {
     "data": {
      "text/plain": [
       "'https://fr.trustpilot.com/review/www.la-tournee.co?page=17'"
      ]
     },
     "metadata": {},
     "output_type": "display_data"
    },
    {
     "data": {
      "text/plain": [
       "'https://fr.trustpilot.com/review/www.la-tournee.co?page=18'"
      ]
     },
     "metadata": {},
     "output_type": "display_data"
    },
    {
     "data": {
      "text/plain": [
       "'https://fr.trustpilot.com/review/www.la-tournee.co?page=19'"
      ]
     },
     "metadata": {},
     "output_type": "display_data"
    },
    {
     "data": {
      "text/plain": [
       "'https://fr.trustpilot.com/review/www.la-tournee.co?page=20'"
      ]
     },
     "metadata": {},
     "output_type": "display_data"
    },
    {
     "name": "stdout",
     "output_type": "stream",
     "text": [
      "cartonsdedemenagement\n"
     ]
    },
    {
     "data": {
      "text/plain": [
       "'https://fr.trustpilot.com/review/www.cartonsdedemenagement.com?page=1'"
      ]
     },
     "metadata": {},
     "output_type": "display_data"
    },
    {
     "data": {
      "text/plain": [
       "'https://fr.trustpilot.com/review/www.cartonsdedemenagement.com?page=2'"
      ]
     },
     "metadata": {},
     "output_type": "display_data"
    },
    {
     "data": {
      "text/plain": [
       "'https://fr.trustpilot.com/review/www.cartonsdedemenagement.com?page=3'"
      ]
     },
     "metadata": {},
     "output_type": "display_data"
    },
    {
     "data": {
      "text/plain": [
       "'https://fr.trustpilot.com/review/www.cartonsdedemenagement.com?page=4'"
      ]
     },
     "metadata": {},
     "output_type": "display_data"
    },
    {
     "data": {
      "text/plain": [
       "'https://fr.trustpilot.com/review/www.cartonsdedemenagement.com?page=5'"
      ]
     },
     "metadata": {},
     "output_type": "display_data"
    },
    {
     "data": {
      "text/plain": [
       "'https://fr.trustpilot.com/review/www.cartonsdedemenagement.com?page=6'"
      ]
     },
     "metadata": {},
     "output_type": "display_data"
    },
    {
     "data": {
      "text/plain": [
       "'https://fr.trustpilot.com/review/www.cartonsdedemenagement.com?page=7'"
      ]
     },
     "metadata": {},
     "output_type": "display_data"
    },
    {
     "data": {
      "text/plain": [
       "'https://fr.trustpilot.com/review/www.cartonsdedemenagement.com?page=8'"
      ]
     },
     "metadata": {},
     "output_type": "display_data"
    },
    {
     "data": {
      "text/plain": [
       "'https://fr.trustpilot.com/review/www.cartonsdedemenagement.com?page=9'"
      ]
     },
     "metadata": {},
     "output_type": "display_data"
    },
    {
     "data": {
      "text/plain": [
       "'https://fr.trustpilot.com/review/www.cartonsdedemenagement.com?page=10'"
      ]
     },
     "metadata": {},
     "output_type": "display_data"
    },
    {
     "data": {
      "text/plain": [
       "'https://fr.trustpilot.com/review/www.cartonsdedemenagement.com?page=11'"
      ]
     },
     "metadata": {},
     "output_type": "display_data"
    },
    {
     "data": {
      "text/plain": [
       "'https://fr.trustpilot.com/review/www.cartonsdedemenagement.com?page=12'"
      ]
     },
     "metadata": {},
     "output_type": "display_data"
    },
    {
     "data": {
      "text/plain": [
       "'https://fr.trustpilot.com/review/www.cartonsdedemenagement.com?page=13'"
      ]
     },
     "metadata": {},
     "output_type": "display_data"
    },
    {
     "data": {
      "text/plain": [
       "'https://fr.trustpilot.com/review/www.cartonsdedemenagement.com?page=14'"
      ]
     },
     "metadata": {},
     "output_type": "display_data"
    },
    {
     "data": {
      "text/plain": [
       "'https://fr.trustpilot.com/review/www.cartonsdedemenagement.com?page=15'"
      ]
     },
     "metadata": {},
     "output_type": "display_data"
    },
    {
     "data": {
      "text/plain": [
       "'https://fr.trustpilot.com/review/www.cartonsdedemenagement.com?page=16'"
      ]
     },
     "metadata": {},
     "output_type": "display_data"
    },
    {
     "data": {
      "text/plain": [
       "'https://fr.trustpilot.com/review/www.cartonsdedemenagement.com?page=17'"
      ]
     },
     "metadata": {},
     "output_type": "display_data"
    },
    {
     "data": {
      "text/plain": [
       "'https://fr.trustpilot.com/review/www.cartonsdedemenagement.com?page=18'"
      ]
     },
     "metadata": {},
     "output_type": "display_data"
    },
    {
     "data": {
      "text/plain": [
       "'https://fr.trustpilot.com/review/www.cartonsdedemenagement.com?page=19'"
      ]
     },
     "metadata": {},
     "output_type": "display_data"
    },
    {
     "data": {
      "text/plain": [
       "'https://fr.trustpilot.com/review/www.cartonsdedemenagement.com?page=20'"
      ]
     },
     "metadata": {},
     "output_type": "display_data"
    },
    {
     "name": "stdout",
     "output_type": "stream",
     "text": [
      "locabox\n"
     ]
    },
    {
     "data": {
      "text/plain": [
       "'https://fr.trustpilot.com/review/locabox.fr?page=1'"
      ]
     },
     "metadata": {},
     "output_type": "display_data"
    },
    {
     "data": {
      "text/plain": [
       "'https://fr.trustpilot.com/review/locabox.fr?page=2'"
      ]
     },
     "metadata": {},
     "output_type": "display_data"
    },
    {
     "data": {
      "text/plain": [
       "'https://fr.trustpilot.com/review/locabox.fr?page=3'"
      ]
     },
     "metadata": {},
     "output_type": "display_data"
    },
    {
     "data": {
      "text/plain": [
       "'https://fr.trustpilot.com/review/locabox.fr?page=4'"
      ]
     },
     "metadata": {},
     "output_type": "display_data"
    },
    {
     "data": {
      "text/plain": [
       "'https://fr.trustpilot.com/review/locabox.fr?page=5'"
      ]
     },
     "metadata": {},
     "output_type": "display_data"
    },
    {
     "data": {
      "text/plain": [
       "'https://fr.trustpilot.com/review/locabox.fr?page=6'"
      ]
     },
     "metadata": {},
     "output_type": "display_data"
    },
    {
     "data": {
      "text/plain": [
       "'https://fr.trustpilot.com/review/locabox.fr?page=7'"
      ]
     },
     "metadata": {},
     "output_type": "display_data"
    },
    {
     "data": {
      "text/plain": [
       "'https://fr.trustpilot.com/review/locabox.fr?page=8'"
      ]
     },
     "metadata": {},
     "output_type": "display_data"
    },
    {
     "data": {
      "text/plain": [
       "'https://fr.trustpilot.com/review/locabox.fr?page=9'"
      ]
     },
     "metadata": {},
     "output_type": "display_data"
    },
    {
     "data": {
      "text/plain": [
       "'https://fr.trustpilot.com/review/locabox.fr?page=10'"
      ]
     },
     "metadata": {},
     "output_type": "display_data"
    },
    {
     "data": {
      "text/plain": [
       "'https://fr.trustpilot.com/review/locabox.fr?page=11'"
      ]
     },
     "metadata": {},
     "output_type": "display_data"
    },
    {
     "data": {
      "text/plain": [
       "'https://fr.trustpilot.com/review/locabox.fr?page=12'"
      ]
     },
     "metadata": {},
     "output_type": "display_data"
    },
    {
     "data": {
      "text/plain": [
       "'https://fr.trustpilot.com/review/locabox.fr?page=13'"
      ]
     },
     "metadata": {},
     "output_type": "display_data"
    },
    {
     "data": {
      "text/plain": [
       "'https://fr.trustpilot.com/review/locabox.fr?page=14'"
      ]
     },
     "metadata": {},
     "output_type": "display_data"
    },
    {
     "data": {
      "text/plain": [
       "'https://fr.trustpilot.com/review/locabox.fr?page=15'"
      ]
     },
     "metadata": {},
     "output_type": "display_data"
    },
    {
     "data": {
      "text/plain": [
       "'https://fr.trustpilot.com/review/locabox.fr?page=16'"
      ]
     },
     "metadata": {},
     "output_type": "display_data"
    },
    {
     "data": {
      "text/plain": [
       "'https://fr.trustpilot.com/review/locabox.fr?page=17'"
      ]
     },
     "metadata": {},
     "output_type": "display_data"
    },
    {
     "data": {
      "text/plain": [
       "'https://fr.trustpilot.com/review/locabox.fr?page=18'"
      ]
     },
     "metadata": {},
     "output_type": "display_data"
    },
    {
     "data": {
      "text/plain": [
       "'https://fr.trustpilot.com/review/locabox.fr?page=19'"
      ]
     },
     "metadata": {},
     "output_type": "display_data"
    },
    {
     "data": {
      "text/plain": [
       "'https://fr.trustpilot.com/review/locabox.fr?page=20'"
      ]
     },
     "metadata": {},
     "output_type": "display_data"
    },
    {
     "name": "stdout",
     "output_type": "stream",
     "text": [
      "latribuducarton\n"
     ]
    },
    {
     "data": {
      "text/plain": [
       "'https://fr.trustpilot.com/review/www.latribuducarton.fr?page=1'"
      ]
     },
     "metadata": {},
     "output_type": "display_data"
    },
    {
     "data": {
      "text/plain": [
       "'https://fr.trustpilot.com/review/www.latribuducarton.fr?page=2'"
      ]
     },
     "metadata": {},
     "output_type": "display_data"
    },
    {
     "data": {
      "text/plain": [
       "'https://fr.trustpilot.com/review/www.latribuducarton.fr?page=3'"
      ]
     },
     "metadata": {},
     "output_type": "display_data"
    },
    {
     "data": {
      "text/plain": [
       "'https://fr.trustpilot.com/review/www.latribuducarton.fr?page=4'"
      ]
     },
     "metadata": {},
     "output_type": "display_data"
    },
    {
     "data": {
      "text/plain": [
       "'https://fr.trustpilot.com/review/www.latribuducarton.fr?page=5'"
      ]
     },
     "metadata": {},
     "output_type": "display_data"
    },
    {
     "data": {
      "text/plain": [
       "'https://fr.trustpilot.com/review/www.latribuducarton.fr?page=6'"
      ]
     },
     "metadata": {},
     "output_type": "display_data"
    },
    {
     "data": {
      "text/plain": [
       "'https://fr.trustpilot.com/review/www.latribuducarton.fr?page=7'"
      ]
     },
     "metadata": {},
     "output_type": "display_data"
    },
    {
     "data": {
      "text/plain": [
       "'https://fr.trustpilot.com/review/www.latribuducarton.fr?page=8'"
      ]
     },
     "metadata": {},
     "output_type": "display_data"
    },
    {
     "data": {
      "text/plain": [
       "'https://fr.trustpilot.com/review/www.latribuducarton.fr?page=9'"
      ]
     },
     "metadata": {},
     "output_type": "display_data"
    },
    {
     "data": {
      "text/plain": [
       "'https://fr.trustpilot.com/review/www.latribuducarton.fr?page=10'"
      ]
     },
     "metadata": {},
     "output_type": "display_data"
    },
    {
     "data": {
      "text/plain": [
       "'https://fr.trustpilot.com/review/www.latribuducarton.fr?page=11'"
      ]
     },
     "metadata": {},
     "output_type": "display_data"
    },
    {
     "data": {
      "text/plain": [
       "'https://fr.trustpilot.com/review/www.latribuducarton.fr?page=12'"
      ]
     },
     "metadata": {},
     "output_type": "display_data"
    },
    {
     "data": {
      "text/plain": [
       "'https://fr.trustpilot.com/review/www.latribuducarton.fr?page=13'"
      ]
     },
     "metadata": {},
     "output_type": "display_data"
    },
    {
     "data": {
      "text/plain": [
       "'https://fr.trustpilot.com/review/www.latribuducarton.fr?page=14'"
      ]
     },
     "metadata": {},
     "output_type": "display_data"
    },
    {
     "data": {
      "text/plain": [
       "'https://fr.trustpilot.com/review/www.latribuducarton.fr?page=15'"
      ]
     },
     "metadata": {},
     "output_type": "display_data"
    },
    {
     "data": {
      "text/plain": [
       "'https://fr.trustpilot.com/review/www.latribuducarton.fr?page=16'"
      ]
     },
     "metadata": {},
     "output_type": "display_data"
    },
    {
     "data": {
      "text/plain": [
       "'https://fr.trustpilot.com/review/www.latribuducarton.fr?page=17'"
      ]
     },
     "metadata": {},
     "output_type": "display_data"
    },
    {
     "data": {
      "text/plain": [
       "'https://fr.trustpilot.com/review/www.latribuducarton.fr?page=18'"
      ]
     },
     "metadata": {},
     "output_type": "display_data"
    },
    {
     "data": {
      "text/plain": [
       "'https://fr.trustpilot.com/review/www.latribuducarton.fr?page=19'"
      ]
     },
     "metadata": {},
     "output_type": "display_data"
    },
    {
     "data": {
      "text/plain": [
       "'https://fr.trustpilot.com/review/www.latribuducarton.fr?page=20'"
      ]
     },
     "metadata": {},
     "output_type": "display_data"
    },
    {
     "name": "stdout",
     "output_type": "stream",
     "text": [
      "merci-facteur\n"
     ]
    },
    {
     "data": {
      "text/plain": [
       "'https://fr.trustpilot.com/review/merci-facteur.com?page=1'"
      ]
     },
     "metadata": {},
     "output_type": "display_data"
    },
    {
     "data": {
      "text/plain": [
       "'https://fr.trustpilot.com/review/merci-facteur.com?page=2'"
      ]
     },
     "metadata": {},
     "output_type": "display_data"
    },
    {
     "data": {
      "text/plain": [
       "'https://fr.trustpilot.com/review/merci-facteur.com?page=3'"
      ]
     },
     "metadata": {},
     "output_type": "display_data"
    },
    {
     "data": {
      "text/plain": [
       "'https://fr.trustpilot.com/review/merci-facteur.com?page=4'"
      ]
     },
     "metadata": {},
     "output_type": "display_data"
    },
    {
     "data": {
      "text/plain": [
       "'https://fr.trustpilot.com/review/merci-facteur.com?page=5'"
      ]
     },
     "metadata": {},
     "output_type": "display_data"
    },
    {
     "data": {
      "text/plain": [
       "'https://fr.trustpilot.com/review/merci-facteur.com?page=6'"
      ]
     },
     "metadata": {},
     "output_type": "display_data"
    },
    {
     "data": {
      "text/plain": [
       "'https://fr.trustpilot.com/review/merci-facteur.com?page=7'"
      ]
     },
     "metadata": {},
     "output_type": "display_data"
    },
    {
     "data": {
      "text/plain": [
       "'https://fr.trustpilot.com/review/merci-facteur.com?page=8'"
      ]
     },
     "metadata": {},
     "output_type": "display_data"
    },
    {
     "data": {
      "text/plain": [
       "'https://fr.trustpilot.com/review/merci-facteur.com?page=9'"
      ]
     },
     "metadata": {},
     "output_type": "display_data"
    },
    {
     "data": {
      "text/plain": [
       "'https://fr.trustpilot.com/review/merci-facteur.com?page=10'"
      ]
     },
     "metadata": {},
     "output_type": "display_data"
    },
    {
     "data": {
      "text/plain": [
       "'https://fr.trustpilot.com/review/merci-facteur.com?page=11'"
      ]
     },
     "metadata": {},
     "output_type": "display_data"
    },
    {
     "data": {
      "text/plain": [
       "'https://fr.trustpilot.com/review/merci-facteur.com?page=12'"
      ]
     },
     "metadata": {},
     "output_type": "display_data"
    },
    {
     "data": {
      "text/plain": [
       "'https://fr.trustpilot.com/review/merci-facteur.com?page=13'"
      ]
     },
     "metadata": {},
     "output_type": "display_data"
    },
    {
     "data": {
      "text/plain": [
       "'https://fr.trustpilot.com/review/merci-facteur.com?page=14'"
      ]
     },
     "metadata": {},
     "output_type": "display_data"
    },
    {
     "data": {
      "text/plain": [
       "'https://fr.trustpilot.com/review/merci-facteur.com?page=15'"
      ]
     },
     "metadata": {},
     "output_type": "display_data"
    },
    {
     "data": {
      "text/plain": [
       "'https://fr.trustpilot.com/review/merci-facteur.com?page=16'"
      ]
     },
     "metadata": {},
     "output_type": "display_data"
    },
    {
     "data": {
      "text/plain": [
       "'https://fr.trustpilot.com/review/merci-facteur.com?page=17'"
      ]
     },
     "metadata": {},
     "output_type": "display_data"
    },
    {
     "data": {
      "text/plain": [
       "'https://fr.trustpilot.com/review/merci-facteur.com?page=18'"
      ]
     },
     "metadata": {},
     "output_type": "display_data"
    },
    {
     "data": {
      "text/plain": [
       "'https://fr.trustpilot.com/review/merci-facteur.com?page=19'"
      ]
     },
     "metadata": {},
     "output_type": "display_data"
    },
    {
     "data": {
      "text/plain": [
       "'https://fr.trustpilot.com/review/merci-facteur.com?page=20'"
      ]
     },
     "metadata": {},
     "output_type": "display_data"
    },
    {
     "name": "stdout",
     "output_type": "stream",
     "text": [
      "youstock\n"
     ]
    },
    {
     "data": {
      "text/plain": [
       "'https://fr.trustpilot.com/review/youstock.com?page=1'"
      ]
     },
     "metadata": {},
     "output_type": "display_data"
    },
    {
     "data": {
      "text/plain": [
       "'https://fr.trustpilot.com/review/youstock.com?page=2'"
      ]
     },
     "metadata": {},
     "output_type": "display_data"
    },
    {
     "data": {
      "text/plain": [
       "'https://fr.trustpilot.com/review/youstock.com?page=3'"
      ]
     },
     "metadata": {},
     "output_type": "display_data"
    },
    {
     "data": {
      "text/plain": [
       "'https://fr.trustpilot.com/review/youstock.com?page=4'"
      ]
     },
     "metadata": {},
     "output_type": "display_data"
    },
    {
     "data": {
      "text/plain": [
       "'https://fr.trustpilot.com/review/youstock.com?page=5'"
      ]
     },
     "metadata": {},
     "output_type": "display_data"
    },
    {
     "data": {
      "text/plain": [
       "'https://fr.trustpilot.com/review/youstock.com?page=6'"
      ]
     },
     "metadata": {},
     "output_type": "display_data"
    },
    {
     "data": {
      "text/plain": [
       "'https://fr.trustpilot.com/review/youstock.com?page=7'"
      ]
     },
     "metadata": {},
     "output_type": "display_data"
    },
    {
     "data": {
      "text/plain": [
       "'https://fr.trustpilot.com/review/youstock.com?page=8'"
      ]
     },
     "metadata": {},
     "output_type": "display_data"
    },
    {
     "data": {
      "text/plain": [
       "'https://fr.trustpilot.com/review/youstock.com?page=9'"
      ]
     },
     "metadata": {},
     "output_type": "display_data"
    },
    {
     "data": {
      "text/plain": [
       "'https://fr.trustpilot.com/review/youstock.com?page=10'"
      ]
     },
     "metadata": {},
     "output_type": "display_data"
    },
    {
     "data": {
      "text/plain": [
       "'https://fr.trustpilot.com/review/youstock.com?page=11'"
      ]
     },
     "metadata": {},
     "output_type": "display_data"
    },
    {
     "data": {
      "text/plain": [
       "'https://fr.trustpilot.com/review/youstock.com?page=12'"
      ]
     },
     "metadata": {},
     "output_type": "display_data"
    },
    {
     "data": {
      "text/plain": [
       "'https://fr.trustpilot.com/review/youstock.com?page=13'"
      ]
     },
     "metadata": {},
     "output_type": "display_data"
    },
    {
     "data": {
      "text/plain": [
       "'https://fr.trustpilot.com/review/youstock.com?page=14'"
      ]
     },
     "metadata": {},
     "output_type": "display_data"
    },
    {
     "data": {
      "text/plain": [
       "'https://fr.trustpilot.com/review/youstock.com?page=15'"
      ]
     },
     "metadata": {},
     "output_type": "display_data"
    },
    {
     "data": {
      "text/plain": [
       "'https://fr.trustpilot.com/review/youstock.com?page=16'"
      ]
     },
     "metadata": {},
     "output_type": "display_data"
    },
    {
     "data": {
      "text/plain": [
       "'https://fr.trustpilot.com/review/youstock.com?page=17'"
      ]
     },
     "metadata": {},
     "output_type": "display_data"
    },
    {
     "data": {
      "text/plain": [
       "'https://fr.trustpilot.com/review/youstock.com?page=18'"
      ]
     },
     "metadata": {},
     "output_type": "display_data"
    },
    {
     "data": {
      "text/plain": [
       "'https://fr.trustpilot.com/review/youstock.com?page=19'"
      ]
     },
     "metadata": {},
     "output_type": "display_data"
    },
    {
     "data": {
      "text/plain": [
       "'https://fr.trustpilot.com/review/youstock.com?page=20'"
      ]
     },
     "metadata": {},
     "output_type": "display_data"
    },
    {
     "name": "stdout",
     "output_type": "stream",
     "text": [
      "lockall\n"
     ]
    },
    {
     "data": {
      "text/plain": [
       "'https://fr.trustpilot.com/review/lockall.fr?page=1'"
      ]
     },
     "metadata": {},
     "output_type": "display_data"
    },
    {
     "data": {
      "text/plain": [
       "'https://fr.trustpilot.com/review/lockall.fr?page=2'"
      ]
     },
     "metadata": {},
     "output_type": "display_data"
    },
    {
     "data": {
      "text/plain": [
       "'https://fr.trustpilot.com/review/lockall.fr?page=3'"
      ]
     },
     "metadata": {},
     "output_type": "display_data"
    },
    {
     "data": {
      "text/plain": [
       "'https://fr.trustpilot.com/review/lockall.fr?page=4'"
      ]
     },
     "metadata": {},
     "output_type": "display_data"
    },
    {
     "data": {
      "text/plain": [
       "'https://fr.trustpilot.com/review/lockall.fr?page=5'"
      ]
     },
     "metadata": {},
     "output_type": "display_data"
    },
    {
     "data": {
      "text/plain": [
       "'https://fr.trustpilot.com/review/lockall.fr?page=6'"
      ]
     },
     "metadata": {},
     "output_type": "display_data"
    },
    {
     "data": {
      "text/plain": [
       "'https://fr.trustpilot.com/review/lockall.fr?page=7'"
      ]
     },
     "metadata": {},
     "output_type": "display_data"
    },
    {
     "data": {
      "text/plain": [
       "'https://fr.trustpilot.com/review/lockall.fr?page=8'"
      ]
     },
     "metadata": {},
     "output_type": "display_data"
    },
    {
     "data": {
      "text/plain": [
       "'https://fr.trustpilot.com/review/lockall.fr?page=9'"
      ]
     },
     "metadata": {},
     "output_type": "display_data"
    },
    {
     "name": "stdout",
     "output_type": "stream",
     "text": [
      "Erreur lors de la requête : 404\n"
     ]
    },
    {
     "data": {
      "text/plain": [
       "'https://fr.trustpilot.com/review/lockall.fr?page=10'"
      ]
     },
     "metadata": {},
     "output_type": "display_data"
    },
    {
     "name": "stdout",
     "output_type": "stream",
     "text": [
      "Erreur lors de la requête : 404\n"
     ]
    },
    {
     "data": {
      "text/plain": [
       "'https://fr.trustpilot.com/review/lockall.fr?page=11'"
      ]
     },
     "metadata": {},
     "output_type": "display_data"
    },
    {
     "name": "stdout",
     "output_type": "stream",
     "text": [
      "Erreur lors de la requête : 404\n"
     ]
    },
    {
     "data": {
      "text/plain": [
       "'https://fr.trustpilot.com/review/lockall.fr?page=12'"
      ]
     },
     "metadata": {},
     "output_type": "display_data"
    },
    {
     "name": "stdout",
     "output_type": "stream",
     "text": [
      "Erreur lors de la requête : 404\n"
     ]
    },
    {
     "data": {
      "text/plain": [
       "'https://fr.trustpilot.com/review/lockall.fr?page=13'"
      ]
     },
     "metadata": {},
     "output_type": "display_data"
    },
    {
     "name": "stdout",
     "output_type": "stream",
     "text": [
      "Erreur lors de la requête : 404\n"
     ]
    },
    {
     "data": {
      "text/plain": [
       "'https://fr.trustpilot.com/review/lockall.fr?page=14'"
      ]
     },
     "metadata": {},
     "output_type": "display_data"
    },
    {
     "name": "stdout",
     "output_type": "stream",
     "text": [
      "Erreur lors de la requête : 404\n"
     ]
    },
    {
     "data": {
      "text/plain": [
       "'https://fr.trustpilot.com/review/lockall.fr?page=15'"
      ]
     },
     "metadata": {},
     "output_type": "display_data"
    },
    {
     "name": "stdout",
     "output_type": "stream",
     "text": [
      "Erreur lors de la requête : 404\n"
     ]
    },
    {
     "data": {
      "text/plain": [
       "'https://fr.trustpilot.com/review/lockall.fr?page=16'"
      ]
     },
     "metadata": {},
     "output_type": "display_data"
    },
    {
     "name": "stdout",
     "output_type": "stream",
     "text": [
      "Erreur lors de la requête : 404\n"
     ]
    },
    {
     "data": {
      "text/plain": [
       "'https://fr.trustpilot.com/review/lockall.fr?page=17'"
      ]
     },
     "metadata": {},
     "output_type": "display_data"
    },
    {
     "name": "stdout",
     "output_type": "stream",
     "text": [
      "Erreur lors de la requête : 404\n"
     ]
    },
    {
     "data": {
      "text/plain": [
       "'https://fr.trustpilot.com/review/lockall.fr?page=18'"
      ]
     },
     "metadata": {},
     "output_type": "display_data"
    },
    {
     "name": "stdout",
     "output_type": "stream",
     "text": [
      "Erreur lors de la requête : 404\n"
     ]
    },
    {
     "data": {
      "text/plain": [
       "'https://fr.trustpilot.com/review/lockall.fr?page=19'"
      ]
     },
     "metadata": {},
     "output_type": "display_data"
    },
    {
     "name": "stdout",
     "output_type": "stream",
     "text": [
      "Erreur lors de la requête : 404\n"
     ]
    },
    {
     "data": {
      "text/plain": [
       "'https://fr.trustpilot.com/review/lockall.fr?page=20'"
      ]
     },
     "metadata": {},
     "output_type": "display_data"
    },
    {
     "name": "stdout",
     "output_type": "stream",
     "text": [
      "Erreur lors de la requête : 404\n",
      "papernest\n"
     ]
    },
    {
     "data": {
      "text/plain": [
       "'https://fr.trustpilot.com/review/papernest.com?page=1'"
      ]
     },
     "metadata": {},
     "output_type": "display_data"
    },
    {
     "data": {
      "text/plain": [
       "'https://fr.trustpilot.com/review/papernest.com?page=2'"
      ]
     },
     "metadata": {},
     "output_type": "display_data"
    },
    {
     "data": {
      "text/plain": [
       "'https://fr.trustpilot.com/review/papernest.com?page=3'"
      ]
     },
     "metadata": {},
     "output_type": "display_data"
    },
    {
     "data": {
      "text/plain": [
       "'https://fr.trustpilot.com/review/papernest.com?page=4'"
      ]
     },
     "metadata": {},
     "output_type": "display_data"
    },
    {
     "data": {
      "text/plain": [
       "'https://fr.trustpilot.com/review/papernest.com?page=5'"
      ]
     },
     "metadata": {},
     "output_type": "display_data"
    },
    {
     "data": {
      "text/plain": [
       "'https://fr.trustpilot.com/review/papernest.com?page=6'"
      ]
     },
     "metadata": {},
     "output_type": "display_data"
    },
    {
     "data": {
      "text/plain": [
       "'https://fr.trustpilot.com/review/papernest.com?page=7'"
      ]
     },
     "metadata": {},
     "output_type": "display_data"
    },
    {
     "data": {
      "text/plain": [
       "'https://fr.trustpilot.com/review/papernest.com?page=8'"
      ]
     },
     "metadata": {},
     "output_type": "display_data"
    },
    {
     "data": {
      "text/plain": [
       "'https://fr.trustpilot.com/review/papernest.com?page=9'"
      ]
     },
     "metadata": {},
     "output_type": "display_data"
    },
    {
     "data": {
      "text/plain": [
       "'https://fr.trustpilot.com/review/papernest.com?page=10'"
      ]
     },
     "metadata": {},
     "output_type": "display_data"
    },
    {
     "data": {
      "text/plain": [
       "'https://fr.trustpilot.com/review/papernest.com?page=11'"
      ]
     },
     "metadata": {},
     "output_type": "display_data"
    },
    {
     "data": {
      "text/plain": [
       "'https://fr.trustpilot.com/review/papernest.com?page=12'"
      ]
     },
     "metadata": {},
     "output_type": "display_data"
    },
    {
     "data": {
      "text/plain": [
       "'https://fr.trustpilot.com/review/papernest.com?page=13'"
      ]
     },
     "metadata": {},
     "output_type": "display_data"
    },
    {
     "data": {
      "text/plain": [
       "'https://fr.trustpilot.com/review/papernest.com?page=14'"
      ]
     },
     "metadata": {},
     "output_type": "display_data"
    },
    {
     "data": {
      "text/plain": [
       "'https://fr.trustpilot.com/review/papernest.com?page=15'"
      ]
     },
     "metadata": {},
     "output_type": "display_data"
    },
    {
     "data": {
      "text/plain": [
       "'https://fr.trustpilot.com/review/papernest.com?page=16'"
      ]
     },
     "metadata": {},
     "output_type": "display_data"
    },
    {
     "data": {
      "text/plain": [
       "'https://fr.trustpilot.com/review/papernest.com?page=17'"
      ]
     },
     "metadata": {},
     "output_type": "display_data"
    },
    {
     "data": {
      "text/plain": [
       "'https://fr.trustpilot.com/review/papernest.com?page=18'"
      ]
     },
     "metadata": {},
     "output_type": "display_data"
    },
    {
     "data": {
      "text/plain": [
       "'https://fr.trustpilot.com/review/papernest.com?page=19'"
      ]
     },
     "metadata": {},
     "output_type": "display_data"
    },
    {
     "data": {
      "text/plain": [
       "'https://fr.trustpilot.com/review/papernest.com?page=20'"
      ]
     },
     "metadata": {},
     "output_type": "display_data"
    },
    {
     "name": "stdout",
     "output_type": "stream",
     "text": [
      "welkit\n"
     ]
    },
    {
     "data": {
      "text/plain": [
       "'https://fr.trustpilot.com/review/welkit.fr?page=1'"
      ]
     },
     "metadata": {},
     "output_type": "display_data"
    },
    {
     "data": {
      "text/plain": [
       "'https://fr.trustpilot.com/review/welkit.fr?page=2'"
      ]
     },
     "metadata": {},
     "output_type": "display_data"
    },
    {
     "data": {
      "text/plain": [
       "'https://fr.trustpilot.com/review/welkit.fr?page=3'"
      ]
     },
     "metadata": {},
     "output_type": "display_data"
    },
    {
     "data": {
      "text/plain": [
       "'https://fr.trustpilot.com/review/welkit.fr?page=4'"
      ]
     },
     "metadata": {},
     "output_type": "display_data"
    },
    {
     "data": {
      "text/plain": [
       "'https://fr.trustpilot.com/review/welkit.fr?page=5'"
      ]
     },
     "metadata": {},
     "output_type": "display_data"
    },
    {
     "data": {
      "text/plain": [
       "'https://fr.trustpilot.com/review/welkit.fr?page=6'"
      ]
     },
     "metadata": {},
     "output_type": "display_data"
    },
    {
     "data": {
      "text/plain": [
       "'https://fr.trustpilot.com/review/welkit.fr?page=7'"
      ]
     },
     "metadata": {},
     "output_type": "display_data"
    },
    {
     "data": {
      "text/plain": [
       "'https://fr.trustpilot.com/review/welkit.fr?page=8'"
      ]
     },
     "metadata": {},
     "output_type": "display_data"
    },
    {
     "data": {
      "text/plain": [
       "'https://fr.trustpilot.com/review/welkit.fr?page=9'"
      ]
     },
     "metadata": {},
     "output_type": "display_data"
    },
    {
     "data": {
      "text/plain": [
       "'https://fr.trustpilot.com/review/welkit.fr?page=10'"
      ]
     },
     "metadata": {},
     "output_type": "display_data"
    },
    {
     "data": {
      "text/plain": [
       "'https://fr.trustpilot.com/review/welkit.fr?page=11'"
      ]
     },
     "metadata": {},
     "output_type": "display_data"
    },
    {
     "data": {
      "text/plain": [
       "'https://fr.trustpilot.com/review/welkit.fr?page=12'"
      ]
     },
     "metadata": {},
     "output_type": "display_data"
    },
    {
     "data": {
      "text/plain": [
       "'https://fr.trustpilot.com/review/welkit.fr?page=13'"
      ]
     },
     "metadata": {},
     "output_type": "display_data"
    },
    {
     "data": {
      "text/plain": [
       "'https://fr.trustpilot.com/review/welkit.fr?page=14'"
      ]
     },
     "metadata": {},
     "output_type": "display_data"
    },
    {
     "data": {
      "text/plain": [
       "'https://fr.trustpilot.com/review/welkit.fr?page=15'"
      ]
     },
     "metadata": {},
     "output_type": "display_data"
    },
    {
     "data": {
      "text/plain": [
       "'https://fr.trustpilot.com/review/welkit.fr?page=16'"
      ]
     },
     "metadata": {},
     "output_type": "display_data"
    },
    {
     "data": {
      "text/plain": [
       "'https://fr.trustpilot.com/review/welkit.fr?page=17'"
      ]
     },
     "metadata": {},
     "output_type": "display_data"
    },
    {
     "data": {
      "text/plain": [
       "'https://fr.trustpilot.com/review/welkit.fr?page=18'"
      ]
     },
     "metadata": {},
     "output_type": "display_data"
    },
    {
     "data": {
      "text/plain": [
       "'https://fr.trustpilot.com/review/welkit.fr?page=19'"
      ]
     },
     "metadata": {},
     "output_type": "display_data"
    },
    {
     "data": {
      "text/plain": [
       "'https://fr.trustpilot.com/review/welkit.fr?page=20'"
      ]
     },
     "metadata": {},
     "output_type": "display_data"
    },
    {
     "name": "stdout",
     "output_type": "stream",
     "text": [
      "cocolis\n"
     ]
    },
    {
     "data": {
      "text/plain": [
       "'https://fr.trustpilot.com/review/www.cocolis.fr?page=1'"
      ]
     },
     "metadata": {},
     "output_type": "display_data"
    },
    {
     "data": {
      "text/plain": [
       "'https://fr.trustpilot.com/review/www.cocolis.fr?page=2'"
      ]
     },
     "metadata": {},
     "output_type": "display_data"
    },
    {
     "data": {
      "text/plain": [
       "'https://fr.trustpilot.com/review/www.cocolis.fr?page=3'"
      ]
     },
     "metadata": {},
     "output_type": "display_data"
    },
    {
     "data": {
      "text/plain": [
       "'https://fr.trustpilot.com/review/www.cocolis.fr?page=4'"
      ]
     },
     "metadata": {},
     "output_type": "display_data"
    },
    {
     "data": {
      "text/plain": [
       "'https://fr.trustpilot.com/review/www.cocolis.fr?page=5'"
      ]
     },
     "metadata": {},
     "output_type": "display_data"
    },
    {
     "data": {
      "text/plain": [
       "'https://fr.trustpilot.com/review/www.cocolis.fr?page=6'"
      ]
     },
     "metadata": {},
     "output_type": "display_data"
    },
    {
     "data": {
      "text/plain": [
       "'https://fr.trustpilot.com/review/www.cocolis.fr?page=7'"
      ]
     },
     "metadata": {},
     "output_type": "display_data"
    },
    {
     "data": {
      "text/plain": [
       "'https://fr.trustpilot.com/review/www.cocolis.fr?page=8'"
      ]
     },
     "metadata": {},
     "output_type": "display_data"
    },
    {
     "data": {
      "text/plain": [
       "'https://fr.trustpilot.com/review/www.cocolis.fr?page=9'"
      ]
     },
     "metadata": {},
     "output_type": "display_data"
    },
    {
     "data": {
      "text/plain": [
       "'https://fr.trustpilot.com/review/www.cocolis.fr?page=10'"
      ]
     },
     "metadata": {},
     "output_type": "display_data"
    },
    {
     "data": {
      "text/plain": [
       "'https://fr.trustpilot.com/review/www.cocolis.fr?page=11'"
      ]
     },
     "metadata": {},
     "output_type": "display_data"
    },
    {
     "data": {
      "text/plain": [
       "'https://fr.trustpilot.com/review/www.cocolis.fr?page=12'"
      ]
     },
     "metadata": {},
     "output_type": "display_data"
    },
    {
     "data": {
      "text/plain": [
       "'https://fr.trustpilot.com/review/www.cocolis.fr?page=13'"
      ]
     },
     "metadata": {},
     "output_type": "display_data"
    },
    {
     "data": {
      "text/plain": [
       "'https://fr.trustpilot.com/review/www.cocolis.fr?page=14'"
      ]
     },
     "metadata": {},
     "output_type": "display_data"
    },
    {
     "data": {
      "text/plain": [
       "'https://fr.trustpilot.com/review/www.cocolis.fr?page=15'"
      ]
     },
     "metadata": {},
     "output_type": "display_data"
    },
    {
     "data": {
      "text/plain": [
       "'https://fr.trustpilot.com/review/www.cocolis.fr?page=16'"
      ]
     },
     "metadata": {},
     "output_type": "display_data"
    },
    {
     "data": {
      "text/plain": [
       "'https://fr.trustpilot.com/review/www.cocolis.fr?page=17'"
      ]
     },
     "metadata": {},
     "output_type": "display_data"
    },
    {
     "data": {
      "text/plain": [
       "'https://fr.trustpilot.com/review/www.cocolis.fr?page=18'"
      ]
     },
     "metadata": {},
     "output_type": "display_data"
    },
    {
     "data": {
      "text/plain": [
       "'https://fr.trustpilot.com/review/www.cocolis.fr?page=19'"
      ]
     },
     "metadata": {},
     "output_type": "display_data"
    },
    {
     "data": {
      "text/plain": [
       "'https://fr.trustpilot.com/review/www.cocolis.fr?page=20'"
      ]
     },
     "metadata": {},
     "output_type": "display_data"
    },
    {
     "name": "stdout",
     "output_type": "stream",
     "text": [
      "ecocarton\n"
     ]
    },
    {
     "data": {
      "text/plain": [
       "'https://fr.trustpilot.com/review/www.ecocarton.fr?page=1'"
      ]
     },
     "metadata": {},
     "output_type": "display_data"
    },
    {
     "data": {
      "text/plain": [
       "'https://fr.trustpilot.com/review/www.ecocarton.fr?page=2'"
      ]
     },
     "metadata": {},
     "output_type": "display_data"
    },
    {
     "data": {
      "text/plain": [
       "'https://fr.trustpilot.com/review/www.ecocarton.fr?page=3'"
      ]
     },
     "metadata": {},
     "output_type": "display_data"
    },
    {
     "data": {
      "text/plain": [
       "'https://fr.trustpilot.com/review/www.ecocarton.fr?page=4'"
      ]
     },
     "metadata": {},
     "output_type": "display_data"
    },
    {
     "data": {
      "text/plain": [
       "'https://fr.trustpilot.com/review/www.ecocarton.fr?page=5'"
      ]
     },
     "metadata": {},
     "output_type": "display_data"
    },
    {
     "data": {
      "text/plain": [
       "'https://fr.trustpilot.com/review/www.ecocarton.fr?page=6'"
      ]
     },
     "metadata": {},
     "output_type": "display_data"
    },
    {
     "data": {
      "text/plain": [
       "'https://fr.trustpilot.com/review/www.ecocarton.fr?page=7'"
      ]
     },
     "metadata": {},
     "output_type": "display_data"
    },
    {
     "data": {
      "text/plain": [
       "'https://fr.trustpilot.com/review/www.ecocarton.fr?page=8'"
      ]
     },
     "metadata": {},
     "output_type": "display_data"
    },
    {
     "data": {
      "text/plain": [
       "'https://fr.trustpilot.com/review/www.ecocarton.fr?page=9'"
      ]
     },
     "metadata": {},
     "output_type": "display_data"
    },
    {
     "data": {
      "text/plain": [
       "'https://fr.trustpilot.com/review/www.ecocarton.fr?page=10'"
      ]
     },
     "metadata": {},
     "output_type": "display_data"
    },
    {
     "data": {
      "text/plain": [
       "'https://fr.trustpilot.com/review/www.ecocarton.fr?page=11'"
      ]
     },
     "metadata": {},
     "output_type": "display_data"
    },
    {
     "data": {
      "text/plain": [
       "'https://fr.trustpilot.com/review/www.ecocarton.fr?page=12'"
      ]
     },
     "metadata": {},
     "output_type": "display_data"
    },
    {
     "data": {
      "text/plain": [
       "'https://fr.trustpilot.com/review/www.ecocarton.fr?page=13'"
      ]
     },
     "metadata": {},
     "output_type": "display_data"
    },
    {
     "data": {
      "text/plain": [
       "'https://fr.trustpilot.com/review/www.ecocarton.fr?page=14'"
      ]
     },
     "metadata": {},
     "output_type": "display_data"
    },
    {
     "data": {
      "text/plain": [
       "'https://fr.trustpilot.com/review/www.ecocarton.fr?page=15'"
      ]
     },
     "metadata": {},
     "output_type": "display_data"
    },
    {
     "data": {
      "text/plain": [
       "'https://fr.trustpilot.com/review/www.ecocarton.fr?page=16'"
      ]
     },
     "metadata": {},
     "output_type": "display_data"
    },
    {
     "data": {
      "text/plain": [
       "'https://fr.trustpilot.com/review/www.ecocarton.fr?page=17'"
      ]
     },
     "metadata": {},
     "output_type": "display_data"
    },
    {
     "data": {
      "text/plain": [
       "'https://fr.trustpilot.com/review/www.ecocarton.fr?page=18'"
      ]
     },
     "metadata": {},
     "output_type": "display_data"
    },
    {
     "data": {
      "text/plain": [
       "'https://fr.trustpilot.com/review/www.ecocarton.fr?page=19'"
      ]
     },
     "metadata": {},
     "output_type": "display_data"
    },
    {
     "data": {
      "text/plain": [
       "'https://fr.trustpilot.com/review/www.ecocarton.fr?page=20'"
      ]
     },
     "metadata": {},
     "output_type": "display_data"
    },
    {
     "name": "stdout",
     "output_type": "stream",
     "text": [
      "zolemba\n"
     ]
    },
    {
     "data": {
      "text/plain": [
       "'https://fr.trustpilot.com/review/zolemba.fr?page=1'"
      ]
     },
     "metadata": {},
     "output_type": "display_data"
    },
    {
     "data": {
      "text/plain": [
       "'https://fr.trustpilot.com/review/zolemba.fr?page=2'"
      ]
     },
     "metadata": {},
     "output_type": "display_data"
    },
    {
     "data": {
      "text/plain": [
       "'https://fr.trustpilot.com/review/zolemba.fr?page=3'"
      ]
     },
     "metadata": {},
     "output_type": "display_data"
    },
    {
     "data": {
      "text/plain": [
       "'https://fr.trustpilot.com/review/zolemba.fr?page=4'"
      ]
     },
     "metadata": {},
     "output_type": "display_data"
    },
    {
     "data": {
      "text/plain": [
       "'https://fr.trustpilot.com/review/zolemba.fr?page=5'"
      ]
     },
     "metadata": {},
     "output_type": "display_data"
    },
    {
     "data": {
      "text/plain": [
       "'https://fr.trustpilot.com/review/zolemba.fr?page=6'"
      ]
     },
     "metadata": {},
     "output_type": "display_data"
    },
    {
     "data": {
      "text/plain": [
       "'https://fr.trustpilot.com/review/zolemba.fr?page=7'"
      ]
     },
     "metadata": {},
     "output_type": "display_data"
    },
    {
     "data": {
      "text/plain": [
       "'https://fr.trustpilot.com/review/zolemba.fr?page=8'"
      ]
     },
     "metadata": {},
     "output_type": "display_data"
    },
    {
     "data": {
      "text/plain": [
       "'https://fr.trustpilot.com/review/zolemba.fr?page=9'"
      ]
     },
     "metadata": {},
     "output_type": "display_data"
    },
    {
     "data": {
      "text/plain": [
       "'https://fr.trustpilot.com/review/zolemba.fr?page=10'"
      ]
     },
     "metadata": {},
     "output_type": "display_data"
    },
    {
     "data": {
      "text/plain": [
       "'https://fr.trustpilot.com/review/zolemba.fr?page=11'"
      ]
     },
     "metadata": {},
     "output_type": "display_data"
    },
    {
     "data": {
      "text/plain": [
       "'https://fr.trustpilot.com/review/zolemba.fr?page=12'"
      ]
     },
     "metadata": {},
     "output_type": "display_data"
    },
    {
     "data": {
      "text/plain": [
       "'https://fr.trustpilot.com/review/zolemba.fr?page=13'"
      ]
     },
     "metadata": {},
     "output_type": "display_data"
    },
    {
     "name": "stdout",
     "output_type": "stream",
     "text": [
      "Erreur lors de la requête : 404\n"
     ]
    },
    {
     "data": {
      "text/plain": [
       "'https://fr.trustpilot.com/review/zolemba.fr?page=14'"
      ]
     },
     "metadata": {},
     "output_type": "display_data"
    },
    {
     "name": "stdout",
     "output_type": "stream",
     "text": [
      "Erreur lors de la requête : 404\n"
     ]
    },
    {
     "data": {
      "text/plain": [
       "'https://fr.trustpilot.com/review/zolemba.fr?page=15'"
      ]
     },
     "metadata": {},
     "output_type": "display_data"
    },
    {
     "name": "stdout",
     "output_type": "stream",
     "text": [
      "Erreur lors de la requête : 404\n"
     ]
    },
    {
     "data": {
      "text/plain": [
       "'https://fr.trustpilot.com/review/zolemba.fr?page=16'"
      ]
     },
     "metadata": {},
     "output_type": "display_data"
    },
    {
     "name": "stdout",
     "output_type": "stream",
     "text": [
      "Erreur lors de la requête : 404\n"
     ]
    },
    {
     "data": {
      "text/plain": [
       "'https://fr.trustpilot.com/review/zolemba.fr?page=17'"
      ]
     },
     "metadata": {},
     "output_type": "display_data"
    },
    {
     "name": "stdout",
     "output_type": "stream",
     "text": [
      "Erreur lors de la requête : 404\n"
     ]
    },
    {
     "data": {
      "text/plain": [
       "'https://fr.trustpilot.com/review/zolemba.fr?page=18'"
      ]
     },
     "metadata": {},
     "output_type": "display_data"
    },
    {
     "name": "stdout",
     "output_type": "stream",
     "text": [
      "Erreur lors de la requête : 404\n"
     ]
    },
    {
     "data": {
      "text/plain": [
       "'https://fr.trustpilot.com/review/zolemba.fr?page=19'"
      ]
     },
     "metadata": {},
     "output_type": "display_data"
    },
    {
     "name": "stdout",
     "output_type": "stream",
     "text": [
      "Erreur lors de la requête : 404\n"
     ]
    },
    {
     "data": {
      "text/plain": [
       "'https://fr.trustpilot.com/review/zolemba.fr?page=20'"
      ]
     },
     "metadata": {},
     "output_type": "display_data"
    },
    {
     "name": "stdout",
     "output_type": "stream",
     "text": [
      "Erreur lors de la requête : 404\n",
      "delight-cbd\n"
     ]
    },
    {
     "data": {
      "text/plain": [
       "'https://fr.trustpilot.com/review/delight-cbd.com?page=1'"
      ]
     },
     "metadata": {},
     "output_type": "display_data"
    },
    {
     "data": {
      "text/plain": [
       "'https://fr.trustpilot.com/review/delight-cbd.com?page=2'"
      ]
     },
     "metadata": {},
     "output_type": "display_data"
    },
    {
     "data": {
      "text/plain": [
       "'https://fr.trustpilot.com/review/delight-cbd.com?page=3'"
      ]
     },
     "metadata": {},
     "output_type": "display_data"
    },
    {
     "name": "stdout",
     "output_type": "stream",
     "text": [
      "Erreur lors de la requête : 404\n"
     ]
    },
    {
     "data": {
      "text/plain": [
       "'https://fr.trustpilot.com/review/delight-cbd.com?page=4'"
      ]
     },
     "metadata": {},
     "output_type": "display_data"
    },
    {
     "name": "stdout",
     "output_type": "stream",
     "text": [
      "Erreur lors de la requête : 404\n"
     ]
    },
    {
     "data": {
      "text/plain": [
       "'https://fr.trustpilot.com/review/delight-cbd.com?page=5'"
      ]
     },
     "metadata": {},
     "output_type": "display_data"
    },
    {
     "name": "stdout",
     "output_type": "stream",
     "text": [
      "Erreur lors de la requête : 404\n"
     ]
    },
    {
     "data": {
      "text/plain": [
       "'https://fr.trustpilot.com/review/delight-cbd.com?page=6'"
      ]
     },
     "metadata": {},
     "output_type": "display_data"
    },
    {
     "name": "stdout",
     "output_type": "stream",
     "text": [
      "Erreur lors de la requête : 404\n"
     ]
    },
    {
     "data": {
      "text/plain": [
       "'https://fr.trustpilot.com/review/delight-cbd.com?page=7'"
      ]
     },
     "metadata": {},
     "output_type": "display_data"
    },
    {
     "name": "stdout",
     "output_type": "stream",
     "text": [
      "Erreur lors de la requête : 404\n"
     ]
    },
    {
     "data": {
      "text/plain": [
       "'https://fr.trustpilot.com/review/delight-cbd.com?page=8'"
      ]
     },
     "metadata": {},
     "output_type": "display_data"
    },
    {
     "name": "stdout",
     "output_type": "stream",
     "text": [
      "Erreur lors de la requête : 404\n"
     ]
    },
    {
     "data": {
      "text/plain": [
       "'https://fr.trustpilot.com/review/delight-cbd.com?page=9'"
      ]
     },
     "metadata": {},
     "output_type": "display_data"
    },
    {
     "name": "stdout",
     "output_type": "stream",
     "text": [
      "Erreur lors de la requête : 404\n"
     ]
    },
    {
     "data": {
      "text/plain": [
       "'https://fr.trustpilot.com/review/delight-cbd.com?page=10'"
      ]
     },
     "metadata": {},
     "output_type": "display_data"
    },
    {
     "name": "stdout",
     "output_type": "stream",
     "text": [
      "Erreur lors de la requête : 404\n"
     ]
    },
    {
     "data": {
      "text/plain": [
       "'https://fr.trustpilot.com/review/delight-cbd.com?page=11'"
      ]
     },
     "metadata": {},
     "output_type": "display_data"
    },
    {
     "name": "stdout",
     "output_type": "stream",
     "text": [
      "Erreur lors de la requête : 404\n"
     ]
    },
    {
     "data": {
      "text/plain": [
       "'https://fr.trustpilot.com/review/delight-cbd.com?page=12'"
      ]
     },
     "metadata": {},
     "output_type": "display_data"
    },
    {
     "name": "stdout",
     "output_type": "stream",
     "text": [
      "Erreur lors de la requête : 404\n"
     ]
    },
    {
     "data": {
      "text/plain": [
       "'https://fr.trustpilot.com/review/delight-cbd.com?page=13'"
      ]
     },
     "metadata": {},
     "output_type": "display_data"
    },
    {
     "name": "stdout",
     "output_type": "stream",
     "text": [
      "Erreur lors de la requête : 404\n"
     ]
    },
    {
     "data": {
      "text/plain": [
       "'https://fr.trustpilot.com/review/delight-cbd.com?page=14'"
      ]
     },
     "metadata": {},
     "output_type": "display_data"
    },
    {
     "name": "stdout",
     "output_type": "stream",
     "text": [
      "Erreur lors de la requête : 404\n"
     ]
    },
    {
     "data": {
      "text/plain": [
       "'https://fr.trustpilot.com/review/delight-cbd.com?page=15'"
      ]
     },
     "metadata": {},
     "output_type": "display_data"
    },
    {
     "name": "stdout",
     "output_type": "stream",
     "text": [
      "Erreur lors de la requête : 404\n"
     ]
    },
    {
     "data": {
      "text/plain": [
       "'https://fr.trustpilot.com/review/delight-cbd.com?page=16'"
      ]
     },
     "metadata": {},
     "output_type": "display_data"
    },
    {
     "name": "stdout",
     "output_type": "stream",
     "text": [
      "Erreur lors de la requête : 404\n"
     ]
    },
    {
     "data": {
      "text/plain": [
       "'https://fr.trustpilot.com/review/delight-cbd.com?page=17'"
      ]
     },
     "metadata": {},
     "output_type": "display_data"
    },
    {
     "name": "stdout",
     "output_type": "stream",
     "text": [
      "Erreur lors de la requête : 404\n"
     ]
    },
    {
     "data": {
      "text/plain": [
       "'https://fr.trustpilot.com/review/delight-cbd.com?page=18'"
      ]
     },
     "metadata": {},
     "output_type": "display_data"
    },
    {
     "name": "stdout",
     "output_type": "stream",
     "text": [
      "Erreur lors de la requête : 404\n"
     ]
    },
    {
     "data": {
      "text/plain": [
       "'https://fr.trustpilot.com/review/delight-cbd.com?page=19'"
      ]
     },
     "metadata": {},
     "output_type": "display_data"
    },
    {
     "name": "stdout",
     "output_type": "stream",
     "text": [
      "Erreur lors de la requête : 404\n"
     ]
    },
    {
     "data": {
      "text/plain": [
       "'https://fr.trustpilot.com/review/delight-cbd.com?page=20'"
      ]
     },
     "metadata": {},
     "output_type": "display_data"
    },
    {
     "name": "stdout",
     "output_type": "stream",
     "text": [
      "Erreur lors de la requête : 404\n",
      "cartonmarket\n"
     ]
    },
    {
     "data": {
      "text/plain": [
       "'https://fr.trustpilot.com/review/cartonmarket.fr?page=1'"
      ]
     },
     "metadata": {},
     "output_type": "display_data"
    },
    {
     "data": {
      "text/plain": [
       "'https://fr.trustpilot.com/review/cartonmarket.fr?page=2'"
      ]
     },
     "metadata": {},
     "output_type": "display_data"
    },
    {
     "data": {
      "text/plain": [
       "'https://fr.trustpilot.com/review/cartonmarket.fr?page=3'"
      ]
     },
     "metadata": {},
     "output_type": "display_data"
    },
    {
     "data": {
      "text/plain": [
       "'https://fr.trustpilot.com/review/cartonmarket.fr?page=4'"
      ]
     },
     "metadata": {},
     "output_type": "display_data"
    },
    {
     "data": {
      "text/plain": [
       "'https://fr.trustpilot.com/review/cartonmarket.fr?page=5'"
      ]
     },
     "metadata": {},
     "output_type": "display_data"
    },
    {
     "data": {
      "text/plain": [
       "'https://fr.trustpilot.com/review/cartonmarket.fr?page=6'"
      ]
     },
     "metadata": {},
     "output_type": "display_data"
    },
    {
     "data": {
      "text/plain": [
       "'https://fr.trustpilot.com/review/cartonmarket.fr?page=7'"
      ]
     },
     "metadata": {},
     "output_type": "display_data"
    },
    {
     "data": {
      "text/plain": [
       "'https://fr.trustpilot.com/review/cartonmarket.fr?page=8'"
      ]
     },
     "metadata": {},
     "output_type": "display_data"
    },
    {
     "data": {
      "text/plain": [
       "'https://fr.trustpilot.com/review/cartonmarket.fr?page=9'"
      ]
     },
     "metadata": {},
     "output_type": "display_data"
    },
    {
     "data": {
      "text/plain": [
       "'https://fr.trustpilot.com/review/cartonmarket.fr?page=10'"
      ]
     },
     "metadata": {},
     "output_type": "display_data"
    },
    {
     "data": {
      "text/plain": [
       "'https://fr.trustpilot.com/review/cartonmarket.fr?page=11'"
      ]
     },
     "metadata": {},
     "output_type": "display_data"
    },
    {
     "data": {
      "text/plain": [
       "'https://fr.trustpilot.com/review/cartonmarket.fr?page=12'"
      ]
     },
     "metadata": {},
     "output_type": "display_data"
    },
    {
     "data": {
      "text/plain": [
       "'https://fr.trustpilot.com/review/cartonmarket.fr?page=13'"
      ]
     },
     "metadata": {},
     "output_type": "display_data"
    },
    {
     "data": {
      "text/plain": [
       "'https://fr.trustpilot.com/review/cartonmarket.fr?page=14'"
      ]
     },
     "metadata": {},
     "output_type": "display_data"
    },
    {
     "data": {
      "text/plain": [
       "'https://fr.trustpilot.com/review/cartonmarket.fr?page=15'"
      ]
     },
     "metadata": {},
     "output_type": "display_data"
    },
    {
     "data": {
      "text/plain": [
       "'https://fr.trustpilot.com/review/cartonmarket.fr?page=16'"
      ]
     },
     "metadata": {},
     "output_type": "display_data"
    },
    {
     "data": {
      "text/plain": [
       "'https://fr.trustpilot.com/review/cartonmarket.fr?page=17'"
      ]
     },
     "metadata": {},
     "output_type": "display_data"
    },
    {
     "data": {
      "text/plain": [
       "'https://fr.trustpilot.com/review/cartonmarket.fr?page=18'"
      ]
     },
     "metadata": {},
     "output_type": "display_data"
    },
    {
     "data": {
      "text/plain": [
       "'https://fr.trustpilot.com/review/cartonmarket.fr?page=19'"
      ]
     },
     "metadata": {},
     "output_type": "display_data"
    },
    {
     "data": {
      "text/plain": [
       "'https://fr.trustpilot.com/review/cartonmarket.fr?page=20'"
      ]
     },
     "metadata": {},
     "output_type": "display_data"
    },
    {
     "name": "stdout",
     "output_type": "stream",
     "text": [
      "paysdesenveloppes\n"
     ]
    },
    {
     "data": {
      "text/plain": [
       "'https://fr.trustpilot.com/review/www.paysdesenveloppes.fr?page=1'"
      ]
     },
     "metadata": {},
     "output_type": "display_data"
    },
    {
     "data": {
      "text/plain": [
       "'https://fr.trustpilot.com/review/www.paysdesenveloppes.fr?page=2'"
      ]
     },
     "metadata": {},
     "output_type": "display_data"
    },
    {
     "data": {
      "text/plain": [
       "'https://fr.trustpilot.com/review/www.paysdesenveloppes.fr?page=3'"
      ]
     },
     "metadata": {},
     "output_type": "display_data"
    },
    {
     "data": {
      "text/plain": [
       "'https://fr.trustpilot.com/review/www.paysdesenveloppes.fr?page=4'"
      ]
     },
     "metadata": {},
     "output_type": "display_data"
    },
    {
     "data": {
      "text/plain": [
       "'https://fr.trustpilot.com/review/www.paysdesenveloppes.fr?page=5'"
      ]
     },
     "metadata": {},
     "output_type": "display_data"
    },
    {
     "data": {
      "text/plain": [
       "'https://fr.trustpilot.com/review/www.paysdesenveloppes.fr?page=6'"
      ]
     },
     "metadata": {},
     "output_type": "display_data"
    },
    {
     "data": {
      "text/plain": [
       "'https://fr.trustpilot.com/review/www.paysdesenveloppes.fr?page=7'"
      ]
     },
     "metadata": {},
     "output_type": "display_data"
    },
    {
     "data": {
      "text/plain": [
       "'https://fr.trustpilot.com/review/www.paysdesenveloppes.fr?page=8'"
      ]
     },
     "metadata": {},
     "output_type": "display_data"
    },
    {
     "data": {
      "text/plain": [
       "'https://fr.trustpilot.com/review/www.paysdesenveloppes.fr?page=9'"
      ]
     },
     "metadata": {},
     "output_type": "display_data"
    },
    {
     "data": {
      "text/plain": [
       "'https://fr.trustpilot.com/review/www.paysdesenveloppes.fr?page=10'"
      ]
     },
     "metadata": {},
     "output_type": "display_data"
    },
    {
     "data": {
      "text/plain": [
       "'https://fr.trustpilot.com/review/www.paysdesenveloppes.fr?page=11'"
      ]
     },
     "metadata": {},
     "output_type": "display_data"
    },
    {
     "data": {
      "text/plain": [
       "'https://fr.trustpilot.com/review/www.paysdesenveloppes.fr?page=12'"
      ]
     },
     "metadata": {},
     "output_type": "display_data"
    },
    {
     "data": {
      "text/plain": [
       "'https://fr.trustpilot.com/review/www.paysdesenveloppes.fr?page=13'"
      ]
     },
     "metadata": {},
     "output_type": "display_data"
    },
    {
     "data": {
      "text/plain": [
       "'https://fr.trustpilot.com/review/www.paysdesenveloppes.fr?page=14'"
      ]
     },
     "metadata": {},
     "output_type": "display_data"
    },
    {
     "data": {
      "text/plain": [
       "'https://fr.trustpilot.com/review/www.paysdesenveloppes.fr?page=15'"
      ]
     },
     "metadata": {},
     "output_type": "display_data"
    },
    {
     "data": {
      "text/plain": [
       "'https://fr.trustpilot.com/review/www.paysdesenveloppes.fr?page=16'"
      ]
     },
     "metadata": {},
     "output_type": "display_data"
    },
    {
     "data": {
      "text/plain": [
       "'https://fr.trustpilot.com/review/www.paysdesenveloppes.fr?page=17'"
      ]
     },
     "metadata": {},
     "output_type": "display_data"
    },
    {
     "data": {
      "text/plain": [
       "'https://fr.trustpilot.com/review/www.paysdesenveloppes.fr?page=18'"
      ]
     },
     "metadata": {},
     "output_type": "display_data"
    },
    {
     "data": {
      "text/plain": [
       "'https://fr.trustpilot.com/review/www.paysdesenveloppes.fr?page=19'"
      ]
     },
     "metadata": {},
     "output_type": "display_data"
    },
    {
     "data": {
      "text/plain": [
       "'https://fr.trustpilot.com/review/www.paysdesenveloppes.fr?page=20'"
      ]
     },
     "metadata": {},
     "output_type": "display_data"
    },
    {
     "name": "stdout",
     "output_type": "stream",
     "text": [
      "demeclic\n"
     ]
    },
    {
     "data": {
      "text/plain": [
       "'https://fr.trustpilot.com/review/demeclic.fr?page=1'"
      ]
     },
     "metadata": {},
     "output_type": "display_data"
    },
    {
     "data": {
      "text/plain": [
       "'https://fr.trustpilot.com/review/demeclic.fr?page=2'"
      ]
     },
     "metadata": {},
     "output_type": "display_data"
    },
    {
     "data": {
      "text/plain": [
       "'https://fr.trustpilot.com/review/demeclic.fr?page=3'"
      ]
     },
     "metadata": {},
     "output_type": "display_data"
    },
    {
     "data": {
      "text/plain": [
       "'https://fr.trustpilot.com/review/demeclic.fr?page=4'"
      ]
     },
     "metadata": {},
     "output_type": "display_data"
    },
    {
     "data": {
      "text/plain": [
       "'https://fr.trustpilot.com/review/demeclic.fr?page=5'"
      ]
     },
     "metadata": {},
     "output_type": "display_data"
    },
    {
     "data": {
      "text/plain": [
       "'https://fr.trustpilot.com/review/demeclic.fr?page=6'"
      ]
     },
     "metadata": {},
     "output_type": "display_data"
    },
    {
     "data": {
      "text/plain": [
       "'https://fr.trustpilot.com/review/demeclic.fr?page=7'"
      ]
     },
     "metadata": {},
     "output_type": "display_data"
    },
    {
     "data": {
      "text/plain": [
       "'https://fr.trustpilot.com/review/demeclic.fr?page=8'"
      ]
     },
     "metadata": {},
     "output_type": "display_data"
    },
    {
     "data": {
      "text/plain": [
       "'https://fr.trustpilot.com/review/demeclic.fr?page=9'"
      ]
     },
     "metadata": {},
     "output_type": "display_data"
    },
    {
     "data": {
      "text/plain": [
       "'https://fr.trustpilot.com/review/demeclic.fr?page=10'"
      ]
     },
     "metadata": {},
     "output_type": "display_data"
    },
    {
     "data": {
      "text/plain": [
       "'https://fr.trustpilot.com/review/demeclic.fr?page=11'"
      ]
     },
     "metadata": {},
     "output_type": "display_data"
    },
    {
     "data": {
      "text/plain": [
       "'https://fr.trustpilot.com/review/demeclic.fr?page=12'"
      ]
     },
     "metadata": {},
     "output_type": "display_data"
    },
    {
     "data": {
      "text/plain": [
       "'https://fr.trustpilot.com/review/demeclic.fr?page=13'"
      ]
     },
     "metadata": {},
     "output_type": "display_data"
    },
    {
     "data": {
      "text/plain": [
       "'https://fr.trustpilot.com/review/demeclic.fr?page=14'"
      ]
     },
     "metadata": {},
     "output_type": "display_data"
    },
    {
     "data": {
      "text/plain": [
       "'https://fr.trustpilot.com/review/demeclic.fr?page=15'"
      ]
     },
     "metadata": {},
     "output_type": "display_data"
    },
    {
     "data": {
      "text/plain": [
       "'https://fr.trustpilot.com/review/demeclic.fr?page=16'"
      ]
     },
     "metadata": {},
     "output_type": "display_data"
    },
    {
     "data": {
      "text/plain": [
       "'https://fr.trustpilot.com/review/demeclic.fr?page=17'"
      ]
     },
     "metadata": {},
     "output_type": "display_data"
    },
    {
     "data": {
      "text/plain": [
       "'https://fr.trustpilot.com/review/demeclic.fr?page=18'"
      ]
     },
     "metadata": {},
     "output_type": "display_data"
    },
    {
     "data": {
      "text/plain": [
       "'https://fr.trustpilot.com/review/demeclic.fr?page=19'"
      ]
     },
     "metadata": {},
     "output_type": "display_data"
    },
    {
     "data": {
      "text/plain": [
       "'https://fr.trustpilot.com/review/demeclic.fr?page=20'"
      ]
     },
     "metadata": {},
     "output_type": "display_data"
    },
    {
     "name": "stdout",
     "output_type": "stream",
     "text": [
      "coliback\n"
     ]
    },
    {
     "data": {
      "text/plain": [
       "'https://fr.trustpilot.com/review/coliback.com?page=1'"
      ]
     },
     "metadata": {},
     "output_type": "display_data"
    },
    {
     "data": {
      "text/plain": [
       "'https://fr.trustpilot.com/review/coliback.com?page=2'"
      ]
     },
     "metadata": {},
     "output_type": "display_data"
    },
    {
     "data": {
      "text/plain": [
       "'https://fr.trustpilot.com/review/coliback.com?page=3'"
      ]
     },
     "metadata": {},
     "output_type": "display_data"
    },
    {
     "data": {
      "text/plain": [
       "'https://fr.trustpilot.com/review/coliback.com?page=4'"
      ]
     },
     "metadata": {},
     "output_type": "display_data"
    },
    {
     "data": {
      "text/plain": [
       "'https://fr.trustpilot.com/review/coliback.com?page=5'"
      ]
     },
     "metadata": {},
     "output_type": "display_data"
    },
    {
     "data": {
      "text/plain": [
       "'https://fr.trustpilot.com/review/coliback.com?page=6'"
      ]
     },
     "metadata": {},
     "output_type": "display_data"
    },
    {
     "data": {
      "text/plain": [
       "'https://fr.trustpilot.com/review/coliback.com?page=7'"
      ]
     },
     "metadata": {},
     "output_type": "display_data"
    },
    {
     "data": {
      "text/plain": [
       "'https://fr.trustpilot.com/review/coliback.com?page=8'"
      ]
     },
     "metadata": {},
     "output_type": "display_data"
    },
    {
     "data": {
      "text/plain": [
       "'https://fr.trustpilot.com/review/coliback.com?page=9'"
      ]
     },
     "metadata": {},
     "output_type": "display_data"
    },
    {
     "data": {
      "text/plain": [
       "'https://fr.trustpilot.com/review/coliback.com?page=10'"
      ]
     },
     "metadata": {},
     "output_type": "display_data"
    },
    {
     "data": {
      "text/plain": [
       "'https://fr.trustpilot.com/review/coliback.com?page=11'"
      ]
     },
     "metadata": {},
     "output_type": "display_data"
    },
    {
     "data": {
      "text/plain": [
       "'https://fr.trustpilot.com/review/coliback.com?page=12'"
      ]
     },
     "metadata": {},
     "output_type": "display_data"
    },
    {
     "data": {
      "text/plain": [
       "'https://fr.trustpilot.com/review/coliback.com?page=13'"
      ]
     },
     "metadata": {},
     "output_type": "display_data"
    },
    {
     "data": {
      "text/plain": [
       "'https://fr.trustpilot.com/review/coliback.com?page=14'"
      ]
     },
     "metadata": {},
     "output_type": "display_data"
    },
    {
     "data": {
      "text/plain": [
       "'https://fr.trustpilot.com/review/coliback.com?page=15'"
      ]
     },
     "metadata": {},
     "output_type": "display_data"
    },
    {
     "data": {
      "text/plain": [
       "'https://fr.trustpilot.com/review/coliback.com?page=16'"
      ]
     },
     "metadata": {},
     "output_type": "display_data"
    },
    {
     "data": {
      "text/plain": [
       "'https://fr.trustpilot.com/review/coliback.com?page=17'"
      ]
     },
     "metadata": {},
     "output_type": "display_data"
    },
    {
     "data": {
      "text/plain": [
       "'https://fr.trustpilot.com/review/coliback.com?page=18'"
      ]
     },
     "metadata": {},
     "output_type": "display_data"
    },
    {
     "data": {
      "text/plain": [
       "'https://fr.trustpilot.com/review/coliback.com?page=19'"
      ]
     },
     "metadata": {},
     "output_type": "display_data"
    },
    {
     "data": {
      "text/plain": [
       "'https://fr.trustpilot.com/review/coliback.com?page=20'"
      ]
     },
     "metadata": {},
     "output_type": "display_data"
    },
    {
     "name": "stdout",
     "output_type": "stream",
     "text": [
      "ubbabio\n"
     ]
    },
    {
     "data": {
      "text/plain": [
       "'https://fr.trustpilot.com/review/ubbabio.com?page=1'"
      ]
     },
     "metadata": {},
     "output_type": "display_data"
    },
    {
     "data": {
      "text/plain": [
       "'https://fr.trustpilot.com/review/ubbabio.com?page=2'"
      ]
     },
     "metadata": {},
     "output_type": "display_data"
    },
    {
     "data": {
      "text/plain": [
       "'https://fr.trustpilot.com/review/ubbabio.com?page=3'"
      ]
     },
     "metadata": {},
     "output_type": "display_data"
    },
    {
     "name": "stdout",
     "output_type": "stream",
     "text": [
      "Erreur lors de la requête : 404\n"
     ]
    },
    {
     "data": {
      "text/plain": [
       "'https://fr.trustpilot.com/review/ubbabio.com?page=4'"
      ]
     },
     "metadata": {},
     "output_type": "display_data"
    },
    {
     "name": "stdout",
     "output_type": "stream",
     "text": [
      "Erreur lors de la requête : 404\n"
     ]
    },
    {
     "data": {
      "text/plain": [
       "'https://fr.trustpilot.com/review/ubbabio.com?page=5'"
      ]
     },
     "metadata": {},
     "output_type": "display_data"
    },
    {
     "name": "stdout",
     "output_type": "stream",
     "text": [
      "Erreur lors de la requête : 404\n"
     ]
    },
    {
     "data": {
      "text/plain": [
       "'https://fr.trustpilot.com/review/ubbabio.com?page=6'"
      ]
     },
     "metadata": {},
     "output_type": "display_data"
    },
    {
     "name": "stdout",
     "output_type": "stream",
     "text": [
      "Erreur lors de la requête : 404\n"
     ]
    },
    {
     "data": {
      "text/plain": [
       "'https://fr.trustpilot.com/review/ubbabio.com?page=7'"
      ]
     },
     "metadata": {},
     "output_type": "display_data"
    },
    {
     "name": "stdout",
     "output_type": "stream",
     "text": [
      "Erreur lors de la requête : 404\n"
     ]
    },
    {
     "data": {
      "text/plain": [
       "'https://fr.trustpilot.com/review/ubbabio.com?page=8'"
      ]
     },
     "metadata": {},
     "output_type": "display_data"
    },
    {
     "name": "stdout",
     "output_type": "stream",
     "text": [
      "Erreur lors de la requête : 404\n"
     ]
    },
    {
     "data": {
      "text/plain": [
       "'https://fr.trustpilot.com/review/ubbabio.com?page=9'"
      ]
     },
     "metadata": {},
     "output_type": "display_data"
    },
    {
     "name": "stdout",
     "output_type": "stream",
     "text": [
      "Erreur lors de la requête : 404\n"
     ]
    },
    {
     "data": {
      "text/plain": [
       "'https://fr.trustpilot.com/review/ubbabio.com?page=10'"
      ]
     },
     "metadata": {},
     "output_type": "display_data"
    },
    {
     "name": "stdout",
     "output_type": "stream",
     "text": [
      "Erreur lors de la requête : 404\n"
     ]
    },
    {
     "data": {
      "text/plain": [
       "'https://fr.trustpilot.com/review/ubbabio.com?page=11'"
      ]
     },
     "metadata": {},
     "output_type": "display_data"
    },
    {
     "name": "stdout",
     "output_type": "stream",
     "text": [
      "Erreur lors de la requête : 404\n"
     ]
    },
    {
     "data": {
      "text/plain": [
       "'https://fr.trustpilot.com/review/ubbabio.com?page=12'"
      ]
     },
     "metadata": {},
     "output_type": "display_data"
    },
    {
     "name": "stdout",
     "output_type": "stream",
     "text": [
      "Erreur lors de la requête : 404\n"
     ]
    },
    {
     "data": {
      "text/plain": [
       "'https://fr.trustpilot.com/review/ubbabio.com?page=13'"
      ]
     },
     "metadata": {},
     "output_type": "display_data"
    },
    {
     "name": "stdout",
     "output_type": "stream",
     "text": [
      "Erreur lors de la requête : 404\n"
     ]
    },
    {
     "data": {
      "text/plain": [
       "'https://fr.trustpilot.com/review/ubbabio.com?page=14'"
      ]
     },
     "metadata": {},
     "output_type": "display_data"
    },
    {
     "name": "stdout",
     "output_type": "stream",
     "text": [
      "Erreur lors de la requête : 404\n"
     ]
    },
    {
     "data": {
      "text/plain": [
       "'https://fr.trustpilot.com/review/ubbabio.com?page=15'"
      ]
     },
     "metadata": {},
     "output_type": "display_data"
    },
    {
     "name": "stdout",
     "output_type": "stream",
     "text": [
      "Erreur lors de la requête : 404\n"
     ]
    },
    {
     "data": {
      "text/plain": [
       "'https://fr.trustpilot.com/review/ubbabio.com?page=16'"
      ]
     },
     "metadata": {},
     "output_type": "display_data"
    },
    {
     "name": "stdout",
     "output_type": "stream",
     "text": [
      "Erreur lors de la requête : 404\n"
     ]
    },
    {
     "data": {
      "text/plain": [
       "'https://fr.trustpilot.com/review/ubbabio.com?page=17'"
      ]
     },
     "metadata": {},
     "output_type": "display_data"
    },
    {
     "name": "stdout",
     "output_type": "stream",
     "text": [
      "Erreur lors de la requête : 404\n"
     ]
    },
    {
     "data": {
      "text/plain": [
       "'https://fr.trustpilot.com/review/ubbabio.com?page=18'"
      ]
     },
     "metadata": {},
     "output_type": "display_data"
    },
    {
     "name": "stdout",
     "output_type": "stream",
     "text": [
      "Erreur lors de la requête : 404\n"
     ]
    },
    {
     "data": {
      "text/plain": [
       "'https://fr.trustpilot.com/review/ubbabio.com?page=19'"
      ]
     },
     "metadata": {},
     "output_type": "display_data"
    },
    {
     "name": "stdout",
     "output_type": "stream",
     "text": [
      "Erreur lors de la requête : 404\n"
     ]
    },
    {
     "data": {
      "text/plain": [
       "'https://fr.trustpilot.com/review/ubbabio.com?page=20'"
      ]
     },
     "metadata": {},
     "output_type": "display_data"
    },
    {
     "name": "stdout",
     "output_type": "stream",
     "text": [
      "Erreur lors de la requête : 404\n",
      "expe-domtom\n"
     ]
    },
    {
     "data": {
      "text/plain": [
       "'https://fr.trustpilot.com/review/www.expe-domtom.fr?page=1'"
      ]
     },
     "metadata": {},
     "output_type": "display_data"
    },
    {
     "data": {
      "text/plain": [
       "'https://fr.trustpilot.com/review/www.expe-domtom.fr?page=2'"
      ]
     },
     "metadata": {},
     "output_type": "display_data"
    },
    {
     "data": {
      "text/plain": [
       "'https://fr.trustpilot.com/review/www.expe-domtom.fr?page=3'"
      ]
     },
     "metadata": {},
     "output_type": "display_data"
    },
    {
     "data": {
      "text/plain": [
       "'https://fr.trustpilot.com/review/www.expe-domtom.fr?page=4'"
      ]
     },
     "metadata": {},
     "output_type": "display_data"
    },
    {
     "data": {
      "text/plain": [
       "'https://fr.trustpilot.com/review/www.expe-domtom.fr?page=5'"
      ]
     },
     "metadata": {},
     "output_type": "display_data"
    },
    {
     "data": {
      "text/plain": [
       "'https://fr.trustpilot.com/review/www.expe-domtom.fr?page=6'"
      ]
     },
     "metadata": {},
     "output_type": "display_data"
    },
    {
     "data": {
      "text/plain": [
       "'https://fr.trustpilot.com/review/www.expe-domtom.fr?page=7'"
      ]
     },
     "metadata": {},
     "output_type": "display_data"
    },
    {
     "name": "stdout",
     "output_type": "stream",
     "text": [
      "Erreur lors de la requête : 404\n"
     ]
    },
    {
     "data": {
      "text/plain": [
       "'https://fr.trustpilot.com/review/www.expe-domtom.fr?page=8'"
      ]
     },
     "metadata": {},
     "output_type": "display_data"
    },
    {
     "name": "stdout",
     "output_type": "stream",
     "text": [
      "Erreur lors de la requête : 404\n"
     ]
    },
    {
     "data": {
      "text/plain": [
       "'https://fr.trustpilot.com/review/www.expe-domtom.fr?page=9'"
      ]
     },
     "metadata": {},
     "output_type": "display_data"
    },
    {
     "name": "stdout",
     "output_type": "stream",
     "text": [
      "Erreur lors de la requête : 404\n"
     ]
    },
    {
     "data": {
      "text/plain": [
       "'https://fr.trustpilot.com/review/www.expe-domtom.fr?page=10'"
      ]
     },
     "metadata": {},
     "output_type": "display_data"
    },
    {
     "name": "stdout",
     "output_type": "stream",
     "text": [
      "Erreur lors de la requête : 404\n"
     ]
    },
    {
     "data": {
      "text/plain": [
       "'https://fr.trustpilot.com/review/www.expe-domtom.fr?page=11'"
      ]
     },
     "metadata": {},
     "output_type": "display_data"
    },
    {
     "name": "stdout",
     "output_type": "stream",
     "text": [
      "Erreur lors de la requête : 404\n"
     ]
    },
    {
     "data": {
      "text/plain": [
       "'https://fr.trustpilot.com/review/www.expe-domtom.fr?page=12'"
      ]
     },
     "metadata": {},
     "output_type": "display_data"
    },
    {
     "name": "stdout",
     "output_type": "stream",
     "text": [
      "Erreur lors de la requête : 404\n"
     ]
    },
    {
     "data": {
      "text/plain": [
       "'https://fr.trustpilot.com/review/www.expe-domtom.fr?page=13'"
      ]
     },
     "metadata": {},
     "output_type": "display_data"
    },
    {
     "name": "stdout",
     "output_type": "stream",
     "text": [
      "Erreur lors de la requête : 404\n"
     ]
    },
    {
     "data": {
      "text/plain": [
       "'https://fr.trustpilot.com/review/www.expe-domtom.fr?page=14'"
      ]
     },
     "metadata": {},
     "output_type": "display_data"
    },
    {
     "name": "stdout",
     "output_type": "stream",
     "text": [
      "Erreur lors de la requête : 404\n"
     ]
    },
    {
     "data": {
      "text/plain": [
       "'https://fr.trustpilot.com/review/www.expe-domtom.fr?page=15'"
      ]
     },
     "metadata": {},
     "output_type": "display_data"
    },
    {
     "name": "stdout",
     "output_type": "stream",
     "text": [
      "Erreur lors de la requête : 404\n"
     ]
    },
    {
     "data": {
      "text/plain": [
       "'https://fr.trustpilot.com/review/www.expe-domtom.fr?page=16'"
      ]
     },
     "metadata": {},
     "output_type": "display_data"
    },
    {
     "name": "stdout",
     "output_type": "stream",
     "text": [
      "Erreur lors de la requête : 404\n"
     ]
    },
    {
     "data": {
      "text/plain": [
       "'https://fr.trustpilot.com/review/www.expe-domtom.fr?page=17'"
      ]
     },
     "metadata": {},
     "output_type": "display_data"
    },
    {
     "name": "stdout",
     "output_type": "stream",
     "text": [
      "Erreur lors de la requête : 404\n"
     ]
    },
    {
     "data": {
      "text/plain": [
       "'https://fr.trustpilot.com/review/www.expe-domtom.fr?page=18'"
      ]
     },
     "metadata": {},
     "output_type": "display_data"
    },
    {
     "name": "stdout",
     "output_type": "stream",
     "text": [
      "Erreur lors de la requête : 404\n"
     ]
    },
    {
     "data": {
      "text/plain": [
       "'https://fr.trustpilot.com/review/www.expe-domtom.fr?page=19'"
      ]
     },
     "metadata": {},
     "output_type": "display_data"
    },
    {
     "name": "stdout",
     "output_type": "stream",
     "text": [
      "Erreur lors de la requête : 404\n"
     ]
    },
    {
     "data": {
      "text/plain": [
       "'https://fr.trustpilot.com/review/www.expe-domtom.fr?page=20'"
      ]
     },
     "metadata": {},
     "output_type": "display_data"
    },
    {
     "name": "stdout",
     "output_type": "stream",
     "text": [
      "Erreur lors de la requête : 404\n",
      "weed-side-story\n"
     ]
    },
    {
     "data": {
      "text/plain": [
       "'https://fr.trustpilot.com/review/weed-side-story.com?page=1'"
      ]
     },
     "metadata": {},
     "output_type": "display_data"
    },
    {
     "data": {
      "text/plain": [
       "'https://fr.trustpilot.com/review/weed-side-story.com?page=2'"
      ]
     },
     "metadata": {},
     "output_type": "display_data"
    },
    {
     "data": {
      "text/plain": [
       "'https://fr.trustpilot.com/review/weed-side-story.com?page=3'"
      ]
     },
     "metadata": {},
     "output_type": "display_data"
    },
    {
     "data": {
      "text/plain": [
       "'https://fr.trustpilot.com/review/weed-side-story.com?page=4'"
      ]
     },
     "metadata": {},
     "output_type": "display_data"
    },
    {
     "data": {
      "text/plain": [
       "'https://fr.trustpilot.com/review/weed-side-story.com?page=5'"
      ]
     },
     "metadata": {},
     "output_type": "display_data"
    },
    {
     "data": {
      "text/plain": [
       "'https://fr.trustpilot.com/review/weed-side-story.com?page=6'"
      ]
     },
     "metadata": {},
     "output_type": "display_data"
    },
    {
     "data": {
      "text/plain": [
       "'https://fr.trustpilot.com/review/weed-side-story.com?page=7'"
      ]
     },
     "metadata": {},
     "output_type": "display_data"
    },
    {
     "data": {
      "text/plain": [
       "'https://fr.trustpilot.com/review/weed-side-story.com?page=8'"
      ]
     },
     "metadata": {},
     "output_type": "display_data"
    },
    {
     "data": {
      "text/plain": [
       "'https://fr.trustpilot.com/review/weed-side-story.com?page=9'"
      ]
     },
     "metadata": {},
     "output_type": "display_data"
    },
    {
     "data": {
      "text/plain": [
       "'https://fr.trustpilot.com/review/weed-side-story.com?page=10'"
      ]
     },
     "metadata": {},
     "output_type": "display_data"
    },
    {
     "data": {
      "text/plain": [
       "'https://fr.trustpilot.com/review/weed-side-story.com?page=11'"
      ]
     },
     "metadata": {},
     "output_type": "display_data"
    },
    {
     "data": {
      "text/plain": [
       "'https://fr.trustpilot.com/review/weed-side-story.com?page=12'"
      ]
     },
     "metadata": {},
     "output_type": "display_data"
    },
    {
     "data": {
      "text/plain": [
       "'https://fr.trustpilot.com/review/weed-side-story.com?page=13'"
      ]
     },
     "metadata": {},
     "output_type": "display_data"
    },
    {
     "data": {
      "text/plain": [
       "'https://fr.trustpilot.com/review/weed-side-story.com?page=14'"
      ]
     },
     "metadata": {},
     "output_type": "display_data"
    },
    {
     "data": {
      "text/plain": [
       "'https://fr.trustpilot.com/review/weed-side-story.com?page=15'"
      ]
     },
     "metadata": {},
     "output_type": "display_data"
    },
    {
     "data": {
      "text/plain": [
       "'https://fr.trustpilot.com/review/weed-side-story.com?page=16'"
      ]
     },
     "metadata": {},
     "output_type": "display_data"
    },
    {
     "data": {
      "text/plain": [
       "'https://fr.trustpilot.com/review/weed-side-story.com?page=17'"
      ]
     },
     "metadata": {},
     "output_type": "display_data"
    },
    {
     "data": {
      "text/plain": [
       "'https://fr.trustpilot.com/review/weed-side-story.com?page=18'"
      ]
     },
     "metadata": {},
     "output_type": "display_data"
    },
    {
     "data": {
      "text/plain": [
       "'https://fr.trustpilot.com/review/weed-side-story.com?page=19'"
      ]
     },
     "metadata": {},
     "output_type": "display_data"
    },
    {
     "data": {
      "text/plain": [
       "'https://fr.trustpilot.com/review/weed-side-story.com?page=20'"
      ]
     },
     "metadata": {},
     "output_type": "display_data"
    },
    {
     "name": "stdout",
     "output_type": "stream",
     "text": [
      "happy-post\n"
     ]
    },
    {
     "data": {
      "text/plain": [
       "'https://fr.trustpilot.com/review/happy-post.com?page=1'"
      ]
     },
     "metadata": {},
     "output_type": "display_data"
    },
    {
     "data": {
      "text/plain": [
       "'https://fr.trustpilot.com/review/happy-post.com?page=2'"
      ]
     },
     "metadata": {},
     "output_type": "display_data"
    },
    {
     "data": {
      "text/plain": [
       "'https://fr.trustpilot.com/review/happy-post.com?page=3'"
      ]
     },
     "metadata": {},
     "output_type": "display_data"
    },
    {
     "data": {
      "text/plain": [
       "'https://fr.trustpilot.com/review/happy-post.com?page=4'"
      ]
     },
     "metadata": {},
     "output_type": "display_data"
    },
    {
     "data": {
      "text/plain": [
       "'https://fr.trustpilot.com/review/happy-post.com?page=5'"
      ]
     },
     "metadata": {},
     "output_type": "display_data"
    },
    {
     "data": {
      "text/plain": [
       "'https://fr.trustpilot.com/review/happy-post.com?page=6'"
      ]
     },
     "metadata": {},
     "output_type": "display_data"
    },
    {
     "data": {
      "text/plain": [
       "'https://fr.trustpilot.com/review/happy-post.com?page=7'"
      ]
     },
     "metadata": {},
     "output_type": "display_data"
    },
    {
     "data": {
      "text/plain": [
       "'https://fr.trustpilot.com/review/happy-post.com?page=8'"
      ]
     },
     "metadata": {},
     "output_type": "display_data"
    },
    {
     "data": {
      "text/plain": [
       "'https://fr.trustpilot.com/review/happy-post.com?page=9'"
      ]
     },
     "metadata": {},
     "output_type": "display_data"
    },
    {
     "data": {
      "text/plain": [
       "'https://fr.trustpilot.com/review/happy-post.com?page=10'"
      ]
     },
     "metadata": {},
     "output_type": "display_data"
    },
    {
     "data": {
      "text/plain": [
       "'https://fr.trustpilot.com/review/happy-post.com?page=11'"
      ]
     },
     "metadata": {},
     "output_type": "display_data"
    },
    {
     "data": {
      "text/plain": [
       "'https://fr.trustpilot.com/review/happy-post.com?page=12'"
      ]
     },
     "metadata": {},
     "output_type": "display_data"
    },
    {
     "data": {
      "text/plain": [
       "'https://fr.trustpilot.com/review/happy-post.com?page=13'"
      ]
     },
     "metadata": {},
     "output_type": "display_data"
    },
    {
     "data": {
      "text/plain": [
       "'https://fr.trustpilot.com/review/happy-post.com?page=14'"
      ]
     },
     "metadata": {},
     "output_type": "display_data"
    },
    {
     "data": {
      "text/plain": [
       "'https://fr.trustpilot.com/review/happy-post.com?page=15'"
      ]
     },
     "metadata": {},
     "output_type": "display_data"
    },
    {
     "data": {
      "text/plain": [
       "'https://fr.trustpilot.com/review/happy-post.com?page=16'"
      ]
     },
     "metadata": {},
     "output_type": "display_data"
    },
    {
     "data": {
      "text/plain": [
       "'https://fr.trustpilot.com/review/happy-post.com?page=17'"
      ]
     },
     "metadata": {},
     "output_type": "display_data"
    },
    {
     "data": {
      "text/plain": [
       "'https://fr.trustpilot.com/review/happy-post.com?page=18'"
      ]
     },
     "metadata": {},
     "output_type": "display_data"
    },
    {
     "data": {
      "text/plain": [
       "'https://fr.trustpilot.com/review/happy-post.com?page=19'"
      ]
     },
     "metadata": {},
     "output_type": "display_data"
    },
    {
     "data": {
      "text/plain": [
       "'https://fr.trustpilot.com/review/happy-post.com?page=20'"
      ]
     },
     "metadata": {},
     "output_type": "display_data"
    },
    {
     "name": "stdout",
     "output_type": "stream",
     "text": [
      "packhelp\n"
     ]
    },
    {
     "data": {
      "text/plain": [
       "'https://fr.trustpilot.com/review/www.packhelp.fr?page=1'"
      ]
     },
     "metadata": {},
     "output_type": "display_data"
    },
    {
     "data": {
      "text/plain": [
       "'https://fr.trustpilot.com/review/www.packhelp.fr?page=2'"
      ]
     },
     "metadata": {},
     "output_type": "display_data"
    },
    {
     "data": {
      "text/plain": [
       "'https://fr.trustpilot.com/review/www.packhelp.fr?page=3'"
      ]
     },
     "metadata": {},
     "output_type": "display_data"
    },
    {
     "data": {
      "text/plain": [
       "'https://fr.trustpilot.com/review/www.packhelp.fr?page=4'"
      ]
     },
     "metadata": {},
     "output_type": "display_data"
    },
    {
     "data": {
      "text/plain": [
       "'https://fr.trustpilot.com/review/www.packhelp.fr?page=5'"
      ]
     },
     "metadata": {},
     "output_type": "display_data"
    },
    {
     "data": {
      "text/plain": [
       "'https://fr.trustpilot.com/review/www.packhelp.fr?page=6'"
      ]
     },
     "metadata": {},
     "output_type": "display_data"
    },
    {
     "data": {
      "text/plain": [
       "'https://fr.trustpilot.com/review/www.packhelp.fr?page=7'"
      ]
     },
     "metadata": {},
     "output_type": "display_data"
    },
    {
     "data": {
      "text/plain": [
       "'https://fr.trustpilot.com/review/www.packhelp.fr?page=8'"
      ]
     },
     "metadata": {},
     "output_type": "display_data"
    },
    {
     "data": {
      "text/plain": [
       "'https://fr.trustpilot.com/review/www.packhelp.fr?page=9'"
      ]
     },
     "metadata": {},
     "output_type": "display_data"
    },
    {
     "data": {
      "text/plain": [
       "'https://fr.trustpilot.com/review/www.packhelp.fr?page=10'"
      ]
     },
     "metadata": {},
     "output_type": "display_data"
    },
    {
     "data": {
      "text/plain": [
       "'https://fr.trustpilot.com/review/www.packhelp.fr?page=11'"
      ]
     },
     "metadata": {},
     "output_type": "display_data"
    },
    {
     "data": {
      "text/plain": [
       "'https://fr.trustpilot.com/review/www.packhelp.fr?page=12'"
      ]
     },
     "metadata": {},
     "output_type": "display_data"
    },
    {
     "data": {
      "text/plain": [
       "'https://fr.trustpilot.com/review/www.packhelp.fr?page=13'"
      ]
     },
     "metadata": {},
     "output_type": "display_data"
    },
    {
     "data": {
      "text/plain": [
       "'https://fr.trustpilot.com/review/www.packhelp.fr?page=14'"
      ]
     },
     "metadata": {},
     "output_type": "display_data"
    },
    {
     "data": {
      "text/plain": [
       "'https://fr.trustpilot.com/review/www.packhelp.fr?page=15'"
      ]
     },
     "metadata": {},
     "output_type": "display_data"
    },
    {
     "data": {
      "text/plain": [
       "'https://fr.trustpilot.com/review/www.packhelp.fr?page=16'"
      ]
     },
     "metadata": {},
     "output_type": "display_data"
    },
    {
     "data": {
      "text/plain": [
       "'https://fr.trustpilot.com/review/www.packhelp.fr?page=17'"
      ]
     },
     "metadata": {},
     "output_type": "display_data"
    },
    {
     "data": {
      "text/plain": [
       "'https://fr.trustpilot.com/review/www.packhelp.fr?page=18'"
      ]
     },
     "metadata": {},
     "output_type": "display_data"
    },
    {
     "data": {
      "text/plain": [
       "'https://fr.trustpilot.com/review/www.packhelp.fr?page=19'"
      ]
     },
     "metadata": {},
     "output_type": "display_data"
    },
    {
     "data": {
      "text/plain": [
       "'https://fr.trustpilot.com/review/www.packhelp.fr?page=20'"
      ]
     },
     "metadata": {},
     "output_type": "display_data"
    },
    {
     "name": "stdout",
     "output_type": "stream",
     "text": [
      "colicoli\n"
     ]
    },
    {
     "data": {
      "text/plain": [
       "'https://fr.trustpilot.com/review/colicoli.fr?page=1'"
      ]
     },
     "metadata": {},
     "output_type": "display_data"
    },
    {
     "data": {
      "text/plain": [
       "'https://fr.trustpilot.com/review/colicoli.fr?page=2'"
      ]
     },
     "metadata": {},
     "output_type": "display_data"
    },
    {
     "data": {
      "text/plain": [
       "'https://fr.trustpilot.com/review/colicoli.fr?page=3'"
      ]
     },
     "metadata": {},
     "output_type": "display_data"
    },
    {
     "data": {
      "text/plain": [
       "'https://fr.trustpilot.com/review/colicoli.fr?page=4'"
      ]
     },
     "metadata": {},
     "output_type": "display_data"
    },
    {
     "data": {
      "text/plain": [
       "'https://fr.trustpilot.com/review/colicoli.fr?page=5'"
      ]
     },
     "metadata": {},
     "output_type": "display_data"
    },
    {
     "data": {
      "text/plain": [
       "'https://fr.trustpilot.com/review/colicoli.fr?page=6'"
      ]
     },
     "metadata": {},
     "output_type": "display_data"
    },
    {
     "data": {
      "text/plain": [
       "'https://fr.trustpilot.com/review/colicoli.fr?page=7'"
      ]
     },
     "metadata": {},
     "output_type": "display_data"
    },
    {
     "data": {
      "text/plain": [
       "'https://fr.trustpilot.com/review/colicoli.fr?page=8'"
      ]
     },
     "metadata": {},
     "output_type": "display_data"
    },
    {
     "data": {
      "text/plain": [
       "'https://fr.trustpilot.com/review/colicoli.fr?page=9'"
      ]
     },
     "metadata": {},
     "output_type": "display_data"
    },
    {
     "data": {
      "text/plain": [
       "'https://fr.trustpilot.com/review/colicoli.fr?page=10'"
      ]
     },
     "metadata": {},
     "output_type": "display_data"
    },
    {
     "data": {
      "text/plain": [
       "'https://fr.trustpilot.com/review/colicoli.fr?page=11'"
      ]
     },
     "metadata": {},
     "output_type": "display_data"
    },
    {
     "data": {
      "text/plain": [
       "'https://fr.trustpilot.com/review/colicoli.fr?page=12'"
      ]
     },
     "metadata": {},
     "output_type": "display_data"
    },
    {
     "data": {
      "text/plain": [
       "'https://fr.trustpilot.com/review/colicoli.fr?page=13'"
      ]
     },
     "metadata": {},
     "output_type": "display_data"
    },
    {
     "data": {
      "text/plain": [
       "'https://fr.trustpilot.com/review/colicoli.fr?page=14'"
      ]
     },
     "metadata": {},
     "output_type": "display_data"
    },
    {
     "data": {
      "text/plain": [
       "'https://fr.trustpilot.com/review/colicoli.fr?page=15'"
      ]
     },
     "metadata": {},
     "output_type": "display_data"
    },
    {
     "data": {
      "text/plain": [
       "'https://fr.trustpilot.com/review/colicoli.fr?page=16'"
      ]
     },
     "metadata": {},
     "output_type": "display_data"
    },
    {
     "data": {
      "text/plain": [
       "'https://fr.trustpilot.com/review/colicoli.fr?page=17'"
      ]
     },
     "metadata": {},
     "output_type": "display_data"
    },
    {
     "data": {
      "text/plain": [
       "'https://fr.trustpilot.com/review/colicoli.fr?page=18'"
      ]
     },
     "metadata": {},
     "output_type": "display_data"
    },
    {
     "data": {
      "text/plain": [
       "'https://fr.trustpilot.com/review/colicoli.fr?page=19'"
      ]
     },
     "metadata": {},
     "output_type": "display_data"
    },
    {
     "data": {
      "text/plain": [
       "'https://fr.trustpilot.com/review/colicoli.fr?page=20'"
      ]
     },
     "metadata": {},
     "output_type": "display_data"
    },
    {
     "name": "stdout",
     "output_type": "stream",
     "text": [
      "thepackengers\n"
     ]
    },
    {
     "data": {
      "text/plain": [
       "'https://fr.trustpilot.com/review/www.thepackengers.com?page=1'"
      ]
     },
     "metadata": {},
     "output_type": "display_data"
    },
    {
     "data": {
      "text/plain": [
       "'https://fr.trustpilot.com/review/www.thepackengers.com?page=2'"
      ]
     },
     "metadata": {},
     "output_type": "display_data"
    },
    {
     "data": {
      "text/plain": [
       "'https://fr.trustpilot.com/review/www.thepackengers.com?page=3'"
      ]
     },
     "metadata": {},
     "output_type": "display_data"
    },
    {
     "data": {
      "text/plain": [
       "'https://fr.trustpilot.com/review/www.thepackengers.com?page=4'"
      ]
     },
     "metadata": {},
     "output_type": "display_data"
    },
    {
     "data": {
      "text/plain": [
       "'https://fr.trustpilot.com/review/www.thepackengers.com?page=5'"
      ]
     },
     "metadata": {},
     "output_type": "display_data"
    },
    {
     "data": {
      "text/plain": [
       "'https://fr.trustpilot.com/review/www.thepackengers.com?page=6'"
      ]
     },
     "metadata": {},
     "output_type": "display_data"
    },
    {
     "data": {
      "text/plain": [
       "'https://fr.trustpilot.com/review/www.thepackengers.com?page=7'"
      ]
     },
     "metadata": {},
     "output_type": "display_data"
    },
    {
     "data": {
      "text/plain": [
       "'https://fr.trustpilot.com/review/www.thepackengers.com?page=8'"
      ]
     },
     "metadata": {},
     "output_type": "display_data"
    },
    {
     "data": {
      "text/plain": [
       "'https://fr.trustpilot.com/review/www.thepackengers.com?page=9'"
      ]
     },
     "metadata": {},
     "output_type": "display_data"
    },
    {
     "data": {
      "text/plain": [
       "'https://fr.trustpilot.com/review/www.thepackengers.com?page=10'"
      ]
     },
     "metadata": {},
     "output_type": "display_data"
    },
    {
     "data": {
      "text/plain": [
       "'https://fr.trustpilot.com/review/www.thepackengers.com?page=11'"
      ]
     },
     "metadata": {},
     "output_type": "display_data"
    },
    {
     "data": {
      "text/plain": [
       "'https://fr.trustpilot.com/review/www.thepackengers.com?page=12'"
      ]
     },
     "metadata": {},
     "output_type": "display_data"
    },
    {
     "data": {
      "text/plain": [
       "'https://fr.trustpilot.com/review/www.thepackengers.com?page=13'"
      ]
     },
     "metadata": {},
     "output_type": "display_data"
    },
    {
     "data": {
      "text/plain": [
       "'https://fr.trustpilot.com/review/www.thepackengers.com?page=14'"
      ]
     },
     "metadata": {},
     "output_type": "display_data"
    },
    {
     "data": {
      "text/plain": [
       "'https://fr.trustpilot.com/review/www.thepackengers.com?page=15'"
      ]
     },
     "metadata": {},
     "output_type": "display_data"
    },
    {
     "data": {
      "text/plain": [
       "'https://fr.trustpilot.com/review/www.thepackengers.com?page=16'"
      ]
     },
     "metadata": {},
     "output_type": "display_data"
    },
    {
     "data": {
      "text/plain": [
       "'https://fr.trustpilot.com/review/www.thepackengers.com?page=17'"
      ]
     },
     "metadata": {},
     "output_type": "display_data"
    },
    {
     "data": {
      "text/plain": [
       "'https://fr.trustpilot.com/review/www.thepackengers.com?page=18'"
      ]
     },
     "metadata": {},
     "output_type": "display_data"
    },
    {
     "data": {
      "text/plain": [
       "'https://fr.trustpilot.com/review/www.thepackengers.com?page=19'"
      ]
     },
     "metadata": {},
     "output_type": "display_data"
    },
    {
     "data": {
      "text/plain": [
       "'https://fr.trustpilot.com/review/www.thepackengers.com?page=20'"
      ]
     },
     "metadata": {},
     "output_type": "display_data"
    },
    {
     "name": "stdout",
     "output_type": "stream",
     "text": [
      "shopiles\n"
     ]
    },
    {
     "data": {
      "text/plain": [
       "'https://fr.trustpilot.com/review/www.shopiles.fr?page=1'"
      ]
     },
     "metadata": {},
     "output_type": "display_data"
    },
    {
     "data": {
      "text/plain": [
       "'https://fr.trustpilot.com/review/www.shopiles.fr?page=2'"
      ]
     },
     "metadata": {},
     "output_type": "display_data"
    },
    {
     "data": {
      "text/plain": [
       "'https://fr.trustpilot.com/review/www.shopiles.fr?page=3'"
      ]
     },
     "metadata": {},
     "output_type": "display_data"
    },
    {
     "data": {
      "text/plain": [
       "'https://fr.trustpilot.com/review/www.shopiles.fr?page=4'"
      ]
     },
     "metadata": {},
     "output_type": "display_data"
    },
    {
     "data": {
      "text/plain": [
       "'https://fr.trustpilot.com/review/www.shopiles.fr?page=5'"
      ]
     },
     "metadata": {},
     "output_type": "display_data"
    },
    {
     "data": {
      "text/plain": [
       "'https://fr.trustpilot.com/review/www.shopiles.fr?page=6'"
      ]
     },
     "metadata": {},
     "output_type": "display_data"
    },
    {
     "data": {
      "text/plain": [
       "'https://fr.trustpilot.com/review/www.shopiles.fr?page=7'"
      ]
     },
     "metadata": {},
     "output_type": "display_data"
    },
    {
     "data": {
      "text/plain": [
       "'https://fr.trustpilot.com/review/www.shopiles.fr?page=8'"
      ]
     },
     "metadata": {},
     "output_type": "display_data"
    },
    {
     "data": {
      "text/plain": [
       "'https://fr.trustpilot.com/review/www.shopiles.fr?page=9'"
      ]
     },
     "metadata": {},
     "output_type": "display_data"
    },
    {
     "data": {
      "text/plain": [
       "'https://fr.trustpilot.com/review/www.shopiles.fr?page=10'"
      ]
     },
     "metadata": {},
     "output_type": "display_data"
    },
    {
     "data": {
      "text/plain": [
       "'https://fr.trustpilot.com/review/www.shopiles.fr?page=11'"
      ]
     },
     "metadata": {},
     "output_type": "display_data"
    },
    {
     "data": {
      "text/plain": [
       "'https://fr.trustpilot.com/review/www.shopiles.fr?page=12'"
      ]
     },
     "metadata": {},
     "output_type": "display_data"
    },
    {
     "data": {
      "text/plain": [
       "'https://fr.trustpilot.com/review/www.shopiles.fr?page=13'"
      ]
     },
     "metadata": {},
     "output_type": "display_data"
    },
    {
     "data": {
      "text/plain": [
       "'https://fr.trustpilot.com/review/www.shopiles.fr?page=14'"
      ]
     },
     "metadata": {},
     "output_type": "display_data"
    },
    {
     "data": {
      "text/plain": [
       "'https://fr.trustpilot.com/review/www.shopiles.fr?page=15'"
      ]
     },
     "metadata": {},
     "output_type": "display_data"
    },
    {
     "data": {
      "text/plain": [
       "'https://fr.trustpilot.com/review/www.shopiles.fr?page=16'"
      ]
     },
     "metadata": {},
     "output_type": "display_data"
    },
    {
     "data": {
      "text/plain": [
       "'https://fr.trustpilot.com/review/www.shopiles.fr?page=17'"
      ]
     },
     "metadata": {},
     "output_type": "display_data"
    },
    {
     "data": {
      "text/plain": [
       "'https://fr.trustpilot.com/review/www.shopiles.fr?page=18'"
      ]
     },
     "metadata": {},
     "output_type": "display_data"
    },
    {
     "data": {
      "text/plain": [
       "'https://fr.trustpilot.com/review/www.shopiles.fr?page=19'"
      ]
     },
     "metadata": {},
     "output_type": "display_data"
    },
    {
     "data": {
      "text/plain": [
       "'https://fr.trustpilot.com/review/www.shopiles.fr?page=20'"
      ]
     },
     "metadata": {},
     "output_type": "display_data"
    },
    {
     "name": "stdout",
     "output_type": "stream",
     "text": [
      "colisexpat\n"
     ]
    },
    {
     "data": {
      "text/plain": [
       "'https://fr.trustpilot.com/review/www.colisexpat.com?page=1'"
      ]
     },
     "metadata": {},
     "output_type": "display_data"
    },
    {
     "data": {
      "text/plain": [
       "'https://fr.trustpilot.com/review/www.colisexpat.com?page=2'"
      ]
     },
     "metadata": {},
     "output_type": "display_data"
    },
    {
     "data": {
      "text/plain": [
       "'https://fr.trustpilot.com/review/www.colisexpat.com?page=3'"
      ]
     },
     "metadata": {},
     "output_type": "display_data"
    },
    {
     "data": {
      "text/plain": [
       "'https://fr.trustpilot.com/review/www.colisexpat.com?page=4'"
      ]
     },
     "metadata": {},
     "output_type": "display_data"
    },
    {
     "data": {
      "text/plain": [
       "'https://fr.trustpilot.com/review/www.colisexpat.com?page=5'"
      ]
     },
     "metadata": {},
     "output_type": "display_data"
    },
    {
     "data": {
      "text/plain": [
       "'https://fr.trustpilot.com/review/www.colisexpat.com?page=6'"
      ]
     },
     "metadata": {},
     "output_type": "display_data"
    },
    {
     "data": {
      "text/plain": [
       "'https://fr.trustpilot.com/review/www.colisexpat.com?page=7'"
      ]
     },
     "metadata": {},
     "output_type": "display_data"
    },
    {
     "data": {
      "text/plain": [
       "'https://fr.trustpilot.com/review/www.colisexpat.com?page=8'"
      ]
     },
     "metadata": {},
     "output_type": "display_data"
    },
    {
     "data": {
      "text/plain": [
       "'https://fr.trustpilot.com/review/www.colisexpat.com?page=9'"
      ]
     },
     "metadata": {},
     "output_type": "display_data"
    },
    {
     "data": {
      "text/plain": [
       "'https://fr.trustpilot.com/review/www.colisexpat.com?page=10'"
      ]
     },
     "metadata": {},
     "output_type": "display_data"
    },
    {
     "data": {
      "text/plain": [
       "'https://fr.trustpilot.com/review/www.colisexpat.com?page=11'"
      ]
     },
     "metadata": {},
     "output_type": "display_data"
    },
    {
     "data": {
      "text/plain": [
       "'https://fr.trustpilot.com/review/www.colisexpat.com?page=12'"
      ]
     },
     "metadata": {},
     "output_type": "display_data"
    },
    {
     "data": {
      "text/plain": [
       "'https://fr.trustpilot.com/review/www.colisexpat.com?page=13'"
      ]
     },
     "metadata": {},
     "output_type": "display_data"
    },
    {
     "data": {
      "text/plain": [
       "'https://fr.trustpilot.com/review/www.colisexpat.com?page=14'"
      ]
     },
     "metadata": {},
     "output_type": "display_data"
    },
    {
     "data": {
      "text/plain": [
       "'https://fr.trustpilot.com/review/www.colisexpat.com?page=15'"
      ]
     },
     "metadata": {},
     "output_type": "display_data"
    },
    {
     "data": {
      "text/plain": [
       "'https://fr.trustpilot.com/review/www.colisexpat.com?page=16'"
      ]
     },
     "metadata": {},
     "output_type": "display_data"
    },
    {
     "data": {
      "text/plain": [
       "'https://fr.trustpilot.com/review/www.colisexpat.com?page=17'"
      ]
     },
     "metadata": {},
     "output_type": "display_data"
    },
    {
     "data": {
      "text/plain": [
       "'https://fr.trustpilot.com/review/www.colisexpat.com?page=18'"
      ]
     },
     "metadata": {},
     "output_type": "display_data"
    },
    {
     "data": {
      "text/plain": [
       "'https://fr.trustpilot.com/review/www.colisexpat.com?page=19'"
      ]
     },
     "metadata": {},
     "output_type": "display_data"
    },
    {
     "data": {
      "text/plain": [
       "'https://fr.trustpilot.com/review/www.colisexpat.com?page=20'"
      ]
     },
     "metadata": {},
     "output_type": "display_data"
    },
    {
     "name": "stdout",
     "output_type": "stream",
     "text": [
      "fretbay\n"
     ]
    },
    {
     "data": {
      "text/plain": [
       "'https://fr.trustpilot.com/review/www.fretbay.com?page=1'"
      ]
     },
     "metadata": {},
     "output_type": "display_data"
    },
    {
     "data": {
      "text/plain": [
       "'https://fr.trustpilot.com/review/www.fretbay.com?page=2'"
      ]
     },
     "metadata": {},
     "output_type": "display_data"
    },
    {
     "data": {
      "text/plain": [
       "'https://fr.trustpilot.com/review/www.fretbay.com?page=3'"
      ]
     },
     "metadata": {},
     "output_type": "display_data"
    },
    {
     "data": {
      "text/plain": [
       "'https://fr.trustpilot.com/review/www.fretbay.com?page=4'"
      ]
     },
     "metadata": {},
     "output_type": "display_data"
    },
    {
     "data": {
      "text/plain": [
       "'https://fr.trustpilot.com/review/www.fretbay.com?page=5'"
      ]
     },
     "metadata": {},
     "output_type": "display_data"
    },
    {
     "data": {
      "text/plain": [
       "'https://fr.trustpilot.com/review/www.fretbay.com?page=6'"
      ]
     },
     "metadata": {},
     "output_type": "display_data"
    },
    {
     "data": {
      "text/plain": [
       "'https://fr.trustpilot.com/review/www.fretbay.com?page=7'"
      ]
     },
     "metadata": {},
     "output_type": "display_data"
    },
    {
     "data": {
      "text/plain": [
       "'https://fr.trustpilot.com/review/www.fretbay.com?page=8'"
      ]
     },
     "metadata": {},
     "output_type": "display_data"
    },
    {
     "data": {
      "text/plain": [
       "'https://fr.trustpilot.com/review/www.fretbay.com?page=9'"
      ]
     },
     "metadata": {},
     "output_type": "display_data"
    },
    {
     "data": {
      "text/plain": [
       "'https://fr.trustpilot.com/review/www.fretbay.com?page=10'"
      ]
     },
     "metadata": {},
     "output_type": "display_data"
    },
    {
     "data": {
      "text/plain": [
       "'https://fr.trustpilot.com/review/www.fretbay.com?page=11'"
      ]
     },
     "metadata": {},
     "output_type": "display_data"
    },
    {
     "data": {
      "text/plain": [
       "'https://fr.trustpilot.com/review/www.fretbay.com?page=12'"
      ]
     },
     "metadata": {},
     "output_type": "display_data"
    },
    {
     "data": {
      "text/plain": [
       "'https://fr.trustpilot.com/review/www.fretbay.com?page=13'"
      ]
     },
     "metadata": {},
     "output_type": "display_data"
    },
    {
     "data": {
      "text/plain": [
       "'https://fr.trustpilot.com/review/www.fretbay.com?page=14'"
      ]
     },
     "metadata": {},
     "output_type": "display_data"
    },
    {
     "data": {
      "text/plain": [
       "'https://fr.trustpilot.com/review/www.fretbay.com?page=15'"
      ]
     },
     "metadata": {},
     "output_type": "display_data"
    },
    {
     "data": {
      "text/plain": [
       "'https://fr.trustpilot.com/review/www.fretbay.com?page=16'"
      ]
     },
     "metadata": {},
     "output_type": "display_data"
    },
    {
     "data": {
      "text/plain": [
       "'https://fr.trustpilot.com/review/www.fretbay.com?page=17'"
      ]
     },
     "metadata": {},
     "output_type": "display_data"
    },
    {
     "data": {
      "text/plain": [
       "'https://fr.trustpilot.com/review/www.fretbay.com?page=18'"
      ]
     },
     "metadata": {},
     "output_type": "display_data"
    },
    {
     "data": {
      "text/plain": [
       "'https://fr.trustpilot.com/review/www.fretbay.com?page=19'"
      ]
     },
     "metadata": {},
     "output_type": "display_data"
    },
    {
     "data": {
      "text/plain": [
       "'https://fr.trustpilot.com/review/www.fretbay.com?page=20'"
      ]
     },
     "metadata": {},
     "output_type": "display_data"
    },
    {
     "name": "stdout",
     "output_type": "stream",
     "text": [
      "upela\n"
     ]
    },
    {
     "data": {
      "text/plain": [
       "'https://fr.trustpilot.com/review/upela.com?page=1'"
      ]
     },
     "metadata": {},
     "output_type": "display_data"
    },
    {
     "data": {
      "text/plain": [
       "'https://fr.trustpilot.com/review/upela.com?page=2'"
      ]
     },
     "metadata": {},
     "output_type": "display_data"
    },
    {
     "data": {
      "text/plain": [
       "'https://fr.trustpilot.com/review/upela.com?page=3'"
      ]
     },
     "metadata": {},
     "output_type": "display_data"
    },
    {
     "data": {
      "text/plain": [
       "'https://fr.trustpilot.com/review/upela.com?page=4'"
      ]
     },
     "metadata": {},
     "output_type": "display_data"
    },
    {
     "data": {
      "text/plain": [
       "'https://fr.trustpilot.com/review/upela.com?page=5'"
      ]
     },
     "metadata": {},
     "output_type": "display_data"
    },
    {
     "data": {
      "text/plain": [
       "'https://fr.trustpilot.com/review/upela.com?page=6'"
      ]
     },
     "metadata": {},
     "output_type": "display_data"
    },
    {
     "data": {
      "text/plain": [
       "'https://fr.trustpilot.com/review/upela.com?page=7'"
      ]
     },
     "metadata": {},
     "output_type": "display_data"
    },
    {
     "data": {
      "text/plain": [
       "'https://fr.trustpilot.com/review/upela.com?page=8'"
      ]
     },
     "metadata": {},
     "output_type": "display_data"
    },
    {
     "data": {
      "text/plain": [
       "'https://fr.trustpilot.com/review/upela.com?page=9'"
      ]
     },
     "metadata": {},
     "output_type": "display_data"
    },
    {
     "data": {
      "text/plain": [
       "'https://fr.trustpilot.com/review/upela.com?page=10'"
      ]
     },
     "metadata": {},
     "output_type": "display_data"
    },
    {
     "data": {
      "text/plain": [
       "'https://fr.trustpilot.com/review/upela.com?page=11'"
      ]
     },
     "metadata": {},
     "output_type": "display_data"
    },
    {
     "data": {
      "text/plain": [
       "'https://fr.trustpilot.com/review/upela.com?page=12'"
      ]
     },
     "metadata": {},
     "output_type": "display_data"
    },
    {
     "data": {
      "text/plain": [
       "'https://fr.trustpilot.com/review/upela.com?page=13'"
      ]
     },
     "metadata": {},
     "output_type": "display_data"
    },
    {
     "data": {
      "text/plain": [
       "'https://fr.trustpilot.com/review/upela.com?page=14'"
      ]
     },
     "metadata": {},
     "output_type": "display_data"
    },
    {
     "data": {
      "text/plain": [
       "'https://fr.trustpilot.com/review/upela.com?page=15'"
      ]
     },
     "metadata": {},
     "output_type": "display_data"
    },
    {
     "data": {
      "text/plain": [
       "'https://fr.trustpilot.com/review/upela.com?page=16'"
      ]
     },
     "metadata": {},
     "output_type": "display_data"
    },
    {
     "data": {
      "text/plain": [
       "'https://fr.trustpilot.com/review/upela.com?page=17'"
      ]
     },
     "metadata": {},
     "output_type": "display_data"
    },
    {
     "data": {
      "text/plain": [
       "'https://fr.trustpilot.com/review/upela.com?page=18'"
      ]
     },
     "metadata": {},
     "output_type": "display_data"
    },
    {
     "data": {
      "text/plain": [
       "'https://fr.trustpilot.com/review/upela.com?page=19'"
      ]
     },
     "metadata": {},
     "output_type": "display_data"
    },
    {
     "data": {
      "text/plain": [
       "'https://fr.trustpilot.com/review/upela.com?page=20'"
      ]
     },
     "metadata": {},
     "output_type": "display_data"
    },
    {
     "name": "stdout",
     "output_type": "stream",
     "text": [
      "limitedresell\n"
     ]
    },
    {
     "data": {
      "text/plain": [
       "'https://fr.trustpilot.com/review/limitedresell.com?page=1'"
      ]
     },
     "metadata": {},
     "output_type": "display_data"
    },
    {
     "data": {
      "text/plain": [
       "'https://fr.trustpilot.com/review/limitedresell.com?page=2'"
      ]
     },
     "metadata": {},
     "output_type": "display_data"
    },
    {
     "data": {
      "text/plain": [
       "'https://fr.trustpilot.com/review/limitedresell.com?page=3'"
      ]
     },
     "metadata": {},
     "output_type": "display_data"
    },
    {
     "data": {
      "text/plain": [
       "'https://fr.trustpilot.com/review/limitedresell.com?page=4'"
      ]
     },
     "metadata": {},
     "output_type": "display_data"
    },
    {
     "data": {
      "text/plain": [
       "'https://fr.trustpilot.com/review/limitedresell.com?page=5'"
      ]
     },
     "metadata": {},
     "output_type": "display_data"
    },
    {
     "data": {
      "text/plain": [
       "'https://fr.trustpilot.com/review/limitedresell.com?page=6'"
      ]
     },
     "metadata": {},
     "output_type": "display_data"
    },
    {
     "data": {
      "text/plain": [
       "'https://fr.trustpilot.com/review/limitedresell.com?page=7'"
      ]
     },
     "metadata": {},
     "output_type": "display_data"
    },
    {
     "data": {
      "text/plain": [
       "'https://fr.trustpilot.com/review/limitedresell.com?page=8'"
      ]
     },
     "metadata": {},
     "output_type": "display_data"
    },
    {
     "data": {
      "text/plain": [
       "'https://fr.trustpilot.com/review/limitedresell.com?page=9'"
      ]
     },
     "metadata": {},
     "output_type": "display_data"
    },
    {
     "data": {
      "text/plain": [
       "'https://fr.trustpilot.com/review/limitedresell.com?page=10'"
      ]
     },
     "metadata": {},
     "output_type": "display_data"
    },
    {
     "data": {
      "text/plain": [
       "'https://fr.trustpilot.com/review/limitedresell.com?page=11'"
      ]
     },
     "metadata": {},
     "output_type": "display_data"
    },
    {
     "data": {
      "text/plain": [
       "'https://fr.trustpilot.com/review/limitedresell.com?page=12'"
      ]
     },
     "metadata": {},
     "output_type": "display_data"
    },
    {
     "data": {
      "text/plain": [
       "'https://fr.trustpilot.com/review/limitedresell.com?page=13'"
      ]
     },
     "metadata": {},
     "output_type": "display_data"
    },
    {
     "data": {
      "text/plain": [
       "'https://fr.trustpilot.com/review/limitedresell.com?page=14'"
      ]
     },
     "metadata": {},
     "output_type": "display_data"
    },
    {
     "name": "stdout",
     "output_type": "stream",
     "text": [
      "Erreur lors de la requête : 404\n"
     ]
    },
    {
     "data": {
      "text/plain": [
       "'https://fr.trustpilot.com/review/limitedresell.com?page=15'"
      ]
     },
     "metadata": {},
     "output_type": "display_data"
    },
    {
     "name": "stdout",
     "output_type": "stream",
     "text": [
      "Erreur lors de la requête : 404\n"
     ]
    },
    {
     "data": {
      "text/plain": [
       "'https://fr.trustpilot.com/review/limitedresell.com?page=16'"
      ]
     },
     "metadata": {},
     "output_type": "display_data"
    },
    {
     "name": "stdout",
     "output_type": "stream",
     "text": [
      "Erreur lors de la requête : 404\n"
     ]
    },
    {
     "data": {
      "text/plain": [
       "'https://fr.trustpilot.com/review/limitedresell.com?page=17'"
      ]
     },
     "metadata": {},
     "output_type": "display_data"
    },
    {
     "name": "stdout",
     "output_type": "stream",
     "text": [
      "Erreur lors de la requête : 404\n"
     ]
    },
    {
     "data": {
      "text/plain": [
       "'https://fr.trustpilot.com/review/limitedresell.com?page=18'"
      ]
     },
     "metadata": {},
     "output_type": "display_data"
    },
    {
     "name": "stdout",
     "output_type": "stream",
     "text": [
      "Erreur lors de la requête : 404\n"
     ]
    },
    {
     "data": {
      "text/plain": [
       "'https://fr.trustpilot.com/review/limitedresell.com?page=19'"
      ]
     },
     "metadata": {},
     "output_type": "display_data"
    },
    {
     "name": "stdout",
     "output_type": "stream",
     "text": [
      "Erreur lors de la requête : 404\n"
     ]
    },
    {
     "data": {
      "text/plain": [
       "'https://fr.trustpilot.com/review/limitedresell.com?page=20'"
      ]
     },
     "metadata": {},
     "output_type": "display_data"
    },
    {
     "name": "stdout",
     "output_type": "stream",
     "text": [
      "Erreur lors de la requête : 404\n",
      "parcelmonkey\n"
     ]
    },
    {
     "data": {
      "text/plain": [
       "'https://fr.trustpilot.com/review/parcelmonkey.fr?page=1'"
      ]
     },
     "metadata": {},
     "output_type": "display_data"
    },
    {
     "data": {
      "text/plain": [
       "'https://fr.trustpilot.com/review/parcelmonkey.fr?page=2'"
      ]
     },
     "metadata": {},
     "output_type": "display_data"
    },
    {
     "data": {
      "text/plain": [
       "'https://fr.trustpilot.com/review/parcelmonkey.fr?page=3'"
      ]
     },
     "metadata": {},
     "output_type": "display_data"
    },
    {
     "data": {
      "text/plain": [
       "'https://fr.trustpilot.com/review/parcelmonkey.fr?page=4'"
      ]
     },
     "metadata": {},
     "output_type": "display_data"
    },
    {
     "data": {
      "text/plain": [
       "'https://fr.trustpilot.com/review/parcelmonkey.fr?page=5'"
      ]
     },
     "metadata": {},
     "output_type": "display_data"
    },
    {
     "data": {
      "text/plain": [
       "'https://fr.trustpilot.com/review/parcelmonkey.fr?page=6'"
      ]
     },
     "metadata": {},
     "output_type": "display_data"
    },
    {
     "data": {
      "text/plain": [
       "'https://fr.trustpilot.com/review/parcelmonkey.fr?page=7'"
      ]
     },
     "metadata": {},
     "output_type": "display_data"
    },
    {
     "data": {
      "text/plain": [
       "'https://fr.trustpilot.com/review/parcelmonkey.fr?page=8'"
      ]
     },
     "metadata": {},
     "output_type": "display_data"
    },
    {
     "data": {
      "text/plain": [
       "'https://fr.trustpilot.com/review/parcelmonkey.fr?page=9'"
      ]
     },
     "metadata": {},
     "output_type": "display_data"
    },
    {
     "data": {
      "text/plain": [
       "'https://fr.trustpilot.com/review/parcelmonkey.fr?page=10'"
      ]
     },
     "metadata": {},
     "output_type": "display_data"
    },
    {
     "data": {
      "text/plain": [
       "'https://fr.trustpilot.com/review/parcelmonkey.fr?page=11'"
      ]
     },
     "metadata": {},
     "output_type": "display_data"
    },
    {
     "data": {
      "text/plain": [
       "'https://fr.trustpilot.com/review/parcelmonkey.fr?page=12'"
      ]
     },
     "metadata": {},
     "output_type": "display_data"
    },
    {
     "data": {
      "text/plain": [
       "'https://fr.trustpilot.com/review/parcelmonkey.fr?page=13'"
      ]
     },
     "metadata": {},
     "output_type": "display_data"
    },
    {
     "data": {
      "text/plain": [
       "'https://fr.trustpilot.com/review/parcelmonkey.fr?page=14'"
      ]
     },
     "metadata": {},
     "output_type": "display_data"
    },
    {
     "data": {
      "text/plain": [
       "'https://fr.trustpilot.com/review/parcelmonkey.fr?page=15'"
      ]
     },
     "metadata": {},
     "output_type": "display_data"
    },
    {
     "data": {
      "text/plain": [
       "'https://fr.trustpilot.com/review/parcelmonkey.fr?page=16'"
      ]
     },
     "metadata": {},
     "output_type": "display_data"
    },
    {
     "data": {
      "text/plain": [
       "'https://fr.trustpilot.com/review/parcelmonkey.fr?page=17'"
      ]
     },
     "metadata": {},
     "output_type": "display_data"
    },
    {
     "data": {
      "text/plain": [
       "'https://fr.trustpilot.com/review/parcelmonkey.fr?page=18'"
      ]
     },
     "metadata": {},
     "output_type": "display_data"
    },
    {
     "name": "stdout",
     "output_type": "stream",
     "text": [
      "Erreur lors de la requête : 404\n"
     ]
    },
    {
     "data": {
      "text/plain": [
       "'https://fr.trustpilot.com/review/parcelmonkey.fr?page=19'"
      ]
     },
     "metadata": {},
     "output_type": "display_data"
    },
    {
     "name": "stdout",
     "output_type": "stream",
     "text": [
      "Erreur lors de la requête : 404\n"
     ]
    },
    {
     "data": {
      "text/plain": [
       "'https://fr.trustpilot.com/review/parcelmonkey.fr?page=20'"
      ]
     },
     "metadata": {},
     "output_type": "display_data"
    },
    {
     "name": "stdout",
     "output_type": "stream",
     "text": [
      "Erreur lors de la requête : 404\n",
      "demenageurs-bretons\n"
     ]
    },
    {
     "data": {
      "text/plain": [
       "'https://fr.trustpilot.com/review/demenageurs-bretons.fr?page=1'"
      ]
     },
     "metadata": {},
     "output_type": "display_data"
    },
    {
     "data": {
      "text/plain": [
       "'https://fr.trustpilot.com/review/demenageurs-bretons.fr?page=2'"
      ]
     },
     "metadata": {},
     "output_type": "display_data"
    },
    {
     "data": {
      "text/plain": [
       "'https://fr.trustpilot.com/review/demenageurs-bretons.fr?page=3'"
      ]
     },
     "metadata": {},
     "output_type": "display_data"
    },
    {
     "data": {
      "text/plain": [
       "'https://fr.trustpilot.com/review/demenageurs-bretons.fr?page=4'"
      ]
     },
     "metadata": {},
     "output_type": "display_data"
    },
    {
     "data": {
      "text/plain": [
       "'https://fr.trustpilot.com/review/demenageurs-bretons.fr?page=5'"
      ]
     },
     "metadata": {},
     "output_type": "display_data"
    },
    {
     "data": {
      "text/plain": [
       "'https://fr.trustpilot.com/review/demenageurs-bretons.fr?page=6'"
      ]
     },
     "metadata": {},
     "output_type": "display_data"
    },
    {
     "data": {
      "text/plain": [
       "'https://fr.trustpilot.com/review/demenageurs-bretons.fr?page=7'"
      ]
     },
     "metadata": {},
     "output_type": "display_data"
    },
    {
     "data": {
      "text/plain": [
       "'https://fr.trustpilot.com/review/demenageurs-bretons.fr?page=8'"
      ]
     },
     "metadata": {},
     "output_type": "display_data"
    },
    {
     "data": {
      "text/plain": [
       "'https://fr.trustpilot.com/review/demenageurs-bretons.fr?page=9'"
      ]
     },
     "metadata": {},
     "output_type": "display_data"
    },
    {
     "data": {
      "text/plain": [
       "'https://fr.trustpilot.com/review/demenageurs-bretons.fr?page=10'"
      ]
     },
     "metadata": {},
     "output_type": "display_data"
    },
    {
     "data": {
      "text/plain": [
       "'https://fr.trustpilot.com/review/demenageurs-bretons.fr?page=11'"
      ]
     },
     "metadata": {},
     "output_type": "display_data"
    },
    {
     "data": {
      "text/plain": [
       "'https://fr.trustpilot.com/review/demenageurs-bretons.fr?page=12'"
      ]
     },
     "metadata": {},
     "output_type": "display_data"
    },
    {
     "data": {
      "text/plain": [
       "'https://fr.trustpilot.com/review/demenageurs-bretons.fr?page=13'"
      ]
     },
     "metadata": {},
     "output_type": "display_data"
    },
    {
     "data": {
      "text/plain": [
       "'https://fr.trustpilot.com/review/demenageurs-bretons.fr?page=14'"
      ]
     },
     "metadata": {},
     "output_type": "display_data"
    },
    {
     "data": {
      "text/plain": [
       "'https://fr.trustpilot.com/review/demenageurs-bretons.fr?page=15'"
      ]
     },
     "metadata": {},
     "output_type": "display_data"
    },
    {
     "data": {
      "text/plain": [
       "'https://fr.trustpilot.com/review/demenageurs-bretons.fr?page=16'"
      ]
     },
     "metadata": {},
     "output_type": "display_data"
    },
    {
     "data": {
      "text/plain": [
       "'https://fr.trustpilot.com/review/demenageurs-bretons.fr?page=17'"
      ]
     },
     "metadata": {},
     "output_type": "display_data"
    },
    {
     "data": {
      "text/plain": [
       "'https://fr.trustpilot.com/review/demenageurs-bretons.fr?page=18'"
      ]
     },
     "metadata": {},
     "output_type": "display_data"
    },
    {
     "data": {
      "text/plain": [
       "'https://fr.trustpilot.com/review/demenageurs-bretons.fr?page=19'"
      ]
     },
     "metadata": {},
     "output_type": "display_data"
    },
    {
     "data": {
      "text/plain": [
       "'https://fr.trustpilot.com/review/demenageurs-bretons.fr?page=20'"
      ]
     },
     "metadata": {},
     "output_type": "display_data"
    },
    {
     "name": "stdout",
     "output_type": "stream",
     "text": [
      "lettre24\n"
     ]
    },
    {
     "data": {
      "text/plain": [
       "'https://fr.trustpilot.com/review/lettre24.com?page=1'"
      ]
     },
     "metadata": {},
     "output_type": "display_data"
    },
    {
     "data": {
      "text/plain": [
       "'https://fr.trustpilot.com/review/lettre24.com?page=2'"
      ]
     },
     "metadata": {},
     "output_type": "display_data"
    },
    {
     "data": {
      "text/plain": [
       "'https://fr.trustpilot.com/review/lettre24.com?page=3'"
      ]
     },
     "metadata": {},
     "output_type": "display_data"
    },
    {
     "data": {
      "text/plain": [
       "'https://fr.trustpilot.com/review/lettre24.com?page=4'"
      ]
     },
     "metadata": {},
     "output_type": "display_data"
    },
    {
     "data": {
      "text/plain": [
       "'https://fr.trustpilot.com/review/lettre24.com?page=5'"
      ]
     },
     "metadata": {},
     "output_type": "display_data"
    },
    {
     "data": {
      "text/plain": [
       "'https://fr.trustpilot.com/review/lettre24.com?page=6'"
      ]
     },
     "metadata": {},
     "output_type": "display_data"
    },
    {
     "data": {
      "text/plain": [
       "'https://fr.trustpilot.com/review/lettre24.com?page=7'"
      ]
     },
     "metadata": {},
     "output_type": "display_data"
    },
    {
     "data": {
      "text/plain": [
       "'https://fr.trustpilot.com/review/lettre24.com?page=8'"
      ]
     },
     "metadata": {},
     "output_type": "display_data"
    },
    {
     "data": {
      "text/plain": [
       "'https://fr.trustpilot.com/review/lettre24.com?page=9'"
      ]
     },
     "metadata": {},
     "output_type": "display_data"
    },
    {
     "data": {
      "text/plain": [
       "'https://fr.trustpilot.com/review/lettre24.com?page=10'"
      ]
     },
     "metadata": {},
     "output_type": "display_data"
    },
    {
     "data": {
      "text/plain": [
       "'https://fr.trustpilot.com/review/lettre24.com?page=11'"
      ]
     },
     "metadata": {},
     "output_type": "display_data"
    },
    {
     "data": {
      "text/plain": [
       "'https://fr.trustpilot.com/review/lettre24.com?page=12'"
      ]
     },
     "metadata": {},
     "output_type": "display_data"
    },
    {
     "data": {
      "text/plain": [
       "'https://fr.trustpilot.com/review/lettre24.com?page=13'"
      ]
     },
     "metadata": {},
     "output_type": "display_data"
    },
    {
     "data": {
      "text/plain": [
       "'https://fr.trustpilot.com/review/lettre24.com?page=14'"
      ]
     },
     "metadata": {},
     "output_type": "display_data"
    },
    {
     "data": {
      "text/plain": [
       "'https://fr.trustpilot.com/review/lettre24.com?page=15'"
      ]
     },
     "metadata": {},
     "output_type": "display_data"
    },
    {
     "name": "stdout",
     "output_type": "stream",
     "text": [
      "Erreur lors de la requête : 404\n"
     ]
    },
    {
     "data": {
      "text/plain": [
       "'https://fr.trustpilot.com/review/lettre24.com?page=16'"
      ]
     },
     "metadata": {},
     "output_type": "display_data"
    },
    {
     "name": "stdout",
     "output_type": "stream",
     "text": [
      "Erreur lors de la requête : 404\n"
     ]
    },
    {
     "data": {
      "text/plain": [
       "'https://fr.trustpilot.com/review/lettre24.com?page=17'"
      ]
     },
     "metadata": {},
     "output_type": "display_data"
    },
    {
     "name": "stdout",
     "output_type": "stream",
     "text": [
      "Erreur lors de la requête : 404\n"
     ]
    },
    {
     "data": {
      "text/plain": [
       "'https://fr.trustpilot.com/review/lettre24.com?page=18'"
      ]
     },
     "metadata": {},
     "output_type": "display_data"
    },
    {
     "name": "stdout",
     "output_type": "stream",
     "text": [
      "Erreur lors de la requête : 404\n"
     ]
    },
    {
     "data": {
      "text/plain": [
       "'https://fr.trustpilot.com/review/lettre24.com?page=19'"
      ]
     },
     "metadata": {},
     "output_type": "display_data"
    },
    {
     "name": "stdout",
     "output_type": "stream",
     "text": [
      "Erreur lors de la requête : 404\n"
     ]
    },
    {
     "data": {
      "text/plain": [
       "'https://fr.trustpilot.com/review/lettre24.com?page=20'"
      ]
     },
     "metadata": {},
     "output_type": "display_data"
    },
    {
     "name": "stdout",
     "output_type": "stream",
     "text": [
      "Erreur lors de la requête : 404\n",
      "officiel-demenagement\n"
     ]
    },
    {
     "data": {
      "text/plain": [
       "'https://fr.trustpilot.com/review/www.officiel-demenagement.com?page=1'"
      ]
     },
     "metadata": {},
     "output_type": "display_data"
    },
    {
     "data": {
      "text/plain": [
       "'https://fr.trustpilot.com/review/www.officiel-demenagement.com?page=2'"
      ]
     },
     "metadata": {},
     "output_type": "display_data"
    },
    {
     "data": {
      "text/plain": [
       "'https://fr.trustpilot.com/review/www.officiel-demenagement.com?page=3'"
      ]
     },
     "metadata": {},
     "output_type": "display_data"
    },
    {
     "data": {
      "text/plain": [
       "'https://fr.trustpilot.com/review/www.officiel-demenagement.com?page=4'"
      ]
     },
     "metadata": {},
     "output_type": "display_data"
    },
    {
     "data": {
      "text/plain": [
       "'https://fr.trustpilot.com/review/www.officiel-demenagement.com?page=5'"
      ]
     },
     "metadata": {},
     "output_type": "display_data"
    },
    {
     "data": {
      "text/plain": [
       "'https://fr.trustpilot.com/review/www.officiel-demenagement.com?page=6'"
      ]
     },
     "metadata": {},
     "output_type": "display_data"
    },
    {
     "data": {
      "text/plain": [
       "'https://fr.trustpilot.com/review/www.officiel-demenagement.com?page=7'"
      ]
     },
     "metadata": {},
     "output_type": "display_data"
    },
    {
     "data": {
      "text/plain": [
       "'https://fr.trustpilot.com/review/www.officiel-demenagement.com?page=8'"
      ]
     },
     "metadata": {},
     "output_type": "display_data"
    },
    {
     "data": {
      "text/plain": [
       "'https://fr.trustpilot.com/review/www.officiel-demenagement.com?page=9'"
      ]
     },
     "metadata": {},
     "output_type": "display_data"
    },
    {
     "data": {
      "text/plain": [
       "'https://fr.trustpilot.com/review/www.officiel-demenagement.com?page=10'"
      ]
     },
     "metadata": {},
     "output_type": "display_data"
    },
    {
     "data": {
      "text/plain": [
       "'https://fr.trustpilot.com/review/www.officiel-demenagement.com?page=11'"
      ]
     },
     "metadata": {},
     "output_type": "display_data"
    },
    {
     "data": {
      "text/plain": [
       "'https://fr.trustpilot.com/review/www.officiel-demenagement.com?page=12'"
      ]
     },
     "metadata": {},
     "output_type": "display_data"
    },
    {
     "data": {
      "text/plain": [
       "'https://fr.trustpilot.com/review/www.officiel-demenagement.com?page=13'"
      ]
     },
     "metadata": {},
     "output_type": "display_data"
    },
    {
     "data": {
      "text/plain": [
       "'https://fr.trustpilot.com/review/www.officiel-demenagement.com?page=14'"
      ]
     },
     "metadata": {},
     "output_type": "display_data"
    },
    {
     "data": {
      "text/plain": [
       "'https://fr.trustpilot.com/review/www.officiel-demenagement.com?page=15'"
      ]
     },
     "metadata": {},
     "output_type": "display_data"
    },
    {
     "data": {
      "text/plain": [
       "'https://fr.trustpilot.com/review/www.officiel-demenagement.com?page=16'"
      ]
     },
     "metadata": {},
     "output_type": "display_data"
    },
    {
     "data": {
      "text/plain": [
       "'https://fr.trustpilot.com/review/www.officiel-demenagement.com?page=17'"
      ]
     },
     "metadata": {},
     "output_type": "display_data"
    },
    {
     "data": {
      "text/plain": [
       "'https://fr.trustpilot.com/review/www.officiel-demenagement.com?page=18'"
      ]
     },
     "metadata": {},
     "output_type": "display_data"
    },
    {
     "data": {
      "text/plain": [
       "'https://fr.trustpilot.com/review/www.officiel-demenagement.com?page=19'"
      ]
     },
     "metadata": {},
     "output_type": "display_data"
    },
    {
     "data": {
      "text/plain": [
       "'https://fr.trustpilot.com/review/www.officiel-demenagement.com?page=20'"
      ]
     },
     "metadata": {},
     "output_type": "display_data"
    },
    {
     "name": "stdout",
     "output_type": "stream",
     "text": [
      "pakup-emballage\n"
     ]
    },
    {
     "data": {
      "text/plain": [
       "'https://fr.trustpilot.com/review/pakup-emballage.fr?page=1'"
      ]
     },
     "metadata": {},
     "output_type": "display_data"
    },
    {
     "data": {
      "text/plain": [
       "'https://fr.trustpilot.com/review/pakup-emballage.fr?page=2'"
      ]
     },
     "metadata": {},
     "output_type": "display_data"
    },
    {
     "data": {
      "text/plain": [
       "'https://fr.trustpilot.com/review/pakup-emballage.fr?page=3'"
      ]
     },
     "metadata": {},
     "output_type": "display_data"
    },
    {
     "data": {
      "text/plain": [
       "'https://fr.trustpilot.com/review/pakup-emballage.fr?page=4'"
      ]
     },
     "metadata": {},
     "output_type": "display_data"
    },
    {
     "data": {
      "text/plain": [
       "'https://fr.trustpilot.com/review/pakup-emballage.fr?page=5'"
      ]
     },
     "metadata": {},
     "output_type": "display_data"
    },
    {
     "data": {
      "text/plain": [
       "'https://fr.trustpilot.com/review/pakup-emballage.fr?page=6'"
      ]
     },
     "metadata": {},
     "output_type": "display_data"
    },
    {
     "data": {
      "text/plain": [
       "'https://fr.trustpilot.com/review/pakup-emballage.fr?page=7'"
      ]
     },
     "metadata": {},
     "output_type": "display_data"
    },
    {
     "data": {
      "text/plain": [
       "'https://fr.trustpilot.com/review/pakup-emballage.fr?page=8'"
      ]
     },
     "metadata": {},
     "output_type": "display_data"
    },
    {
     "data": {
      "text/plain": [
       "'https://fr.trustpilot.com/review/pakup-emballage.fr?page=9'"
      ]
     },
     "metadata": {},
     "output_type": "display_data"
    },
    {
     "data": {
      "text/plain": [
       "'https://fr.trustpilot.com/review/pakup-emballage.fr?page=10'"
      ]
     },
     "metadata": {},
     "output_type": "display_data"
    },
    {
     "data": {
      "text/plain": [
       "'https://fr.trustpilot.com/review/pakup-emballage.fr?page=11'"
      ]
     },
     "metadata": {},
     "output_type": "display_data"
    },
    {
     "data": {
      "text/plain": [
       "'https://fr.trustpilot.com/review/pakup-emballage.fr?page=12'"
      ]
     },
     "metadata": {},
     "output_type": "display_data"
    },
    {
     "data": {
      "text/plain": [
       "'https://fr.trustpilot.com/review/pakup-emballage.fr?page=13'"
      ]
     },
     "metadata": {},
     "output_type": "display_data"
    },
    {
     "name": "stdout",
     "output_type": "stream",
     "text": [
      "Erreur lors de la requête : 404\n"
     ]
    },
    {
     "data": {
      "text/plain": [
       "'https://fr.trustpilot.com/review/pakup-emballage.fr?page=14'"
      ]
     },
     "metadata": {},
     "output_type": "display_data"
    },
    {
     "name": "stdout",
     "output_type": "stream",
     "text": [
      "Erreur lors de la requête : 404\n"
     ]
    },
    {
     "data": {
      "text/plain": [
       "'https://fr.trustpilot.com/review/pakup-emballage.fr?page=15'"
      ]
     },
     "metadata": {},
     "output_type": "display_data"
    },
    {
     "name": "stdout",
     "output_type": "stream",
     "text": [
      "Erreur lors de la requête : 404\n"
     ]
    },
    {
     "data": {
      "text/plain": [
       "'https://fr.trustpilot.com/review/pakup-emballage.fr?page=16'"
      ]
     },
     "metadata": {},
     "output_type": "display_data"
    },
    {
     "name": "stdout",
     "output_type": "stream",
     "text": [
      "Erreur lors de la requête : 404\n"
     ]
    },
    {
     "data": {
      "text/plain": [
       "'https://fr.trustpilot.com/review/pakup-emballage.fr?page=17'"
      ]
     },
     "metadata": {},
     "output_type": "display_data"
    },
    {
     "name": "stdout",
     "output_type": "stream",
     "text": [
      "Erreur lors de la requête : 404\n"
     ]
    },
    {
     "data": {
      "text/plain": [
       "'https://fr.trustpilot.com/review/pakup-emballage.fr?page=18'"
      ]
     },
     "metadata": {},
     "output_type": "display_data"
    },
    {
     "name": "stdout",
     "output_type": "stream",
     "text": [
      "Erreur lors de la requête : 404\n"
     ]
    },
    {
     "data": {
      "text/plain": [
       "'https://fr.trustpilot.com/review/pakup-emballage.fr?page=19'"
      ]
     },
     "metadata": {},
     "output_type": "display_data"
    },
    {
     "name": "stdout",
     "output_type": "stream",
     "text": [
      "Erreur lors de la requête : 404\n"
     ]
    },
    {
     "data": {
      "text/plain": [
       "'https://fr.trustpilot.com/review/pakup-emballage.fr?page=20'"
      ]
     },
     "metadata": {},
     "output_type": "display_data"
    },
    {
     "name": "stdout",
     "output_type": "stream",
     "text": [
      "Erreur lors de la requête : 404\n",
      "stls\n"
     ]
    },
    {
     "data": {
      "text/plain": [
       "'https://fr.trustpilot.com/review/stls.fr?page=1'"
      ]
     },
     "metadata": {},
     "output_type": "display_data"
    },
    {
     "data": {
      "text/plain": [
       "'https://fr.trustpilot.com/review/stls.fr?page=2'"
      ]
     },
     "metadata": {},
     "output_type": "display_data"
    },
    {
     "data": {
      "text/plain": [
       "'https://fr.trustpilot.com/review/stls.fr?page=3'"
      ]
     },
     "metadata": {},
     "output_type": "display_data"
    },
    {
     "data": {
      "text/plain": [
       "'https://fr.trustpilot.com/review/stls.fr?page=4'"
      ]
     },
     "metadata": {},
     "output_type": "display_data"
    },
    {
     "data": {
      "text/plain": [
       "'https://fr.trustpilot.com/review/stls.fr?page=5'"
      ]
     },
     "metadata": {},
     "output_type": "display_data"
    },
    {
     "data": {
      "text/plain": [
       "'https://fr.trustpilot.com/review/stls.fr?page=6'"
      ]
     },
     "metadata": {},
     "output_type": "display_data"
    },
    {
     "data": {
      "text/plain": [
       "'https://fr.trustpilot.com/review/stls.fr?page=7'"
      ]
     },
     "metadata": {},
     "output_type": "display_data"
    },
    {
     "data": {
      "text/plain": [
       "'https://fr.trustpilot.com/review/stls.fr?page=8'"
      ]
     },
     "metadata": {},
     "output_type": "display_data"
    },
    {
     "data": {
      "text/plain": [
       "'https://fr.trustpilot.com/review/stls.fr?page=9'"
      ]
     },
     "metadata": {},
     "output_type": "display_data"
    },
    {
     "data": {
      "text/plain": [
       "'https://fr.trustpilot.com/review/stls.fr?page=10'"
      ]
     },
     "metadata": {},
     "output_type": "display_data"
    },
    {
     "data": {
      "text/plain": [
       "'https://fr.trustpilot.com/review/stls.fr?page=11'"
      ]
     },
     "metadata": {},
     "output_type": "display_data"
    },
    {
     "data": {
      "text/plain": [
       "'https://fr.trustpilot.com/review/stls.fr?page=12'"
      ]
     },
     "metadata": {},
     "output_type": "display_data"
    },
    {
     "name": "stdout",
     "output_type": "stream",
     "text": [
      "Erreur lors de la requête : 404\n"
     ]
    },
    {
     "data": {
      "text/plain": [
       "'https://fr.trustpilot.com/review/stls.fr?page=13'"
      ]
     },
     "metadata": {},
     "output_type": "display_data"
    },
    {
     "name": "stdout",
     "output_type": "stream",
     "text": [
      "Erreur lors de la requête : 404\n"
     ]
    },
    {
     "data": {
      "text/plain": [
       "'https://fr.trustpilot.com/review/stls.fr?page=14'"
      ]
     },
     "metadata": {},
     "output_type": "display_data"
    },
    {
     "name": "stdout",
     "output_type": "stream",
     "text": [
      "Erreur lors de la requête : 404\n"
     ]
    },
    {
     "data": {
      "text/plain": [
       "'https://fr.trustpilot.com/review/stls.fr?page=15'"
      ]
     },
     "metadata": {},
     "output_type": "display_data"
    },
    {
     "name": "stdout",
     "output_type": "stream",
     "text": [
      "Erreur lors de la requête : 404\n"
     ]
    },
    {
     "data": {
      "text/plain": [
       "'https://fr.trustpilot.com/review/stls.fr?page=16'"
      ]
     },
     "metadata": {},
     "output_type": "display_data"
    },
    {
     "name": "stdout",
     "output_type": "stream",
     "text": [
      "Erreur lors de la requête : 404\n"
     ]
    },
    {
     "data": {
      "text/plain": [
       "'https://fr.trustpilot.com/review/stls.fr?page=17'"
      ]
     },
     "metadata": {},
     "output_type": "display_data"
    },
    {
     "name": "stdout",
     "output_type": "stream",
     "text": [
      "Erreur lors de la requête : 404\n"
     ]
    },
    {
     "data": {
      "text/plain": [
       "'https://fr.trustpilot.com/review/stls.fr?page=18'"
      ]
     },
     "metadata": {},
     "output_type": "display_data"
    },
    {
     "name": "stdout",
     "output_type": "stream",
     "text": [
      "Erreur lors de la requête : 404\n"
     ]
    },
    {
     "data": {
      "text/plain": [
       "'https://fr.trustpilot.com/review/stls.fr?page=19'"
      ]
     },
     "metadata": {},
     "output_type": "display_data"
    },
    {
     "name": "stdout",
     "output_type": "stream",
     "text": [
      "Erreur lors de la requête : 404\n"
     ]
    },
    {
     "data": {
      "text/plain": [
       "'https://fr.trustpilot.com/review/stls.fr?page=20'"
      ]
     },
     "metadata": {},
     "output_type": "display_data"
    },
    {
     "name": "stdout",
     "output_type": "stream",
     "text": [
      "Erreur lors de la requête : 404\n",
      "green-kartel\n"
     ]
    },
    {
     "data": {
      "text/plain": [
       "'https://fr.trustpilot.com/review/green-kartel.com?page=1'"
      ]
     },
     "metadata": {},
     "output_type": "display_data"
    },
    {
     "data": {
      "text/plain": [
       "'https://fr.trustpilot.com/review/green-kartel.com?page=2'"
      ]
     },
     "metadata": {},
     "output_type": "display_data"
    },
    {
     "data": {
      "text/plain": [
       "'https://fr.trustpilot.com/review/green-kartel.com?page=3'"
      ]
     },
     "metadata": {},
     "output_type": "display_data"
    },
    {
     "ename": "KeyboardInterrupt",
     "evalue": "",
     "output_type": "error",
     "traceback": [
      "\u001b[1;31m---------------------------------------------------------------------------\u001b[0m",
      "\u001b[1;31mKeyboardInterrupt\u001b[0m                         Traceback (most recent call last)",
      "Cell \u001b[1;32mIn[4], line 83\u001b[0m\n\u001b[0;32m     81\u001b[0m \u001b[38;5;66;03m# au cas où il y a la réponse de requests n eqaule 200// des erreurs à eviter \u001b[39;00m\n\u001b[0;32m     82\u001b[0m \u001b[38;5;28;01mtry\u001b[39;00m:  \n\u001b[1;32m---> 83\u001b[0m     time\u001b[38;5;241m.\u001b[39msleep(\u001b[38;5;241m10\u001b[39m)  \u001b[38;5;66;03m# Pause de 10 secondes :Pour eviter la détection un volume anormalement élevé de requêtes provenant de mon adresse IP \u001b[39;00m\n\u001b[0;32m     84\u001b[0m     response \u001b[38;5;241m=\u001b[39m requests\u001b[38;5;241m.\u001b[39mget(url)\n\u001b[0;32m     85\u001b[0m     \u001b[38;5;28;01mif\u001b[39;00m response\u001b[38;5;241m.\u001b[39mstatus_code \u001b[38;5;241m==\u001b[39m \u001b[38;5;241m200\u001b[39m:\n\u001b[0;32m     86\u001b[0m         \u001b[38;5;66;03m# Récupération du contenu de la page\u001b[39;00m\n",
      "\u001b[1;31mKeyboardInterrupt\u001b[0m: "
     ]
    }
   ],
   "source": [
    "import re\n",
    "import time\n",
    "# Liste des bases d'URL pour chaque entreprise\n",
    "entreprises_urls = [\n",
    "    \"https://fr.trustpilot.com/review/nextories.com\",\n",
    "    \"https://fr.trustpilot.com/review/www.la-tournee.co\", \n",
    "    \"https://fr.trustpilot.com/review/www.cartonsdedemenagement.com\",\n",
    "    \"https://fr.trustpilot.com/review/locabox.fr\",\n",
    "    \"https://fr.trustpilot.com/review/www.latribuducarton.fr\",\n",
    "    \"https://fr.trustpilot.com/review/merci-facteur.com\",\n",
    "    \"https://fr.trustpilot.com/review/youstock.com\",\n",
    "    \"https://fr.trustpilot.com/review/lockall.fr\",\n",
    "    \"https://fr.trustpilot.com/review/papernest.com\",\n",
    "    \"https://fr.trustpilot.com/review/welkit.fr\",\n",
    "    \"https://fr.trustpilot.com/review/www.cocolis.fr\",\n",
    "    \"https://fr.trustpilot.com/review/www.ecocarton.fr\",\n",
    "    \"https://fr.trustpilot.com/review/zolemba.fr\",\n",
    "    \"https://fr.trustpilot.com/review/delight-cbd.com\",\n",
    "    \"https://fr.trustpilot.com/review/cartonmarket.fr\",\n",
    "    \"https://fr.trustpilot.com/review/www.paysdesenveloppes.fr\",\n",
    "    \"https://fr.trustpilot.com/review/demeclic.fr\",\n",
    "    \"https://fr.trustpilot.com/review/coliback.com\",\n",
    "    \"https://fr.trustpilot.com/review/ubbabio.com\",\n",
    "    \"https://fr.trustpilot.com/review/www.expe-domtom.fr\",\n",
    "    \"https://fr.trustpilot.com/review/weed-side-story.com\",\n",
    "    \"https://fr.trustpilot.com/review/happy-post.com\",\n",
    "    \"https://fr.trustpilot.com/review/www.packhelp.fr\",\n",
    "    \"https://fr.trustpilot.com/review/colicoli.fr\",\n",
    "    \"https://fr.trustpilot.com/review/www.thepackengers.com\",\n",
    "    \"https://fr.trustpilot.com/review/www.shopiles.fr\",\n",
    "    \"https://fr.trustpilot.com/review/www.colisexpat.com\",\n",
    "    \"https://fr.trustpilot.com/review/www.fretbay.com\",\n",
    "    \"https://fr.trustpilot.com/review/upela.com\",\n",
    "    \"https://fr.trustpilot.com/review/limitedresell.com\",\n",
    "    \"https://fr.trustpilot.com/review/parcelmonkey.fr\",\n",
    "    \"https://fr.trustpilot.com/review/demenageurs-bretons.fr\",\n",
    "    \"https://fr.trustpilot.com/review/lettre24.com\",\n",
    "    \"https://fr.trustpilot.com/review/www.officiel-demenagement.com\",\n",
    "    \"https://fr.trustpilot.com/review/pakup-emballage.fr\",\n",
    "    \"https://fr.trustpilot.com/review/stls.fr\",\n",
    "    \"https://fr.trustpilot.com/review/green-kartel.com\",\n",
    "    \"https://fr.trustpilot.com/review/utopya.fr\",\n",
    "    \"https://fr.trustpilot.com/review/www.airselli.com\"\n",
    "   ]\n",
    "\n",
    "def extraire_nom_entreprise(url):\n",
    "    # L'expression régulière capture  le nom de l'entreprise.\n",
    "    match = re.search(r\"review/(?:www\\.)?([\\w-]+)\\.(com|co|fr)\", url)\n",
    "    if match:\n",
    "        return match.group(1)  # Retourne la partie du nom de l'entreprise\n",
    "    return \"xxxx\"\n",
    "\n",
    "\n",
    "\n",
    "nombre_de_pages = 20 # Nombre de pages à parcourir pour chaque entreprise\n",
    "\n",
    "#  stocker les avis par entreprise\n",
    "Nom_Entreprise=[]\n",
    "Nom = []\n",
    "Nombre_avis = []\n",
    "Pays = []\n",
    "Note = []\n",
    "Date = []\n",
    "Titre_avis = []\n",
    "Contenu_avis = []\n",
    "Réponse_Entrpris = []\n",
    "\n",
    "\n",
    "\n",
    "\n",
    "for base_url in entreprises_urls:\n",
    "    Entreprise=extraire_nom_entreprise(base_url)\n",
    "    print(Entreprise)\n",
    "   #Pour eviter la détection un volume anormalement élevé de requêtes provenant de mon adresse IP \n",
    "    time.sleep(10)  # Pause de 10 secondes ::pour simuler un comportement plus humain et moins intensif\n",
    "    \n",
    "    for page in range(1, nombre_de_pages + 1):\n",
    "        # Construction de l'URL pour chaque page\n",
    "        url = f\"{base_url}?page={page}\"\n",
    "        display(url)\n",
    "        # au cas où il y a la réponse de requests n eqaule 200// des erreurs à eviter \n",
    "        try:  \n",
    "            time.sleep(10)  # Pause de 10 secondes :Pour eviter la détection un volume anormalement élevé de requêtes provenant de mon adresse IP \n",
    "            response = requests.get(url)\n",
    "            if response.status_code == 200:\n",
    "                # Récupération du contenu de la page\n",
    "                Soup = ps(response.content, 'lxml')\n",
    "\n",
    "                # Recherche des avis clients sur la page\n",
    "                Avis_Clients = Soup.find_all('article', class_='paper_paper__1PY90 paper_outline__lwsUX card_card__lQWDv card_noPadding__D8PcU styles_reviewCard__hcAvl')\n",
    "\n",
    "                for avis in Avis_Clients:\n",
    "\n",
    "                    # Extraction et ajout des données pour chaque avis\n",
    "                    nom = avis.find('span', {'data-consumer-name-typography': True}).text.strip() if avis.find('span', {'data-consumer-name-typography': True}) else 'Non'\n",
    "                    nombre_avis = avis.find('span', {'data-consumer-reviews-count-typography': True}).text.split(' ')[0] if avis.find('span', {'data-consumer-reviews-count-typography': True}) else '0'\n",
    "\n",
    "                    svg = avis.find('svg')\n",
    "                    if svg and svg.find_next_sibling('span'):\n",
    "                        pays = svg.find_next_sibling('span').text.strip()\n",
    "                    else:\n",
    "                        pays = 'Non'\n",
    "\n",
    "                    note_img = avis.find('div', class_='star-rating_starRating__4rrcf')\n",
    "                    if note_img and note_img.find('img', alt=True):\n",
    "                        note_alt_text = note_img.find('img', alt=True)['alt']\n",
    "                        note = note_alt_text.replace('Noté ', '').replace(' sur 5 étoiles', '')\n",
    "                    else:\n",
    "                        note = 'Non'\n",
    "\n",
    "                    date = avis.find('time')['datetime']\n",
    "                    titre_avis = avis.find('h2').text.strip() if avis.find('h2') else 'Non'\n",
    "                    contenu_avis = avis.find('p', {'data-service-review-text-typography': True}).text.strip() if avis.find('p', {'data-service-review-text-typography': True}) else 'Non'\n",
    "\n",
    "                    reponse_entreprise_element = avis.find('p', class_='styles_message__shHhX')\n",
    "                    reponse_entreprise = reponse_entreprise_element.text.strip() if reponse_entreprise_element else 'Non'\n",
    "\n",
    "\n",
    "\n",
    "                    Nom_Entreprise.append(Entreprise)\n",
    "                    Nom.append(nom)\n",
    "                    Nombre_avis.append(nombre_avis)\n",
    "                    Pays.append(pays)\n",
    "                    Note.append(note)\n",
    "                    Date.append(date)\n",
    "                    Titre_avis.append(titre_avis)\n",
    "                    Contenu_avis.append(contenu_avis)\n",
    "                    Réponse_Entrpris.append(reponse_entreprise)\n",
    "                    \n",
    "            else:\n",
    "                print(f\"Erreur lors de la requête : {response.status_code}\")\n",
    "        except Exception as e:\n",
    "            print(f\"Erreur lors de la récupération des données pour {url}: {e}\")\n",
    "\n",
    "\n",
    "    \n",
    "# Création d'un DataFrame \n",
    "df = pd.DataFrame({\n",
    "\"Nom_Entreprise\": Nom_Entreprise,  \n",
    "\"Nom_Client\": Nom,\n",
    "\"Nombre_avis\": Nombre_avis,\n",
    "\"Pays\": Pays,\n",
    "\"Note\": Note,\n",
    "\"Date\": Date,\n",
    "\"Titre_avis\": Titre_avis,\n",
    "\"Contenu_avis\": Contenu_avis,\n",
    "\"Réponse_Entrpris\": Réponse_Entrpris\n",
    "})\n",
    "\n",
    "\n",
    "display(df.head())\n",
    "display(df.tail())\n",
    "display(df.info())    \n",
    "\n",
    " \n",
    "    \n",
    "\n"
   ]
  },
  {
   "cell_type": "code",
   "execution_count": 6,
   "id": "fefb6a3c",
   "metadata": {},
   "outputs": [],
   "source": [
    "# Sauvegarde du DataFrame dans un fichier CSV\n",
    "df.to_csv(\"Df_avis.csv\", index=False)"
   ]
  },
  {
   "cell_type": "code",
   "execution_count": 5,
   "id": "f04b4c93",
   "metadata": {},
   "outputs": [
    {
     "data": {
      "text/html": [
       "<div>\n",
       "<style scoped>\n",
       "    .dataframe tbody tr th:only-of-type {\n",
       "        vertical-align: middle;\n",
       "    }\n",
       "\n",
       "    .dataframe tbody tr th {\n",
       "        vertical-align: top;\n",
       "    }\n",
       "\n",
       "    .dataframe thead th {\n",
       "        text-align: right;\n",
       "    }\n",
       "</style>\n",
       "<table border=\"1\" class=\"dataframe\">\n",
       "  <thead>\n",
       "    <tr style=\"text-align: right;\">\n",
       "      <th></th>\n",
       "      <th>Nom_Entreprise</th>\n",
       "      <th>Nom_Client</th>\n",
       "      <th>Nombre_avis</th>\n",
       "      <th>Pays</th>\n",
       "      <th>Note</th>\n",
       "      <th>Date</th>\n",
       "      <th>Titre_avis</th>\n",
       "      <th>Contenu_avis</th>\n",
       "      <th>Réponse_Entrpris</th>\n",
       "    </tr>\n",
       "  </thead>\n",
       "  <tbody>\n",
       "    <tr>\n",
       "      <th>0</th>\n",
       "      <td>nextories</td>\n",
       "      <td>CESBRON LAVAU</td>\n",
       "      <td>1</td>\n",
       "      <td>FR</td>\n",
       "      <td>5</td>\n",
       "      <td>2024-04-10T16:37:52.000Z</td>\n",
       "      <td>Recherche déménageur Allemagne --&gt; France</td>\n",
       "      <td>Nous cherche déménageur pour revenir en France...</td>\n",
       "      <td>Non</td>\n",
       "    </tr>\n",
       "    <tr>\n",
       "      <th>1</th>\n",
       "      <td>nextories</td>\n",
       "      <td>Ait issad</td>\n",
       "      <td>1</td>\n",
       "      <td>DZ</td>\n",
       "      <td>5</td>\n",
       "      <td>2024-04-09T23:21:57.000Z</td>\n",
       "      <td>NEXTORIES a été à l’écoute</td>\n",
       "      <td>NEXTORIES a été à l’écoute , le choix de l’ent...</td>\n",
       "      <td>Bonjour,Merci pour cette note et pour votre co...</td>\n",
       "    </tr>\n",
       "    <tr>\n",
       "      <th>2</th>\n",
       "      <td>nextories</td>\n",
       "      <td>Parisien en vacances</td>\n",
       "      <td>8</td>\n",
       "      <td>FR</td>\n",
       "      <td>5</td>\n",
       "      <td>2024-04-01T18:54:38.000Z</td>\n",
       "      <td>Parfait</td>\n",
       "      <td>Plusieurs devis dans une fourchette restreinte...</td>\n",
       "      <td>Bonjour,Merci pour cette note et pour votre co...</td>\n",
       "    </tr>\n",
       "    <tr>\n",
       "      <th>3</th>\n",
       "      <td>nextories</td>\n",
       "      <td>Papillon</td>\n",
       "      <td>1</td>\n",
       "      <td>FR</td>\n",
       "      <td>5</td>\n",
       "      <td>2024-04-05T10:15:56.000Z</td>\n",
       "      <td>Je recommande.</td>\n",
       "      <td>En recherche de déménageurs en urgence, ils on...</td>\n",
       "      <td>Bonjour,Merci pour cette note et pour votre co...</td>\n",
       "    </tr>\n",
       "    <tr>\n",
       "      <th>4</th>\n",
       "      <td>nextories</td>\n",
       "      <td>SARL Les Plains</td>\n",
       "      <td>3</td>\n",
       "      <td>FR</td>\n",
       "      <td>5</td>\n",
       "      <td>2024-03-28T17:10:20.000Z</td>\n",
       "      <td>Rapidité et bien organisé</td>\n",
       "      <td>Contact fait que tout est rapide et simplifié,...</td>\n",
       "      <td>Bonjour,Merci pour cette note et pour votre co...</td>\n",
       "    </tr>\n",
       "  </tbody>\n",
       "</table>\n",
       "</div>"
      ],
      "text/plain": [
       "  Nom_Entreprise            Nom_Client Nombre_avis Pays Note  \\\n",
       "0      nextories         CESBRON LAVAU           1   FR    5   \n",
       "1      nextories             Ait issad           1   DZ    5   \n",
       "2      nextories  Parisien en vacances           8   FR    5   \n",
       "3      nextories              Papillon           1   FR    5   \n",
       "4      nextories       SARL Les Plains           3   FR    5   \n",
       "\n",
       "                       Date                                 Titre_avis  \\\n",
       "0  2024-04-10T16:37:52.000Z  Recherche déménageur Allemagne --> France   \n",
       "1  2024-04-09T23:21:57.000Z                 NEXTORIES a été à l’écoute   \n",
       "2  2024-04-01T18:54:38.000Z                                    Parfait   \n",
       "3  2024-04-05T10:15:56.000Z                             Je recommande.   \n",
       "4  2024-03-28T17:10:20.000Z                  Rapidité et bien organisé   \n",
       "\n",
       "                                        Contenu_avis  \\\n",
       "0  Nous cherche déménageur pour revenir en France...   \n",
       "1  NEXTORIES a été à l’écoute , le choix de l’ent...   \n",
       "2  Plusieurs devis dans une fourchette restreinte...   \n",
       "3  En recherche de déménageurs en urgence, ils on...   \n",
       "4  Contact fait que tout est rapide et simplifié,...   \n",
       "\n",
       "                                    Réponse_Entrpris  \n",
       "0                                                Non  \n",
       "1  Bonjour,Merci pour cette note et pour votre co...  \n",
       "2  Bonjour,Merci pour cette note et pour votre co...  \n",
       "3  Bonjour,Merci pour cette note et pour votre co...  \n",
       "4  Bonjour,Merci pour cette note et pour votre co...  "
      ]
     },
     "metadata": {},
     "output_type": "display_data"
    },
    {
     "data": {
      "text/html": [
       "<div>\n",
       "<style scoped>\n",
       "    .dataframe tbody tr th:only-of-type {\n",
       "        vertical-align: middle;\n",
       "    }\n",
       "\n",
       "    .dataframe tbody tr th {\n",
       "        vertical-align: top;\n",
       "    }\n",
       "\n",
       "    .dataframe thead th {\n",
       "        text-align: right;\n",
       "    }\n",
       "</style>\n",
       "<table border=\"1\" class=\"dataframe\">\n",
       "  <thead>\n",
       "    <tr style=\"text-align: right;\">\n",
       "      <th></th>\n",
       "      <th>Nom_Entreprise</th>\n",
       "      <th>Nom_Client</th>\n",
       "      <th>Nombre_avis</th>\n",
       "      <th>Pays</th>\n",
       "      <th>Note</th>\n",
       "      <th>Date</th>\n",
       "      <th>Titre_avis</th>\n",
       "      <th>Contenu_avis</th>\n",
       "      <th>Réponse_Entrpris</th>\n",
       "    </tr>\n",
       "  </thead>\n",
       "  <tbody>\n",
       "    <tr>\n",
       "      <th>12256</th>\n",
       "      <td>green-kartel</td>\n",
       "      <td>Iliass Nadir</td>\n",
       "      <td>2</td>\n",
       "      <td>FR</td>\n",
       "      <td>5</td>\n",
       "      <td>2023-02-23T16:38:27.000Z</td>\n",
       "      <td>Des produits de qualités à des prix…</td>\n",
       "      <td>Des produits de qualités à des prix abordables...</td>\n",
       "      <td>Non</td>\n",
       "    </tr>\n",
       "    <tr>\n",
       "      <th>12257</th>\n",
       "      <td>green-kartel</td>\n",
       "      <td>Laurence Dumas-Simart</td>\n",
       "      <td>3</td>\n",
       "      <td>FR</td>\n",
       "      <td>5</td>\n",
       "      <td>2021-10-20T21:19:40.000Z</td>\n",
       "      <td>Conseil au top</td>\n",
       "      <td>Conseil au top. Livraison rapide. Super réacti...</td>\n",
       "      <td>Non</td>\n",
       "    </tr>\n",
       "    <tr>\n",
       "      <th>12258</th>\n",
       "      <td>green-kartel</td>\n",
       "      <td>Marie LAMBERT</td>\n",
       "      <td>3</td>\n",
       "      <td>FR</td>\n",
       "      <td>5</td>\n",
       "      <td>2021-12-08T13:30:38.000Z</td>\n",
       "      <td>Très satisfaite....comme lors de ma…</td>\n",
       "      <td>Très satisfaite....comme lors de ma première c...</td>\n",
       "      <td>Non</td>\n",
       "    </tr>\n",
       "    <tr>\n",
       "      <th>12259</th>\n",
       "      <td>green-kartel</td>\n",
       "      <td>Anissa Azouaoui</td>\n",
       "      <td>1</td>\n",
       "      <td>FR</td>\n",
       "      <td>5</td>\n",
       "      <td>2022-05-02T16:59:25.000Z</td>\n",
       "      <td>Top!</td>\n",
       "      <td>Très satisfaite, envoi rapide et soigné, bons ...</td>\n",
       "      <td>Non</td>\n",
       "    </tr>\n",
       "    <tr>\n",
       "      <th>12260</th>\n",
       "      <td>green-kartel</td>\n",
       "      <td>Elo</td>\n",
       "      <td>4</td>\n",
       "      <td>FR</td>\n",
       "      <td>5</td>\n",
       "      <td>2022-09-23T10:49:09.000Z</td>\n",
       "      <td>Informations claires pour un choix éclairé</td>\n",
       "      <td>Beaucoup d’informations sur les produits cosmé...</td>\n",
       "      <td>Non</td>\n",
       "    </tr>\n",
       "  </tbody>\n",
       "</table>\n",
       "</div>"
      ],
      "text/plain": [
       "      Nom_Entreprise             Nom_Client Nombre_avis Pays Note  \\\n",
       "12256   green-kartel           Iliass Nadir           2   FR    5   \n",
       "12257   green-kartel  Laurence Dumas-Simart           3   FR    5   \n",
       "12258   green-kartel          Marie LAMBERT           3   FR    5   \n",
       "12259   green-kartel        Anissa Azouaoui           1   FR    5   \n",
       "12260   green-kartel                    Elo           4   FR    5   \n",
       "\n",
       "                           Date                                  Titre_avis  \\\n",
       "12256  2023-02-23T16:38:27.000Z        Des produits de qualités à des prix…   \n",
       "12257  2021-10-20T21:19:40.000Z                              Conseil au top   \n",
       "12258  2021-12-08T13:30:38.000Z        Très satisfaite....comme lors de ma…   \n",
       "12259  2022-05-02T16:59:25.000Z                                        Top!   \n",
       "12260  2022-09-23T10:49:09.000Z  Informations claires pour un choix éclairé   \n",
       "\n",
       "                                            Contenu_avis Réponse_Entrpris  \n",
       "12256  Des produits de qualités à des prix abordables...              Non  \n",
       "12257  Conseil au top. Livraison rapide. Super réacti...              Non  \n",
       "12258  Très satisfaite....comme lors de ma première c...              Non  \n",
       "12259  Très satisfaite, envoi rapide et soigné, bons ...              Non  \n",
       "12260  Beaucoup d’informations sur les produits cosmé...              Non  "
      ]
     },
     "metadata": {},
     "output_type": "display_data"
    },
    {
     "name": "stdout",
     "output_type": "stream",
     "text": [
      "<class 'pandas.core.frame.DataFrame'>\n",
      "RangeIndex: 12261 entries, 0 to 12260\n",
      "Data columns (total 9 columns):\n",
      " #   Column            Non-Null Count  Dtype \n",
      "---  ------            --------------  ----- \n",
      " 0   Nom_Entreprise    12261 non-null  object\n",
      " 1   Nom_Client        12261 non-null  object\n",
      " 2   Nombre_avis       12261 non-null  object\n",
      " 3   Pays              12261 non-null  object\n",
      " 4   Note              12261 non-null  object\n",
      " 5   Date              12261 non-null  object\n",
      " 6   Titre_avis        12261 non-null  object\n",
      " 7   Contenu_avis      12261 non-null  object\n",
      " 8   Réponse_Entrpris  12261 non-null  object\n",
      "dtypes: object(9)\n",
      "memory usage: 862.2+ KB\n"
     ]
    },
    {
     "data": {
      "text/plain": [
       "None"
      ]
     },
     "metadata": {},
     "output_type": "display_data"
    }
   ],
   "source": []
  },
  {
   "cell_type": "code",
   "execution_count": 7,
   "id": "4af115f1",
   "metadata": {},
   "outputs": [
    {
     "data": {
      "text/plain": [
       "Note\n",
       "5    9300\n",
       "1    1210\n",
       "4    1119\n",
       "3     373\n",
       "2     259\n",
       "Name: count, dtype: int64"
      ]
     },
     "metadata": {},
     "output_type": "display_data"
    },
    {
     "name": "stdout",
     "output_type": "stream",
     "text": [
      "<class 'pandas.core.frame.DataFrame'>\n",
      "RangeIndex: 12261 entries, 0 to 12260\n",
      "Data columns (total 9 columns):\n",
      " #   Column            Non-Null Count  Dtype \n",
      "---  ------            --------------  ----- \n",
      " 0   Nom_Entreprise    12261 non-null  object\n",
      " 1   Nom_Client        12261 non-null  object\n",
      " 2   Nombre_avis       12261 non-null  object\n",
      " 3   Pays              12261 non-null  object\n",
      " 4   Note              12261 non-null  int32 \n",
      " 5   Date              12261 non-null  object\n",
      " 6   Titre_avis        12261 non-null  object\n",
      " 7   Contenu_avis      12261 non-null  object\n",
      " 8   Réponse_Entrpris  12261 non-null  object\n",
      "dtypes: int32(1), object(8)\n",
      "memory usage: 814.3+ KB\n"
     ]
    },
    {
     "data": {
      "text/plain": [
       "None"
      ]
     },
     "metadata": {},
     "output_type": "display_data"
    },
    {
     "data": {
      "image/png": "[encoded data removed]",
      "text/plain": [
       "<Figure size 640x480 with 1 Axes>"
      ]
     },
     "metadata": {},
     "output_type": "display_data"
    }
   ],
   "source": [
    "# visulisations\n",
    "\n",
    "df['Note'] = df['Note'].astype(int)\n",
    "display(df.Note.value_counts())\n",
    "import seaborn as sns\n",
    "\n",
    "sns.countplot(x=df['Note'])\n",
    "\n",
    "display(df.info())"
   ]
  },
  {
   "cell_type": "code",
   "execution_count": null,
   "id": "d6c3eaeb",
   "metadata": {},
   "outputs": [],
   "source": []
  },
  {
   "cell_type": "code",
   "execution_count": null,
   "id": "4a3e8de0",
   "metadata": {},
   "outputs": [],
   "source": []
  },
  {
   "cell_type": "code",
   "execution_count": null,
   "id": "e584be20",
   "metadata": {},
   "outputs": [],
   "source": [
    "\n",
    "\n",
    "\n",
    "\n"
   ]
  },
  {
   "cell_type": "code",
   "execution_count": 9,
   "id": "986937fd",
   "metadata": {},
   "outputs": [
    {
     "ename": "LookupError",
     "evalue": "\n**********************************************************************\n  Resource \u001b[93mstopwords\u001b[0m not found.\n  Please use the NLTK Downloader to obtain the resource:\n\n  \u001b[31m>>> import nltk\n  >>> nltk.download('stopwords')\n  \u001b[0m\n  For more information see: https://www.nltk.org/data.html\n\n  Attempted to load \u001b[93mcorpora/stopwords\u001b[0m\n\n  Searched in:\n    - 'C:\\\\Users\\\\Florian/nltk_data'\n    - 'c:\\\\Users\\\\Florian\\\\anaconda3\\\\nltk_data'\n    - 'c:\\\\Users\\\\Florian\\\\anaconda3\\\\share\\\\nltk_data'\n    - 'c:\\\\Users\\\\Florian\\\\anaconda3\\\\lib\\\\nltk_data'\n    - 'C:\\\\Users\\\\Florian\\\\AppData\\\\Roaming\\\\nltk_data'\n    - 'C:\\\\nltk_data'\n    - 'D:\\\\nltk_data'\n    - 'E:\\\\nltk_data'\n**********************************************************************\n",
     "output_type": "error",
     "traceback": [
      "\u001b[1;31m---------------------------------------------------------------------------\u001b[0m",
      "\u001b[1;31mLookupError\u001b[0m                               Traceback (most recent call last)",
      "File \u001b[1;32mc:\\Users\\Florian\\anaconda3\\Lib\\site-packages\\nltk\\corpus\\util.py:84\u001b[0m, in \u001b[0;36mLazyCorpusLoader.__load\u001b[1;34m(self)\u001b[0m\n\u001b[0;32m     83\u001b[0m \u001b[38;5;28;01mtry\u001b[39;00m:\n\u001b[1;32m---> 84\u001b[0m     root \u001b[38;5;241m=\u001b[39m nltk\u001b[38;5;241m.\u001b[39mdata\u001b[38;5;241m.\u001b[39mfind(\u001b[38;5;124mf\u001b[39m\u001b[38;5;124m\"\u001b[39m\u001b[38;5;132;01m{\u001b[39;00m\u001b[38;5;28mself\u001b[39m\u001b[38;5;241m.\u001b[39msubdir\u001b[38;5;132;01m}\u001b[39;00m\u001b[38;5;124m/\u001b[39m\u001b[38;5;132;01m{\u001b[39;00mzip_name\u001b[38;5;132;01m}\u001b[39;00m\u001b[38;5;124m\"\u001b[39m)\n\u001b[0;32m     85\u001b[0m \u001b[38;5;28;01mexcept\u001b[39;00m \u001b[38;5;167;01mLookupError\u001b[39;00m:\n",
      "File \u001b[1;32mc:\\Users\\Florian\\anaconda3\\Lib\\site-packages\\nltk\\data.py:583\u001b[0m, in \u001b[0;36mfind\u001b[1;34m(resource_name, paths)\u001b[0m\n\u001b[0;32m    582\u001b[0m resource_not_found \u001b[38;5;241m=\u001b[39m \u001b[38;5;124mf\u001b[39m\u001b[38;5;124m\"\u001b[39m\u001b[38;5;130;01m\\n\u001b[39;00m\u001b[38;5;132;01m{\u001b[39;00msep\u001b[38;5;132;01m}\u001b[39;00m\u001b[38;5;130;01m\\n\u001b[39;00m\u001b[38;5;132;01m{\u001b[39;00mmsg\u001b[38;5;132;01m}\u001b[39;00m\u001b[38;5;130;01m\\n\u001b[39;00m\u001b[38;5;132;01m{\u001b[39;00msep\u001b[38;5;132;01m}\u001b[39;00m\u001b[38;5;130;01m\\n\u001b[39;00m\u001b[38;5;124m\"\u001b[39m\n\u001b[1;32m--> 583\u001b[0m \u001b[38;5;28;01mraise\u001b[39;00m \u001b[38;5;167;01mLookupError\u001b[39;00m(resource_not_found)\n",
      "\u001b[1;31mLookupError\u001b[0m: \n**********************************************************************\n  Resource \u001b[93mstopwords\u001b[0m not found.\n  Please use the NLTK Downloader to obtain the resource:\n\n  \u001b[31m>>> import nltk\n  >>> nltk.download('stopwords')\n  \u001b[0m\n  For more information see: https://www.nltk.org/data.html\n\n  Attempted to load \u001b[93mcorpora/stopwords.zip/stopwords/\u001b[0m\n\n  Searched in:\n    - 'C:\\\\Users\\\\Florian/nltk_data'\n    - 'c:\\\\Users\\\\Florian\\\\anaconda3\\\\nltk_data'\n    - 'c:\\\\Users\\\\Florian\\\\anaconda3\\\\share\\\\nltk_data'\n    - 'c:\\\\Users\\\\Florian\\\\anaconda3\\\\lib\\\\nltk_data'\n    - 'C:\\\\Users\\\\Florian\\\\AppData\\\\Roaming\\\\nltk_data'\n    - 'C:\\\\nltk_data'\n    - 'D:\\\\nltk_data'\n    - 'E:\\\\nltk_data'\n**********************************************************************\n",
      "\nDuring handling of the above exception, another exception occurred:\n",
      "\u001b[1;31mLookupError\u001b[0m                               Traceback (most recent call last)",
      "Cell \u001b[1;32mIn[9], line 7\u001b[0m\n\u001b[0;32m      4\u001b[0m \u001b[38;5;28;01mfrom\u001b[39;00m \u001b[38;5;21;01mnltk\u001b[39;00m\u001b[38;5;21;01m.\u001b[39;00m\u001b[38;5;21;01mcorpus\u001b[39;00m \u001b[38;5;28;01mimport\u001b[39;00m stopwords \n\u001b[0;32m      6\u001b[0m \u001b[38;5;66;03m# Initialiser la variable des mots vides en français\u001b[39;00m\n\u001b[1;32m----> 7\u001b[0m Stop_words \u001b[38;5;241m=\u001b[39m \u001b[38;5;28mset\u001b[39m(stopwords\u001b[38;5;241m.\u001b[39mwords(\u001b[38;5;124m'\u001b[39m\u001b[38;5;124mfrench\u001b[39m\u001b[38;5;124m'\u001b[39m))\n\u001b[0;32m      9\u001b[0m \u001b[38;5;66;03m# Ajouter à la liste des stopwords des éléments de syntaxe qui ne servent pas à l'analyse du texte\u001b[39;00m\n\u001b[0;32m     10\u001b[0m new_stop_words \u001b[38;5;241m=\u001b[39m [\u001b[38;5;124m\"\u001b[39m\u001b[38;5;124mm\u001b[39m\u001b[38;5;124m'\u001b[39m\u001b[38;5;124ma\u001b[39m\u001b[38;5;124m\"\u001b[39m,\u001b[38;5;124m\"\u001b[39m\u001b[38;5;124mj\u001b[39m\u001b[38;5;124m'\u001b[39m\u001b[38;5;124mai\u001b[39m\u001b[38;5;124m\"\u001b[39m,\u001b[38;5;124m\"\u001b[39m\u001b[38;5;124ma\u001b[39m\u001b[38;5;124m\"\u001b[39m,\u001b[38;5;124m\"\u001b[39m\u001b[38;5;124m,\u001b[39m\u001b[38;5;124m\"\u001b[39m, \u001b[38;5;124m\"\u001b[39m\u001b[38;5;124m.\u001b[39m\u001b[38;5;124m\"\u001b[39m, \u001b[38;5;124m\"\u001b[39m\u001b[38;5;124m``\u001b[39m\u001b[38;5;124m\"\u001b[39m, \u001b[38;5;124m\"\u001b[39m\u001b[38;5;124m@\u001b[39m\u001b[38;5;124m\"\u001b[39m, \u001b[38;5;124m\"\u001b[39m\u001b[38;5;124m*\u001b[39m\u001b[38;5;124m\"\u001b[39m, \u001b[38;5;124m\"\u001b[39m\u001b[38;5;124m(\u001b[39m\u001b[38;5;124m\"\u001b[39m, \u001b[38;5;124m\"\u001b[39m\u001b[38;5;124m)\u001b[39m\u001b[38;5;124m\"\u001b[39m, \u001b[38;5;124m\"\u001b[39m\u001b[38;5;124m...\u001b[39m\u001b[38;5;124m\"\u001b[39m, \u001b[38;5;124m\"\u001b[39m\u001b[38;5;124m!\u001b[39m\u001b[38;5;124m\"\u001b[39m, \u001b[38;5;124m\"\u001b[39m\u001b[38;5;124m?\u001b[39m\u001b[38;5;124m\"\u001b[39m, \u001b[38;5;124m\"\u001b[39m\u001b[38;5;124m-\u001b[39m\u001b[38;5;124m\"\u001b[39m, \u001b[38;5;124m\"\u001b[39m\u001b[38;5;124m_\u001b[39m\u001b[38;5;124m\"\u001b[39m, \u001b[38;5;124m\"\u001b[39m\u001b[38;5;124m>\u001b[39m\u001b[38;5;124m\"\u001b[39m, \u001b[38;5;124m\"\u001b[39m\u001b[38;5;124m<\u001b[39m\u001b[38;5;124m\"\u001b[39m, \u001b[38;5;124m\"\u001b[39m\u001b[38;5;124m:\u001b[39m\u001b[38;5;124m\"\u001b[39m, \u001b[38;5;124m\"\u001b[39m\u001b[38;5;124m/\u001b[39m\u001b[38;5;124m\"\u001b[39m, \u001b[38;5;124m\"\u001b[39m\u001b[38;5;124m=\u001b[39m\u001b[38;5;124m\"\u001b[39m, \u001b[38;5;124m\"\u001b[39m\u001b[38;5;124m--\u001b[39m\u001b[38;5;124m\"\u001b[39m, \u001b[38;5;124m\"\u001b[39m\u001b[38;5;124m©\u001b[39m\u001b[38;5;124m\"\u001b[39m, \u001b[38;5;124m\"\u001b[39m\u001b[38;5;124m~\u001b[39m\u001b[38;5;124m\"\u001b[39m, \u001b[38;5;124m\"\u001b[39m\u001b[38;5;124m;\u001b[39m\u001b[38;5;124m\"\u001b[39m, \u001b[38;5;124m\"\u001b[39m\u001b[38;5;130;01m\\\\\u001b[39;00m\u001b[38;5;124m\"\u001b[39m, \u001b[38;5;124m\"\u001b[39m\u001b[38;5;130;01m\\\\\u001b[39;00m\u001b[38;5;130;01m\\\\\u001b[39;00m\u001b[38;5;124m\"\u001b[39m]\n",
      "File \u001b[1;32mc:\\Users\\Florian\\anaconda3\\Lib\\site-packages\\nltk\\corpus\\util.py:121\u001b[0m, in \u001b[0;36mLazyCorpusLoader.__getattr__\u001b[1;34m(self, attr)\u001b[0m\n\u001b[0;32m    118\u001b[0m \u001b[38;5;28;01mif\u001b[39;00m attr \u001b[38;5;241m==\u001b[39m \u001b[38;5;124m\"\u001b[39m\u001b[38;5;124m__bases__\u001b[39m\u001b[38;5;124m\"\u001b[39m:\n\u001b[0;32m    119\u001b[0m     \u001b[38;5;28;01mraise\u001b[39;00m \u001b[38;5;167;01mAttributeError\u001b[39;00m(\u001b[38;5;124m\"\u001b[39m\u001b[38;5;124mLazyCorpusLoader object has no attribute \u001b[39m\u001b[38;5;124m'\u001b[39m\u001b[38;5;124m__bases__\u001b[39m\u001b[38;5;124m'\u001b[39m\u001b[38;5;124m\"\u001b[39m)\n\u001b[1;32m--> 121\u001b[0m \u001b[38;5;28mself\u001b[39m\u001b[38;5;241m.\u001b[39m__load()\n\u001b[0;32m    122\u001b[0m \u001b[38;5;66;03m# This looks circular, but its not, since __load() changes our\u001b[39;00m\n\u001b[0;32m    123\u001b[0m \u001b[38;5;66;03m# __class__ to something new:\u001b[39;00m\n\u001b[0;32m    124\u001b[0m \u001b[38;5;28;01mreturn\u001b[39;00m \u001b[38;5;28mgetattr\u001b[39m(\u001b[38;5;28mself\u001b[39m, attr)\n",
      "File \u001b[1;32mc:\\Users\\Florian\\anaconda3\\Lib\\site-packages\\nltk\\corpus\\util.py:86\u001b[0m, in \u001b[0;36mLazyCorpusLoader.__load\u001b[1;34m(self)\u001b[0m\n\u001b[0;32m     84\u001b[0m             root \u001b[38;5;241m=\u001b[39m nltk\u001b[38;5;241m.\u001b[39mdata\u001b[38;5;241m.\u001b[39mfind(\u001b[38;5;124mf\u001b[39m\u001b[38;5;124m\"\u001b[39m\u001b[38;5;132;01m{\u001b[39;00m\u001b[38;5;28mself\u001b[39m\u001b[38;5;241m.\u001b[39msubdir\u001b[38;5;132;01m}\u001b[39;00m\u001b[38;5;124m/\u001b[39m\u001b[38;5;132;01m{\u001b[39;00mzip_name\u001b[38;5;132;01m}\u001b[39;00m\u001b[38;5;124m\"\u001b[39m)\n\u001b[0;32m     85\u001b[0m         \u001b[38;5;28;01mexcept\u001b[39;00m \u001b[38;5;167;01mLookupError\u001b[39;00m:\n\u001b[1;32m---> 86\u001b[0m             \u001b[38;5;28;01mraise\u001b[39;00m e\n\u001b[0;32m     88\u001b[0m \u001b[38;5;66;03m# Load the corpus.\u001b[39;00m\n\u001b[0;32m     89\u001b[0m corpus \u001b[38;5;241m=\u001b[39m \u001b[38;5;28mself\u001b[39m\u001b[38;5;241m.\u001b[39m__reader_cls(root, \u001b[38;5;241m*\u001b[39m\u001b[38;5;28mself\u001b[39m\u001b[38;5;241m.\u001b[39m__args, \u001b[38;5;241m*\u001b[39m\u001b[38;5;241m*\u001b[39m\u001b[38;5;28mself\u001b[39m\u001b[38;5;241m.\u001b[39m__kwargs)\n",
      "File \u001b[1;32mc:\\Users\\Florian\\anaconda3\\Lib\\site-packages\\nltk\\corpus\\util.py:81\u001b[0m, in \u001b[0;36mLazyCorpusLoader.__load\u001b[1;34m(self)\u001b[0m\n\u001b[0;32m     79\u001b[0m \u001b[38;5;28;01melse\u001b[39;00m:\n\u001b[0;32m     80\u001b[0m     \u001b[38;5;28;01mtry\u001b[39;00m:\n\u001b[1;32m---> 81\u001b[0m         root \u001b[38;5;241m=\u001b[39m nltk\u001b[38;5;241m.\u001b[39mdata\u001b[38;5;241m.\u001b[39mfind(\u001b[38;5;124mf\u001b[39m\u001b[38;5;124m\"\u001b[39m\u001b[38;5;132;01m{\u001b[39;00m\u001b[38;5;28mself\u001b[39m\u001b[38;5;241m.\u001b[39msubdir\u001b[38;5;132;01m}\u001b[39;00m\u001b[38;5;124m/\u001b[39m\u001b[38;5;132;01m{\u001b[39;00m\u001b[38;5;28mself\u001b[39m\u001b[38;5;241m.\u001b[39m__name\u001b[38;5;132;01m}\u001b[39;00m\u001b[38;5;124m\"\u001b[39m)\n\u001b[0;32m     82\u001b[0m     \u001b[38;5;28;01mexcept\u001b[39;00m \u001b[38;5;167;01mLookupError\u001b[39;00m \u001b[38;5;28;01mas\u001b[39;00m e:\n\u001b[0;32m     83\u001b[0m         \u001b[38;5;28;01mtry\u001b[39;00m:\n",
      "File \u001b[1;32mc:\\Users\\Florian\\anaconda3\\Lib\\site-packages\\nltk\\data.py:583\u001b[0m, in \u001b[0;36mfind\u001b[1;34m(resource_name, paths)\u001b[0m\n\u001b[0;32m    581\u001b[0m sep \u001b[38;5;241m=\u001b[39m \u001b[38;5;124m\"\u001b[39m\u001b[38;5;124m*\u001b[39m\u001b[38;5;124m\"\u001b[39m \u001b[38;5;241m*\u001b[39m \u001b[38;5;241m70\u001b[39m\n\u001b[0;32m    582\u001b[0m resource_not_found \u001b[38;5;241m=\u001b[39m \u001b[38;5;124mf\u001b[39m\u001b[38;5;124m\"\u001b[39m\u001b[38;5;130;01m\\n\u001b[39;00m\u001b[38;5;132;01m{\u001b[39;00msep\u001b[38;5;132;01m}\u001b[39;00m\u001b[38;5;130;01m\\n\u001b[39;00m\u001b[38;5;132;01m{\u001b[39;00mmsg\u001b[38;5;132;01m}\u001b[39;00m\u001b[38;5;130;01m\\n\u001b[39;00m\u001b[38;5;132;01m{\u001b[39;00msep\u001b[38;5;132;01m}\u001b[39;00m\u001b[38;5;130;01m\\n\u001b[39;00m\u001b[38;5;124m\"\u001b[39m\n\u001b[1;32m--> 583\u001b[0m \u001b[38;5;28;01mraise\u001b[39;00m \u001b[38;5;167;01mLookupError\u001b[39;00m(resource_not_found)\n",
      "\u001b[1;31mLookupError\u001b[0m: \n**********************************************************************\n  Resource \u001b[93mstopwords\u001b[0m not found.\n  Please use the NLTK Downloader to obtain the resource:\n\n  \u001b[31m>>> import nltk\n  >>> nltk.download('stopwords')\n  \u001b[0m\n  For more information see: https://www.nltk.org/data.html\n\n  Attempted to load \u001b[93mcorpora/stopwords\u001b[0m\n\n  Searched in:\n    - 'C:\\\\Users\\\\Florian/nltk_data'\n    - 'c:\\\\Users\\\\Florian\\\\anaconda3\\\\nltk_data'\n    - 'c:\\\\Users\\\\Florian\\\\anaconda3\\\\share\\\\nltk_data'\n    - 'c:\\\\Users\\\\Florian\\\\anaconda3\\\\lib\\\\nltk_data'\n    - 'C:\\\\Users\\\\Florian\\\\AppData\\\\Roaming\\\\nltk_data'\n    - 'C:\\\\nltk_data'\n    - 'D:\\\\nltk_data'\n    - 'E:\\\\nltk_data'\n**********************************************************************\n"
     ]
    }
   ],
   "source": [
    "# Définir nauge des mots pour entrepise 1\n",
    "\n",
    "\n",
    "from nltk.corpus import stopwords \n",
    "\n",
    "# Initialiser la variable des mots vides en français\n",
    "Stop_words = set(stopwords.words('french'))\n",
    "\n",
    "# Ajouter à la liste des stopwords des éléments de syntaxe qui ne servent pas à l'analyse du texte\n",
    "new_stop_words = [\"m'a\",\"j'ai\",\"a\",\",\", \".\", \"``\", \"@\", \"*\", \"(\", \")\", \"...\", \"!\", \"?\", \"-\", \"_\", \">\", \"<\", \":\", \"/\", \"=\", \"--\", \"©\", \"~\", \";\", \"\\\\\", \"\\\\\\\\\"]\n",
    "Stop_words.update(new_stop_words)\n",
    "print(Stop_words)\n",
    "\n",
    "# Définir la fonction stop_words_filtering\n",
    "def Stop_words_filtering(text):\n",
    "    words = text.split()  # Sépare la chaîne de caractères en mots\n",
    "    # Création d'une nouvelle liste contenant les mots filtrés\n",
    "    filtered_list = [mot for mot in words if mot not in Stop_words]\n",
    "    return ' '.join(filtered_list)  # Rejoindre les mots filtrés en une seule chaîne de texte\n",
    "\n",
    "\n",
    "# Appliquer la fonction de filtrage sur la colonne 'Contenu_avis'\n",
    "df['Contenu_avis'] = df['Contenu_avis'].apply(Stop_words_filtering)\n",
    "\n",
    "# Afficher le DataFrame après filtrage\n",
    "print(df.head())\n",
    "\n"
   ]
  },
  {
   "cell_type": "markdown",
   "id": "a50f9b6f",
   "metadata": {},
   "source": [
    "\n",
    "\n"
   ]
  },
  {
   "cell_type": "code",
   "execution_count": 10,
   "id": "0922abf2",
   "metadata": {},
   "outputs": [
    {
     "ename": "FileNotFoundError",
     "evalue": "[Errno 2] No such file or directory: 'iron.jpg'",
     "output_type": "error",
     "traceback": [
      "\u001b[1;31m---------------------------------------------------------------------------\u001b[0m",
      "\u001b[1;31mFileNotFoundError\u001b[0m                         Traceback (most recent call last)",
      "Cell \u001b[1;32mIn[10], line 23\u001b[0m\n\u001b[0;32m     20\u001b[0m     plt\u001b[38;5;241m.\u001b[39mimshow(wc)\n\u001b[0;32m     21\u001b[0m     plt\u001b[38;5;241m.\u001b[39mshow()\n\u001b[1;32m---> 23\u001b[0m plot_word_cloud(text, \u001b[38;5;124m\"\u001b[39m\u001b[38;5;124miron.jpg\u001b[39m\u001b[38;5;124m\"\u001b[39m)\n\u001b[0;32m     25\u001b[0m \u001b[38;5;66;03m# Code d'affichage du masque\u001b[39;00m\n\u001b[0;32m     26\u001b[0m \u001b[38;5;28;01mimport\u001b[39;00m \u001b[38;5;21;01mmatplotlib\u001b[39;00m\u001b[38;5;21;01m.\u001b[39;00m\u001b[38;5;21;01mimage\u001b[39;00m \u001b[38;5;28;01mas\u001b[39;00m \u001b[38;5;21;01mmpimg\u001b[39;00m\n",
      "Cell \u001b[1;32mIn[10], line 12\u001b[0m, in \u001b[0;36mplot_word_cloud\u001b[1;34m(text, masque, background_color)\u001b[0m\n\u001b[0;32m     10\u001b[0m \u001b[38;5;28;01mdef\u001b[39;00m \u001b[38;5;21mplot_word_cloud\u001b[39m(text, masque, background_color \u001b[38;5;241m=\u001b[39m \u001b[38;5;124m\"\u001b[39m\u001b[38;5;124mblack\u001b[39m\u001b[38;5;124m\"\u001b[39m) :\n\u001b[0;32m     11\u001b[0m     \u001b[38;5;66;03m# Définir un masque\u001b[39;00m\n\u001b[1;32m---> 12\u001b[0m     mask_coloring \u001b[38;5;241m=\u001b[39m np\u001b[38;5;241m.\u001b[39marray(Image\u001b[38;5;241m.\u001b[39mopen(\u001b[38;5;28mstr\u001b[39m(masque)))\n\u001b[0;32m     14\u001b[0m     \u001b[38;5;66;03m# Définir le calque du nuage des mots\u001b[39;00m\n\u001b[0;32m     15\u001b[0m     wc \u001b[38;5;241m=\u001b[39m WordCloud(width\u001b[38;5;241m=\u001b[39m\u001b[38;5;241m800\u001b[39m, height\u001b[38;5;241m=\u001b[39m\u001b[38;5;241m400\u001b[39m, background_color\u001b[38;5;241m=\u001b[39mbackground_color, max_words\u001b[38;5;241m=\u001b[39m\u001b[38;5;241m200\u001b[39m, stopwords\u001b[38;5;241m=\u001b[39mstop_words, mask \u001b[38;5;241m=\u001b[39m mask_coloring, max_font_size\u001b[38;5;241m=\u001b[39m\u001b[38;5;241m70\u001b[39m, random_state\u001b[38;5;241m=\u001b[39m\u001b[38;5;241m42\u001b[39m)\n",
      "File \u001b[1;32mc:\\Users\\Florian\\anaconda3\\Lib\\site-packages\\PIL\\Image.py:3247\u001b[0m, in \u001b[0;36mopen\u001b[1;34m(fp, mode, formats)\u001b[0m\n\u001b[0;32m   3244\u001b[0m     filename \u001b[38;5;241m=\u001b[39m fp\n\u001b[0;32m   3246\u001b[0m \u001b[38;5;28;01mif\u001b[39;00m filename:\n\u001b[1;32m-> 3247\u001b[0m     fp \u001b[38;5;241m=\u001b[39m builtins\u001b[38;5;241m.\u001b[39mopen(filename, \u001b[38;5;124m\"\u001b[39m\u001b[38;5;124mrb\u001b[39m\u001b[38;5;124m\"\u001b[39m)\n\u001b[0;32m   3248\u001b[0m     exclusive_fp \u001b[38;5;241m=\u001b[39m \u001b[38;5;28;01mTrue\u001b[39;00m\n\u001b[0;32m   3250\u001b[0m \u001b[38;5;28;01mtry\u001b[39;00m:\n",
      "\u001b[1;31mFileNotFoundError\u001b[0m: [Errno 2] No such file or directory: 'iron.jpg'"
     ]
    }
   ],
   "source": [
    "\n",
    "from PIL import Image\n",
    "import numpy as np\n",
    "\n",
    "\n",
    "# Définir la variable text\n",
    "text = \"\"\n",
    "for comment in df['Contenu_avis'] : \n",
    "    text += comment\n",
    "\n",
    "def plot_word_cloud(text, masque, background_color = \"black\") :\n",
    "    # Définir un masque\n",
    "    mask_coloring = np.array(Image.open(str(masque)))\n",
    "\n",
    "    # Définir le calque du nuage des mots\n",
    "    wc = WordCloud(width=800, height=400, background_color=background_color, max_words=200, stopwords=stop_words, mask = mask_coloring, max_font_size=70, random_state=42)\n",
    "\n",
    "    # Générer et afficher le nuage de mots\n",
    "    plt.figure(figsize= (10,5))\n",
    "    wc.generate(text)\n",
    "    plt.imshow(wc)\n",
    "    plt.show()\n",
    "\n",
    "plot_word_cloud(text, \"iron.jpg\")\n",
    "\n",
    "# Code d'affichage du masque\n",
    "import matplotlib.image as mpimg\n",
    "img = mpimg.imread(\"iron.jpg\")\n",
    "plt.imshow(img)\n",
    "plt.show()\n",
    "\n",
    "plot_word_cloud(text, \"coeur.png\", \"white\")\n",
    "plot_word_cloud(text, \"mal.jpg\")"
   ]
  },
  {
   "cell_type": "markdown",
   "id": "80174e9f",
   "metadata": {},
   "source": [
    "# Création d'un histogramme¶\n",
    "\n",
    "\n"
   ]
  },
  {
   "cell_type": "code",
   "execution_count": 11,
   "id": "7b4acc22",
   "metadata": {},
   "outputs": [
    {
     "ename": "NameError",
     "evalue": "name 'wc' is not defined",
     "output_type": "error",
     "traceback": [
      "\u001b[1;31m---------------------------------------------------------------------------\u001b[0m",
      "\u001b[1;31mNameError\u001b[0m                                 Traceback (most recent call last)",
      "Cell \u001b[1;32mIn[11], line 8\u001b[0m\n\u001b[0;32m      2\u001b[0m \u001b[38;5;28;01mimport\u001b[39;00m \u001b[38;5;21;01mseaborn\u001b[39;00m \u001b[38;5;28;01mas\u001b[39;00m \u001b[38;5;21;01msns\u001b[39;00m \n\u001b[0;32m      5\u001b[0m \u001b[38;5;66;03m#wc.generate(text)  # \"Calcul\" du wordcloud\u001b[39;00m\n\u001b[0;32m      6\u001b[0m \n\u001b[0;32m      7\u001b[0m \u001b[38;5;66;03m# Récupération des mots et de leurs fréquences relatives \u001b[39;00m\n\u001b[1;32m----> 8\u001b[0m mots_filtres \u001b[38;5;241m=\u001b[39m wc\u001b[38;5;241m.\u001b[39mwords_\n\u001b[0;32m     10\u001b[0m \u001b[38;5;124;03m\"\"\"\u001b[39;00m\n\u001b[0;32m     11\u001b[0m \u001b[38;5;124;03m# Affichage des mots et de leurs fréquences\u001b[39;00m\n\u001b[0;32m     12\u001b[0m \u001b[38;5;124;03mprint(\"Mots filtrés et leurs fréquences relatives:\")\u001b[39;00m\n\u001b[0;32m     13\u001b[0m \u001b[38;5;124;03mfor mot, frequence in mots_filtres.items():\u001b[39;00m\n\u001b[0;32m     14\u001b[0m \u001b[38;5;124;03m    print(f\"{mot}: {frequence}\")\u001b[39;00m\n\u001b[0;32m     15\u001b[0m \u001b[38;5;124;03m\"\"\"\u001b[39;00m\n\u001b[0;32m     17\u001b[0m \u001b[38;5;66;03m# Convertir les fréquences relatives en fréquences absolues si nécessaire\u001b[39;00m\n\u001b[0;32m     18\u001b[0m \u001b[38;5;66;03m# Ici, nous sélectionnons simplement les 15 mots les plus fréquents\u001b[39;00m\n",
      "\u001b[1;31mNameError\u001b[0m: name 'wc' is not defined"
     ]
    }
   ],
   "source": [
    "from collections import Counter\n",
    "import seaborn as sns \n",
    "\n",
    "\n",
    "#wc.generate(text)  # \"Calcul\" du wordcloud\n",
    "\n",
    "# Récupération des mots et de leurs fréquences relatives \n",
    "mots_filtres = wc.words_\n",
    "\n",
    "\"\"\"\n",
    "# Affichage des mots et de leurs fréquences\n",
    "print(\"Mots filtrés et leurs fréquences relatives:\")\n",
    "for mot, frequence in mots_filtres.items():\n",
    "    print(f\"{mot}: {frequence}\")\n",
    "\"\"\"\n",
    "\n",
    "# Convertir les fréquences relatives en fréquences absolues si nécessaire\n",
    "# Ici, nous sélectionnons simplement les 15 mots les plus fréquents\n",
    "mots = list(mots_filtres.keys())[:25]\n",
    "frequences = list(mots_filtres.values())[:25]\n",
    "\n",
    "plt.figure(figsize=(10, 6))\n",
    "sns.barplot(x=frequences, y=mots)\n",
    "plt.title(' mots les plus fréquemment employés')\n",
    "plt.xlabel('Fréquence relative')\n",
    "plt.ylabel('Mots')\n",
    "plt.show()\n"
   ]
  },
  {
   "cell_type": "markdown",
   "id": "4cb31d48",
   "metadata": {},
   "source": [
    "### Indicateurs par note"
   ]
  },
  {
   "cell_type": "code",
   "execution_count": 24,
   "id": "7ec8c4c5",
   "metadata": {},
   "outputs": [
    {
     "data": {
      "image/png": "[encoded data removed]",
      "text/plain": [
       "<Figure size 640x480 with 1 Axes>"
      ]
     },
     "metadata": {},
     "output_type": "display_data"
    }
   ],
   "source": [
    "import seaborn as sns\n",
    "import matplotlib.pyplot as plt\n",
    "\n",
    "#Visualisation de la longueur par note\n",
    "length = df[\"Contenu_avis\"].apply(len)\n",
    "sns.barplot(x = df[\"Note\"], y = length, data=df)\n",
    "plt.xlabel(\"Notes\")\n",
    "plt.ylabel(\"Longueur moyenne du contenu\")\n",
    "plt.title(\"Longueur moyenne d'un avis par note\")\n",
    "plt.show();"
   ]
  },
  {
   "cell_type": "code",
   "execution_count": 26,
   "id": "22289e02",
   "metadata": {},
   "outputs": [
    {
     "data": {
      "image/png": "[encoded data removed]",
      "text/plain": [
       "<Figure size 640x480 with 1 Axes>"
      ]
     },
     "metadata": {},
     "output_type": "display_data"
    }
   ],
   "source": [
    "# Visualisation des majuscules par note\n",
    "nb_maj = df[\"Contenu_avis\"].apply(lambda x: sum(1 for c in x if c.isupper())) # Création d'une Series avec le nombre de majuscules\n",
    "\n",
    "sns.barplot(x = df[\"Note\"], y = nb_maj, data=df)\n",
    "plt.xlabel(\"Notes\")\n",
    "plt.ylabel(\"Nombre moyen de majuscules dans le contenu\")\n",
    "plt.title(\"Nombre de majuscules dans un avis par note\")\n",
    "plt.show();"
   ]
  },
  {
   "cell_type": "code",
   "execution_count": 27,
   "id": "d97d34c1",
   "metadata": {},
   "outputs": [
    {
     "data": {
      "image/png": "[encoded data removed]",
      "text/plain": [
       "<Figure size 640x480 with 1 Axes>"
      ]
     },
     "metadata": {},
     "output_type": "display_data"
    }
   ],
   "source": [
    "def count_special_chars(s):\n",
    "    special_chars = \"!\\\"#$%&'()*+,-./:;<=>?@[\\\\]^_`{|}~\" #Liste de tous les caractères spéciaux\n",
    "    return sum(1 for c in s if c in special_chars)\n",
    "\n",
    "sns.barplot(x = df[\"Note\"], y = df[\"Contenu_avis\"].apply(count_special_chars), data=df)\n",
    "plt.xlabel(\"Notes\")\n",
    "plt.ylabel(\"Nombre moyen de caractères spéciaux dans le contenu\")\n",
    "plt.title(\"Nombre de caractères spéciaux dans un avis par note\")\n",
    "plt.show();"
   ]
  },
  {
   "cell_type": "markdown",
   "id": "2c7870fa",
   "metadata": {},
   "source": [
    "### Indicateurs par titre"
   ]
  },
  {
   "cell_type": "code",
   "execution_count": 28,
   "id": "8e8f43ab",
   "metadata": {},
   "outputs": [
    {
     "data": {
      "image/png": "[encoded data removed]",
      "text/plain": [
       "<Figure size 640x480 with 1 Axes>"
      ]
     },
     "metadata": {},
     "output_type": "display_data"
    }
   ],
   "source": [
    "#Visualisation de la longueur du titre par note\n",
    "length = df[\"Titre_avis\"].apply(len)\n",
    "sns.barplot(x = df[\"Note\"], y = length, data=df)\n",
    "plt.xlabel(\"Notes\")\n",
    "plt.ylabel(\"Longueur moyenne du titre\")\n",
    "plt.title(\"Longueur moyenne d'un titre par note\")\n",
    "plt.show();"
   ]
  },
  {
   "cell_type": "code",
   "execution_count": 29,
   "id": "d4a5cff2",
   "metadata": {},
   "outputs": [
    {
     "data": {
      "image/png": "[encoded data removed]",
      "text/plain": [
       "<Figure size 640x480 with 1 Axes>"
      ]
     },
     "metadata": {},
     "output_type": "display_data"
    }
   ],
   "source": [
    "# Visualisation des majuscules d'un titre par note\n",
    "nb_maj = df[\"Titre_avis\"].apply(lambda x: sum(1 for c in x if c.isupper())) # Création d'une Series avec le nombre de majuscules\n",
    "\n",
    "sns.barplot(x = df[\"Note\"], y = nb_maj, data=df)\n",
    "plt.xlabel(\"Notes\")\n",
    "plt.ylabel(\"Nombre moyen de majuscules dans le titre\")\n",
    "plt.title(\"Nombre de majuscules dans un titre par note\")\n",
    "plt.show();"
   ]
  },
  {
   "cell_type": "code",
   "execution_count": 31,
   "id": "5f569327",
   "metadata": {},
   "outputs": [
    {
     "data": {
      "image/png": "[encoded data removed]",
      "text/plain": [
       "<Figure size 640x480 with 1 Axes>"
      ]
     },
     "metadata": {},
     "output_type": "display_data"
    }
   ],
   "source": [
    "sns.barplot(x = df[\"Note\"], y = df[\"Titre_avis\"].apply(count_special_chars), data=df)\n",
    "plt.xlabel(\"Notes\")\n",
    "plt.ylabel(\"Nombre moyen de caractères spéciaux dans le titre\")\n",
    "plt.title(\"Nombre de caractères spéciaux dans un titre par note\")\n",
    "plt.show();"
   ]
  },
  {
   "cell_type": "markdown",
   "id": "c51d2d32",
   "metadata": {},
   "source": [
    "### Indicateurs par réponse"
   ]
  },
  {
   "cell_type": "code",
   "execution_count": 32,
   "id": "e106759b",
   "metadata": {},
   "outputs": [
    {
     "data": {
      "image/png": "[encoded data removed]",
      "text/plain": [
       "<Figure size 640x480 with 1 Axes>"
      ]
     },
     "metadata": {},
     "output_type": "display_data"
    }
   ],
   "source": [
    "#Visualisation de la longueur de la réponse par note\n",
    "length = df[\"Réponse_Entrpris\"].apply(len)\n",
    "sns.barplot(x = df[\"Note\"], y = length, data=df)\n",
    "plt.xlabel(\"Notes\")\n",
    "plt.ylabel(\"Longueur moyenne de la réponse de l'entreprise\")\n",
    "plt.title(\"Longueur moyenne d'une réponse par note\")\n",
    "plt.show();"
   ]
  },
  {
   "cell_type": "code",
   "execution_count": 33,
   "id": "3f2704d7",
   "metadata": {},
   "outputs": [
    {
     "data": {
      "image/png": "[encoded data removed]",
      "text/plain": [
       "<Figure size 640x480 with 1 Axes>"
      ]
     },
     "metadata": {},
     "output_type": "display_data"
    }
   ],
   "source": [
    "# Visualisation des majuscules d'une réponse par note\n",
    "nb_maj = df[\"Réponse_Entrpris\"].apply(lambda x: sum(1 for c in x if c.isupper())) # Création d'une Series avec le nombre de majuscules\n",
    "\n",
    "sns.barplot(x = df[\"Note\"], y = nb_maj, data=df)\n",
    "plt.xlabel(\"Notes\")\n",
    "plt.ylabel(\"Nombre moyen de majuscules dans la réponse\")\n",
    "plt.title(\"Nombre de majuscules dans une réponse d'entreprise par note\")\n",
    "plt.show();"
   ]
  },
  {
   "cell_type": "code",
   "execution_count": 34,
   "id": "4baad7db",
   "metadata": {},
   "outputs": [
    {
     "data": {
      "image/png": "[encoded data removed]",
      "text/plain": [
       "<Figure size 640x480 with 1 Axes>"
      ]
     },
     "metadata": {},
     "output_type": "display_data"
    }
   ],
   "source": [
    "sns.barplot(x = df[\"Note\"], y = df[\"Réponse_Entrpris\"].apply(count_special_chars), data=df)\n",
    "plt.xlabel(\"Notes\")\n",
    "plt.ylabel(\"Nombre moyen de caractères spéciaux dans une réponse\")\n",
    "plt.title(\"Nombre de caractères spéciaux dans une réponse par note\")\n",
    "plt.show();"
   ]
  }
 ],
 "metadata": {
  "kernelspec": {
   "display_name": "Python 3 (ipykernel)",
   "language": "python",
   "name": "python3"
  },
  "language_info": {
   "codemirror_mode": {
    "name": "ipython",
    "version": 3
   },
   "file_extension": ".py",
   "mimetype": "text/x-python",
   "name": "python",
   "nbconvert_exporter": "python",
   "pygments_lexer": "ipython3",
   "version": "3.11.7"
  }
 },
 "nbformat": 4,
 "nbformat_minor": 5
}
