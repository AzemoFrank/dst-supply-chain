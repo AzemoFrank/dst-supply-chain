{
 "cells": [
  {
   "cell_type": "markdown",
   "id": "0e621550",
   "metadata": {},
   "source": [
    "---\n",
    "<style>\n",
    "hr {\n",
    "    border-width:2px;\n",
    "    border-color:#75DFC1;\n",
    "}\n",
    "</style>\n",
    "---\n",
    "\n",
    "<center> <h1> Projet - Supply Chain </h1> </center>\n",
    "<center> <h2> Étape : Scrape les données à partir du site : fr.trustpilot.com </h2></center>\n",
    "\n",
    "---\n",
    "\n",
    "# Informations explicatives\n",
    "\n",
    "## Catégorie ciblée : Services aux entreprises\n",
    "## Sous catégorie ciblée : Transport et logistique\n",
    "\n",
    "Avec cette URL [https://fr.trustpilot.com/categories/business_services](https://fr.trustpilot.com/categories/business_services), on doit scraper les informations nécessaires.\n",
    "\n",
    "Deux DataFrames vont être générés :\n",
    "\n",
    "1. `df_Entreprise.csv` contient les informations suivantes pour chaque entreprise :\n",
    "   - Nom de l'entreprise\n",
    "   - Location/Lieu\n",
    "   - Trust score\n",
    "   - Nombre d'avis\n",
    "   - Services proposés (liste)\n",
    "\n",
    "2. `Df_avis.csv` : contient les informations suivantes pour chaque entreprise :\n",
    "   - Nom de l'entreprise\n",
    "   - Nom de l'utilisateur (s'il existe)\n",
    "   - La date de l'avis\n",
    "   - La note donnée\n",
    "   - Commentaire_client\n",
    "   - Réponse de l'entreprise\n"
   ]
  },
  {
   "cell_type": "code",
   "execution_count": 145,
   "id": "591760f7",
   "metadata": {},
   "outputs": [],
   "source": [
    "# importation des packages\n",
    "\n",
    "import requests  # Importe la bibliothèque requests, utilisée pour envoyer des requêtes HTTP en Python.\n",
    "from bs4 import BeautifulSoup as ps # Importe la classe BeautifulSoup de la bibliothèque bs4 et la renomme ps pour l'analyse du contenu HTML.\n",
    "\n",
    "\n",
    "#Définition de l'URL cible\n",
    "url_Cat_Transp_Logistique=\"https://fr.trustpilot.com/categories/business_services?subcategories=shipping_logistics\"\n",
    "\n",
    "Page_HtMl=requests.get(url_Cat_Transp_Logistique)\n",
    "\n",
    "Soup=ps(Page_HtMl.content,'lxml')\n",
    "\n",
    "#print(Soup.prettify().splitlines()[0:30]) # affichage 30 lignes\n",
    "\n"
   ]
  },
  {
   "cell_type": "code",
   "execution_count": null,
   "id": "4bce0010",
   "metadata": {},
   "outputs": [],
   "source": []
  },
  {
   "cell_type": "markdown",
   "id": "7e39a6c1",
   "metadata": {},
   "source": [
    "\n"
   ]
  },
  {
   "cell_type": "code",
   "execution_count": 146,
   "id": "4b3b26d5",
   "metadata": {},
   "outputs": [],
   "source": [
    "#Teste 3::: Scraper les donner sur deux pages \n",
    "#  listes pour stocker les informations\n",
    "Entreprises = []\n",
    "Locations = []\n",
    "TrustScores = []\n",
    "NombreAvis = []\n",
    "ServicesProposes = []\n",
    "\n",
    "# pages à parcourir\n",
    "nombre_de_pages = 2 \n",
    "\n",
    "# parcourur le nombre de pages\n",
    "for page in range(1, nombre_de_pages + 1):\n",
    "    # Construction de l'URL ppour chaque page\n",
    "    url = f\"https://fr.trustpilot.com/categories/business_services?page={page}&subcategories=shipping_logistics\"\n",
    "    \n",
    "    # Requête HTTP pour récupere la page htme\n",
    "    response = requests.get(url)\n",
    "    # beautifulesoup pour parcer avec le parceaus lxml\n",
    "    \n",
    "    soup = ps(response.content, 'lxml')\n",
    "    \n",
    "    # iodentifier les information et les extraire de la page courante\n",
    "    info_entreprises = soup.find_all('div', class_=\"paper_paper__1PY90 paper_outline__lwsUX card_card__lQWDv card_noPadding__D8PcU styles_wrapper__2JOo2\")\n",
    "    \n",
    "    for entreprise in info_entreprises:\n",
    "        # pour chque information , on l extraire de ca baliser et les sotcker dans la table correspondants\n",
    "        # Nom_entrprise\n",
    "        nom = entreprise.find('p', class_='styles_displayName__GOhL2').text if entreprise.find('p', class_='styles_displayName__GOhL2') else 'Non'\n",
    "        Entreprises.append(nom)\n",
    "        # Score_entrprise\n",
    "        score = entreprise.find('span', class_='styles_trustScore__8emxJ')\n",
    "        TrustScores.append(score.text.replace('TrustScore', '').strip() if score else 'Non')\n",
    "        # Nb avise_entrprise\n",
    "        avis_text = entreprise.find('p', class_='styles_ratingText__yQ5S7').text\n",
    "        parts = avis_text.split('|')\n",
    "        NombreAvis.append(''.join(filter(str.isdigit, parts[1])) if len(parts) > 1 else 'Non ')\n",
    "        # lieu_entrprise\n",
    "        loc = entreprise.find('span', class_='styles_location__ILZb0')\n",
    "        Locations.append(loc.text if loc else 'Non ')\n",
    "        # services proposé_entrprise\n",
    "        services_elems = entreprise.find_all('span', class_='typography_body-s__aY15Q')\n",
    "        ServicesProposes.append([service.text for service in services_elems] if services_elems else ['Non '])\n",
    "\n",
    "# Création du dictionnaire <<>>> stocker toutes les informations extraite pour construire apres un data frame\n",
    "Dictionnaire_ = {\n",
    "    'Entreprise': Entreprises,\n",
    "    'Location': Locations,\n",
    "    'TrustScore': TrustScores,\n",
    "    'NombreAvis': NombreAvis,\n",
    "    'ServicesProposes': ServicesProposes\n",
    "}\n",
    "\n",
    "# vérification\n",
    "#print(Dictionnaire_)\n"
   ]
  },
  {
   "cell_type": "code",
   "execution_count": 147,
   "id": "39d23415",
   "metadata": {},
   "outputs": [
    {
     "data": {
      "text/html": [
       "<div>\n",
       "<style scoped>\n",
       "    .dataframe tbody tr th:only-of-type {\n",
       "        vertical-align: middle;\n",
       "    }\n",
       "\n",
       "    .dataframe tbody tr th {\n",
       "        vertical-align: top;\n",
       "    }\n",
       "\n",
       "    .dataframe thead th {\n",
       "        text-align: right;\n",
       "    }\n",
       "</style>\n",
       "<table border=\"1\" class=\"dataframe\">\n",
       "  <thead>\n",
       "    <tr style=\"text-align: right;\">\n",
       "      <th></th>\n",
       "      <th>Entreprise</th>\n",
       "      <th>Location</th>\n",
       "      <th>TrustScore</th>\n",
       "      <th>NombreAvis</th>\n",
       "      <th>ServicesProposes</th>\n",
       "    </tr>\n",
       "  </thead>\n",
       "  <tbody>\n",
       "    <tr>\n",
       "      <th>0</th>\n",
       "      <td>Nextories (ex i-Demenager)</td>\n",
       "      <td>PARIS, France</td>\n",
       "      <td>4,9</td>\n",
       "      <td>3722</td>\n",
       "      <td>[Service de transport, Services de déménagemen...</td>\n",
       "    </tr>\n",
       "    <tr>\n",
       "      <th>1</th>\n",
       "      <td>La Tournée</td>\n",
       "      <td>Paris, France</td>\n",
       "      <td>4,9</td>\n",
       "      <td>489</td>\n",
       "      <td>[Boutique de boissons non alcoolisées, Distrib...</td>\n",
       "    </tr>\n",
       "    <tr>\n",
       "      <th>2</th>\n",
       "      <td>CartonsDeDemenagement.com</td>\n",
       "      <td>LIMONEST, France</td>\n",
       "      <td>4,8</td>\n",
       "      <td>11393</td>\n",
       "      <td>[Magasin d'articles d'emballage, Magasin d'art...</td>\n",
       "    </tr>\n",
       "    <tr>\n",
       "      <th>3</th>\n",
       "      <td>LOCABOX</td>\n",
       "      <td>Lormont, France</td>\n",
       "      <td>4,8</td>\n",
       "      <td>7516</td>\n",
       "      <td>[Centre de stockage, Entrepôt, Centre de stock...</td>\n",
       "    </tr>\n",
       "    <tr>\n",
       "      <th>4</th>\n",
       "      <td>La Tribu du Carton</td>\n",
       "      <td>Vénissieux, France</td>\n",
       "      <td>4,8</td>\n",
       "      <td>5177</td>\n",
       "      <td>[Magasin d'articles de déménagement, Magasin d...</td>\n",
       "    </tr>\n",
       "  </tbody>\n",
       "</table>\n",
       "</div>"
      ],
      "text/plain": [
       "                   Entreprise            Location TrustScore NombreAvis  \\\n",
       "0  Nextories (ex i-Demenager)       PARIS, France        4,9       3722   \n",
       "1                  La Tournée       Paris, France        4,9        489   \n",
       "2   CartonsDeDemenagement.com    LIMONEST, France        4,8      11393   \n",
       "3                     LOCABOX     Lormont, France        4,8       7516   \n",
       "4          La Tribu du Carton  Vénissieux, France        4,8       5177   \n",
       "\n",
       "                                    ServicesProposes  \n",
       "0  [Service de transport, Services de déménagemen...  \n",
       "1  [Boutique de boissons non alcoolisées, Distrib...  \n",
       "2  [Magasin d'articles d'emballage, Magasin d'art...  \n",
       "3  [Centre de stockage, Entrepôt, Centre de stock...  \n",
       "4  [Magasin d'articles de déménagement, Magasin d...  "
      ]
     },
     "metadata": {},
     "output_type": "display_data"
    },
    {
     "name": "stdout",
     "output_type": "stream",
     "text": [
      "<class 'pandas.core.frame.DataFrame'>\n",
      "RangeIndex: 40 entries, 0 to 39\n",
      "Data columns (total 5 columns):\n",
      " #   Column            Non-Null Count  Dtype \n",
      "---  ------            --------------  ----- \n",
      " 0   Entreprise        40 non-null     object\n",
      " 1   Location          40 non-null     object\n",
      " 2   TrustScore        40 non-null     object\n",
      " 3   NombreAvis        40 non-null     object\n",
      " 4   ServicesProposes  40 non-null     object\n",
      "dtypes: object(5)\n",
      "memory usage: 1.7+ KB\n"
     ]
    },
    {
     "data": {
      "text/plain": [
       "None"
      ]
     },
     "metadata": {},
     "output_type": "display_data"
    }
   ],
   "source": [
    "import pandas as pd\n",
    "\n",
    "\n",
    "df_Intreprise=pd.DataFrame(Dictionnaire_)\n",
    "display(df_Intreprise.head())\n",
    "display(df_Intreprise.info())\n",
    "\n",
    "\n",
    "# stocker dans ficher csv\n",
    "df_Intreprise.to_csv('df_Intreprise.csv', index=False)"
   ]
  },
  {
   "cell_type": "markdown",
   "id": "0f5a7908",
   "metadata": {},
   "source": [
    "\n"
   ]
  },
  {
   "cell_type": "code",
   "execution_count": 155,
   "id": "b4f4cd61",
   "metadata": {},
   "outputs": [
    {
     "name": "stdout",
     "output_type": "stream",
     "text": [
      "nextories\n"
     ]
    },
    {
     "data": {
      "text/plain": [
       "'https://fr.trustpilot.com/review/nextories.com?page=1'"
      ]
     },
     "metadata": {},
     "output_type": "display_data"
    },
    {
     "data": {
      "text/plain": [
       "'https://fr.trustpilot.com/review/nextories.com?page=2'"
      ]
     },
     "metadata": {},
     "output_type": "display_data"
    },
    {
     "data": {
      "text/plain": [
       "'https://fr.trustpilot.com/review/nextories.com?page=3'"
      ]
     },
     "metadata": {},
     "output_type": "display_data"
    },
    {
     "data": {
      "text/plain": [
       "'https://fr.trustpilot.com/review/nextories.com?page=4'"
      ]
     },
     "metadata": {},
     "output_type": "display_data"
    },
    {
     "data": {
      "text/plain": [
       "'https://fr.trustpilot.com/review/nextories.com?page=5'"
      ]
     },
     "metadata": {},
     "output_type": "display_data"
    },
    {
     "data": {
      "text/plain": [
       "'https://fr.trustpilot.com/review/nextories.com?page=6'"
      ]
     },
     "metadata": {},
     "output_type": "display_data"
    },
    {
     "data": {
      "text/plain": [
       "'https://fr.trustpilot.com/review/nextories.com?page=7'"
      ]
     },
     "metadata": {},
     "output_type": "display_data"
    },
    {
     "data": {
      "text/plain": [
       "'https://fr.trustpilot.com/review/nextories.com?page=8'"
      ]
     },
     "metadata": {},
     "output_type": "display_data"
    },
    {
     "data": {
      "text/plain": [
       "'https://fr.trustpilot.com/review/nextories.com?page=9'"
      ]
     },
     "metadata": {},
     "output_type": "display_data"
    },
    {
     "data": {
      "text/plain": [
       "'https://fr.trustpilot.com/review/nextories.com?page=10'"
      ]
     },
     "metadata": {},
     "output_type": "display_data"
    },
    {
     "data": {
      "text/plain": [
       "'https://fr.trustpilot.com/review/nextories.com?page=11'"
      ]
     },
     "metadata": {},
     "output_type": "display_data"
    },
    {
     "data": {
      "text/plain": [
       "'https://fr.trustpilot.com/review/nextories.com?page=12'"
      ]
     },
     "metadata": {},
     "output_type": "display_data"
    },
    {
     "data": {
      "text/plain": [
       "'https://fr.trustpilot.com/review/nextories.com?page=13'"
      ]
     },
     "metadata": {},
     "output_type": "display_data"
    },
    {
     "data": {
      "text/plain": [
       "'https://fr.trustpilot.com/review/nextories.com?page=14'"
      ]
     },
     "metadata": {},
     "output_type": "display_data"
    },
    {
     "data": {
      "text/plain": [
       "'https://fr.trustpilot.com/review/nextories.com?page=15'"
      ]
     },
     "metadata": {},
     "output_type": "display_data"
    },
    {
     "data": {
      "text/plain": [
       "'https://fr.trustpilot.com/review/nextories.com?page=16'"
      ]
     },
     "metadata": {},
     "output_type": "display_data"
    },
    {
     "data": {
      "text/plain": [
       "'https://fr.trustpilot.com/review/nextories.com?page=17'"
      ]
     },
     "metadata": {},
     "output_type": "display_data"
    },
    {
     "data": {
      "text/plain": [
       "'https://fr.trustpilot.com/review/nextories.com?page=18'"
      ]
     },
     "metadata": {},
     "output_type": "display_data"
    },
    {
     "data": {
      "text/plain": [
       "'https://fr.trustpilot.com/review/nextories.com?page=19'"
      ]
     },
     "metadata": {},
     "output_type": "display_data"
    },
    {
     "data": {
      "text/plain": [
       "'https://fr.trustpilot.com/review/nextories.com?page=20'"
      ]
     },
     "metadata": {},
     "output_type": "display_data"
    },
    {
     "name": "stdout",
     "output_type": "stream",
     "text": [
      "la-tournee\n"
     ]
    },
    {
     "data": {
      "text/plain": [
       "'https://fr.trustpilot.com/review/www.la-tournee.co?page=1'"
      ]
     },
     "metadata": {},
     "output_type": "display_data"
    },
    {
     "data": {
      "text/plain": [
       "'https://fr.trustpilot.com/review/www.la-tournee.co?page=2'"
      ]
     },
     "metadata": {},
     "output_type": "display_data"
    },
    {
     "data": {
      "text/plain": [
       "'https://fr.trustpilot.com/review/www.la-tournee.co?page=3'"
      ]
     },
     "metadata": {},
     "output_type": "display_data"
    },
    {
     "data": {
      "text/plain": [
       "'https://fr.trustpilot.com/review/www.la-tournee.co?page=4'"
      ]
     },
     "metadata": {},
     "output_type": "display_data"
    },
    {
     "data": {
      "text/plain": [
       "'https://fr.trustpilot.com/review/www.la-tournee.co?page=5'"
      ]
     },
     "metadata": {},
     "output_type": "display_data"
    },
    {
     "data": {
      "text/plain": [
       "'https://fr.trustpilot.com/review/www.la-tournee.co?page=6'"
      ]
     },
     "metadata": {},
     "output_type": "display_data"
    },
    {
     "data": {
      "text/plain": [
       "'https://fr.trustpilot.com/review/www.la-tournee.co?page=7'"
      ]
     },
     "metadata": {},
     "output_type": "display_data"
    },
    {
     "data": {
      "text/plain": [
       "'https://fr.trustpilot.com/review/www.la-tournee.co?page=8'"
      ]
     },
     "metadata": {},
     "output_type": "display_data"
    },
    {
     "data": {
      "text/plain": [
       "'https://fr.trustpilot.com/review/www.la-tournee.co?page=9'"
      ]
     },
     "metadata": {},
     "output_type": "display_data"
    },
    {
     "data": {
      "text/plain": [
       "'https://fr.trustpilot.com/review/www.la-tournee.co?page=10'"
      ]
     },
     "metadata": {},
     "output_type": "display_data"
    },
    {
     "data": {
      "text/plain": [
       "'https://fr.trustpilot.com/review/www.la-tournee.co?page=11'"
      ]
     },
     "metadata": {},
     "output_type": "display_data"
    },
    {
     "data": {
      "text/plain": [
       "'https://fr.trustpilot.com/review/www.la-tournee.co?page=12'"
      ]
     },
     "metadata": {},
     "output_type": "display_data"
    },
    {
     "data": {
      "text/plain": [
       "'https://fr.trustpilot.com/review/www.la-tournee.co?page=13'"
      ]
     },
     "metadata": {},
     "output_type": "display_data"
    },
    {
     "data": {
      "text/plain": [
       "'https://fr.trustpilot.com/review/www.la-tournee.co?page=14'"
      ]
     },
     "metadata": {},
     "output_type": "display_data"
    },
    {
     "data": {
      "text/plain": [
       "'https://fr.trustpilot.com/review/www.la-tournee.co?page=15'"
      ]
     },
     "metadata": {},
     "output_type": "display_data"
    },
    {
     "data": {
      "text/plain": [
       "'https://fr.trustpilot.com/review/www.la-tournee.co?page=16'"
      ]
     },
     "metadata": {},
     "output_type": "display_data"
    },
    {
     "data": {
      "text/plain": [
       "'https://fr.trustpilot.com/review/www.la-tournee.co?page=17'"
      ]
     },
     "metadata": {},
     "output_type": "display_data"
    },
    {
     "data": {
      "text/plain": [
       "'https://fr.trustpilot.com/review/www.la-tournee.co?page=18'"
      ]
     },
     "metadata": {},
     "output_type": "display_data"
    },
    {
     "data": {
      "text/plain": [
       "'https://fr.trustpilot.com/review/www.la-tournee.co?page=19'"
      ]
     },
     "metadata": {},
     "output_type": "display_data"
    },
    {
     "data": {
      "text/plain": [
       "'https://fr.trustpilot.com/review/www.la-tournee.co?page=20'"
      ]
     },
     "metadata": {},
     "output_type": "display_data"
    },
    {
     "name": "stdout",
     "output_type": "stream",
     "text": [
      "cartonsdedemenagement\n"
     ]
    },
    {
     "data": {
      "text/plain": [
       "'https://fr.trustpilot.com/review/www.cartonsdedemenagement.com?page=1'"
      ]
     },
     "metadata": {},
     "output_type": "display_data"
    },
    {
     "data": {
      "text/plain": [
       "'https://fr.trustpilot.com/review/www.cartonsdedemenagement.com?page=2'"
      ]
     },
     "metadata": {},
     "output_type": "display_data"
    },
    {
     "data": {
      "text/plain": [
       "'https://fr.trustpilot.com/review/www.cartonsdedemenagement.com?page=3'"
      ]
     },
     "metadata": {},
     "output_type": "display_data"
    },
    {
     "data": {
      "text/plain": [
       "'https://fr.trustpilot.com/review/www.cartonsdedemenagement.com?page=4'"
      ]
     },
     "metadata": {},
     "output_type": "display_data"
    },
    {
     "data": {
      "text/plain": [
       "'https://fr.trustpilot.com/review/www.cartonsdedemenagement.com?page=5'"
      ]
     },
     "metadata": {},
     "output_type": "display_data"
    },
    {
     "data": {
      "text/plain": [
       "'https://fr.trustpilot.com/review/www.cartonsdedemenagement.com?page=6'"
      ]
     },
     "metadata": {},
     "output_type": "display_data"
    },
    {
     "data": {
      "text/plain": [
       "'https://fr.trustpilot.com/review/www.cartonsdedemenagement.com?page=7'"
      ]
     },
     "metadata": {},
     "output_type": "display_data"
    },
    {
     "data": {
      "text/plain": [
       "'https://fr.trustpilot.com/review/www.cartonsdedemenagement.com?page=8'"
      ]
     },
     "metadata": {},
     "output_type": "display_data"
    },
    {
     "data": {
      "text/plain": [
       "'https://fr.trustpilot.com/review/www.cartonsdedemenagement.com?page=9'"
      ]
     },
     "metadata": {},
     "output_type": "display_data"
    },
    {
     "data": {
      "text/plain": [
       "'https://fr.trustpilot.com/review/www.cartonsdedemenagement.com?page=10'"
      ]
     },
     "metadata": {},
     "output_type": "display_data"
    },
    {
     "data": {
      "text/plain": [
       "'https://fr.trustpilot.com/review/www.cartonsdedemenagement.com?page=11'"
      ]
     },
     "metadata": {},
     "output_type": "display_data"
    },
    {
     "data": {
      "text/plain": [
       "'https://fr.trustpilot.com/review/www.cartonsdedemenagement.com?page=12'"
      ]
     },
     "metadata": {},
     "output_type": "display_data"
    },
    {
     "data": {
      "text/plain": [
       "'https://fr.trustpilot.com/review/www.cartonsdedemenagement.com?page=13'"
      ]
     },
     "metadata": {},
     "output_type": "display_data"
    },
    {
     "data": {
      "text/plain": [
       "'https://fr.trustpilot.com/review/www.cartonsdedemenagement.com?page=14'"
      ]
     },
     "metadata": {},
     "output_type": "display_data"
    },
    {
     "data": {
      "text/plain": [
       "'https://fr.trustpilot.com/review/www.cartonsdedemenagement.com?page=15'"
      ]
     },
     "metadata": {},
     "output_type": "display_data"
    },
    {
     "data": {
      "text/plain": [
       "'https://fr.trustpilot.com/review/www.cartonsdedemenagement.com?page=16'"
      ]
     },
     "metadata": {},
     "output_type": "display_data"
    },
    {
     "data": {
      "text/plain": [
       "'https://fr.trustpilot.com/review/www.cartonsdedemenagement.com?page=17'"
      ]
     },
     "metadata": {},
     "output_type": "display_data"
    },
    {
     "data": {
      "text/plain": [
       "'https://fr.trustpilot.com/review/www.cartonsdedemenagement.com?page=18'"
      ]
     },
     "metadata": {},
     "output_type": "display_data"
    },
    {
     "data": {
      "text/plain": [
       "'https://fr.trustpilot.com/review/www.cartonsdedemenagement.com?page=19'"
      ]
     },
     "metadata": {},
     "output_type": "display_data"
    },
    {
     "data": {
      "text/plain": [
       "'https://fr.trustpilot.com/review/www.cartonsdedemenagement.com?page=20'"
      ]
     },
     "metadata": {},
     "output_type": "display_data"
    },
    {
     "name": "stdout",
     "output_type": "stream",
     "text": [
      "locabox\n"
     ]
    },
    {
     "data": {
      "text/plain": [
       "'https://fr.trustpilot.com/review/locabox.fr?page=1'"
      ]
     },
     "metadata": {},
     "output_type": "display_data"
    },
    {
     "data": {
      "text/plain": [
       "'https://fr.trustpilot.com/review/locabox.fr?page=2'"
      ]
     },
     "metadata": {},
     "output_type": "display_data"
    },
    {
     "data": {
      "text/plain": [
       "'https://fr.trustpilot.com/review/locabox.fr?page=3'"
      ]
     },
     "metadata": {},
     "output_type": "display_data"
    },
    {
     "data": {
      "text/plain": [
       "'https://fr.trustpilot.com/review/locabox.fr?page=4'"
      ]
     },
     "metadata": {},
     "output_type": "display_data"
    },
    {
     "data": {
      "text/plain": [
       "'https://fr.trustpilot.com/review/locabox.fr?page=5'"
      ]
     },
     "metadata": {},
     "output_type": "display_data"
    },
    {
     "data": {
      "text/plain": [
       "'https://fr.trustpilot.com/review/locabox.fr?page=6'"
      ]
     },
     "metadata": {},
     "output_type": "display_data"
    },
    {
     "data": {
      "text/plain": [
       "'https://fr.trustpilot.com/review/locabox.fr?page=7'"
      ]
     },
     "metadata": {},
     "output_type": "display_data"
    },
    {
     "data": {
      "text/plain": [
       "'https://fr.trustpilot.com/review/locabox.fr?page=8'"
      ]
     },
     "metadata": {},
     "output_type": "display_data"
    },
    {
     "data": {
      "text/plain": [
       "'https://fr.trustpilot.com/review/locabox.fr?page=9'"
      ]
     },
     "metadata": {},
     "output_type": "display_data"
    },
    {
     "data": {
      "text/plain": [
       "'https://fr.trustpilot.com/review/locabox.fr?page=10'"
      ]
     },
     "metadata": {},
     "output_type": "display_data"
    },
    {
     "data": {
      "text/plain": [
       "'https://fr.trustpilot.com/review/locabox.fr?page=11'"
      ]
     },
     "metadata": {},
     "output_type": "display_data"
    },
    {
     "data": {
      "text/plain": [
       "'https://fr.trustpilot.com/review/locabox.fr?page=12'"
      ]
     },
     "metadata": {},
     "output_type": "display_data"
    },
    {
     "data": {
      "text/plain": [
       "'https://fr.trustpilot.com/review/locabox.fr?page=13'"
      ]
     },
     "metadata": {},
     "output_type": "display_data"
    },
    {
     "data": {
      "text/plain": [
       "'https://fr.trustpilot.com/review/locabox.fr?page=14'"
      ]
     },
     "metadata": {},
     "output_type": "display_data"
    },
    {
     "data": {
      "text/plain": [
       "'https://fr.trustpilot.com/review/locabox.fr?page=15'"
      ]
     },
     "metadata": {},
     "output_type": "display_data"
    },
    {
     "data": {
      "text/plain": [
       "'https://fr.trustpilot.com/review/locabox.fr?page=16'"
      ]
     },
     "metadata": {},
     "output_type": "display_data"
    },
    {
     "data": {
      "text/plain": [
       "'https://fr.trustpilot.com/review/locabox.fr?page=17'"
      ]
     },
     "metadata": {},
     "output_type": "display_data"
    },
    {
     "data": {
      "text/plain": [
       "'https://fr.trustpilot.com/review/locabox.fr?page=18'"
      ]
     },
     "metadata": {},
     "output_type": "display_data"
    },
    {
     "data": {
      "text/plain": [
       "'https://fr.trustpilot.com/review/locabox.fr?page=19'"
      ]
     },
     "metadata": {},
     "output_type": "display_data"
    },
    {
     "data": {
      "text/plain": [
       "'https://fr.trustpilot.com/review/locabox.fr?page=20'"
      ]
     },
     "metadata": {},
     "output_type": "display_data"
    },
    {
     "name": "stdout",
     "output_type": "stream",
     "text": [
      "latribuducarton\n"
     ]
    },
    {
     "data": {
      "text/plain": [
       "'https://fr.trustpilot.com/review/www.latribuducarton.fr?page=1'"
      ]
     },
     "metadata": {},
     "output_type": "display_data"
    },
    {
     "data": {
      "text/plain": [
       "'https://fr.trustpilot.com/review/www.latribuducarton.fr?page=2'"
      ]
     },
     "metadata": {},
     "output_type": "display_data"
    },
    {
     "data": {
      "text/plain": [
       "'https://fr.trustpilot.com/review/www.latribuducarton.fr?page=3'"
      ]
     },
     "metadata": {},
     "output_type": "display_data"
    },
    {
     "data": {
      "text/plain": [
       "'https://fr.trustpilot.com/review/www.latribuducarton.fr?page=4'"
      ]
     },
     "metadata": {},
     "output_type": "display_data"
    },
    {
     "data": {
      "text/plain": [
       "'https://fr.trustpilot.com/review/www.latribuducarton.fr?page=5'"
      ]
     },
     "metadata": {},
     "output_type": "display_data"
    },
    {
     "data": {
      "text/plain": [
       "'https://fr.trustpilot.com/review/www.latribuducarton.fr?page=6'"
      ]
     },
     "metadata": {},
     "output_type": "display_data"
    },
    {
     "data": {
      "text/plain": [
       "'https://fr.trustpilot.com/review/www.latribuducarton.fr?page=7'"
      ]
     },
     "metadata": {},
     "output_type": "display_data"
    },
    {
     "data": {
      "text/plain": [
       "'https://fr.trustpilot.com/review/www.latribuducarton.fr?page=8'"
      ]
     },
     "metadata": {},
     "output_type": "display_data"
    },
    {
     "data": {
      "text/plain": [
       "'https://fr.trustpilot.com/review/www.latribuducarton.fr?page=9'"
      ]
     },
     "metadata": {},
     "output_type": "display_data"
    },
    {
     "data": {
      "text/plain": [
       "'https://fr.trustpilot.com/review/www.latribuducarton.fr?page=10'"
      ]
     },
     "metadata": {},
     "output_type": "display_data"
    },
    {
     "data": {
      "text/plain": [
       "'https://fr.trustpilot.com/review/www.latribuducarton.fr?page=11'"
      ]
     },
     "metadata": {},
     "output_type": "display_data"
    },
    {
     "data": {
      "text/plain": [
       "'https://fr.trustpilot.com/review/www.latribuducarton.fr?page=12'"
      ]
     },
     "metadata": {},
     "output_type": "display_data"
    },
    {
     "data": {
      "text/plain": [
       "'https://fr.trustpilot.com/review/www.latribuducarton.fr?page=13'"
      ]
     },
     "metadata": {},
     "output_type": "display_data"
    },
    {
     "data": {
      "text/plain": [
       "'https://fr.trustpilot.com/review/www.latribuducarton.fr?page=14'"
      ]
     },
     "metadata": {},
     "output_type": "display_data"
    },
    {
     "data": {
      "text/plain": [
       "'https://fr.trustpilot.com/review/www.latribuducarton.fr?page=15'"
      ]
     },
     "metadata": {},
     "output_type": "display_data"
    },
    {
     "data": {
      "text/plain": [
       "'https://fr.trustpilot.com/review/www.latribuducarton.fr?page=16'"
      ]
     },
     "metadata": {},
     "output_type": "display_data"
    },
    {
     "data": {
      "text/plain": [
       "'https://fr.trustpilot.com/review/www.latribuducarton.fr?page=17'"
      ]
     },
     "metadata": {},
     "output_type": "display_data"
    },
    {
     "data": {
      "text/plain": [
       "'https://fr.trustpilot.com/review/www.latribuducarton.fr?page=18'"
      ]
     },
     "metadata": {},
     "output_type": "display_data"
    },
    {
     "data": {
      "text/plain": [
       "'https://fr.trustpilot.com/review/www.latribuducarton.fr?page=19'"
      ]
     },
     "metadata": {},
     "output_type": "display_data"
    },
    {
     "data": {
      "text/plain": [
       "'https://fr.trustpilot.com/review/www.latribuducarton.fr?page=20'"
      ]
     },
     "metadata": {},
     "output_type": "display_data"
    },
    {
     "name": "stdout",
     "output_type": "stream",
     "text": [
      "merci-facteur\n"
     ]
    },
    {
     "data": {
      "text/plain": [
       "'https://fr.trustpilot.com/review/merci-facteur.com?page=1'"
      ]
     },
     "metadata": {},
     "output_type": "display_data"
    },
    {
     "data": {
      "text/plain": [
       "'https://fr.trustpilot.com/review/merci-facteur.com?page=2'"
      ]
     },
     "metadata": {},
     "output_type": "display_data"
    },
    {
     "data": {
      "text/plain": [
       "'https://fr.trustpilot.com/review/merci-facteur.com?page=3'"
      ]
     },
     "metadata": {},
     "output_type": "display_data"
    },
    {
     "data": {
      "text/plain": [
       "'https://fr.trustpilot.com/review/merci-facteur.com?page=4'"
      ]
     },
     "metadata": {},
     "output_type": "display_data"
    },
    {
     "data": {
      "text/plain": [
       "'https://fr.trustpilot.com/review/merci-facteur.com?page=5'"
      ]
     },
     "metadata": {},
     "output_type": "display_data"
    },
    {
     "data": {
      "text/plain": [
       "'https://fr.trustpilot.com/review/merci-facteur.com?page=6'"
      ]
     },
     "metadata": {},
     "output_type": "display_data"
    },
    {
     "data": {
      "text/plain": [
       "'https://fr.trustpilot.com/review/merci-facteur.com?page=7'"
      ]
     },
     "metadata": {},
     "output_type": "display_data"
    },
    {
     "data": {
      "text/plain": [
       "'https://fr.trustpilot.com/review/merci-facteur.com?page=8'"
      ]
     },
     "metadata": {},
     "output_type": "display_data"
    },
    {
     "data": {
      "text/plain": [
       "'https://fr.trustpilot.com/review/merci-facteur.com?page=9'"
      ]
     },
     "metadata": {},
     "output_type": "display_data"
    },
    {
     "data": {
      "text/plain": [
       "'https://fr.trustpilot.com/review/merci-facteur.com?page=10'"
      ]
     },
     "metadata": {},
     "output_type": "display_data"
    },
    {
     "data": {
      "text/plain": [
       "'https://fr.trustpilot.com/review/merci-facteur.com?page=11'"
      ]
     },
     "metadata": {},
     "output_type": "display_data"
    },
    {
     "data": {
      "text/plain": [
       "'https://fr.trustpilot.com/review/merci-facteur.com?page=12'"
      ]
     },
     "metadata": {},
     "output_type": "display_data"
    },
    {
     "data": {
      "text/plain": [
       "'https://fr.trustpilot.com/review/merci-facteur.com?page=13'"
      ]
     },
     "metadata": {},
     "output_type": "display_data"
    },
    {
     "data": {
      "text/plain": [
       "'https://fr.trustpilot.com/review/merci-facteur.com?page=14'"
      ]
     },
     "metadata": {},
     "output_type": "display_data"
    },
    {
     "data": {
      "text/plain": [
       "'https://fr.trustpilot.com/review/merci-facteur.com?page=15'"
      ]
     },
     "metadata": {},
     "output_type": "display_data"
    },
    {
     "data": {
      "text/plain": [
       "'https://fr.trustpilot.com/review/merci-facteur.com?page=16'"
      ]
     },
     "metadata": {},
     "output_type": "display_data"
    },
    {
     "data": {
      "text/plain": [
       "'https://fr.trustpilot.com/review/merci-facteur.com?page=17'"
      ]
     },
     "metadata": {},
     "output_type": "display_data"
    },
    {
     "data": {
      "text/plain": [
       "'https://fr.trustpilot.com/review/merci-facteur.com?page=18'"
      ]
     },
     "metadata": {},
     "output_type": "display_data"
    },
    {
     "data": {
      "text/plain": [
       "'https://fr.trustpilot.com/review/merci-facteur.com?page=19'"
      ]
     },
     "metadata": {},
     "output_type": "display_data"
    },
    {
     "data": {
      "text/plain": [
       "'https://fr.trustpilot.com/review/merci-facteur.com?page=20'"
      ]
     },
     "metadata": {},
     "output_type": "display_data"
    },
    {
     "name": "stdout",
     "output_type": "stream",
     "text": [
      "youstock\n"
     ]
    },
    {
     "data": {
      "text/plain": [
       "'https://fr.trustpilot.com/review/youstock.com?page=1'"
      ]
     },
     "metadata": {},
     "output_type": "display_data"
    },
    {
     "data": {
      "text/plain": [
       "'https://fr.trustpilot.com/review/youstock.com?page=2'"
      ]
     },
     "metadata": {},
     "output_type": "display_data"
    },
    {
     "data": {
      "text/plain": [
       "'https://fr.trustpilot.com/review/youstock.com?page=3'"
      ]
     },
     "metadata": {},
     "output_type": "display_data"
    },
    {
     "data": {
      "text/plain": [
       "'https://fr.trustpilot.com/review/youstock.com?page=4'"
      ]
     },
     "metadata": {},
     "output_type": "display_data"
    },
    {
     "data": {
      "text/plain": [
       "'https://fr.trustpilot.com/review/youstock.com?page=5'"
      ]
     },
     "metadata": {},
     "output_type": "display_data"
    },
    {
     "data": {
      "text/plain": [
       "'https://fr.trustpilot.com/review/youstock.com?page=6'"
      ]
     },
     "metadata": {},
     "output_type": "display_data"
    },
    {
     "data": {
      "text/plain": [
       "'https://fr.trustpilot.com/review/youstock.com?page=7'"
      ]
     },
     "metadata": {},
     "output_type": "display_data"
    },
    {
     "data": {
      "text/plain": [
       "'https://fr.trustpilot.com/review/youstock.com?page=8'"
      ]
     },
     "metadata": {},
     "output_type": "display_data"
    },
    {
     "data": {
      "text/plain": [
       "'https://fr.trustpilot.com/review/youstock.com?page=9'"
      ]
     },
     "metadata": {},
     "output_type": "display_data"
    },
    {
     "data": {
      "text/plain": [
       "'https://fr.trustpilot.com/review/youstock.com?page=10'"
      ]
     },
     "metadata": {},
     "output_type": "display_data"
    },
    {
     "data": {
      "text/plain": [
       "'https://fr.trustpilot.com/review/youstock.com?page=11'"
      ]
     },
     "metadata": {},
     "output_type": "display_data"
    },
    {
     "data": {
      "text/plain": [
       "'https://fr.trustpilot.com/review/youstock.com?page=12'"
      ]
     },
     "metadata": {},
     "output_type": "display_data"
    },
    {
     "data": {
      "text/plain": [
       "'https://fr.trustpilot.com/review/youstock.com?page=13'"
      ]
     },
     "metadata": {},
     "output_type": "display_data"
    },
    {
     "data": {
      "text/plain": [
       "'https://fr.trustpilot.com/review/youstock.com?page=14'"
      ]
     },
     "metadata": {},
     "output_type": "display_data"
    },
    {
     "data": {
      "text/plain": [
       "'https://fr.trustpilot.com/review/youstock.com?page=15'"
      ]
     },
     "metadata": {},
     "output_type": "display_data"
    },
    {
     "data": {
      "text/plain": [
       "'https://fr.trustpilot.com/review/youstock.com?page=16'"
      ]
     },
     "metadata": {},
     "output_type": "display_data"
    },
    {
     "data": {
      "text/plain": [
       "'https://fr.trustpilot.com/review/youstock.com?page=17'"
      ]
     },
     "metadata": {},
     "output_type": "display_data"
    },
    {
     "data": {
      "text/plain": [
       "'https://fr.trustpilot.com/review/youstock.com?page=18'"
      ]
     },
     "metadata": {},
     "output_type": "display_data"
    },
    {
     "data": {
      "text/plain": [
       "'https://fr.trustpilot.com/review/youstock.com?page=19'"
      ]
     },
     "metadata": {},
     "output_type": "display_data"
    },
    {
     "data": {
      "text/plain": [
       "'https://fr.trustpilot.com/review/youstock.com?page=20'"
      ]
     },
     "metadata": {},
     "output_type": "display_data"
    },
    {
     "name": "stdout",
     "output_type": "stream",
     "text": [
      "lockall\n"
     ]
    },
    {
     "data": {
      "text/plain": [
       "'https://fr.trustpilot.com/review/lockall.fr?page=1'"
      ]
     },
     "metadata": {},
     "output_type": "display_data"
    },
    {
     "data": {
      "text/plain": [
       "'https://fr.trustpilot.com/review/lockall.fr?page=2'"
      ]
     },
     "metadata": {},
     "output_type": "display_data"
    },
    {
     "data": {
      "text/plain": [
       "'https://fr.trustpilot.com/review/lockall.fr?page=3'"
      ]
     },
     "metadata": {},
     "output_type": "display_data"
    },
    {
     "data": {
      "text/plain": [
       "'https://fr.trustpilot.com/review/lockall.fr?page=4'"
      ]
     },
     "metadata": {},
     "output_type": "display_data"
    },
    {
     "data": {
      "text/plain": [
       "'https://fr.trustpilot.com/review/lockall.fr?page=5'"
      ]
     },
     "metadata": {},
     "output_type": "display_data"
    },
    {
     "data": {
      "text/plain": [
       "'https://fr.trustpilot.com/review/lockall.fr?page=6'"
      ]
     },
     "metadata": {},
     "output_type": "display_data"
    },
    {
     "data": {
      "text/plain": [
       "'https://fr.trustpilot.com/review/lockall.fr?page=7'"
      ]
     },
     "metadata": {},
     "output_type": "display_data"
    },
    {
     "data": {
      "text/plain": [
       "'https://fr.trustpilot.com/review/lockall.fr?page=8'"
      ]
     },
     "metadata": {},
     "output_type": "display_data"
    },
    {
     "data": {
      "text/plain": [
       "'https://fr.trustpilot.com/review/lockall.fr?page=9'"
      ]
     },
     "metadata": {},
     "output_type": "display_data"
    },
    {
     "name": "stdout",
     "output_type": "stream",
     "text": [
      "Erreur lors de la requête : 404\n"
     ]
    },
    {
     "data": {
      "text/plain": [
       "'https://fr.trustpilot.com/review/lockall.fr?page=10'"
      ]
     },
     "metadata": {},
     "output_type": "display_data"
    },
    {
     "name": "stdout",
     "output_type": "stream",
     "text": [
      "Erreur lors de la requête : 404\n"
     ]
    },
    {
     "data": {
      "text/plain": [
       "'https://fr.trustpilot.com/review/lockall.fr?page=11'"
      ]
     },
     "metadata": {},
     "output_type": "display_data"
    },
    {
     "name": "stdout",
     "output_type": "stream",
     "text": [
      "Erreur lors de la requête : 404\n"
     ]
    },
    {
     "data": {
      "text/plain": [
       "'https://fr.trustpilot.com/review/lockall.fr?page=12'"
      ]
     },
     "metadata": {},
     "output_type": "display_data"
    },
    {
     "name": "stdout",
     "output_type": "stream",
     "text": [
      "Erreur lors de la requête : 404\n"
     ]
    },
    {
     "data": {
      "text/plain": [
       "'https://fr.trustpilot.com/review/lockall.fr?page=13'"
      ]
     },
     "metadata": {},
     "output_type": "display_data"
    },
    {
     "name": "stdout",
     "output_type": "stream",
     "text": [
      "Erreur lors de la requête : 404\n"
     ]
    },
    {
     "data": {
      "text/plain": [
       "'https://fr.trustpilot.com/review/lockall.fr?page=14'"
      ]
     },
     "metadata": {},
     "output_type": "display_data"
    },
    {
     "name": "stdout",
     "output_type": "stream",
     "text": [
      "Erreur lors de la requête : 404\n"
     ]
    },
    {
     "data": {
      "text/plain": [
       "'https://fr.trustpilot.com/review/lockall.fr?page=15'"
      ]
     },
     "metadata": {},
     "output_type": "display_data"
    },
    {
     "name": "stdout",
     "output_type": "stream",
     "text": [
      "Erreur lors de la requête : 404\n"
     ]
    },
    {
     "data": {
      "text/plain": [
       "'https://fr.trustpilot.com/review/lockall.fr?page=16'"
      ]
     },
     "metadata": {},
     "output_type": "display_data"
    },
    {
     "name": "stdout",
     "output_type": "stream",
     "text": [
      "Erreur lors de la requête : 404\n"
     ]
    },
    {
     "data": {
      "text/plain": [
       "'https://fr.trustpilot.com/review/lockall.fr?page=17'"
      ]
     },
     "metadata": {},
     "output_type": "display_data"
    },
    {
     "name": "stdout",
     "output_type": "stream",
     "text": [
      "Erreur lors de la requête : 404\n"
     ]
    },
    {
     "data": {
      "text/plain": [
       "'https://fr.trustpilot.com/review/lockall.fr?page=18'"
      ]
     },
     "metadata": {},
     "output_type": "display_data"
    },
    {
     "name": "stdout",
     "output_type": "stream",
     "text": [
      "Erreur lors de la requête : 404\n"
     ]
    },
    {
     "data": {
      "text/plain": [
       "'https://fr.trustpilot.com/review/lockall.fr?page=19'"
      ]
     },
     "metadata": {},
     "output_type": "display_data"
    },
    {
     "name": "stdout",
     "output_type": "stream",
     "text": [
      "Erreur lors de la requête : 404\n"
     ]
    },
    {
     "data": {
      "text/plain": [
       "'https://fr.trustpilot.com/review/lockall.fr?page=20'"
      ]
     },
     "metadata": {},
     "output_type": "display_data"
    },
    {
     "name": "stdout",
     "output_type": "stream",
     "text": [
      "Erreur lors de la requête : 404\n",
      "papernest\n"
     ]
    },
    {
     "data": {
      "text/plain": [
       "'https://fr.trustpilot.com/review/papernest.com?page=1'"
      ]
     },
     "metadata": {},
     "output_type": "display_data"
    },
    {
     "data": {
      "text/plain": [
       "'https://fr.trustpilot.com/review/papernest.com?page=2'"
      ]
     },
     "metadata": {},
     "output_type": "display_data"
    },
    {
     "data": {
      "text/plain": [
       "'https://fr.trustpilot.com/review/papernest.com?page=3'"
      ]
     },
     "metadata": {},
     "output_type": "display_data"
    },
    {
     "data": {
      "text/plain": [
       "'https://fr.trustpilot.com/review/papernest.com?page=4'"
      ]
     },
     "metadata": {},
     "output_type": "display_data"
    },
    {
     "data": {
      "text/plain": [
       "'https://fr.trustpilot.com/review/papernest.com?page=5'"
      ]
     },
     "metadata": {},
     "output_type": "display_data"
    },
    {
     "data": {
      "text/plain": [
       "'https://fr.trustpilot.com/review/papernest.com?page=6'"
      ]
     },
     "metadata": {},
     "output_type": "display_data"
    },
    {
     "data": {
      "text/plain": [
       "'https://fr.trustpilot.com/review/papernest.com?page=7'"
      ]
     },
     "metadata": {},
     "output_type": "display_data"
    },
    {
     "data": {
      "text/plain": [
       "'https://fr.trustpilot.com/review/papernest.com?page=8'"
      ]
     },
     "metadata": {},
     "output_type": "display_data"
    },
    {
     "data": {
      "text/plain": [
       "'https://fr.trustpilot.com/review/papernest.com?page=9'"
      ]
     },
     "metadata": {},
     "output_type": "display_data"
    },
    {
     "data": {
      "text/plain": [
       "'https://fr.trustpilot.com/review/papernest.com?page=10'"
      ]
     },
     "metadata": {},
     "output_type": "display_data"
    },
    {
     "data": {
      "text/plain": [
       "'https://fr.trustpilot.com/review/papernest.com?page=11'"
      ]
     },
     "metadata": {},
     "output_type": "display_data"
    },
    {
     "data": {
      "text/plain": [
       "'https://fr.trustpilot.com/review/papernest.com?page=12'"
      ]
     },
     "metadata": {},
     "output_type": "display_data"
    },
    {
     "data": {
      "text/plain": [
       "'https://fr.trustpilot.com/review/papernest.com?page=13'"
      ]
     },
     "metadata": {},
     "output_type": "display_data"
    },
    {
     "data": {
      "text/plain": [
       "'https://fr.trustpilot.com/review/papernest.com?page=14'"
      ]
     },
     "metadata": {},
     "output_type": "display_data"
    },
    {
     "data": {
      "text/plain": [
       "'https://fr.trustpilot.com/review/papernest.com?page=15'"
      ]
     },
     "metadata": {},
     "output_type": "display_data"
    },
    {
     "data": {
      "text/plain": [
       "'https://fr.trustpilot.com/review/papernest.com?page=16'"
      ]
     },
     "metadata": {},
     "output_type": "display_data"
    },
    {
     "data": {
      "text/plain": [
       "'https://fr.trustpilot.com/review/papernest.com?page=17'"
      ]
     },
     "metadata": {},
     "output_type": "display_data"
    },
    {
     "data": {
      "text/plain": [
       "'https://fr.trustpilot.com/review/papernest.com?page=18'"
      ]
     },
     "metadata": {},
     "output_type": "display_data"
    },
    {
     "data": {
      "text/plain": [
       "'https://fr.trustpilot.com/review/papernest.com?page=19'"
      ]
     },
     "metadata": {},
     "output_type": "display_data"
    },
    {
     "data": {
      "text/plain": [
       "'https://fr.trustpilot.com/review/papernest.com?page=20'"
      ]
     },
     "metadata": {},
     "output_type": "display_data"
    },
    {
     "name": "stdout",
     "output_type": "stream",
     "text": [
      "welkit\n"
     ]
    },
    {
     "data": {
      "text/plain": [
       "'https://fr.trustpilot.com/review/welkit.fr?page=1'"
      ]
     },
     "metadata": {},
     "output_type": "display_data"
    },
    {
     "data": {
      "text/plain": [
       "'https://fr.trustpilot.com/review/welkit.fr?page=2'"
      ]
     },
     "metadata": {},
     "output_type": "display_data"
    },
    {
     "data": {
      "text/plain": [
       "'https://fr.trustpilot.com/review/welkit.fr?page=3'"
      ]
     },
     "metadata": {},
     "output_type": "display_data"
    },
    {
     "data": {
      "text/plain": [
       "'https://fr.trustpilot.com/review/welkit.fr?page=4'"
      ]
     },
     "metadata": {},
     "output_type": "display_data"
    },
    {
     "data": {
      "text/plain": [
       "'https://fr.trustpilot.com/review/welkit.fr?page=5'"
      ]
     },
     "metadata": {},
     "output_type": "display_data"
    },
    {
     "data": {
      "text/plain": [
       "'https://fr.trustpilot.com/review/welkit.fr?page=6'"
      ]
     },
     "metadata": {},
     "output_type": "display_data"
    },
    {
     "data": {
      "text/plain": [
       "'https://fr.trustpilot.com/review/welkit.fr?page=7'"
      ]
     },
     "metadata": {},
     "output_type": "display_data"
    },
    {
     "data": {
      "text/plain": [
       "'https://fr.trustpilot.com/review/welkit.fr?page=8'"
      ]
     },
     "metadata": {},
     "output_type": "display_data"
    },
    {
     "data": {
      "text/plain": [
       "'https://fr.trustpilot.com/review/welkit.fr?page=9'"
      ]
     },
     "metadata": {},
     "output_type": "display_data"
    },
    {
     "data": {
      "text/plain": [
       "'https://fr.trustpilot.com/review/welkit.fr?page=10'"
      ]
     },
     "metadata": {},
     "output_type": "display_data"
    },
    {
     "data": {
      "text/plain": [
       "'https://fr.trustpilot.com/review/welkit.fr?page=11'"
      ]
     },
     "metadata": {},
     "output_type": "display_data"
    },
    {
     "data": {
      "text/plain": [
       "'https://fr.trustpilot.com/review/welkit.fr?page=12'"
      ]
     },
     "metadata": {},
     "output_type": "display_data"
    },
    {
     "data": {
      "text/plain": [
       "'https://fr.trustpilot.com/review/welkit.fr?page=13'"
      ]
     },
     "metadata": {},
     "output_type": "display_data"
    },
    {
     "data": {
      "text/plain": [
       "'https://fr.trustpilot.com/review/welkit.fr?page=14'"
      ]
     },
     "metadata": {},
     "output_type": "display_data"
    },
    {
     "data": {
      "text/plain": [
       "'https://fr.trustpilot.com/review/welkit.fr?page=15'"
      ]
     },
     "metadata": {},
     "output_type": "display_data"
    },
    {
     "data": {
      "text/plain": [
       "'https://fr.trustpilot.com/review/welkit.fr?page=16'"
      ]
     },
     "metadata": {},
     "output_type": "display_data"
    },
    {
     "data": {
      "text/plain": [
       "'https://fr.trustpilot.com/review/welkit.fr?page=17'"
      ]
     },
     "metadata": {},
     "output_type": "display_data"
    },
    {
     "data": {
      "text/plain": [
       "'https://fr.trustpilot.com/review/welkit.fr?page=18'"
      ]
     },
     "metadata": {},
     "output_type": "display_data"
    },
    {
     "data": {
      "text/plain": [
       "'https://fr.trustpilot.com/review/welkit.fr?page=19'"
      ]
     },
     "metadata": {},
     "output_type": "display_data"
    },
    {
     "data": {
      "text/plain": [
       "'https://fr.trustpilot.com/review/welkit.fr?page=20'"
      ]
     },
     "metadata": {},
     "output_type": "display_data"
    },
    {
     "name": "stdout",
     "output_type": "stream",
     "text": [
      "cocolis\n"
     ]
    },
    {
     "data": {
      "text/plain": [
       "'https://fr.trustpilot.com/review/www.cocolis.fr?page=1'"
      ]
     },
     "metadata": {},
     "output_type": "display_data"
    },
    {
     "data": {
      "text/plain": [
       "'https://fr.trustpilot.com/review/www.cocolis.fr?page=2'"
      ]
     },
     "metadata": {},
     "output_type": "display_data"
    },
    {
     "data": {
      "text/plain": [
       "'https://fr.trustpilot.com/review/www.cocolis.fr?page=3'"
      ]
     },
     "metadata": {},
     "output_type": "display_data"
    },
    {
     "data": {
      "text/plain": [
       "'https://fr.trustpilot.com/review/www.cocolis.fr?page=4'"
      ]
     },
     "metadata": {},
     "output_type": "display_data"
    },
    {
     "data": {
      "text/plain": [
       "'https://fr.trustpilot.com/review/www.cocolis.fr?page=5'"
      ]
     },
     "metadata": {},
     "output_type": "display_data"
    },
    {
     "data": {
      "text/plain": [
       "'https://fr.trustpilot.com/review/www.cocolis.fr?page=6'"
      ]
     },
     "metadata": {},
     "output_type": "display_data"
    },
    {
     "data": {
      "text/plain": [
       "'https://fr.trustpilot.com/review/www.cocolis.fr?page=7'"
      ]
     },
     "metadata": {},
     "output_type": "display_data"
    },
    {
     "data": {
      "text/plain": [
       "'https://fr.trustpilot.com/review/www.cocolis.fr?page=8'"
      ]
     },
     "metadata": {},
     "output_type": "display_data"
    },
    {
     "data": {
      "text/plain": [
       "'https://fr.trustpilot.com/review/www.cocolis.fr?page=9'"
      ]
     },
     "metadata": {},
     "output_type": "display_data"
    },
    {
     "data": {
      "text/plain": [
       "'https://fr.trustpilot.com/review/www.cocolis.fr?page=10'"
      ]
     },
     "metadata": {},
     "output_type": "display_data"
    },
    {
     "data": {
      "text/plain": [
       "'https://fr.trustpilot.com/review/www.cocolis.fr?page=11'"
      ]
     },
     "metadata": {},
     "output_type": "display_data"
    },
    {
     "data": {
      "text/plain": [
       "'https://fr.trustpilot.com/review/www.cocolis.fr?page=12'"
      ]
     },
     "metadata": {},
     "output_type": "display_data"
    },
    {
     "data": {
      "text/plain": [
       "'https://fr.trustpilot.com/review/www.cocolis.fr?page=13'"
      ]
     },
     "metadata": {},
     "output_type": "display_data"
    },
    {
     "data": {
      "text/plain": [
       "'https://fr.trustpilot.com/review/www.cocolis.fr?page=14'"
      ]
     },
     "metadata": {},
     "output_type": "display_data"
    },
    {
     "data": {
      "text/plain": [
       "'https://fr.trustpilot.com/review/www.cocolis.fr?page=15'"
      ]
     },
     "metadata": {},
     "output_type": "display_data"
    },
    {
     "data": {
      "text/plain": [
       "'https://fr.trustpilot.com/review/www.cocolis.fr?page=16'"
      ]
     },
     "metadata": {},
     "output_type": "display_data"
    },
    {
     "data": {
      "text/plain": [
       "'https://fr.trustpilot.com/review/www.cocolis.fr?page=17'"
      ]
     },
     "metadata": {},
     "output_type": "display_data"
    },
    {
     "data": {
      "text/plain": [
       "'https://fr.trustpilot.com/review/www.cocolis.fr?page=18'"
      ]
     },
     "metadata": {},
     "output_type": "display_data"
    },
    {
     "data": {
      "text/plain": [
       "'https://fr.trustpilot.com/review/www.cocolis.fr?page=19'"
      ]
     },
     "metadata": {},
     "output_type": "display_data"
    },
    {
     "data": {
      "text/plain": [
       "'https://fr.trustpilot.com/review/www.cocolis.fr?page=20'"
      ]
     },
     "metadata": {},
     "output_type": "display_data"
    },
    {
     "name": "stdout",
     "output_type": "stream",
     "text": [
      "ecocarton\n"
     ]
    },
    {
     "data": {
      "text/plain": [
       "'https://fr.trustpilot.com/review/www.ecocarton.fr?page=1'"
      ]
     },
     "metadata": {},
     "output_type": "display_data"
    },
    {
     "data": {
      "text/plain": [
       "'https://fr.trustpilot.com/review/www.ecocarton.fr?page=2'"
      ]
     },
     "metadata": {},
     "output_type": "display_data"
    },
    {
     "data": {
      "text/plain": [
       "'https://fr.trustpilot.com/review/www.ecocarton.fr?page=3'"
      ]
     },
     "metadata": {},
     "output_type": "display_data"
    },
    {
     "data": {
      "text/plain": [
       "'https://fr.trustpilot.com/review/www.ecocarton.fr?page=4'"
      ]
     },
     "metadata": {},
     "output_type": "display_data"
    },
    {
     "data": {
      "text/plain": [
       "'https://fr.trustpilot.com/review/www.ecocarton.fr?page=5'"
      ]
     },
     "metadata": {},
     "output_type": "display_data"
    },
    {
     "data": {
      "text/plain": [
       "'https://fr.trustpilot.com/review/www.ecocarton.fr?page=6'"
      ]
     },
     "metadata": {},
     "output_type": "display_data"
    },
    {
     "data": {
      "text/plain": [
       "'https://fr.trustpilot.com/review/www.ecocarton.fr?page=7'"
      ]
     },
     "metadata": {},
     "output_type": "display_data"
    },
    {
     "data": {
      "text/plain": [
       "'https://fr.trustpilot.com/review/www.ecocarton.fr?page=8'"
      ]
     },
     "metadata": {},
     "output_type": "display_data"
    },
    {
     "data": {
      "text/plain": [
       "'https://fr.trustpilot.com/review/www.ecocarton.fr?page=9'"
      ]
     },
     "metadata": {},
     "output_type": "display_data"
    },
    {
     "data": {
      "text/plain": [
       "'https://fr.trustpilot.com/review/www.ecocarton.fr?page=10'"
      ]
     },
     "metadata": {},
     "output_type": "display_data"
    },
    {
     "data": {
      "text/plain": [
       "'https://fr.trustpilot.com/review/www.ecocarton.fr?page=11'"
      ]
     },
     "metadata": {},
     "output_type": "display_data"
    },
    {
     "data": {
      "text/plain": [
       "'https://fr.trustpilot.com/review/www.ecocarton.fr?page=12'"
      ]
     },
     "metadata": {},
     "output_type": "display_data"
    },
    {
     "data": {
      "text/plain": [
       "'https://fr.trustpilot.com/review/www.ecocarton.fr?page=13'"
      ]
     },
     "metadata": {},
     "output_type": "display_data"
    },
    {
     "data": {
      "text/plain": [
       "'https://fr.trustpilot.com/review/www.ecocarton.fr?page=14'"
      ]
     },
     "metadata": {},
     "output_type": "display_data"
    },
    {
     "data": {
      "text/plain": [
       "'https://fr.trustpilot.com/review/www.ecocarton.fr?page=15'"
      ]
     },
     "metadata": {},
     "output_type": "display_data"
    },
    {
     "data": {
      "text/plain": [
       "'https://fr.trustpilot.com/review/www.ecocarton.fr?page=16'"
      ]
     },
     "metadata": {},
     "output_type": "display_data"
    },
    {
     "data": {
      "text/plain": [
       "'https://fr.trustpilot.com/review/www.ecocarton.fr?page=17'"
      ]
     },
     "metadata": {},
     "output_type": "display_data"
    },
    {
     "data": {
      "text/plain": [
       "'https://fr.trustpilot.com/review/www.ecocarton.fr?page=18'"
      ]
     },
     "metadata": {},
     "output_type": "display_data"
    },
    {
     "data": {
      "text/plain": [
       "'https://fr.trustpilot.com/review/www.ecocarton.fr?page=19'"
      ]
     },
     "metadata": {},
     "output_type": "display_data"
    },
    {
     "data": {
      "text/plain": [
       "'https://fr.trustpilot.com/review/www.ecocarton.fr?page=20'"
      ]
     },
     "metadata": {},
     "output_type": "display_data"
    },
    {
     "name": "stdout",
     "output_type": "stream",
     "text": [
      "zolemba\n"
     ]
    },
    {
     "data": {
      "text/plain": [
       "'https://fr.trustpilot.com/review/zolemba.fr?page=1'"
      ]
     },
     "metadata": {},
     "output_type": "display_data"
    },
    {
     "data": {
      "text/plain": [
       "'https://fr.trustpilot.com/review/zolemba.fr?page=2'"
      ]
     },
     "metadata": {},
     "output_type": "display_data"
    },
    {
     "data": {
      "text/plain": [
       "'https://fr.trustpilot.com/review/zolemba.fr?page=3'"
      ]
     },
     "metadata": {},
     "output_type": "display_data"
    },
    {
     "data": {
      "text/plain": [
       "'https://fr.trustpilot.com/review/zolemba.fr?page=4'"
      ]
     },
     "metadata": {},
     "output_type": "display_data"
    },
    {
     "data": {
      "text/plain": [
       "'https://fr.trustpilot.com/review/zolemba.fr?page=5'"
      ]
     },
     "metadata": {},
     "output_type": "display_data"
    },
    {
     "data": {
      "text/plain": [
       "'https://fr.trustpilot.com/review/zolemba.fr?page=6'"
      ]
     },
     "metadata": {},
     "output_type": "display_data"
    },
    {
     "data": {
      "text/plain": [
       "'https://fr.trustpilot.com/review/zolemba.fr?page=7'"
      ]
     },
     "metadata": {},
     "output_type": "display_data"
    },
    {
     "data": {
      "text/plain": [
       "'https://fr.trustpilot.com/review/zolemba.fr?page=8'"
      ]
     },
     "metadata": {},
     "output_type": "display_data"
    },
    {
     "data": {
      "text/plain": [
       "'https://fr.trustpilot.com/review/zolemba.fr?page=9'"
      ]
     },
     "metadata": {},
     "output_type": "display_data"
    },
    {
     "data": {
      "text/plain": [
       "'https://fr.trustpilot.com/review/zolemba.fr?page=10'"
      ]
     },
     "metadata": {},
     "output_type": "display_data"
    },
    {
     "data": {
      "text/plain": [
       "'https://fr.trustpilot.com/review/zolemba.fr?page=11'"
      ]
     },
     "metadata": {},
     "output_type": "display_data"
    },
    {
     "data": {
      "text/plain": [
       "'https://fr.trustpilot.com/review/zolemba.fr?page=12'"
      ]
     },
     "metadata": {},
     "output_type": "display_data"
    },
    {
     "data": {
      "text/plain": [
       "'https://fr.trustpilot.com/review/zolemba.fr?page=13'"
      ]
     },
     "metadata": {},
     "output_type": "display_data"
    },
    {
     "name": "stdout",
     "output_type": "stream",
     "text": [
      "Erreur lors de la requête : 404\n"
     ]
    },
    {
     "data": {
      "text/plain": [
       "'https://fr.trustpilot.com/review/zolemba.fr?page=14'"
      ]
     },
     "metadata": {},
     "output_type": "display_data"
    },
    {
     "name": "stdout",
     "output_type": "stream",
     "text": [
      "Erreur lors de la requête : 404\n"
     ]
    },
    {
     "data": {
      "text/plain": [
       "'https://fr.trustpilot.com/review/zolemba.fr?page=15'"
      ]
     },
     "metadata": {},
     "output_type": "display_data"
    },
    {
     "name": "stdout",
     "output_type": "stream",
     "text": [
      "Erreur lors de la requête : 404\n"
     ]
    },
    {
     "data": {
      "text/plain": [
       "'https://fr.trustpilot.com/review/zolemba.fr?page=16'"
      ]
     },
     "metadata": {},
     "output_type": "display_data"
    },
    {
     "name": "stdout",
     "output_type": "stream",
     "text": [
      "Erreur lors de la requête : 404\n"
     ]
    },
    {
     "data": {
      "text/plain": [
       "'https://fr.trustpilot.com/review/zolemba.fr?page=17'"
      ]
     },
     "metadata": {},
     "output_type": "display_data"
    },
    {
     "name": "stdout",
     "output_type": "stream",
     "text": [
      "Erreur lors de la requête : 404\n"
     ]
    },
    {
     "data": {
      "text/plain": [
       "'https://fr.trustpilot.com/review/zolemba.fr?page=18'"
      ]
     },
     "metadata": {},
     "output_type": "display_data"
    },
    {
     "name": "stdout",
     "output_type": "stream",
     "text": [
      "Erreur lors de la requête : 404\n"
     ]
    },
    {
     "data": {
      "text/plain": [
       "'https://fr.trustpilot.com/review/zolemba.fr?page=19'"
      ]
     },
     "metadata": {},
     "output_type": "display_data"
    },
    {
     "name": "stdout",
     "output_type": "stream",
     "text": [
      "Erreur lors de la requête : 404\n"
     ]
    },
    {
     "data": {
      "text/plain": [
       "'https://fr.trustpilot.com/review/zolemba.fr?page=20'"
      ]
     },
     "metadata": {},
     "output_type": "display_data"
    },
    {
     "name": "stdout",
     "output_type": "stream",
     "text": [
      "Erreur lors de la requête : 404\n",
      "delight-cbd\n"
     ]
    },
    {
     "data": {
      "text/plain": [
       "'https://fr.trustpilot.com/review/delight-cbd.com?page=1'"
      ]
     },
     "metadata": {},
     "output_type": "display_data"
    },
    {
     "data": {
      "text/plain": [
       "'https://fr.trustpilot.com/review/delight-cbd.com?page=2'"
      ]
     },
     "metadata": {},
     "output_type": "display_data"
    },
    {
     "data": {
      "text/plain": [
       "'https://fr.trustpilot.com/review/delight-cbd.com?page=3'"
      ]
     },
     "metadata": {},
     "output_type": "display_data"
    },
    {
     "name": "stdout",
     "output_type": "stream",
     "text": [
      "Erreur lors de la requête : 404\n"
     ]
    },
    {
     "data": {
      "text/plain": [
       "'https://fr.trustpilot.com/review/delight-cbd.com?page=4'"
      ]
     },
     "metadata": {},
     "output_type": "display_data"
    },
    {
     "name": "stdout",
     "output_type": "stream",
     "text": [
      "Erreur lors de la requête : 404\n"
     ]
    },
    {
     "data": {
      "text/plain": [
       "'https://fr.trustpilot.com/review/delight-cbd.com?page=5'"
      ]
     },
     "metadata": {},
     "output_type": "display_data"
    },
    {
     "name": "stdout",
     "output_type": "stream",
     "text": [
      "Erreur lors de la requête : 404\n"
     ]
    },
    {
     "data": {
      "text/plain": [
       "'https://fr.trustpilot.com/review/delight-cbd.com?page=6'"
      ]
     },
     "metadata": {},
     "output_type": "display_data"
    },
    {
     "name": "stdout",
     "output_type": "stream",
     "text": [
      "Erreur lors de la requête : 404\n"
     ]
    },
    {
     "data": {
      "text/plain": [
       "'https://fr.trustpilot.com/review/delight-cbd.com?page=7'"
      ]
     },
     "metadata": {},
     "output_type": "display_data"
    },
    {
     "name": "stdout",
     "output_type": "stream",
     "text": [
      "Erreur lors de la requête : 404\n"
     ]
    },
    {
     "data": {
      "text/plain": [
       "'https://fr.trustpilot.com/review/delight-cbd.com?page=8'"
      ]
     },
     "metadata": {},
     "output_type": "display_data"
    },
    {
     "name": "stdout",
     "output_type": "stream",
     "text": [
      "Erreur lors de la requête : 404\n"
     ]
    },
    {
     "data": {
      "text/plain": [
       "'https://fr.trustpilot.com/review/delight-cbd.com?page=9'"
      ]
     },
     "metadata": {},
     "output_type": "display_data"
    },
    {
     "name": "stdout",
     "output_type": "stream",
     "text": [
      "Erreur lors de la requête : 404\n"
     ]
    },
    {
     "data": {
      "text/plain": [
       "'https://fr.trustpilot.com/review/delight-cbd.com?page=10'"
      ]
     },
     "metadata": {},
     "output_type": "display_data"
    },
    {
     "name": "stdout",
     "output_type": "stream",
     "text": [
      "Erreur lors de la requête : 404\n"
     ]
    },
    {
     "data": {
      "text/plain": [
       "'https://fr.trustpilot.com/review/delight-cbd.com?page=11'"
      ]
     },
     "metadata": {},
     "output_type": "display_data"
    },
    {
     "name": "stdout",
     "output_type": "stream",
     "text": [
      "Erreur lors de la requête : 404\n"
     ]
    },
    {
     "data": {
      "text/plain": [
       "'https://fr.trustpilot.com/review/delight-cbd.com?page=12'"
      ]
     },
     "metadata": {},
     "output_type": "display_data"
    },
    {
     "name": "stdout",
     "output_type": "stream",
     "text": [
      "Erreur lors de la requête : 404\n"
     ]
    },
    {
     "data": {
      "text/plain": [
       "'https://fr.trustpilot.com/review/delight-cbd.com?page=13'"
      ]
     },
     "metadata": {},
     "output_type": "display_data"
    },
    {
     "name": "stdout",
     "output_type": "stream",
     "text": [
      "Erreur lors de la requête : 404\n"
     ]
    },
    {
     "data": {
      "text/plain": [
       "'https://fr.trustpilot.com/review/delight-cbd.com?page=14'"
      ]
     },
     "metadata": {},
     "output_type": "display_data"
    },
    {
     "name": "stdout",
     "output_type": "stream",
     "text": [
      "Erreur lors de la requête : 404\n"
     ]
    },
    {
     "data": {
      "text/plain": [
       "'https://fr.trustpilot.com/review/delight-cbd.com?page=15'"
      ]
     },
     "metadata": {},
     "output_type": "display_data"
    },
    {
     "name": "stdout",
     "output_type": "stream",
     "text": [
      "Erreur lors de la requête : 404\n"
     ]
    },
    {
     "data": {
      "text/plain": [
       "'https://fr.trustpilot.com/review/delight-cbd.com?page=16'"
      ]
     },
     "metadata": {},
     "output_type": "display_data"
    },
    {
     "name": "stdout",
     "output_type": "stream",
     "text": [
      "Erreur lors de la requête : 404\n"
     ]
    },
    {
     "data": {
      "text/plain": [
       "'https://fr.trustpilot.com/review/delight-cbd.com?page=17'"
      ]
     },
     "metadata": {},
     "output_type": "display_data"
    },
    {
     "name": "stdout",
     "output_type": "stream",
     "text": [
      "Erreur lors de la requête : 404\n"
     ]
    },
    {
     "data": {
      "text/plain": [
       "'https://fr.trustpilot.com/review/delight-cbd.com?page=18'"
      ]
     },
     "metadata": {},
     "output_type": "display_data"
    },
    {
     "name": "stdout",
     "output_type": "stream",
     "text": [
      "Erreur lors de la requête : 404\n"
     ]
    },
    {
     "data": {
      "text/plain": [
       "'https://fr.trustpilot.com/review/delight-cbd.com?page=19'"
      ]
     },
     "metadata": {},
     "output_type": "display_data"
    },
    {
     "name": "stdout",
     "output_type": "stream",
     "text": [
      "Erreur lors de la requête : 404\n"
     ]
    },
    {
     "data": {
      "text/plain": [
       "'https://fr.trustpilot.com/review/delight-cbd.com?page=20'"
      ]
     },
     "metadata": {},
     "output_type": "display_data"
    },
    {
     "name": "stdout",
     "output_type": "stream",
     "text": [
      "Erreur lors de la requête : 404\n",
      "cartonmarket\n"
     ]
    },
    {
     "data": {
      "text/plain": [
       "'https://fr.trustpilot.com/review/cartonmarket.fr?page=1'"
      ]
     },
     "metadata": {},
     "output_type": "display_data"
    },
    {
     "data": {
      "text/plain": [
       "'https://fr.trustpilot.com/review/cartonmarket.fr?page=2'"
      ]
     },
     "metadata": {},
     "output_type": "display_data"
    },
    {
     "data": {
      "text/plain": [
       "'https://fr.trustpilot.com/review/cartonmarket.fr?page=3'"
      ]
     },
     "metadata": {},
     "output_type": "display_data"
    },
    {
     "data": {
      "text/plain": [
       "'https://fr.trustpilot.com/review/cartonmarket.fr?page=4'"
      ]
     },
     "metadata": {},
     "output_type": "display_data"
    },
    {
     "data": {
      "text/plain": [
       "'https://fr.trustpilot.com/review/cartonmarket.fr?page=5'"
      ]
     },
     "metadata": {},
     "output_type": "display_data"
    },
    {
     "data": {
      "text/plain": [
       "'https://fr.trustpilot.com/review/cartonmarket.fr?page=6'"
      ]
     },
     "metadata": {},
     "output_type": "display_data"
    },
    {
     "data": {
      "text/plain": [
       "'https://fr.trustpilot.com/review/cartonmarket.fr?page=7'"
      ]
     },
     "metadata": {},
     "output_type": "display_data"
    },
    {
     "data": {
      "text/plain": [
       "'https://fr.trustpilot.com/review/cartonmarket.fr?page=8'"
      ]
     },
     "metadata": {},
     "output_type": "display_data"
    },
    {
     "data": {
      "text/plain": [
       "'https://fr.trustpilot.com/review/cartonmarket.fr?page=9'"
      ]
     },
     "metadata": {},
     "output_type": "display_data"
    },
    {
     "data": {
      "text/plain": [
       "'https://fr.trustpilot.com/review/cartonmarket.fr?page=10'"
      ]
     },
     "metadata": {},
     "output_type": "display_data"
    },
    {
     "data": {
      "text/plain": [
       "'https://fr.trustpilot.com/review/cartonmarket.fr?page=11'"
      ]
     },
     "metadata": {},
     "output_type": "display_data"
    },
    {
     "data": {
      "text/plain": [
       "'https://fr.trustpilot.com/review/cartonmarket.fr?page=12'"
      ]
     },
     "metadata": {},
     "output_type": "display_data"
    },
    {
     "data": {
      "text/plain": [
       "'https://fr.trustpilot.com/review/cartonmarket.fr?page=13'"
      ]
     },
     "metadata": {},
     "output_type": "display_data"
    },
    {
     "data": {
      "text/plain": [
       "'https://fr.trustpilot.com/review/cartonmarket.fr?page=14'"
      ]
     },
     "metadata": {},
     "output_type": "display_data"
    },
    {
     "data": {
      "text/plain": [
       "'https://fr.trustpilot.com/review/cartonmarket.fr?page=15'"
      ]
     },
     "metadata": {},
     "output_type": "display_data"
    },
    {
     "data": {
      "text/plain": [
       "'https://fr.trustpilot.com/review/cartonmarket.fr?page=16'"
      ]
     },
     "metadata": {},
     "output_type": "display_data"
    },
    {
     "data": {
      "text/plain": [
       "'https://fr.trustpilot.com/review/cartonmarket.fr?page=17'"
      ]
     },
     "metadata": {},
     "output_type": "display_data"
    },
    {
     "data": {
      "text/plain": [
       "'https://fr.trustpilot.com/review/cartonmarket.fr?page=18'"
      ]
     },
     "metadata": {},
     "output_type": "display_data"
    },
    {
     "data": {
      "text/plain": [
       "'https://fr.trustpilot.com/review/cartonmarket.fr?page=19'"
      ]
     },
     "metadata": {},
     "output_type": "display_data"
    },
    {
     "data": {
      "text/plain": [
       "'https://fr.trustpilot.com/review/cartonmarket.fr?page=20'"
      ]
     },
     "metadata": {},
     "output_type": "display_data"
    },
    {
     "name": "stdout",
     "output_type": "stream",
     "text": [
      "paysdesenveloppes\n"
     ]
    },
    {
     "data": {
      "text/plain": [
       "'https://fr.trustpilot.com/review/www.paysdesenveloppes.fr?page=1'"
      ]
     },
     "metadata": {},
     "output_type": "display_data"
    },
    {
     "data": {
      "text/plain": [
       "'https://fr.trustpilot.com/review/www.paysdesenveloppes.fr?page=2'"
      ]
     },
     "metadata": {},
     "output_type": "display_data"
    },
    {
     "data": {
      "text/plain": [
       "'https://fr.trustpilot.com/review/www.paysdesenveloppes.fr?page=3'"
      ]
     },
     "metadata": {},
     "output_type": "display_data"
    },
    {
     "data": {
      "text/plain": [
       "'https://fr.trustpilot.com/review/www.paysdesenveloppes.fr?page=4'"
      ]
     },
     "metadata": {},
     "output_type": "display_data"
    },
    {
     "data": {
      "text/plain": [
       "'https://fr.trustpilot.com/review/www.paysdesenveloppes.fr?page=5'"
      ]
     },
     "metadata": {},
     "output_type": "display_data"
    },
    {
     "data": {
      "text/plain": [
       "'https://fr.trustpilot.com/review/www.paysdesenveloppes.fr?page=6'"
      ]
     },
     "metadata": {},
     "output_type": "display_data"
    },
    {
     "data": {
      "text/plain": [
       "'https://fr.trustpilot.com/review/www.paysdesenveloppes.fr?page=7'"
      ]
     },
     "metadata": {},
     "output_type": "display_data"
    },
    {
     "data": {
      "text/plain": [
       "'https://fr.trustpilot.com/review/www.paysdesenveloppes.fr?page=8'"
      ]
     },
     "metadata": {},
     "output_type": "display_data"
    },
    {
     "data": {
      "text/plain": [
       "'https://fr.trustpilot.com/review/www.paysdesenveloppes.fr?page=9'"
      ]
     },
     "metadata": {},
     "output_type": "display_data"
    },
    {
     "data": {
      "text/plain": [
       "'https://fr.trustpilot.com/review/www.paysdesenveloppes.fr?page=10'"
      ]
     },
     "metadata": {},
     "output_type": "display_data"
    },
    {
     "data": {
      "text/plain": [
       "'https://fr.trustpilot.com/review/www.paysdesenveloppes.fr?page=11'"
      ]
     },
     "metadata": {},
     "output_type": "display_data"
    },
    {
     "data": {
      "text/plain": [
       "'https://fr.trustpilot.com/review/www.paysdesenveloppes.fr?page=12'"
      ]
     },
     "metadata": {},
     "output_type": "display_data"
    },
    {
     "data": {
      "text/plain": [
       "'https://fr.trustpilot.com/review/www.paysdesenveloppes.fr?page=13'"
      ]
     },
     "metadata": {},
     "output_type": "display_data"
    },
    {
     "data": {
      "text/plain": [
       "'https://fr.trustpilot.com/review/www.paysdesenveloppes.fr?page=14'"
      ]
     },
     "metadata": {},
     "output_type": "display_data"
    },
    {
     "data": {
      "text/plain": [
       "'https://fr.trustpilot.com/review/www.paysdesenveloppes.fr?page=15'"
      ]
     },
     "metadata": {},
     "output_type": "display_data"
    },
    {
     "data": {
      "text/plain": [
       "'https://fr.trustpilot.com/review/www.paysdesenveloppes.fr?page=16'"
      ]
     },
     "metadata": {},
     "output_type": "display_data"
    },
    {
     "data": {
      "text/plain": [
       "'https://fr.trustpilot.com/review/www.paysdesenveloppes.fr?page=17'"
      ]
     },
     "metadata": {},
     "output_type": "display_data"
    },
    {
     "data": {
      "text/plain": [
       "'https://fr.trustpilot.com/review/www.paysdesenveloppes.fr?page=18'"
      ]
     },
     "metadata": {},
     "output_type": "display_data"
    },
    {
     "data": {
      "text/plain": [
       "'https://fr.trustpilot.com/review/www.paysdesenveloppes.fr?page=19'"
      ]
     },
     "metadata": {},
     "output_type": "display_data"
    },
    {
     "data": {
      "text/plain": [
       "'https://fr.trustpilot.com/review/www.paysdesenveloppes.fr?page=20'"
      ]
     },
     "metadata": {},
     "output_type": "display_data"
    },
    {
     "name": "stdout",
     "output_type": "stream",
     "text": [
      "demeclic\n"
     ]
    },
    {
     "data": {
      "text/plain": [
       "'https://fr.trustpilot.com/review/demeclic.fr?page=1'"
      ]
     },
     "metadata": {},
     "output_type": "display_data"
    },
    {
     "data": {
      "text/plain": [
       "'https://fr.trustpilot.com/review/demeclic.fr?page=2'"
      ]
     },
     "metadata": {},
     "output_type": "display_data"
    },
    {
     "data": {
      "text/plain": [
       "'https://fr.trustpilot.com/review/demeclic.fr?page=3'"
      ]
     },
     "metadata": {},
     "output_type": "display_data"
    },
    {
     "data": {
      "text/plain": [
       "'https://fr.trustpilot.com/review/demeclic.fr?page=4'"
      ]
     },
     "metadata": {},
     "output_type": "display_data"
    },
    {
     "data": {
      "text/plain": [
       "'https://fr.trustpilot.com/review/demeclic.fr?page=5'"
      ]
     },
     "metadata": {},
     "output_type": "display_data"
    },
    {
     "data": {
      "text/plain": [
       "'https://fr.trustpilot.com/review/demeclic.fr?page=6'"
      ]
     },
     "metadata": {},
     "output_type": "display_data"
    },
    {
     "data": {
      "text/plain": [
       "'https://fr.trustpilot.com/review/demeclic.fr?page=7'"
      ]
     },
     "metadata": {},
     "output_type": "display_data"
    },
    {
     "data": {
      "text/plain": [
       "'https://fr.trustpilot.com/review/demeclic.fr?page=8'"
      ]
     },
     "metadata": {},
     "output_type": "display_data"
    },
    {
     "data": {
      "text/plain": [
       "'https://fr.trustpilot.com/review/demeclic.fr?page=9'"
      ]
     },
     "metadata": {},
     "output_type": "display_data"
    },
    {
     "data": {
      "text/plain": [
       "'https://fr.trustpilot.com/review/demeclic.fr?page=10'"
      ]
     },
     "metadata": {},
     "output_type": "display_data"
    },
    {
     "data": {
      "text/plain": [
       "'https://fr.trustpilot.com/review/demeclic.fr?page=11'"
      ]
     },
     "metadata": {},
     "output_type": "display_data"
    },
    {
     "data": {
      "text/plain": [
       "'https://fr.trustpilot.com/review/demeclic.fr?page=12'"
      ]
     },
     "metadata": {},
     "output_type": "display_data"
    },
    {
     "data": {
      "text/plain": [
       "'https://fr.trustpilot.com/review/demeclic.fr?page=13'"
      ]
     },
     "metadata": {},
     "output_type": "display_data"
    },
    {
     "data": {
      "text/plain": [
       "'https://fr.trustpilot.com/review/demeclic.fr?page=14'"
      ]
     },
     "metadata": {},
     "output_type": "display_data"
    },
    {
     "data": {
      "text/plain": [
       "'https://fr.trustpilot.com/review/demeclic.fr?page=15'"
      ]
     },
     "metadata": {},
     "output_type": "display_data"
    },
    {
     "data": {
      "text/plain": [
       "'https://fr.trustpilot.com/review/demeclic.fr?page=16'"
      ]
     },
     "metadata": {},
     "output_type": "display_data"
    },
    {
     "data": {
      "text/plain": [
       "'https://fr.trustpilot.com/review/demeclic.fr?page=17'"
      ]
     },
     "metadata": {},
     "output_type": "display_data"
    },
    {
     "data": {
      "text/plain": [
       "'https://fr.trustpilot.com/review/demeclic.fr?page=18'"
      ]
     },
     "metadata": {},
     "output_type": "display_data"
    },
    {
     "data": {
      "text/plain": [
       "'https://fr.trustpilot.com/review/demeclic.fr?page=19'"
      ]
     },
     "metadata": {},
     "output_type": "display_data"
    },
    {
     "data": {
      "text/plain": [
       "'https://fr.trustpilot.com/review/demeclic.fr?page=20'"
      ]
     },
     "metadata": {},
     "output_type": "display_data"
    },
    {
     "name": "stdout",
     "output_type": "stream",
     "text": [
      "coliback\n"
     ]
    },
    {
     "data": {
      "text/plain": [
       "'https://fr.trustpilot.com/review/coliback.com?page=1'"
      ]
     },
     "metadata": {},
     "output_type": "display_data"
    },
    {
     "data": {
      "text/plain": [
       "'https://fr.trustpilot.com/review/coliback.com?page=2'"
      ]
     },
     "metadata": {},
     "output_type": "display_data"
    },
    {
     "data": {
      "text/plain": [
       "'https://fr.trustpilot.com/review/coliback.com?page=3'"
      ]
     },
     "metadata": {},
     "output_type": "display_data"
    },
    {
     "data": {
      "text/plain": [
       "'https://fr.trustpilot.com/review/coliback.com?page=4'"
      ]
     },
     "metadata": {},
     "output_type": "display_data"
    },
    {
     "data": {
      "text/plain": [
       "'https://fr.trustpilot.com/review/coliback.com?page=5'"
      ]
     },
     "metadata": {},
     "output_type": "display_data"
    },
    {
     "data": {
      "text/plain": [
       "'https://fr.trustpilot.com/review/coliback.com?page=6'"
      ]
     },
     "metadata": {},
     "output_type": "display_data"
    },
    {
     "data": {
      "text/plain": [
       "'https://fr.trustpilot.com/review/coliback.com?page=7'"
      ]
     },
     "metadata": {},
     "output_type": "display_data"
    },
    {
     "data": {
      "text/plain": [
       "'https://fr.trustpilot.com/review/coliback.com?page=8'"
      ]
     },
     "metadata": {},
     "output_type": "display_data"
    },
    {
     "data": {
      "text/plain": [
       "'https://fr.trustpilot.com/review/coliback.com?page=9'"
      ]
     },
     "metadata": {},
     "output_type": "display_data"
    },
    {
     "data": {
      "text/plain": [
       "'https://fr.trustpilot.com/review/coliback.com?page=10'"
      ]
     },
     "metadata": {},
     "output_type": "display_data"
    },
    {
     "data": {
      "text/plain": [
       "'https://fr.trustpilot.com/review/coliback.com?page=11'"
      ]
     },
     "metadata": {},
     "output_type": "display_data"
    },
    {
     "data": {
      "text/plain": [
       "'https://fr.trustpilot.com/review/coliback.com?page=12'"
      ]
     },
     "metadata": {},
     "output_type": "display_data"
    },
    {
     "data": {
      "text/plain": [
       "'https://fr.trustpilot.com/review/coliback.com?page=13'"
      ]
     },
     "metadata": {},
     "output_type": "display_data"
    },
    {
     "data": {
      "text/plain": [
       "'https://fr.trustpilot.com/review/coliback.com?page=14'"
      ]
     },
     "metadata": {},
     "output_type": "display_data"
    },
    {
     "data": {
      "text/plain": [
       "'https://fr.trustpilot.com/review/coliback.com?page=15'"
      ]
     },
     "metadata": {},
     "output_type": "display_data"
    },
    {
     "data": {
      "text/plain": [
       "'https://fr.trustpilot.com/review/coliback.com?page=16'"
      ]
     },
     "metadata": {},
     "output_type": "display_data"
    },
    {
     "data": {
      "text/plain": [
       "'https://fr.trustpilot.com/review/coliback.com?page=17'"
      ]
     },
     "metadata": {},
     "output_type": "display_data"
    },
    {
     "data": {
      "text/plain": [
       "'https://fr.trustpilot.com/review/coliback.com?page=18'"
      ]
     },
     "metadata": {},
     "output_type": "display_data"
    },
    {
     "data": {
      "text/plain": [
       "'https://fr.trustpilot.com/review/coliback.com?page=19'"
      ]
     },
     "metadata": {},
     "output_type": "display_data"
    },
    {
     "data": {
      "text/plain": [
       "'https://fr.trustpilot.com/review/coliback.com?page=20'"
      ]
     },
     "metadata": {},
     "output_type": "display_data"
    },
    {
     "name": "stdout",
     "output_type": "stream",
     "text": [
      "ubbabio\n"
     ]
    },
    {
     "data": {
      "text/plain": [
       "'https://fr.trustpilot.com/review/ubbabio.com?page=1'"
      ]
     },
     "metadata": {},
     "output_type": "display_data"
    },
    {
     "data": {
      "text/plain": [
       "'https://fr.trustpilot.com/review/ubbabio.com?page=2'"
      ]
     },
     "metadata": {},
     "output_type": "display_data"
    },
    {
     "data": {
      "text/plain": [
       "'https://fr.trustpilot.com/review/ubbabio.com?page=3'"
      ]
     },
     "metadata": {},
     "output_type": "display_data"
    },
    {
     "name": "stdout",
     "output_type": "stream",
     "text": [
      "Erreur lors de la requête : 404\n"
     ]
    },
    {
     "data": {
      "text/plain": [
       "'https://fr.trustpilot.com/review/ubbabio.com?page=4'"
      ]
     },
     "metadata": {},
     "output_type": "display_data"
    },
    {
     "name": "stdout",
     "output_type": "stream",
     "text": [
      "Erreur lors de la requête : 404\n"
     ]
    },
    {
     "data": {
      "text/plain": [
       "'https://fr.trustpilot.com/review/ubbabio.com?page=5'"
      ]
     },
     "metadata": {},
     "output_type": "display_data"
    },
    {
     "name": "stdout",
     "output_type": "stream",
     "text": [
      "Erreur lors de la requête : 404\n"
     ]
    },
    {
     "data": {
      "text/plain": [
       "'https://fr.trustpilot.com/review/ubbabio.com?page=6'"
      ]
     },
     "metadata": {},
     "output_type": "display_data"
    },
    {
     "name": "stdout",
     "output_type": "stream",
     "text": [
      "Erreur lors de la requête : 404\n"
     ]
    },
    {
     "data": {
      "text/plain": [
       "'https://fr.trustpilot.com/review/ubbabio.com?page=7'"
      ]
     },
     "metadata": {},
     "output_type": "display_data"
    },
    {
     "name": "stdout",
     "output_type": "stream",
     "text": [
      "Erreur lors de la requête : 404\n"
     ]
    },
    {
     "data": {
      "text/plain": [
       "'https://fr.trustpilot.com/review/ubbabio.com?page=8'"
      ]
     },
     "metadata": {},
     "output_type": "display_data"
    },
    {
     "name": "stdout",
     "output_type": "stream",
     "text": [
      "Erreur lors de la requête : 404\n"
     ]
    },
    {
     "data": {
      "text/plain": [
       "'https://fr.trustpilot.com/review/ubbabio.com?page=9'"
      ]
     },
     "metadata": {},
     "output_type": "display_data"
    },
    {
     "name": "stdout",
     "output_type": "stream",
     "text": [
      "Erreur lors de la requête : 404\n"
     ]
    },
    {
     "data": {
      "text/plain": [
       "'https://fr.trustpilot.com/review/ubbabio.com?page=10'"
      ]
     },
     "metadata": {},
     "output_type": "display_data"
    },
    {
     "name": "stdout",
     "output_type": "stream",
     "text": [
      "Erreur lors de la requête : 404\n"
     ]
    },
    {
     "data": {
      "text/plain": [
       "'https://fr.trustpilot.com/review/ubbabio.com?page=11'"
      ]
     },
     "metadata": {},
     "output_type": "display_data"
    },
    {
     "name": "stdout",
     "output_type": "stream",
     "text": [
      "Erreur lors de la requête : 404\n"
     ]
    },
    {
     "data": {
      "text/plain": [
       "'https://fr.trustpilot.com/review/ubbabio.com?page=12'"
      ]
     },
     "metadata": {},
     "output_type": "display_data"
    },
    {
     "name": "stdout",
     "output_type": "stream",
     "text": [
      "Erreur lors de la requête : 404\n"
     ]
    },
    {
     "data": {
      "text/plain": [
       "'https://fr.trustpilot.com/review/ubbabio.com?page=13'"
      ]
     },
     "metadata": {},
     "output_type": "display_data"
    },
    {
     "name": "stdout",
     "output_type": "stream",
     "text": [
      "Erreur lors de la requête : 404\n"
     ]
    },
    {
     "data": {
      "text/plain": [
       "'https://fr.trustpilot.com/review/ubbabio.com?page=14'"
      ]
     },
     "metadata": {},
     "output_type": "display_data"
    },
    {
     "name": "stdout",
     "output_type": "stream",
     "text": [
      "Erreur lors de la requête : 404\n"
     ]
    },
    {
     "data": {
      "text/plain": [
       "'https://fr.trustpilot.com/review/ubbabio.com?page=15'"
      ]
     },
     "metadata": {},
     "output_type": "display_data"
    },
    {
     "name": "stdout",
     "output_type": "stream",
     "text": [
      "Erreur lors de la requête : 404\n"
     ]
    },
    {
     "data": {
      "text/plain": [
       "'https://fr.trustpilot.com/review/ubbabio.com?page=16'"
      ]
     },
     "metadata": {},
     "output_type": "display_data"
    },
    {
     "name": "stdout",
     "output_type": "stream",
     "text": [
      "Erreur lors de la requête : 404\n"
     ]
    },
    {
     "data": {
      "text/plain": [
       "'https://fr.trustpilot.com/review/ubbabio.com?page=17'"
      ]
     },
     "metadata": {},
     "output_type": "display_data"
    },
    {
     "name": "stdout",
     "output_type": "stream",
     "text": [
      "Erreur lors de la requête : 404\n"
     ]
    },
    {
     "data": {
      "text/plain": [
       "'https://fr.trustpilot.com/review/ubbabio.com?page=18'"
      ]
     },
     "metadata": {},
     "output_type": "display_data"
    },
    {
     "name": "stdout",
     "output_type": "stream",
     "text": [
      "Erreur lors de la requête : 404\n"
     ]
    },
    {
     "data": {
      "text/plain": [
       "'https://fr.trustpilot.com/review/ubbabio.com?page=19'"
      ]
     },
     "metadata": {},
     "output_type": "display_data"
    },
    {
     "name": "stdout",
     "output_type": "stream",
     "text": [
      "Erreur lors de la requête : 404\n"
     ]
    },
    {
     "data": {
      "text/plain": [
       "'https://fr.trustpilot.com/review/ubbabio.com?page=20'"
      ]
     },
     "metadata": {},
     "output_type": "display_data"
    },
    {
     "name": "stdout",
     "output_type": "stream",
     "text": [
      "Erreur lors de la requête : 404\n",
      "expe-domtom\n"
     ]
    },
    {
     "data": {
      "text/plain": [
       "'https://fr.trustpilot.com/review/www.expe-domtom.fr?page=1'"
      ]
     },
     "metadata": {},
     "output_type": "display_data"
    },
    {
     "data": {
      "text/plain": [
       "'https://fr.trustpilot.com/review/www.expe-domtom.fr?page=2'"
      ]
     },
     "metadata": {},
     "output_type": "display_data"
    },
    {
     "data": {
      "text/plain": [
       "'https://fr.trustpilot.com/review/www.expe-domtom.fr?page=3'"
      ]
     },
     "metadata": {},
     "output_type": "display_data"
    },
    {
     "data": {
      "text/plain": [
       "'https://fr.trustpilot.com/review/www.expe-domtom.fr?page=4'"
      ]
     },
     "metadata": {},
     "output_type": "display_data"
    },
    {
     "data": {
      "text/plain": [
       "'https://fr.trustpilot.com/review/www.expe-domtom.fr?page=5'"
      ]
     },
     "metadata": {},
     "output_type": "display_data"
    },
    {
     "data": {
      "text/plain": [
       "'https://fr.trustpilot.com/review/www.expe-domtom.fr?page=6'"
      ]
     },
     "metadata": {},
     "output_type": "display_data"
    },
    {
     "data": {
      "text/plain": [
       "'https://fr.trustpilot.com/review/www.expe-domtom.fr?page=7'"
      ]
     },
     "metadata": {},
     "output_type": "display_data"
    },
    {
     "name": "stdout",
     "output_type": "stream",
     "text": [
      "Erreur lors de la requête : 404\n"
     ]
    },
    {
     "data": {
      "text/plain": [
       "'https://fr.trustpilot.com/review/www.expe-domtom.fr?page=8'"
      ]
     },
     "metadata": {},
     "output_type": "display_data"
    },
    {
     "name": "stdout",
     "output_type": "stream",
     "text": [
      "Erreur lors de la requête : 404\n"
     ]
    },
    {
     "data": {
      "text/plain": [
       "'https://fr.trustpilot.com/review/www.expe-domtom.fr?page=9'"
      ]
     },
     "metadata": {},
     "output_type": "display_data"
    },
    {
     "name": "stdout",
     "output_type": "stream",
     "text": [
      "Erreur lors de la requête : 404\n"
     ]
    },
    {
     "data": {
      "text/plain": [
       "'https://fr.trustpilot.com/review/www.expe-domtom.fr?page=10'"
      ]
     },
     "metadata": {},
     "output_type": "display_data"
    },
    {
     "name": "stdout",
     "output_type": "stream",
     "text": [
      "Erreur lors de la requête : 404\n"
     ]
    },
    {
     "data": {
      "text/plain": [
       "'https://fr.trustpilot.com/review/www.expe-domtom.fr?page=11'"
      ]
     },
     "metadata": {},
     "output_type": "display_data"
    },
    {
     "name": "stdout",
     "output_type": "stream",
     "text": [
      "Erreur lors de la requête : 404\n"
     ]
    },
    {
     "data": {
      "text/plain": [
       "'https://fr.trustpilot.com/review/www.expe-domtom.fr?page=12'"
      ]
     },
     "metadata": {},
     "output_type": "display_data"
    },
    {
     "name": "stdout",
     "output_type": "stream",
     "text": [
      "Erreur lors de la requête : 404\n"
     ]
    },
    {
     "data": {
      "text/plain": [
       "'https://fr.trustpilot.com/review/www.expe-domtom.fr?page=13'"
      ]
     },
     "metadata": {},
     "output_type": "display_data"
    },
    {
     "name": "stdout",
     "output_type": "stream",
     "text": [
      "Erreur lors de la requête : 404\n"
     ]
    },
    {
     "data": {
      "text/plain": [
       "'https://fr.trustpilot.com/review/www.expe-domtom.fr?page=14'"
      ]
     },
     "metadata": {},
     "output_type": "display_data"
    },
    {
     "name": "stdout",
     "output_type": "stream",
     "text": [
      "Erreur lors de la requête : 404\n"
     ]
    },
    {
     "data": {
      "text/plain": [
       "'https://fr.trustpilot.com/review/www.expe-domtom.fr?page=15'"
      ]
     },
     "metadata": {},
     "output_type": "display_data"
    },
    {
     "name": "stdout",
     "output_type": "stream",
     "text": [
      "Erreur lors de la requête : 404\n"
     ]
    },
    {
     "data": {
      "text/plain": [
       "'https://fr.trustpilot.com/review/www.expe-domtom.fr?page=16'"
      ]
     },
     "metadata": {},
     "output_type": "display_data"
    },
    {
     "name": "stdout",
     "output_type": "stream",
     "text": [
      "Erreur lors de la requête : 404\n"
     ]
    },
    {
     "data": {
      "text/plain": [
       "'https://fr.trustpilot.com/review/www.expe-domtom.fr?page=17'"
      ]
     },
     "metadata": {},
     "output_type": "display_data"
    },
    {
     "name": "stdout",
     "output_type": "stream",
     "text": [
      "Erreur lors de la requête : 404\n"
     ]
    },
    {
     "data": {
      "text/plain": [
       "'https://fr.trustpilot.com/review/www.expe-domtom.fr?page=18'"
      ]
     },
     "metadata": {},
     "output_type": "display_data"
    },
    {
     "name": "stdout",
     "output_type": "stream",
     "text": [
      "Erreur lors de la requête : 404\n"
     ]
    },
    {
     "data": {
      "text/plain": [
       "'https://fr.trustpilot.com/review/www.expe-domtom.fr?page=19'"
      ]
     },
     "metadata": {},
     "output_type": "display_data"
    },
    {
     "name": "stdout",
     "output_type": "stream",
     "text": [
      "Erreur lors de la requête : 404\n"
     ]
    },
    {
     "data": {
      "text/plain": [
       "'https://fr.trustpilot.com/review/www.expe-domtom.fr?page=20'"
      ]
     },
     "metadata": {},
     "output_type": "display_data"
    },
    {
     "name": "stdout",
     "output_type": "stream",
     "text": [
      "Erreur lors de la requête : 404\n",
      "weed-side-story\n"
     ]
    },
    {
     "data": {
      "text/plain": [
       "'https://fr.trustpilot.com/review/weed-side-story.com?page=1'"
      ]
     },
     "metadata": {},
     "output_type": "display_data"
    },
    {
     "data": {
      "text/plain": [
       "'https://fr.trustpilot.com/review/weed-side-story.com?page=2'"
      ]
     },
     "metadata": {},
     "output_type": "display_data"
    },
    {
     "data": {
      "text/plain": [
       "'https://fr.trustpilot.com/review/weed-side-story.com?page=3'"
      ]
     },
     "metadata": {},
     "output_type": "display_data"
    },
    {
     "data": {
      "text/plain": [
       "'https://fr.trustpilot.com/review/weed-side-story.com?page=4'"
      ]
     },
     "metadata": {},
     "output_type": "display_data"
    },
    {
     "data": {
      "text/plain": [
       "'https://fr.trustpilot.com/review/weed-side-story.com?page=5'"
      ]
     },
     "metadata": {},
     "output_type": "display_data"
    },
    {
     "data": {
      "text/plain": [
       "'https://fr.trustpilot.com/review/weed-side-story.com?page=6'"
      ]
     },
     "metadata": {},
     "output_type": "display_data"
    },
    {
     "data": {
      "text/plain": [
       "'https://fr.trustpilot.com/review/weed-side-story.com?page=7'"
      ]
     },
     "metadata": {},
     "output_type": "display_data"
    },
    {
     "data": {
      "text/plain": [
       "'https://fr.trustpilot.com/review/weed-side-story.com?page=8'"
      ]
     },
     "metadata": {},
     "output_type": "display_data"
    },
    {
     "data": {
      "text/plain": [
       "'https://fr.trustpilot.com/review/weed-side-story.com?page=9'"
      ]
     },
     "metadata": {},
     "output_type": "display_data"
    },
    {
     "data": {
      "text/plain": [
       "'https://fr.trustpilot.com/review/weed-side-story.com?page=10'"
      ]
     },
     "metadata": {},
     "output_type": "display_data"
    },
    {
     "data": {
      "text/plain": [
       "'https://fr.trustpilot.com/review/weed-side-story.com?page=11'"
      ]
     },
     "metadata": {},
     "output_type": "display_data"
    },
    {
     "data": {
      "text/plain": [
       "'https://fr.trustpilot.com/review/weed-side-story.com?page=12'"
      ]
     },
     "metadata": {},
     "output_type": "display_data"
    },
    {
     "data": {
      "text/plain": [
       "'https://fr.trustpilot.com/review/weed-side-story.com?page=13'"
      ]
     },
     "metadata": {},
     "output_type": "display_data"
    },
    {
     "data": {
      "text/plain": [
       "'https://fr.trustpilot.com/review/weed-side-story.com?page=14'"
      ]
     },
     "metadata": {},
     "output_type": "display_data"
    },
    {
     "data": {
      "text/plain": [
       "'https://fr.trustpilot.com/review/weed-side-story.com?page=15'"
      ]
     },
     "metadata": {},
     "output_type": "display_data"
    },
    {
     "data": {
      "text/plain": [
       "'https://fr.trustpilot.com/review/weed-side-story.com?page=16'"
      ]
     },
     "metadata": {},
     "output_type": "display_data"
    },
    {
     "data": {
      "text/plain": [
       "'https://fr.trustpilot.com/review/weed-side-story.com?page=17'"
      ]
     },
     "metadata": {},
     "output_type": "display_data"
    },
    {
     "data": {
      "text/plain": [
       "'https://fr.trustpilot.com/review/weed-side-story.com?page=18'"
      ]
     },
     "metadata": {},
     "output_type": "display_data"
    },
    {
     "data": {
      "text/plain": [
       "'https://fr.trustpilot.com/review/weed-side-story.com?page=19'"
      ]
     },
     "metadata": {},
     "output_type": "display_data"
    },
    {
     "data": {
      "text/plain": [
       "'https://fr.trustpilot.com/review/weed-side-story.com?page=20'"
      ]
     },
     "metadata": {},
     "output_type": "display_data"
    },
    {
     "name": "stdout",
     "output_type": "stream",
     "text": [
      "happy-post\n"
     ]
    },
    {
     "data": {
      "text/plain": [
       "'https://fr.trustpilot.com/review/happy-post.com?page=1'"
      ]
     },
     "metadata": {},
     "output_type": "display_data"
    },
    {
     "data": {
      "text/plain": [
       "'https://fr.trustpilot.com/review/happy-post.com?page=2'"
      ]
     },
     "metadata": {},
     "output_type": "display_data"
    },
    {
     "data": {
      "text/plain": [
       "'https://fr.trustpilot.com/review/happy-post.com?page=3'"
      ]
     },
     "metadata": {},
     "output_type": "display_data"
    },
    {
     "data": {
      "text/plain": [
       "'https://fr.trustpilot.com/review/happy-post.com?page=4'"
      ]
     },
     "metadata": {},
     "output_type": "display_data"
    },
    {
     "data": {
      "text/plain": [
       "'https://fr.trustpilot.com/review/happy-post.com?page=5'"
      ]
     },
     "metadata": {},
     "output_type": "display_data"
    },
    {
     "data": {
      "text/plain": [
       "'https://fr.trustpilot.com/review/happy-post.com?page=6'"
      ]
     },
     "metadata": {},
     "output_type": "display_data"
    },
    {
     "data": {
      "text/plain": [
       "'https://fr.trustpilot.com/review/happy-post.com?page=7'"
      ]
     },
     "metadata": {},
     "output_type": "display_data"
    },
    {
     "data": {
      "text/plain": [
       "'https://fr.trustpilot.com/review/happy-post.com?page=8'"
      ]
     },
     "metadata": {},
     "output_type": "display_data"
    },
    {
     "data": {
      "text/plain": [
       "'https://fr.trustpilot.com/review/happy-post.com?page=9'"
      ]
     },
     "metadata": {},
     "output_type": "display_data"
    },
    {
     "data": {
      "text/plain": [
       "'https://fr.trustpilot.com/review/happy-post.com?page=10'"
      ]
     },
     "metadata": {},
     "output_type": "display_data"
    },
    {
     "data": {
      "text/plain": [
       "'https://fr.trustpilot.com/review/happy-post.com?page=11'"
      ]
     },
     "metadata": {},
     "output_type": "display_data"
    },
    {
     "data": {
      "text/plain": [
       "'https://fr.trustpilot.com/review/happy-post.com?page=12'"
      ]
     },
     "metadata": {},
     "output_type": "display_data"
    },
    {
     "data": {
      "text/plain": [
       "'https://fr.trustpilot.com/review/happy-post.com?page=13'"
      ]
     },
     "metadata": {},
     "output_type": "display_data"
    },
    {
     "data": {
      "text/plain": [
       "'https://fr.trustpilot.com/review/happy-post.com?page=14'"
      ]
     },
     "metadata": {},
     "output_type": "display_data"
    },
    {
     "data": {
      "text/plain": [
       "'https://fr.trustpilot.com/review/happy-post.com?page=15'"
      ]
     },
     "metadata": {},
     "output_type": "display_data"
    },
    {
     "data": {
      "text/plain": [
       "'https://fr.trustpilot.com/review/happy-post.com?page=16'"
      ]
     },
     "metadata": {},
     "output_type": "display_data"
    },
    {
     "data": {
      "text/plain": [
       "'https://fr.trustpilot.com/review/happy-post.com?page=17'"
      ]
     },
     "metadata": {},
     "output_type": "display_data"
    },
    {
     "data": {
      "text/plain": [
       "'https://fr.trustpilot.com/review/happy-post.com?page=18'"
      ]
     },
     "metadata": {},
     "output_type": "display_data"
    },
    {
     "data": {
      "text/plain": [
       "'https://fr.trustpilot.com/review/happy-post.com?page=19'"
      ]
     },
     "metadata": {},
     "output_type": "display_data"
    },
    {
     "data": {
      "text/plain": [
       "'https://fr.trustpilot.com/review/happy-post.com?page=20'"
      ]
     },
     "metadata": {},
     "output_type": "display_data"
    },
    {
     "name": "stdout",
     "output_type": "stream",
     "text": [
      "packhelp\n"
     ]
    },
    {
     "data": {
      "text/plain": [
       "'https://fr.trustpilot.com/review/www.packhelp.fr?page=1'"
      ]
     },
     "metadata": {},
     "output_type": "display_data"
    },
    {
     "data": {
      "text/plain": [
       "'https://fr.trustpilot.com/review/www.packhelp.fr?page=2'"
      ]
     },
     "metadata": {},
     "output_type": "display_data"
    },
    {
     "data": {
      "text/plain": [
       "'https://fr.trustpilot.com/review/www.packhelp.fr?page=3'"
      ]
     },
     "metadata": {},
     "output_type": "display_data"
    },
    {
     "data": {
      "text/plain": [
       "'https://fr.trustpilot.com/review/www.packhelp.fr?page=4'"
      ]
     },
     "metadata": {},
     "output_type": "display_data"
    },
    {
     "data": {
      "text/plain": [
       "'https://fr.trustpilot.com/review/www.packhelp.fr?page=5'"
      ]
     },
     "metadata": {},
     "output_type": "display_data"
    },
    {
     "data": {
      "text/plain": [
       "'https://fr.trustpilot.com/review/www.packhelp.fr?page=6'"
      ]
     },
     "metadata": {},
     "output_type": "display_data"
    },
    {
     "data": {
      "text/plain": [
       "'https://fr.trustpilot.com/review/www.packhelp.fr?page=7'"
      ]
     },
     "metadata": {},
     "output_type": "display_data"
    },
    {
     "data": {
      "text/plain": [
       "'https://fr.trustpilot.com/review/www.packhelp.fr?page=8'"
      ]
     },
     "metadata": {},
     "output_type": "display_data"
    },
    {
     "data": {
      "text/plain": [
       "'https://fr.trustpilot.com/review/www.packhelp.fr?page=9'"
      ]
     },
     "metadata": {},
     "output_type": "display_data"
    },
    {
     "data": {
      "text/plain": [
       "'https://fr.trustpilot.com/review/www.packhelp.fr?page=10'"
      ]
     },
     "metadata": {},
     "output_type": "display_data"
    },
    {
     "data": {
      "text/plain": [
       "'https://fr.trustpilot.com/review/www.packhelp.fr?page=11'"
      ]
     },
     "metadata": {},
     "output_type": "display_data"
    },
    {
     "data": {
      "text/plain": [
       "'https://fr.trustpilot.com/review/www.packhelp.fr?page=12'"
      ]
     },
     "metadata": {},
     "output_type": "display_data"
    },
    {
     "data": {
      "text/plain": [
       "'https://fr.trustpilot.com/review/www.packhelp.fr?page=13'"
      ]
     },
     "metadata": {},
     "output_type": "display_data"
    },
    {
     "data": {
      "text/plain": [
       "'https://fr.trustpilot.com/review/www.packhelp.fr?page=14'"
      ]
     },
     "metadata": {},
     "output_type": "display_data"
    },
    {
     "data": {
      "text/plain": [
       "'https://fr.trustpilot.com/review/www.packhelp.fr?page=15'"
      ]
     },
     "metadata": {},
     "output_type": "display_data"
    },
    {
     "data": {
      "text/plain": [
       "'https://fr.trustpilot.com/review/www.packhelp.fr?page=16'"
      ]
     },
     "metadata": {},
     "output_type": "display_data"
    },
    {
     "data": {
      "text/plain": [
       "'https://fr.trustpilot.com/review/www.packhelp.fr?page=17'"
      ]
     },
     "metadata": {},
     "output_type": "display_data"
    },
    {
     "data": {
      "text/plain": [
       "'https://fr.trustpilot.com/review/www.packhelp.fr?page=18'"
      ]
     },
     "metadata": {},
     "output_type": "display_data"
    },
    {
     "data": {
      "text/plain": [
       "'https://fr.trustpilot.com/review/www.packhelp.fr?page=19'"
      ]
     },
     "metadata": {},
     "output_type": "display_data"
    },
    {
     "data": {
      "text/plain": [
       "'https://fr.trustpilot.com/review/www.packhelp.fr?page=20'"
      ]
     },
     "metadata": {},
     "output_type": "display_data"
    },
    {
     "name": "stdout",
     "output_type": "stream",
     "text": [
      "colicoli\n"
     ]
    },
    {
     "data": {
      "text/plain": [
       "'https://fr.trustpilot.com/review/colicoli.fr?page=1'"
      ]
     },
     "metadata": {},
     "output_type": "display_data"
    },
    {
     "data": {
      "text/plain": [
       "'https://fr.trustpilot.com/review/colicoli.fr?page=2'"
      ]
     },
     "metadata": {},
     "output_type": "display_data"
    },
    {
     "data": {
      "text/plain": [
       "'https://fr.trustpilot.com/review/colicoli.fr?page=3'"
      ]
     },
     "metadata": {},
     "output_type": "display_data"
    },
    {
     "data": {
      "text/plain": [
       "'https://fr.trustpilot.com/review/colicoli.fr?page=4'"
      ]
     },
     "metadata": {},
     "output_type": "display_data"
    },
    {
     "data": {
      "text/plain": [
       "'https://fr.trustpilot.com/review/colicoli.fr?page=5'"
      ]
     },
     "metadata": {},
     "output_type": "display_data"
    },
    {
     "data": {
      "text/plain": [
       "'https://fr.trustpilot.com/review/colicoli.fr?page=6'"
      ]
     },
     "metadata": {},
     "output_type": "display_data"
    },
    {
     "data": {
      "text/plain": [
       "'https://fr.trustpilot.com/review/colicoli.fr?page=7'"
      ]
     },
     "metadata": {},
     "output_type": "display_data"
    },
    {
     "data": {
      "text/plain": [
       "'https://fr.trustpilot.com/review/colicoli.fr?page=8'"
      ]
     },
     "metadata": {},
     "output_type": "display_data"
    },
    {
     "data": {
      "text/plain": [
       "'https://fr.trustpilot.com/review/colicoli.fr?page=9'"
      ]
     },
     "metadata": {},
     "output_type": "display_data"
    },
    {
     "data": {
      "text/plain": [
       "'https://fr.trustpilot.com/review/colicoli.fr?page=10'"
      ]
     },
     "metadata": {},
     "output_type": "display_data"
    },
    {
     "data": {
      "text/plain": [
       "'https://fr.trustpilot.com/review/colicoli.fr?page=11'"
      ]
     },
     "metadata": {},
     "output_type": "display_data"
    },
    {
     "data": {
      "text/plain": [
       "'https://fr.trustpilot.com/review/colicoli.fr?page=12'"
      ]
     },
     "metadata": {},
     "output_type": "display_data"
    },
    {
     "data": {
      "text/plain": [
       "'https://fr.trustpilot.com/review/colicoli.fr?page=13'"
      ]
     },
     "metadata": {},
     "output_type": "display_data"
    },
    {
     "data": {
      "text/plain": [
       "'https://fr.trustpilot.com/review/colicoli.fr?page=14'"
      ]
     },
     "metadata": {},
     "output_type": "display_data"
    },
    {
     "data": {
      "text/plain": [
       "'https://fr.trustpilot.com/review/colicoli.fr?page=15'"
      ]
     },
     "metadata": {},
     "output_type": "display_data"
    },
    {
     "data": {
      "text/plain": [
       "'https://fr.trustpilot.com/review/colicoli.fr?page=16'"
      ]
     },
     "metadata": {},
     "output_type": "display_data"
    },
    {
     "data": {
      "text/plain": [
       "'https://fr.trustpilot.com/review/colicoli.fr?page=17'"
      ]
     },
     "metadata": {},
     "output_type": "display_data"
    },
    {
     "data": {
      "text/plain": [
       "'https://fr.trustpilot.com/review/colicoli.fr?page=18'"
      ]
     },
     "metadata": {},
     "output_type": "display_data"
    },
    {
     "data": {
      "text/plain": [
       "'https://fr.trustpilot.com/review/colicoli.fr?page=19'"
      ]
     },
     "metadata": {},
     "output_type": "display_data"
    },
    {
     "data": {
      "text/plain": [
       "'https://fr.trustpilot.com/review/colicoli.fr?page=20'"
      ]
     },
     "metadata": {},
     "output_type": "display_data"
    },
    {
     "name": "stdout",
     "output_type": "stream",
     "text": [
      "thepackengers\n"
     ]
    },
    {
     "data": {
      "text/plain": [
       "'https://fr.trustpilot.com/review/www.thepackengers.com?page=1'"
      ]
     },
     "metadata": {},
     "output_type": "display_data"
    },
    {
     "data": {
      "text/plain": [
       "'https://fr.trustpilot.com/review/www.thepackengers.com?page=2'"
      ]
     },
     "metadata": {},
     "output_type": "display_data"
    },
    {
     "data": {
      "text/plain": [
       "'https://fr.trustpilot.com/review/www.thepackengers.com?page=3'"
      ]
     },
     "metadata": {},
     "output_type": "display_data"
    },
    {
     "data": {
      "text/plain": [
       "'https://fr.trustpilot.com/review/www.thepackengers.com?page=4'"
      ]
     },
     "metadata": {},
     "output_type": "display_data"
    },
    {
     "data": {
      "text/plain": [
       "'https://fr.trustpilot.com/review/www.thepackengers.com?page=5'"
      ]
     },
     "metadata": {},
     "output_type": "display_data"
    },
    {
     "data": {
      "text/plain": [
       "'https://fr.trustpilot.com/review/www.thepackengers.com?page=6'"
      ]
     },
     "metadata": {},
     "output_type": "display_data"
    },
    {
     "data": {
      "text/plain": [
       "'https://fr.trustpilot.com/review/www.thepackengers.com?page=7'"
      ]
     },
     "metadata": {},
     "output_type": "display_data"
    },
    {
     "data": {
      "text/plain": [
       "'https://fr.trustpilot.com/review/www.thepackengers.com?page=8'"
      ]
     },
     "metadata": {},
     "output_type": "display_data"
    },
    {
     "data": {
      "text/plain": [
       "'https://fr.trustpilot.com/review/www.thepackengers.com?page=9'"
      ]
     },
     "metadata": {},
     "output_type": "display_data"
    },
    {
     "data": {
      "text/plain": [
       "'https://fr.trustpilot.com/review/www.thepackengers.com?page=10'"
      ]
     },
     "metadata": {},
     "output_type": "display_data"
    },
    {
     "data": {
      "text/plain": [
       "'https://fr.trustpilot.com/review/www.thepackengers.com?page=11'"
      ]
     },
     "metadata": {},
     "output_type": "display_data"
    },
    {
     "data": {
      "text/plain": [
       "'https://fr.trustpilot.com/review/www.thepackengers.com?page=12'"
      ]
     },
     "metadata": {},
     "output_type": "display_data"
    },
    {
     "data": {
      "text/plain": [
       "'https://fr.trustpilot.com/review/www.thepackengers.com?page=13'"
      ]
     },
     "metadata": {},
     "output_type": "display_data"
    },
    {
     "data": {
      "text/plain": [
       "'https://fr.trustpilot.com/review/www.thepackengers.com?page=14'"
      ]
     },
     "metadata": {},
     "output_type": "display_data"
    },
    {
     "data": {
      "text/plain": [
       "'https://fr.trustpilot.com/review/www.thepackengers.com?page=15'"
      ]
     },
     "metadata": {},
     "output_type": "display_data"
    },
    {
     "data": {
      "text/plain": [
       "'https://fr.trustpilot.com/review/www.thepackengers.com?page=16'"
      ]
     },
     "metadata": {},
     "output_type": "display_data"
    },
    {
     "data": {
      "text/plain": [
       "'https://fr.trustpilot.com/review/www.thepackengers.com?page=17'"
      ]
     },
     "metadata": {},
     "output_type": "display_data"
    },
    {
     "data": {
      "text/plain": [
       "'https://fr.trustpilot.com/review/www.thepackengers.com?page=18'"
      ]
     },
     "metadata": {},
     "output_type": "display_data"
    },
    {
     "data": {
      "text/plain": [
       "'https://fr.trustpilot.com/review/www.thepackengers.com?page=19'"
      ]
     },
     "metadata": {},
     "output_type": "display_data"
    },
    {
     "data": {
      "text/plain": [
       "'https://fr.trustpilot.com/review/www.thepackengers.com?page=20'"
      ]
     },
     "metadata": {},
     "output_type": "display_data"
    },
    {
     "name": "stdout",
     "output_type": "stream",
     "text": [
      "shopiles\n"
     ]
    },
    {
     "data": {
      "text/plain": [
       "'https://fr.trustpilot.com/review/www.shopiles.fr?page=1'"
      ]
     },
     "metadata": {},
     "output_type": "display_data"
    },
    {
     "data": {
      "text/plain": [
       "'https://fr.trustpilot.com/review/www.shopiles.fr?page=2'"
      ]
     },
     "metadata": {},
     "output_type": "display_data"
    },
    {
     "data": {
      "text/plain": [
       "'https://fr.trustpilot.com/review/www.shopiles.fr?page=3'"
      ]
     },
     "metadata": {},
     "output_type": "display_data"
    },
    {
     "data": {
      "text/plain": [
       "'https://fr.trustpilot.com/review/www.shopiles.fr?page=4'"
      ]
     },
     "metadata": {},
     "output_type": "display_data"
    },
    {
     "data": {
      "text/plain": [
       "'https://fr.trustpilot.com/review/www.shopiles.fr?page=5'"
      ]
     },
     "metadata": {},
     "output_type": "display_data"
    },
    {
     "data": {
      "text/plain": [
       "'https://fr.trustpilot.com/review/www.shopiles.fr?page=6'"
      ]
     },
     "metadata": {},
     "output_type": "display_data"
    },
    {
     "data": {
      "text/plain": [
       "'https://fr.trustpilot.com/review/www.shopiles.fr?page=7'"
      ]
     },
     "metadata": {},
     "output_type": "display_data"
    },
    {
     "data": {
      "text/plain": [
       "'https://fr.trustpilot.com/review/www.shopiles.fr?page=8'"
      ]
     },
     "metadata": {},
     "output_type": "display_data"
    },
    {
     "data": {
      "text/plain": [
       "'https://fr.trustpilot.com/review/www.shopiles.fr?page=9'"
      ]
     },
     "metadata": {},
     "output_type": "display_data"
    },
    {
     "data": {
      "text/plain": [
       "'https://fr.trustpilot.com/review/www.shopiles.fr?page=10'"
      ]
     },
     "metadata": {},
     "output_type": "display_data"
    },
    {
     "data": {
      "text/plain": [
       "'https://fr.trustpilot.com/review/www.shopiles.fr?page=11'"
      ]
     },
     "metadata": {},
     "output_type": "display_data"
    },
    {
     "data": {
      "text/plain": [
       "'https://fr.trustpilot.com/review/www.shopiles.fr?page=12'"
      ]
     },
     "metadata": {},
     "output_type": "display_data"
    },
    {
     "data": {
      "text/plain": [
       "'https://fr.trustpilot.com/review/www.shopiles.fr?page=13'"
      ]
     },
     "metadata": {},
     "output_type": "display_data"
    },
    {
     "data": {
      "text/plain": [
       "'https://fr.trustpilot.com/review/www.shopiles.fr?page=14'"
      ]
     },
     "metadata": {},
     "output_type": "display_data"
    },
    {
     "data": {
      "text/plain": [
       "'https://fr.trustpilot.com/review/www.shopiles.fr?page=15'"
      ]
     },
     "metadata": {},
     "output_type": "display_data"
    },
    {
     "data": {
      "text/plain": [
       "'https://fr.trustpilot.com/review/www.shopiles.fr?page=16'"
      ]
     },
     "metadata": {},
     "output_type": "display_data"
    },
    {
     "data": {
      "text/plain": [
       "'https://fr.trustpilot.com/review/www.shopiles.fr?page=17'"
      ]
     },
     "metadata": {},
     "output_type": "display_data"
    },
    {
     "data": {
      "text/plain": [
       "'https://fr.trustpilot.com/review/www.shopiles.fr?page=18'"
      ]
     },
     "metadata": {},
     "output_type": "display_data"
    },
    {
     "data": {
      "text/plain": [
       "'https://fr.trustpilot.com/review/www.shopiles.fr?page=19'"
      ]
     },
     "metadata": {},
     "output_type": "display_data"
    },
    {
     "data": {
      "text/plain": [
       "'https://fr.trustpilot.com/review/www.shopiles.fr?page=20'"
      ]
     },
     "metadata": {},
     "output_type": "display_data"
    },
    {
     "name": "stdout",
     "output_type": "stream",
     "text": [
      "colisexpat\n"
     ]
    },
    {
     "data": {
      "text/plain": [
       "'https://fr.trustpilot.com/review/www.colisexpat.com?page=1'"
      ]
     },
     "metadata": {},
     "output_type": "display_data"
    },
    {
     "data": {
      "text/plain": [
       "'https://fr.trustpilot.com/review/www.colisexpat.com?page=2'"
      ]
     },
     "metadata": {},
     "output_type": "display_data"
    },
    {
     "data": {
      "text/plain": [
       "'https://fr.trustpilot.com/review/www.colisexpat.com?page=3'"
      ]
     },
     "metadata": {},
     "output_type": "display_data"
    },
    {
     "data": {
      "text/plain": [
       "'https://fr.trustpilot.com/review/www.colisexpat.com?page=4'"
      ]
     },
     "metadata": {},
     "output_type": "display_data"
    },
    {
     "data": {
      "text/plain": [
       "'https://fr.trustpilot.com/review/www.colisexpat.com?page=5'"
      ]
     },
     "metadata": {},
     "output_type": "display_data"
    },
    {
     "data": {
      "text/plain": [
       "'https://fr.trustpilot.com/review/www.colisexpat.com?page=6'"
      ]
     },
     "metadata": {},
     "output_type": "display_data"
    },
    {
     "data": {
      "text/plain": [
       "'https://fr.trustpilot.com/review/www.colisexpat.com?page=7'"
      ]
     },
     "metadata": {},
     "output_type": "display_data"
    },
    {
     "data": {
      "text/plain": [
       "'https://fr.trustpilot.com/review/www.colisexpat.com?page=8'"
      ]
     },
     "metadata": {},
     "output_type": "display_data"
    },
    {
     "data": {
      "text/plain": [
       "'https://fr.trustpilot.com/review/www.colisexpat.com?page=9'"
      ]
     },
     "metadata": {},
     "output_type": "display_data"
    },
    {
     "data": {
      "text/plain": [
       "'https://fr.trustpilot.com/review/www.colisexpat.com?page=10'"
      ]
     },
     "metadata": {},
     "output_type": "display_data"
    },
    {
     "data": {
      "text/plain": [
       "'https://fr.trustpilot.com/review/www.colisexpat.com?page=11'"
      ]
     },
     "metadata": {},
     "output_type": "display_data"
    },
    {
     "data": {
      "text/plain": [
       "'https://fr.trustpilot.com/review/www.colisexpat.com?page=12'"
      ]
     },
     "metadata": {},
     "output_type": "display_data"
    },
    {
     "data": {
      "text/plain": [
       "'https://fr.trustpilot.com/review/www.colisexpat.com?page=13'"
      ]
     },
     "metadata": {},
     "output_type": "display_data"
    },
    {
     "data": {
      "text/plain": [
       "'https://fr.trustpilot.com/review/www.colisexpat.com?page=14'"
      ]
     },
     "metadata": {},
     "output_type": "display_data"
    },
    {
     "data": {
      "text/plain": [
       "'https://fr.trustpilot.com/review/www.colisexpat.com?page=15'"
      ]
     },
     "metadata": {},
     "output_type": "display_data"
    },
    {
     "data": {
      "text/plain": [
       "'https://fr.trustpilot.com/review/www.colisexpat.com?page=16'"
      ]
     },
     "metadata": {},
     "output_type": "display_data"
    },
    {
     "data": {
      "text/plain": [
       "'https://fr.trustpilot.com/review/www.colisexpat.com?page=17'"
      ]
     },
     "metadata": {},
     "output_type": "display_data"
    },
    {
     "data": {
      "text/plain": [
       "'https://fr.trustpilot.com/review/www.colisexpat.com?page=18'"
      ]
     },
     "metadata": {},
     "output_type": "display_data"
    },
    {
     "data": {
      "text/plain": [
       "'https://fr.trustpilot.com/review/www.colisexpat.com?page=19'"
      ]
     },
     "metadata": {},
     "output_type": "display_data"
    },
    {
     "data": {
      "text/plain": [
       "'https://fr.trustpilot.com/review/www.colisexpat.com?page=20'"
      ]
     },
     "metadata": {},
     "output_type": "display_data"
    },
    {
     "name": "stdout",
     "output_type": "stream",
     "text": [
      "fretbay\n"
     ]
    },
    {
     "data": {
      "text/plain": [
       "'https://fr.trustpilot.com/review/www.fretbay.com?page=1'"
      ]
     },
     "metadata": {},
     "output_type": "display_data"
    },
    {
     "data": {
      "text/plain": [
       "'https://fr.trustpilot.com/review/www.fretbay.com?page=2'"
      ]
     },
     "metadata": {},
     "output_type": "display_data"
    },
    {
     "data": {
      "text/plain": [
       "'https://fr.trustpilot.com/review/www.fretbay.com?page=3'"
      ]
     },
     "metadata": {},
     "output_type": "display_data"
    },
    {
     "data": {
      "text/plain": [
       "'https://fr.trustpilot.com/review/www.fretbay.com?page=4'"
      ]
     },
     "metadata": {},
     "output_type": "display_data"
    },
    {
     "data": {
      "text/plain": [
       "'https://fr.trustpilot.com/review/www.fretbay.com?page=5'"
      ]
     },
     "metadata": {},
     "output_type": "display_data"
    },
    {
     "data": {
      "text/plain": [
       "'https://fr.trustpilot.com/review/www.fretbay.com?page=6'"
      ]
     },
     "metadata": {},
     "output_type": "display_data"
    },
    {
     "data": {
      "text/plain": [
       "'https://fr.trustpilot.com/review/www.fretbay.com?page=7'"
      ]
     },
     "metadata": {},
     "output_type": "display_data"
    },
    {
     "data": {
      "text/plain": [
       "'https://fr.trustpilot.com/review/www.fretbay.com?page=8'"
      ]
     },
     "metadata": {},
     "output_type": "display_data"
    },
    {
     "data": {
      "text/plain": [
       "'https://fr.trustpilot.com/review/www.fretbay.com?page=9'"
      ]
     },
     "metadata": {},
     "output_type": "display_data"
    },
    {
     "data": {
      "text/plain": [
       "'https://fr.trustpilot.com/review/www.fretbay.com?page=10'"
      ]
     },
     "metadata": {},
     "output_type": "display_data"
    },
    {
     "data": {
      "text/plain": [
       "'https://fr.trustpilot.com/review/www.fretbay.com?page=11'"
      ]
     },
     "metadata": {},
     "output_type": "display_data"
    },
    {
     "data": {
      "text/plain": [
       "'https://fr.trustpilot.com/review/www.fretbay.com?page=12'"
      ]
     },
     "metadata": {},
     "output_type": "display_data"
    },
    {
     "data": {
      "text/plain": [
       "'https://fr.trustpilot.com/review/www.fretbay.com?page=13'"
      ]
     },
     "metadata": {},
     "output_type": "display_data"
    },
    {
     "data": {
      "text/plain": [
       "'https://fr.trustpilot.com/review/www.fretbay.com?page=14'"
      ]
     },
     "metadata": {},
     "output_type": "display_data"
    },
    {
     "data": {
      "text/plain": [
       "'https://fr.trustpilot.com/review/www.fretbay.com?page=15'"
      ]
     },
     "metadata": {},
     "output_type": "display_data"
    },
    {
     "data": {
      "text/plain": [
       "'https://fr.trustpilot.com/review/www.fretbay.com?page=16'"
      ]
     },
     "metadata": {},
     "output_type": "display_data"
    },
    {
     "data": {
      "text/plain": [
       "'https://fr.trustpilot.com/review/www.fretbay.com?page=17'"
      ]
     },
     "metadata": {},
     "output_type": "display_data"
    },
    {
     "data": {
      "text/plain": [
       "'https://fr.trustpilot.com/review/www.fretbay.com?page=18'"
      ]
     },
     "metadata": {},
     "output_type": "display_data"
    },
    {
     "data": {
      "text/plain": [
       "'https://fr.trustpilot.com/review/www.fretbay.com?page=19'"
      ]
     },
     "metadata": {},
     "output_type": "display_data"
    },
    {
     "data": {
      "text/plain": [
       "'https://fr.trustpilot.com/review/www.fretbay.com?page=20'"
      ]
     },
     "metadata": {},
     "output_type": "display_data"
    },
    {
     "name": "stdout",
     "output_type": "stream",
     "text": [
      "upela\n"
     ]
    },
    {
     "data": {
      "text/plain": [
       "'https://fr.trustpilot.com/review/upela.com?page=1'"
      ]
     },
     "metadata": {},
     "output_type": "display_data"
    },
    {
     "data": {
      "text/plain": [
       "'https://fr.trustpilot.com/review/upela.com?page=2'"
      ]
     },
     "metadata": {},
     "output_type": "display_data"
    },
    {
     "data": {
      "text/plain": [
       "'https://fr.trustpilot.com/review/upela.com?page=3'"
      ]
     },
     "metadata": {},
     "output_type": "display_data"
    },
    {
     "data": {
      "text/plain": [
       "'https://fr.trustpilot.com/review/upela.com?page=4'"
      ]
     },
     "metadata": {},
     "output_type": "display_data"
    },
    {
     "data": {
      "text/plain": [
       "'https://fr.trustpilot.com/review/upela.com?page=5'"
      ]
     },
     "metadata": {},
     "output_type": "display_data"
    },
    {
     "data": {
      "text/plain": [
       "'https://fr.trustpilot.com/review/upela.com?page=6'"
      ]
     },
     "metadata": {},
     "output_type": "display_data"
    },
    {
     "data": {
      "text/plain": [
       "'https://fr.trustpilot.com/review/upela.com?page=7'"
      ]
     },
     "metadata": {},
     "output_type": "display_data"
    },
    {
     "data": {
      "text/plain": [
       "'https://fr.trustpilot.com/review/upela.com?page=8'"
      ]
     },
     "metadata": {},
     "output_type": "display_data"
    },
    {
     "data": {
      "text/plain": [
       "'https://fr.trustpilot.com/review/upela.com?page=9'"
      ]
     },
     "metadata": {},
     "output_type": "display_data"
    },
    {
     "data": {
      "text/plain": [
       "'https://fr.trustpilot.com/review/upela.com?page=10'"
      ]
     },
     "metadata": {},
     "output_type": "display_data"
    },
    {
     "data": {
      "text/plain": [
       "'https://fr.trustpilot.com/review/upela.com?page=11'"
      ]
     },
     "metadata": {},
     "output_type": "display_data"
    },
    {
     "data": {
      "text/plain": [
       "'https://fr.trustpilot.com/review/upela.com?page=12'"
      ]
     },
     "metadata": {},
     "output_type": "display_data"
    },
    {
     "data": {
      "text/plain": [
       "'https://fr.trustpilot.com/review/upela.com?page=13'"
      ]
     },
     "metadata": {},
     "output_type": "display_data"
    },
    {
     "data": {
      "text/plain": [
       "'https://fr.trustpilot.com/review/upela.com?page=14'"
      ]
     },
     "metadata": {},
     "output_type": "display_data"
    },
    {
     "data": {
      "text/plain": [
       "'https://fr.trustpilot.com/review/upela.com?page=15'"
      ]
     },
     "metadata": {},
     "output_type": "display_data"
    },
    {
     "data": {
      "text/plain": [
       "'https://fr.trustpilot.com/review/upela.com?page=16'"
      ]
     },
     "metadata": {},
     "output_type": "display_data"
    },
    {
     "data": {
      "text/plain": [
       "'https://fr.trustpilot.com/review/upela.com?page=17'"
      ]
     },
     "metadata": {},
     "output_type": "display_data"
    },
    {
     "data": {
      "text/plain": [
       "'https://fr.trustpilot.com/review/upela.com?page=18'"
      ]
     },
     "metadata": {},
     "output_type": "display_data"
    },
    {
     "data": {
      "text/plain": [
       "'https://fr.trustpilot.com/review/upela.com?page=19'"
      ]
     },
     "metadata": {},
     "output_type": "display_data"
    },
    {
     "data": {
      "text/plain": [
       "'https://fr.trustpilot.com/review/upela.com?page=20'"
      ]
     },
     "metadata": {},
     "output_type": "display_data"
    },
    {
     "name": "stdout",
     "output_type": "stream",
     "text": [
      "limitedresell\n"
     ]
    },
    {
     "data": {
      "text/plain": [
       "'https://fr.trustpilot.com/review/limitedresell.com?page=1'"
      ]
     },
     "metadata": {},
     "output_type": "display_data"
    },
    {
     "data": {
      "text/plain": [
       "'https://fr.trustpilot.com/review/limitedresell.com?page=2'"
      ]
     },
     "metadata": {},
     "output_type": "display_data"
    },
    {
     "data": {
      "text/plain": [
       "'https://fr.trustpilot.com/review/limitedresell.com?page=3'"
      ]
     },
     "metadata": {},
     "output_type": "display_data"
    },
    {
     "data": {
      "text/plain": [
       "'https://fr.trustpilot.com/review/limitedresell.com?page=4'"
      ]
     },
     "metadata": {},
     "output_type": "display_data"
    },
    {
     "data": {
      "text/plain": [
       "'https://fr.trustpilot.com/review/limitedresell.com?page=5'"
      ]
     },
     "metadata": {},
     "output_type": "display_data"
    },
    {
     "data": {
      "text/plain": [
       "'https://fr.trustpilot.com/review/limitedresell.com?page=6'"
      ]
     },
     "metadata": {},
     "output_type": "display_data"
    },
    {
     "data": {
      "text/plain": [
       "'https://fr.trustpilot.com/review/limitedresell.com?page=7'"
      ]
     },
     "metadata": {},
     "output_type": "display_data"
    },
    {
     "data": {
      "text/plain": [
       "'https://fr.trustpilot.com/review/limitedresell.com?page=8'"
      ]
     },
     "metadata": {},
     "output_type": "display_data"
    },
    {
     "data": {
      "text/plain": [
       "'https://fr.trustpilot.com/review/limitedresell.com?page=9'"
      ]
     },
     "metadata": {},
     "output_type": "display_data"
    },
    {
     "data": {
      "text/plain": [
       "'https://fr.trustpilot.com/review/limitedresell.com?page=10'"
      ]
     },
     "metadata": {},
     "output_type": "display_data"
    },
    {
     "data": {
      "text/plain": [
       "'https://fr.trustpilot.com/review/limitedresell.com?page=11'"
      ]
     },
     "metadata": {},
     "output_type": "display_data"
    },
    {
     "data": {
      "text/plain": [
       "'https://fr.trustpilot.com/review/limitedresell.com?page=12'"
      ]
     },
     "metadata": {},
     "output_type": "display_data"
    },
    {
     "data": {
      "text/plain": [
       "'https://fr.trustpilot.com/review/limitedresell.com?page=13'"
      ]
     },
     "metadata": {},
     "output_type": "display_data"
    },
    {
     "name": "stdout",
     "output_type": "stream",
     "text": [
      "Erreur lors de la requête : 404\n"
     ]
    },
    {
     "data": {
      "text/plain": [
       "'https://fr.trustpilot.com/review/limitedresell.com?page=14'"
      ]
     },
     "metadata": {},
     "output_type": "display_data"
    },
    {
     "name": "stdout",
     "output_type": "stream",
     "text": [
      "Erreur lors de la requête : 404\n"
     ]
    },
    {
     "data": {
      "text/plain": [
       "'https://fr.trustpilot.com/review/limitedresell.com?page=15'"
      ]
     },
     "metadata": {},
     "output_type": "display_data"
    },
    {
     "name": "stdout",
     "output_type": "stream",
     "text": [
      "Erreur lors de la requête : 404\n"
     ]
    },
    {
     "data": {
      "text/plain": [
       "'https://fr.trustpilot.com/review/limitedresell.com?page=16'"
      ]
     },
     "metadata": {},
     "output_type": "display_data"
    },
    {
     "name": "stdout",
     "output_type": "stream",
     "text": [
      "Erreur lors de la requête : 404\n"
     ]
    },
    {
     "data": {
      "text/plain": [
       "'https://fr.trustpilot.com/review/limitedresell.com?page=17'"
      ]
     },
     "metadata": {},
     "output_type": "display_data"
    },
    {
     "name": "stdout",
     "output_type": "stream",
     "text": [
      "Erreur lors de la requête : 404\n"
     ]
    },
    {
     "data": {
      "text/plain": [
       "'https://fr.trustpilot.com/review/limitedresell.com?page=18'"
      ]
     },
     "metadata": {},
     "output_type": "display_data"
    },
    {
     "name": "stdout",
     "output_type": "stream",
     "text": [
      "Erreur lors de la requête : 404\n"
     ]
    },
    {
     "data": {
      "text/plain": [
       "'https://fr.trustpilot.com/review/limitedresell.com?page=19'"
      ]
     },
     "metadata": {},
     "output_type": "display_data"
    },
    {
     "name": "stdout",
     "output_type": "stream",
     "text": [
      "Erreur lors de la requête : 404\n"
     ]
    },
    {
     "data": {
      "text/plain": [
       "'https://fr.trustpilot.com/review/limitedresell.com?page=20'"
      ]
     },
     "metadata": {},
     "output_type": "display_data"
    },
    {
     "name": "stdout",
     "output_type": "stream",
     "text": [
      "Erreur lors de la requête : 404\n",
      "parcelmonkey\n"
     ]
    },
    {
     "data": {
      "text/plain": [
       "'https://fr.trustpilot.com/review/parcelmonkey.fr?page=1'"
      ]
     },
     "metadata": {},
     "output_type": "display_data"
    },
    {
     "data": {
      "text/plain": [
       "'https://fr.trustpilot.com/review/parcelmonkey.fr?page=2'"
      ]
     },
     "metadata": {},
     "output_type": "display_data"
    },
    {
     "data": {
      "text/plain": [
       "'https://fr.trustpilot.com/review/parcelmonkey.fr?page=3'"
      ]
     },
     "metadata": {},
     "output_type": "display_data"
    },
    {
     "data": {
      "text/plain": [
       "'https://fr.trustpilot.com/review/parcelmonkey.fr?page=4'"
      ]
     },
     "metadata": {},
     "output_type": "display_data"
    },
    {
     "data": {
      "text/plain": [
       "'https://fr.trustpilot.com/review/parcelmonkey.fr?page=5'"
      ]
     },
     "metadata": {},
     "output_type": "display_data"
    },
    {
     "data": {
      "text/plain": [
       "'https://fr.trustpilot.com/review/parcelmonkey.fr?page=6'"
      ]
     },
     "metadata": {},
     "output_type": "display_data"
    },
    {
     "data": {
      "text/plain": [
       "'https://fr.trustpilot.com/review/parcelmonkey.fr?page=7'"
      ]
     },
     "metadata": {},
     "output_type": "display_data"
    },
    {
     "data": {
      "text/plain": [
       "'https://fr.trustpilot.com/review/parcelmonkey.fr?page=8'"
      ]
     },
     "metadata": {},
     "output_type": "display_data"
    },
    {
     "data": {
      "text/plain": [
       "'https://fr.trustpilot.com/review/parcelmonkey.fr?page=9'"
      ]
     },
     "metadata": {},
     "output_type": "display_data"
    },
    {
     "data": {
      "text/plain": [
       "'https://fr.trustpilot.com/review/parcelmonkey.fr?page=10'"
      ]
     },
     "metadata": {},
     "output_type": "display_data"
    },
    {
     "data": {
      "text/plain": [
       "'https://fr.trustpilot.com/review/parcelmonkey.fr?page=11'"
      ]
     },
     "metadata": {},
     "output_type": "display_data"
    },
    {
     "data": {
      "text/plain": [
       "'https://fr.trustpilot.com/review/parcelmonkey.fr?page=12'"
      ]
     },
     "metadata": {},
     "output_type": "display_data"
    },
    {
     "data": {
      "text/plain": [
       "'https://fr.trustpilot.com/review/parcelmonkey.fr?page=13'"
      ]
     },
     "metadata": {},
     "output_type": "display_data"
    },
    {
     "data": {
      "text/plain": [
       "'https://fr.trustpilot.com/review/parcelmonkey.fr?page=14'"
      ]
     },
     "metadata": {},
     "output_type": "display_data"
    },
    {
     "data": {
      "text/plain": [
       "'https://fr.trustpilot.com/review/parcelmonkey.fr?page=15'"
      ]
     },
     "metadata": {},
     "output_type": "display_data"
    },
    {
     "data": {
      "text/plain": [
       "'https://fr.trustpilot.com/review/parcelmonkey.fr?page=16'"
      ]
     },
     "metadata": {},
     "output_type": "display_data"
    },
    {
     "data": {
      "text/plain": [
       "'https://fr.trustpilot.com/review/parcelmonkey.fr?page=17'"
      ]
     },
     "metadata": {},
     "output_type": "display_data"
    },
    {
     "data": {
      "text/plain": [
       "'https://fr.trustpilot.com/review/parcelmonkey.fr?page=18'"
      ]
     },
     "metadata": {},
     "output_type": "display_data"
    },
    {
     "name": "stdout",
     "output_type": "stream",
     "text": [
      "Erreur lors de la requête : 404\n"
     ]
    },
    {
     "data": {
      "text/plain": [
       "'https://fr.trustpilot.com/review/parcelmonkey.fr?page=19'"
      ]
     },
     "metadata": {},
     "output_type": "display_data"
    },
    {
     "name": "stdout",
     "output_type": "stream",
     "text": [
      "Erreur lors de la requête : 404\n"
     ]
    },
    {
     "data": {
      "text/plain": [
       "'https://fr.trustpilot.com/review/parcelmonkey.fr?page=20'"
      ]
     },
     "metadata": {},
     "output_type": "display_data"
    },
    {
     "name": "stdout",
     "output_type": "stream",
     "text": [
      "Erreur lors de la requête : 404\n",
      "demenageurs-bretons\n"
     ]
    },
    {
     "data": {
      "text/plain": [
       "'https://fr.trustpilot.com/review/demenageurs-bretons.fr?page=1'"
      ]
     },
     "metadata": {},
     "output_type": "display_data"
    },
    {
     "data": {
      "text/plain": [
       "'https://fr.trustpilot.com/review/demenageurs-bretons.fr?page=2'"
      ]
     },
     "metadata": {},
     "output_type": "display_data"
    },
    {
     "data": {
      "text/plain": [
       "'https://fr.trustpilot.com/review/demenageurs-bretons.fr?page=3'"
      ]
     },
     "metadata": {},
     "output_type": "display_data"
    },
    {
     "data": {
      "text/plain": [
       "'https://fr.trustpilot.com/review/demenageurs-bretons.fr?page=4'"
      ]
     },
     "metadata": {},
     "output_type": "display_data"
    },
    {
     "data": {
      "text/plain": [
       "'https://fr.trustpilot.com/review/demenageurs-bretons.fr?page=5'"
      ]
     },
     "metadata": {},
     "output_type": "display_data"
    },
    {
     "data": {
      "text/plain": [
       "'https://fr.trustpilot.com/review/demenageurs-bretons.fr?page=6'"
      ]
     },
     "metadata": {},
     "output_type": "display_data"
    },
    {
     "data": {
      "text/plain": [
       "'https://fr.trustpilot.com/review/demenageurs-bretons.fr?page=7'"
      ]
     },
     "metadata": {},
     "output_type": "display_data"
    },
    {
     "data": {
      "text/plain": [
       "'https://fr.trustpilot.com/review/demenageurs-bretons.fr?page=8'"
      ]
     },
     "metadata": {},
     "output_type": "display_data"
    },
    {
     "data": {
      "text/plain": [
       "'https://fr.trustpilot.com/review/demenageurs-bretons.fr?page=9'"
      ]
     },
     "metadata": {},
     "output_type": "display_data"
    },
    {
     "data": {
      "text/plain": [
       "'https://fr.trustpilot.com/review/demenageurs-bretons.fr?page=10'"
      ]
     },
     "metadata": {},
     "output_type": "display_data"
    },
    {
     "data": {
      "text/plain": [
       "'https://fr.trustpilot.com/review/demenageurs-bretons.fr?page=11'"
      ]
     },
     "metadata": {},
     "output_type": "display_data"
    },
    {
     "data": {
      "text/plain": [
       "'https://fr.trustpilot.com/review/demenageurs-bretons.fr?page=12'"
      ]
     },
     "metadata": {},
     "output_type": "display_data"
    },
    {
     "data": {
      "text/plain": [
       "'https://fr.trustpilot.com/review/demenageurs-bretons.fr?page=13'"
      ]
     },
     "metadata": {},
     "output_type": "display_data"
    },
    {
     "data": {
      "text/plain": [
       "'https://fr.trustpilot.com/review/demenageurs-bretons.fr?page=14'"
      ]
     },
     "metadata": {},
     "output_type": "display_data"
    },
    {
     "data": {
      "text/plain": [
       "'https://fr.trustpilot.com/review/demenageurs-bretons.fr?page=15'"
      ]
     },
     "metadata": {},
     "output_type": "display_data"
    },
    {
     "data": {
      "text/plain": [
       "'https://fr.trustpilot.com/review/demenageurs-bretons.fr?page=16'"
      ]
     },
     "metadata": {},
     "output_type": "display_data"
    },
    {
     "data": {
      "text/plain": [
       "'https://fr.trustpilot.com/review/demenageurs-bretons.fr?page=17'"
      ]
     },
     "metadata": {},
     "output_type": "display_data"
    },
    {
     "data": {
      "text/plain": [
       "'https://fr.trustpilot.com/review/demenageurs-bretons.fr?page=18'"
      ]
     },
     "metadata": {},
     "output_type": "display_data"
    },
    {
     "data": {
      "text/plain": [
       "'https://fr.trustpilot.com/review/demenageurs-bretons.fr?page=19'"
      ]
     },
     "metadata": {},
     "output_type": "display_data"
    },
    {
     "data": {
      "text/plain": [
       "'https://fr.trustpilot.com/review/demenageurs-bretons.fr?page=20'"
      ]
     },
     "metadata": {},
     "output_type": "display_data"
    },
    {
     "name": "stdout",
     "output_type": "stream",
     "text": [
      "lettre24\n"
     ]
    },
    {
     "data": {
      "text/plain": [
       "'https://fr.trustpilot.com/review/lettre24.com?page=1'"
      ]
     },
     "metadata": {},
     "output_type": "display_data"
    },
    {
     "data": {
      "text/plain": [
       "'https://fr.trustpilot.com/review/lettre24.com?page=2'"
      ]
     },
     "metadata": {},
     "output_type": "display_data"
    },
    {
     "data": {
      "text/plain": [
       "'https://fr.trustpilot.com/review/lettre24.com?page=3'"
      ]
     },
     "metadata": {},
     "output_type": "display_data"
    },
    {
     "data": {
      "text/plain": [
       "'https://fr.trustpilot.com/review/lettre24.com?page=4'"
      ]
     },
     "metadata": {},
     "output_type": "display_data"
    },
    {
     "data": {
      "text/plain": [
       "'https://fr.trustpilot.com/review/lettre24.com?page=5'"
      ]
     },
     "metadata": {},
     "output_type": "display_data"
    },
    {
     "data": {
      "text/plain": [
       "'https://fr.trustpilot.com/review/lettre24.com?page=6'"
      ]
     },
     "metadata": {},
     "output_type": "display_data"
    },
    {
     "data": {
      "text/plain": [
       "'https://fr.trustpilot.com/review/lettre24.com?page=7'"
      ]
     },
     "metadata": {},
     "output_type": "display_data"
    },
    {
     "data": {
      "text/plain": [
       "'https://fr.trustpilot.com/review/lettre24.com?page=8'"
      ]
     },
     "metadata": {},
     "output_type": "display_data"
    },
    {
     "data": {
      "text/plain": [
       "'https://fr.trustpilot.com/review/lettre24.com?page=9'"
      ]
     },
     "metadata": {},
     "output_type": "display_data"
    },
    {
     "data": {
      "text/plain": [
       "'https://fr.trustpilot.com/review/lettre24.com?page=10'"
      ]
     },
     "metadata": {},
     "output_type": "display_data"
    },
    {
     "data": {
      "text/plain": [
       "'https://fr.trustpilot.com/review/lettre24.com?page=11'"
      ]
     },
     "metadata": {},
     "output_type": "display_data"
    },
    {
     "data": {
      "text/plain": [
       "'https://fr.trustpilot.com/review/lettre24.com?page=12'"
      ]
     },
     "metadata": {},
     "output_type": "display_data"
    },
    {
     "data": {
      "text/plain": [
       "'https://fr.trustpilot.com/review/lettre24.com?page=13'"
      ]
     },
     "metadata": {},
     "output_type": "display_data"
    },
    {
     "data": {
      "text/plain": [
       "'https://fr.trustpilot.com/review/lettre24.com?page=14'"
      ]
     },
     "metadata": {},
     "output_type": "display_data"
    },
    {
     "data": {
      "text/plain": [
       "'https://fr.trustpilot.com/review/lettre24.com?page=15'"
      ]
     },
     "metadata": {},
     "output_type": "display_data"
    },
    {
     "name": "stdout",
     "output_type": "stream",
     "text": [
      "Erreur lors de la requête : 404\n"
     ]
    },
    {
     "data": {
      "text/plain": [
       "'https://fr.trustpilot.com/review/lettre24.com?page=16'"
      ]
     },
     "metadata": {},
     "output_type": "display_data"
    },
    {
     "name": "stdout",
     "output_type": "stream",
     "text": [
      "Erreur lors de la requête : 404\n"
     ]
    },
    {
     "data": {
      "text/plain": [
       "'https://fr.trustpilot.com/review/lettre24.com?page=17'"
      ]
     },
     "metadata": {},
     "output_type": "display_data"
    },
    {
     "name": "stdout",
     "output_type": "stream",
     "text": [
      "Erreur lors de la requête : 404\n"
     ]
    },
    {
     "data": {
      "text/plain": [
       "'https://fr.trustpilot.com/review/lettre24.com?page=18'"
      ]
     },
     "metadata": {},
     "output_type": "display_data"
    },
    {
     "name": "stdout",
     "output_type": "stream",
     "text": [
      "Erreur lors de la requête : 404\n"
     ]
    },
    {
     "data": {
      "text/plain": [
       "'https://fr.trustpilot.com/review/lettre24.com?page=19'"
      ]
     },
     "metadata": {},
     "output_type": "display_data"
    },
    {
     "name": "stdout",
     "output_type": "stream",
     "text": [
      "Erreur lors de la requête : 404\n"
     ]
    },
    {
     "data": {
      "text/plain": [
       "'https://fr.trustpilot.com/review/lettre24.com?page=20'"
      ]
     },
     "metadata": {},
     "output_type": "display_data"
    },
    {
     "name": "stdout",
     "output_type": "stream",
     "text": [
      "Erreur lors de la requête : 404\n",
      "officiel-demenagement\n"
     ]
    },
    {
     "data": {
      "text/plain": [
       "'https://fr.trustpilot.com/review/www.officiel-demenagement.com?page=1'"
      ]
     },
     "metadata": {},
     "output_type": "display_data"
    },
    {
     "data": {
      "text/plain": [
       "'https://fr.trustpilot.com/review/www.officiel-demenagement.com?page=2'"
      ]
     },
     "metadata": {},
     "output_type": "display_data"
    },
    {
     "data": {
      "text/plain": [
       "'https://fr.trustpilot.com/review/www.officiel-demenagement.com?page=3'"
      ]
     },
     "metadata": {},
     "output_type": "display_data"
    },
    {
     "data": {
      "text/plain": [
       "'https://fr.trustpilot.com/review/www.officiel-demenagement.com?page=4'"
      ]
     },
     "metadata": {},
     "output_type": "display_data"
    },
    {
     "data": {
      "text/plain": [
       "'https://fr.trustpilot.com/review/www.officiel-demenagement.com?page=5'"
      ]
     },
     "metadata": {},
     "output_type": "display_data"
    },
    {
     "data": {
      "text/plain": [
       "'https://fr.trustpilot.com/review/www.officiel-demenagement.com?page=6'"
      ]
     },
     "metadata": {},
     "output_type": "display_data"
    },
    {
     "data": {
      "text/plain": [
       "'https://fr.trustpilot.com/review/www.officiel-demenagement.com?page=7'"
      ]
     },
     "metadata": {},
     "output_type": "display_data"
    },
    {
     "data": {
      "text/plain": [
       "'https://fr.trustpilot.com/review/www.officiel-demenagement.com?page=8'"
      ]
     },
     "metadata": {},
     "output_type": "display_data"
    },
    {
     "data": {
      "text/plain": [
       "'https://fr.trustpilot.com/review/www.officiel-demenagement.com?page=9'"
      ]
     },
     "metadata": {},
     "output_type": "display_data"
    },
    {
     "data": {
      "text/plain": [
       "'https://fr.trustpilot.com/review/www.officiel-demenagement.com?page=10'"
      ]
     },
     "metadata": {},
     "output_type": "display_data"
    },
    {
     "data": {
      "text/plain": [
       "'https://fr.trustpilot.com/review/www.officiel-demenagement.com?page=11'"
      ]
     },
     "metadata": {},
     "output_type": "display_data"
    },
    {
     "data": {
      "text/plain": [
       "'https://fr.trustpilot.com/review/www.officiel-demenagement.com?page=12'"
      ]
     },
     "metadata": {},
     "output_type": "display_data"
    },
    {
     "data": {
      "text/plain": [
       "'https://fr.trustpilot.com/review/www.officiel-demenagement.com?page=13'"
      ]
     },
     "metadata": {},
     "output_type": "display_data"
    },
    {
     "data": {
      "text/plain": [
       "'https://fr.trustpilot.com/review/www.officiel-demenagement.com?page=14'"
      ]
     },
     "metadata": {},
     "output_type": "display_data"
    },
    {
     "data": {
      "text/plain": [
       "'https://fr.trustpilot.com/review/www.officiel-demenagement.com?page=15'"
      ]
     },
     "metadata": {},
     "output_type": "display_data"
    },
    {
     "data": {
      "text/plain": [
       "'https://fr.trustpilot.com/review/www.officiel-demenagement.com?page=16'"
      ]
     },
     "metadata": {},
     "output_type": "display_data"
    },
    {
     "data": {
      "text/plain": [
       "'https://fr.trustpilot.com/review/www.officiel-demenagement.com?page=17'"
      ]
     },
     "metadata": {},
     "output_type": "display_data"
    },
    {
     "data": {
      "text/plain": [
       "'https://fr.trustpilot.com/review/www.officiel-demenagement.com?page=18'"
      ]
     },
     "metadata": {},
     "output_type": "display_data"
    },
    {
     "data": {
      "text/plain": [
       "'https://fr.trustpilot.com/review/www.officiel-demenagement.com?page=19'"
      ]
     },
     "metadata": {},
     "output_type": "display_data"
    },
    {
     "data": {
      "text/plain": [
       "'https://fr.trustpilot.com/review/www.officiel-demenagement.com?page=20'"
      ]
     },
     "metadata": {},
     "output_type": "display_data"
    },
    {
     "name": "stdout",
     "output_type": "stream",
     "text": [
      "pakup-emballage\n"
     ]
    },
    {
     "data": {
      "text/plain": [
       "'https://fr.trustpilot.com/review/pakup-emballage.fr?page=1'"
      ]
     },
     "metadata": {},
     "output_type": "display_data"
    },
    {
     "data": {
      "text/plain": [
       "'https://fr.trustpilot.com/review/pakup-emballage.fr?page=2'"
      ]
     },
     "metadata": {},
     "output_type": "display_data"
    },
    {
     "data": {
      "text/plain": [
       "'https://fr.trustpilot.com/review/pakup-emballage.fr?page=3'"
      ]
     },
     "metadata": {},
     "output_type": "display_data"
    },
    {
     "data": {
      "text/plain": [
       "'https://fr.trustpilot.com/review/pakup-emballage.fr?page=4'"
      ]
     },
     "metadata": {},
     "output_type": "display_data"
    },
    {
     "data": {
      "text/plain": [
       "'https://fr.trustpilot.com/review/pakup-emballage.fr?page=5'"
      ]
     },
     "metadata": {},
     "output_type": "display_data"
    },
    {
     "data": {
      "text/plain": [
       "'https://fr.trustpilot.com/review/pakup-emballage.fr?page=6'"
      ]
     },
     "metadata": {},
     "output_type": "display_data"
    },
    {
     "data": {
      "text/plain": [
       "'https://fr.trustpilot.com/review/pakup-emballage.fr?page=7'"
      ]
     },
     "metadata": {},
     "output_type": "display_data"
    },
    {
     "data": {
      "text/plain": [
       "'https://fr.trustpilot.com/review/pakup-emballage.fr?page=8'"
      ]
     },
     "metadata": {},
     "output_type": "display_data"
    },
    {
     "data": {
      "text/plain": [
       "'https://fr.trustpilot.com/review/pakup-emballage.fr?page=9'"
      ]
     },
     "metadata": {},
     "output_type": "display_data"
    },
    {
     "data": {
      "text/plain": [
       "'https://fr.trustpilot.com/review/pakup-emballage.fr?page=10'"
      ]
     },
     "metadata": {},
     "output_type": "display_data"
    },
    {
     "data": {
      "text/plain": [
       "'https://fr.trustpilot.com/review/pakup-emballage.fr?page=11'"
      ]
     },
     "metadata": {},
     "output_type": "display_data"
    },
    {
     "data": {
      "text/plain": [
       "'https://fr.trustpilot.com/review/pakup-emballage.fr?page=12'"
      ]
     },
     "metadata": {},
     "output_type": "display_data"
    },
    {
     "data": {
      "text/plain": [
       "'https://fr.trustpilot.com/review/pakup-emballage.fr?page=13'"
      ]
     },
     "metadata": {},
     "output_type": "display_data"
    },
    {
     "name": "stdout",
     "output_type": "stream",
     "text": [
      "Erreur lors de la requête : 404\n"
     ]
    },
    {
     "data": {
      "text/plain": [
       "'https://fr.trustpilot.com/review/pakup-emballage.fr?page=14'"
      ]
     },
     "metadata": {},
     "output_type": "display_data"
    },
    {
     "name": "stdout",
     "output_type": "stream",
     "text": [
      "Erreur lors de la requête : 404\n"
     ]
    },
    {
     "data": {
      "text/plain": [
       "'https://fr.trustpilot.com/review/pakup-emballage.fr?page=15'"
      ]
     },
     "metadata": {},
     "output_type": "display_data"
    },
    {
     "name": "stdout",
     "output_type": "stream",
     "text": [
      "Erreur lors de la requête : 404\n"
     ]
    },
    {
     "data": {
      "text/plain": [
       "'https://fr.trustpilot.com/review/pakup-emballage.fr?page=16'"
      ]
     },
     "metadata": {},
     "output_type": "display_data"
    },
    {
     "name": "stdout",
     "output_type": "stream",
     "text": [
      "Erreur lors de la requête : 404\n"
     ]
    },
    {
     "data": {
      "text/plain": [
       "'https://fr.trustpilot.com/review/pakup-emballage.fr?page=17'"
      ]
     },
     "metadata": {},
     "output_type": "display_data"
    },
    {
     "name": "stdout",
     "output_type": "stream",
     "text": [
      "Erreur lors de la requête : 404\n"
     ]
    },
    {
     "data": {
      "text/plain": [
       "'https://fr.trustpilot.com/review/pakup-emballage.fr?page=18'"
      ]
     },
     "metadata": {},
     "output_type": "display_data"
    },
    {
     "name": "stdout",
     "output_type": "stream",
     "text": [
      "Erreur lors de la requête : 404\n"
     ]
    },
    {
     "data": {
      "text/plain": [
       "'https://fr.trustpilot.com/review/pakup-emballage.fr?page=19'"
      ]
     },
     "metadata": {},
     "output_type": "display_data"
    },
    {
     "name": "stdout",
     "output_type": "stream",
     "text": [
      "Erreur lors de la requête : 404\n"
     ]
    },
    {
     "data": {
      "text/plain": [
       "'https://fr.trustpilot.com/review/pakup-emballage.fr?page=20'"
      ]
     },
     "metadata": {},
     "output_type": "display_data"
    },
    {
     "name": "stdout",
     "output_type": "stream",
     "text": [
      "Erreur lors de la requête : 404\n",
      "stls\n"
     ]
    },
    {
     "data": {
      "text/plain": [
       "'https://fr.trustpilot.com/review/stls.fr?page=1'"
      ]
     },
     "metadata": {},
     "output_type": "display_data"
    },
    {
     "data": {
      "text/plain": [
       "'https://fr.trustpilot.com/review/stls.fr?page=2'"
      ]
     },
     "metadata": {},
     "output_type": "display_data"
    },
    {
     "data": {
      "text/plain": [
       "'https://fr.trustpilot.com/review/stls.fr?page=3'"
      ]
     },
     "metadata": {},
     "output_type": "display_data"
    },
    {
     "data": {
      "text/plain": [
       "'https://fr.trustpilot.com/review/stls.fr?page=4'"
      ]
     },
     "metadata": {},
     "output_type": "display_data"
    },
    {
     "data": {
      "text/plain": [
       "'https://fr.trustpilot.com/review/stls.fr?page=5'"
      ]
     },
     "metadata": {},
     "output_type": "display_data"
    },
    {
     "data": {
      "text/plain": [
       "'https://fr.trustpilot.com/review/stls.fr?page=6'"
      ]
     },
     "metadata": {},
     "output_type": "display_data"
    },
    {
     "data": {
      "text/plain": [
       "'https://fr.trustpilot.com/review/stls.fr?page=7'"
      ]
     },
     "metadata": {},
     "output_type": "display_data"
    },
    {
     "data": {
      "text/plain": [
       "'https://fr.trustpilot.com/review/stls.fr?page=8'"
      ]
     },
     "metadata": {},
     "output_type": "display_data"
    },
    {
     "data": {
      "text/plain": [
       "'https://fr.trustpilot.com/review/stls.fr?page=9'"
      ]
     },
     "metadata": {},
     "output_type": "display_data"
    },
    {
     "data": {
      "text/plain": [
       "'https://fr.trustpilot.com/review/stls.fr?page=10'"
      ]
     },
     "metadata": {},
     "output_type": "display_data"
    },
    {
     "data": {
      "text/plain": [
       "'https://fr.trustpilot.com/review/stls.fr?page=11'"
      ]
     },
     "metadata": {},
     "output_type": "display_data"
    },
    {
     "data": {
      "text/plain": [
       "'https://fr.trustpilot.com/review/stls.fr?page=12'"
      ]
     },
     "metadata": {},
     "output_type": "display_data"
    },
    {
     "name": "stdout",
     "output_type": "stream",
     "text": [
      "Erreur lors de la requête : 404\n"
     ]
    },
    {
     "data": {
      "text/plain": [
       "'https://fr.trustpilot.com/review/stls.fr?page=13'"
      ]
     },
     "metadata": {},
     "output_type": "display_data"
    },
    {
     "name": "stdout",
     "output_type": "stream",
     "text": [
      "Erreur lors de la requête : 404\n"
     ]
    },
    {
     "data": {
      "text/plain": [
       "'https://fr.trustpilot.com/review/stls.fr?page=14'"
      ]
     },
     "metadata": {},
     "output_type": "display_data"
    },
    {
     "name": "stdout",
     "output_type": "stream",
     "text": [
      "Erreur lors de la requête : 404\n"
     ]
    },
    {
     "data": {
      "text/plain": [
       "'https://fr.trustpilot.com/review/stls.fr?page=15'"
      ]
     },
     "metadata": {},
     "output_type": "display_data"
    },
    {
     "name": "stdout",
     "output_type": "stream",
     "text": [
      "Erreur lors de la requête : 404\n"
     ]
    },
    {
     "data": {
      "text/plain": [
       "'https://fr.trustpilot.com/review/stls.fr?page=16'"
      ]
     },
     "metadata": {},
     "output_type": "display_data"
    },
    {
     "name": "stdout",
     "output_type": "stream",
     "text": [
      "Erreur lors de la requête : 404\n"
     ]
    },
    {
     "data": {
      "text/plain": [
       "'https://fr.trustpilot.com/review/stls.fr?page=17'"
      ]
     },
     "metadata": {},
     "output_type": "display_data"
    },
    {
     "name": "stdout",
     "output_type": "stream",
     "text": [
      "Erreur lors de la requête : 404\n"
     ]
    },
    {
     "data": {
      "text/plain": [
       "'https://fr.trustpilot.com/review/stls.fr?page=18'"
      ]
     },
     "metadata": {},
     "output_type": "display_data"
    },
    {
     "name": "stdout",
     "output_type": "stream",
     "text": [
      "Erreur lors de la requête : 404\n"
     ]
    },
    {
     "data": {
      "text/plain": [
       "'https://fr.trustpilot.com/review/stls.fr?page=19'"
      ]
     },
     "metadata": {},
     "output_type": "display_data"
    },
    {
     "name": "stdout",
     "output_type": "stream",
     "text": [
      "Erreur lors de la requête : 404\n"
     ]
    },
    {
     "data": {
      "text/plain": [
       "'https://fr.trustpilot.com/review/stls.fr?page=20'"
      ]
     },
     "metadata": {},
     "output_type": "display_data"
    },
    {
     "name": "stdout",
     "output_type": "stream",
     "text": [
      "Erreur lors de la requête : 404\n",
      "green-kartel\n"
     ]
    },
    {
     "data": {
      "text/plain": [
       "'https://fr.trustpilot.com/review/green-kartel.com?page=1'"
      ]
     },
     "metadata": {},
     "output_type": "display_data"
    },
    {
     "data": {
      "text/plain": [
       "'https://fr.trustpilot.com/review/green-kartel.com?page=2'"
      ]
     },
     "metadata": {},
     "output_type": "display_data"
    },
    {
     "data": {
      "text/plain": [
       "'https://fr.trustpilot.com/review/green-kartel.com?page=3'"
      ]
     },
     "metadata": {},
     "output_type": "display_data"
    },
    {
     "data": {
      "text/plain": [
       "'https://fr.trustpilot.com/review/green-kartel.com?page=4'"
      ]
     },
     "metadata": {},
     "output_type": "display_data"
    },
    {
     "data": {
      "text/plain": [
       "'https://fr.trustpilot.com/review/green-kartel.com?page=5'"
      ]
     },
     "metadata": {},
     "output_type": "display_data"
    },
    {
     "data": {
      "text/plain": [
       "'https://fr.trustpilot.com/review/green-kartel.com?page=6'"
      ]
     },
     "metadata": {},
     "output_type": "display_data"
    },
    {
     "name": "stdout",
     "output_type": "stream",
     "text": [
      "Erreur lors de la requête : 404\n"
     ]
    },
    {
     "data": {
      "text/plain": [
       "'https://fr.trustpilot.com/review/green-kartel.com?page=7'"
      ]
     },
     "metadata": {},
     "output_type": "display_data"
    },
    {
     "name": "stdout",
     "output_type": "stream",
     "text": [
      "Erreur lors de la requête : 404\n"
     ]
    },
    {
     "data": {
      "text/plain": [
       "'https://fr.trustpilot.com/review/green-kartel.com?page=8'"
      ]
     },
     "metadata": {},
     "output_type": "display_data"
    },
    {
     "name": "stdout",
     "output_type": "stream",
     "text": [
      "Erreur lors de la requête : 404\n"
     ]
    },
    {
     "data": {
      "text/plain": [
       "'https://fr.trustpilot.com/review/green-kartel.com?page=9'"
      ]
     },
     "metadata": {},
     "output_type": "display_data"
    },
    {
     "name": "stdout",
     "output_type": "stream",
     "text": [
      "Erreur lors de la requête : 404\n"
     ]
    },
    {
     "data": {
      "text/plain": [
       "'https://fr.trustpilot.com/review/green-kartel.com?page=10'"
      ]
     },
     "metadata": {},
     "output_type": "display_data"
    },
    {
     "name": "stdout",
     "output_type": "stream",
     "text": [
      "Erreur lors de la requête : 404\n"
     ]
    },
    {
     "data": {
      "text/plain": [
       "'https://fr.trustpilot.com/review/green-kartel.com?page=11'"
      ]
     },
     "metadata": {},
     "output_type": "display_data"
    },
    {
     "name": "stdout",
     "output_type": "stream",
     "text": [
      "Erreur lors de la requête : 404\n"
     ]
    },
    {
     "data": {
      "text/plain": [
       "'https://fr.trustpilot.com/review/green-kartel.com?page=12'"
      ]
     },
     "metadata": {},
     "output_type": "display_data"
    },
    {
     "name": "stdout",
     "output_type": "stream",
     "text": [
      "Erreur lors de la requête : 404\n"
     ]
    },
    {
     "data": {
      "text/plain": [
       "'https://fr.trustpilot.com/review/green-kartel.com?page=13'"
      ]
     },
     "metadata": {},
     "output_type": "display_data"
    },
    {
     "name": "stdout",
     "output_type": "stream",
     "text": [
      "Erreur lors de la requête : 404\n"
     ]
    },
    {
     "data": {
      "text/plain": [
       "'https://fr.trustpilot.com/review/green-kartel.com?page=14'"
      ]
     },
     "metadata": {},
     "output_type": "display_data"
    },
    {
     "name": "stdout",
     "output_type": "stream",
     "text": [
      "Erreur lors de la requête : 404\n"
     ]
    },
    {
     "data": {
      "text/plain": [
       "'https://fr.trustpilot.com/review/green-kartel.com?page=15'"
      ]
     },
     "metadata": {},
     "output_type": "display_data"
    },
    {
     "name": "stdout",
     "output_type": "stream",
     "text": [
      "Erreur lors de la requête : 404\n"
     ]
    },
    {
     "data": {
      "text/plain": [
       "'https://fr.trustpilot.com/review/green-kartel.com?page=16'"
      ]
     },
     "metadata": {},
     "output_type": "display_data"
    },
    {
     "name": "stdout",
     "output_type": "stream",
     "text": [
      "Erreur lors de la requête : 404\n"
     ]
    },
    {
     "data": {
      "text/plain": [
       "'https://fr.trustpilot.com/review/green-kartel.com?page=17'"
      ]
     },
     "metadata": {},
     "output_type": "display_data"
    },
    {
     "name": "stdout",
     "output_type": "stream",
     "text": [
      "Erreur lors de la requête : 404\n"
     ]
    },
    {
     "data": {
      "text/plain": [
       "'https://fr.trustpilot.com/review/green-kartel.com?page=18'"
      ]
     },
     "metadata": {},
     "output_type": "display_data"
    },
    {
     "name": "stdout",
     "output_type": "stream",
     "text": [
      "Erreur lors de la requête : 404\n"
     ]
    },
    {
     "data": {
      "text/plain": [
       "'https://fr.trustpilot.com/review/green-kartel.com?page=19'"
      ]
     },
     "metadata": {},
     "output_type": "display_data"
    },
    {
     "name": "stdout",
     "output_type": "stream",
     "text": [
      "Erreur lors de la requête : 404\n"
     ]
    },
    {
     "data": {
      "text/plain": [
       "'https://fr.trustpilot.com/review/green-kartel.com?page=20'"
      ]
     },
     "metadata": {},
     "output_type": "display_data"
    },
    {
     "name": "stdout",
     "output_type": "stream",
     "text": [
      "Erreur lors de la requête : 404\n",
      "utopya\n"
     ]
    },
    {
     "data": {
      "text/plain": [
       "'https://fr.trustpilot.com/review/utopya.fr?page=1'"
      ]
     },
     "metadata": {},
     "output_type": "display_data"
    },
    {
     "data": {
      "text/plain": [
       "'https://fr.trustpilot.com/review/utopya.fr?page=2'"
      ]
     },
     "metadata": {},
     "output_type": "display_data"
    },
    {
     "data": {
      "text/plain": [
       "'https://fr.trustpilot.com/review/utopya.fr?page=3'"
      ]
     },
     "metadata": {},
     "output_type": "display_data"
    },
    {
     "data": {
      "text/plain": [
       "'https://fr.trustpilot.com/review/utopya.fr?page=4'"
      ]
     },
     "metadata": {},
     "output_type": "display_data"
    },
    {
     "data": {
      "text/plain": [
       "'https://fr.trustpilot.com/review/utopya.fr?page=5'"
      ]
     },
     "metadata": {},
     "output_type": "display_data"
    },
    {
     "data": {
      "text/plain": [
       "'https://fr.trustpilot.com/review/utopya.fr?page=6'"
      ]
     },
     "metadata": {},
     "output_type": "display_data"
    },
    {
     "data": {
      "text/plain": [
       "'https://fr.trustpilot.com/review/utopya.fr?page=7'"
      ]
     },
     "metadata": {},
     "output_type": "display_data"
    },
    {
     "data": {
      "text/plain": [
       "'https://fr.trustpilot.com/review/utopya.fr?page=8'"
      ]
     },
     "metadata": {},
     "output_type": "display_data"
    },
    {
     "data": {
      "text/plain": [
       "'https://fr.trustpilot.com/review/utopya.fr?page=9'"
      ]
     },
     "metadata": {},
     "output_type": "display_data"
    },
    {
     "data": {
      "text/plain": [
       "'https://fr.trustpilot.com/review/utopya.fr?page=10'"
      ]
     },
     "metadata": {},
     "output_type": "display_data"
    },
    {
     "data": {
      "text/plain": [
       "'https://fr.trustpilot.com/review/utopya.fr?page=11'"
      ]
     },
     "metadata": {},
     "output_type": "display_data"
    },
    {
     "data": {
      "text/plain": [
       "'https://fr.trustpilot.com/review/utopya.fr?page=12'"
      ]
     },
     "metadata": {},
     "output_type": "display_data"
    },
    {
     "data": {
      "text/plain": [
       "'https://fr.trustpilot.com/review/utopya.fr?page=13'"
      ]
     },
     "metadata": {},
     "output_type": "display_data"
    },
    {
     "data": {
      "text/plain": [
       "'https://fr.trustpilot.com/review/utopya.fr?page=14'"
      ]
     },
     "metadata": {},
     "output_type": "display_data"
    },
    {
     "data": {
      "text/plain": [
       "'https://fr.trustpilot.com/review/utopya.fr?page=15'"
      ]
     },
     "metadata": {},
     "output_type": "display_data"
    },
    {
     "data": {
      "text/plain": [
       "'https://fr.trustpilot.com/review/utopya.fr?page=16'"
      ]
     },
     "metadata": {},
     "output_type": "display_data"
    },
    {
     "data": {
      "text/plain": [
       "'https://fr.trustpilot.com/review/utopya.fr?page=17'"
      ]
     },
     "metadata": {},
     "output_type": "display_data"
    },
    {
     "name": "stdout",
     "output_type": "stream",
     "text": [
      "Erreur lors de la requête : 404\n"
     ]
    },
    {
     "data": {
      "text/plain": [
       "'https://fr.trustpilot.com/review/utopya.fr?page=18'"
      ]
     },
     "metadata": {},
     "output_type": "display_data"
    },
    {
     "name": "stdout",
     "output_type": "stream",
     "text": [
      "Erreur lors de la requête : 404\n"
     ]
    },
    {
     "data": {
      "text/plain": [
       "'https://fr.trustpilot.com/review/utopya.fr?page=19'"
      ]
     },
     "metadata": {},
     "output_type": "display_data"
    },
    {
     "name": "stdout",
     "output_type": "stream",
     "text": [
      "Erreur lors de la requête : 404\n"
     ]
    },
    {
     "data": {
      "text/plain": [
       "'https://fr.trustpilot.com/review/utopya.fr?page=20'"
      ]
     },
     "metadata": {},
     "output_type": "display_data"
    },
    {
     "name": "stdout",
     "output_type": "stream",
     "text": [
      "Erreur lors de la requête : 404\n",
      "airselli\n"
     ]
    },
    {
     "data": {
      "text/plain": [
       "'https://fr.trustpilot.com/review/www.airselli.com?page=1'"
      ]
     },
     "metadata": {},
     "output_type": "display_data"
    },
    {
     "data": {
      "text/plain": [
       "'https://fr.trustpilot.com/review/www.airselli.com?page=2'"
      ]
     },
     "metadata": {},
     "output_type": "display_data"
    },
    {
     "name": "stdout",
     "output_type": "stream",
     "text": [
      "Erreur lors de la requête : 404\n"
     ]
    },
    {
     "data": {
      "text/plain": [
       "'https://fr.trustpilot.com/review/www.airselli.com?page=3'"
      ]
     },
     "metadata": {},
     "output_type": "display_data"
    },
    {
     "name": "stdout",
     "output_type": "stream",
     "text": [
      "Erreur lors de la requête : 404\n"
     ]
    },
    {
     "data": {
      "text/plain": [
       "'https://fr.trustpilot.com/review/www.airselli.com?page=4'"
      ]
     },
     "metadata": {},
     "output_type": "display_data"
    },
    {
     "name": "stdout",
     "output_type": "stream",
     "text": [
      "Erreur lors de la requête : 404\n"
     ]
    },
    {
     "data": {
      "text/plain": [
       "'https://fr.trustpilot.com/review/www.airselli.com?page=5'"
      ]
     },
     "metadata": {},
     "output_type": "display_data"
    },
    {
     "name": "stdout",
     "output_type": "stream",
     "text": [
      "Erreur lors de la requête : 404\n"
     ]
    },
    {
     "data": {
      "text/plain": [
       "'https://fr.trustpilot.com/review/www.airselli.com?page=6'"
      ]
     },
     "metadata": {},
     "output_type": "display_data"
    },
    {
     "name": "stdout",
     "output_type": "stream",
     "text": [
      "Erreur lors de la requête : 404\n"
     ]
    },
    {
     "data": {
      "text/plain": [
       "'https://fr.trustpilot.com/review/www.airselli.com?page=7'"
      ]
     },
     "metadata": {},
     "output_type": "display_data"
    },
    {
     "name": "stdout",
     "output_type": "stream",
     "text": [
      "Erreur lors de la requête : 404\n"
     ]
    },
    {
     "data": {
      "text/plain": [
       "'https://fr.trustpilot.com/review/www.airselli.com?page=8'"
      ]
     },
     "metadata": {},
     "output_type": "display_data"
    },
    {
     "name": "stdout",
     "output_type": "stream",
     "text": [
      "Erreur lors de la requête : 404\n"
     ]
    },
    {
     "data": {
      "text/plain": [
       "'https://fr.trustpilot.com/review/www.airselli.com?page=9'"
      ]
     },
     "metadata": {},
     "output_type": "display_data"
    },
    {
     "name": "stdout",
     "output_type": "stream",
     "text": [
      "Erreur lors de la requête : 404\n"
     ]
    },
    {
     "data": {
      "text/plain": [
       "'https://fr.trustpilot.com/review/www.airselli.com?page=10'"
      ]
     },
     "metadata": {},
     "output_type": "display_data"
    },
    {
     "name": "stdout",
     "output_type": "stream",
     "text": [
      "Erreur lors de la requête : 404\n"
     ]
    },
    {
     "data": {
      "text/plain": [
       "'https://fr.trustpilot.com/review/www.airselli.com?page=11'"
      ]
     },
     "metadata": {},
     "output_type": "display_data"
    },
    {
     "name": "stdout",
     "output_type": "stream",
     "text": [
      "Erreur lors de la requête : 404\n"
     ]
    },
    {
     "data": {
      "text/plain": [
       "'https://fr.trustpilot.com/review/www.airselli.com?page=12'"
      ]
     },
     "metadata": {},
     "output_type": "display_data"
    },
    {
     "name": "stdout",
     "output_type": "stream",
     "text": [
      "Erreur lors de la requête : 404\n"
     ]
    },
    {
     "data": {
      "text/plain": [
       "'https://fr.trustpilot.com/review/www.airselli.com?page=13'"
      ]
     },
     "metadata": {},
     "output_type": "display_data"
    },
    {
     "name": "stdout",
     "output_type": "stream",
     "text": [
      "Erreur lors de la requête : 404\n"
     ]
    },
    {
     "data": {
      "text/plain": [
       "'https://fr.trustpilot.com/review/www.airselli.com?page=14'"
      ]
     },
     "metadata": {},
     "output_type": "display_data"
    },
    {
     "name": "stdout",
     "output_type": "stream",
     "text": [
      "Erreur lors de la requête : 404\n"
     ]
    },
    {
     "data": {
      "text/plain": [
       "'https://fr.trustpilot.com/review/www.airselli.com?page=15'"
      ]
     },
     "metadata": {},
     "output_type": "display_data"
    },
    {
     "name": "stdout",
     "output_type": "stream",
     "text": [
      "Erreur lors de la requête : 404\n"
     ]
    },
    {
     "data": {
      "text/plain": [
       "'https://fr.trustpilot.com/review/www.airselli.com?page=16'"
      ]
     },
     "metadata": {},
     "output_type": "display_data"
    },
    {
     "name": "stdout",
     "output_type": "stream",
     "text": [
      "Erreur lors de la requête : 404\n"
     ]
    },
    {
     "data": {
      "text/plain": [
       "'https://fr.trustpilot.com/review/www.airselli.com?page=17'"
      ]
     },
     "metadata": {},
     "output_type": "display_data"
    },
    {
     "name": "stdout",
     "output_type": "stream",
     "text": [
      "Erreur lors de la requête : 404\n"
     ]
    },
    {
     "data": {
      "text/plain": [
       "'https://fr.trustpilot.com/review/www.airselli.com?page=18'"
      ]
     },
     "metadata": {},
     "output_type": "display_data"
    },
    {
     "name": "stdout",
     "output_type": "stream",
     "text": [
      "Erreur lors de la requête : 404\n"
     ]
    },
    {
     "data": {
      "text/plain": [
       "'https://fr.trustpilot.com/review/www.airselli.com?page=19'"
      ]
     },
     "metadata": {},
     "output_type": "display_data"
    },
    {
     "name": "stdout",
     "output_type": "stream",
     "text": [
      "Erreur lors de la requête : 404\n"
     ]
    },
    {
     "data": {
      "text/plain": [
       "'https://fr.trustpilot.com/review/www.airselli.com?page=20'"
      ]
     },
     "metadata": {},
     "output_type": "display_data"
    },
    {
     "name": "stdout",
     "output_type": "stream",
     "text": [
      "Erreur lors de la requête : 404\n"
     ]
    },
    {
     "data": {
      "text/html": [
       "<div>\n",
       "<style scoped>\n",
       "    .dataframe tbody tr th:only-of-type {\n",
       "        vertical-align: middle;\n",
       "    }\n",
       "\n",
       "    .dataframe tbody tr th {\n",
       "        vertical-align: top;\n",
       "    }\n",
       "\n",
       "    .dataframe thead th {\n",
       "        text-align: right;\n",
       "    }\n",
       "</style>\n",
       "<table border=\"1\" class=\"dataframe\">\n",
       "  <thead>\n",
       "    <tr style=\"text-align: right;\">\n",
       "      <th></th>\n",
       "      <th>Nom_Entreprise</th>\n",
       "      <th>Nom_Client</th>\n",
       "      <th>Nombre_avis</th>\n",
       "      <th>Pays</th>\n",
       "      <th>Note</th>\n",
       "      <th>Date</th>\n",
       "      <th>Titre_avis</th>\n",
       "      <th>Contenu_avis</th>\n",
       "      <th>Réponse_Entrpris</th>\n",
       "    </tr>\n",
       "  </thead>\n",
       "  <tbody>\n",
       "    <tr>\n",
       "      <th>0</th>\n",
       "      <td>nextories</td>\n",
       "      <td>Papillon</td>\n",
       "      <td>1</td>\n",
       "      <td>FR</td>\n",
       "      <td>5</td>\n",
       "      <td>2024-04-05T10:15:56.000Z</td>\n",
       "      <td>Je recommande.</td>\n",
       "      <td>En recherche de déménageurs en urgence, ils on...</td>\n",
       "      <td>Bonjour,Merci pour cette note et pour votre co...</td>\n",
       "    </tr>\n",
       "    <tr>\n",
       "      <th>1</th>\n",
       "      <td>nextories</td>\n",
       "      <td>Parisien en vacances</td>\n",
       "      <td>8</td>\n",
       "      <td>FR</td>\n",
       "      <td>5</td>\n",
       "      <td>2024-04-01T18:54:38.000Z</td>\n",
       "      <td>Parfait</td>\n",
       "      <td>Plusieurs devis dans une fourchette restreinte...</td>\n",
       "      <td>Bonjour,Merci pour cette note et pour votre co...</td>\n",
       "    </tr>\n",
       "    <tr>\n",
       "      <th>2</th>\n",
       "      <td>nextories</td>\n",
       "      <td>SARL Les Plains</td>\n",
       "      <td>3</td>\n",
       "      <td>FR</td>\n",
       "      <td>5</td>\n",
       "      <td>2024-03-28T17:10:20.000Z</td>\n",
       "      <td>Rapidité et bien organisé</td>\n",
       "      <td>Contact fait que tout est rapide et simplifié,...</td>\n",
       "      <td>Bonjour,Merci pour cette note et pour votre co...</td>\n",
       "    </tr>\n",
       "    <tr>\n",
       "      <th>3</th>\n",
       "      <td>nextories</td>\n",
       "      <td>Emeline</td>\n",
       "      <td>5</td>\n",
       "      <td>FR</td>\n",
       "      <td>5</td>\n",
       "      <td>2024-03-23T22:45:24.000Z</td>\n",
       "      <td>2ème fois que j'utilise la plateforme et toujo...</td>\n",
       "      <td>C'est la 2ème fois que j'utilise Nextories. La...</td>\n",
       "      <td>Bonjour,Merci pour votre retour positif et pou...</td>\n",
       "    </tr>\n",
       "    <tr>\n",
       "      <th>4</th>\n",
       "      <td>nextories</td>\n",
       "      <td>VEROFAYOLLE</td>\n",
       "      <td>1</td>\n",
       "      <td>FR</td>\n",
       "      <td>5</td>\n",
       "      <td>2024-03-13T17:12:39.000Z</td>\n",
       "      <td>Whaouu!!!!</td>\n",
       "      <td>Nous avons eu les devis très rapidement malgré...</td>\n",
       "      <td>Bonjour,Merci pour ce retour et pour votre con...</td>\n",
       "    </tr>\n",
       "  </tbody>\n",
       "</table>\n",
       "</div>"
      ],
      "text/plain": [
       "  Nom_Entreprise            Nom_Client Nombre_avis Pays Note  \\\n",
       "0      nextories              Papillon           1   FR    5   \n",
       "1      nextories  Parisien en vacances           8   FR    5   \n",
       "2      nextories       SARL Les Plains           3   FR    5   \n",
       "3      nextories               Emeline           5   FR    5   \n",
       "4      nextories           VEROFAYOLLE           1   FR    5   \n",
       "\n",
       "                       Date  \\\n",
       "0  2024-04-05T10:15:56.000Z   \n",
       "1  2024-04-01T18:54:38.000Z   \n",
       "2  2024-03-28T17:10:20.000Z   \n",
       "3  2024-03-23T22:45:24.000Z   \n",
       "4  2024-03-13T17:12:39.000Z   \n",
       "\n",
       "                                          Titre_avis  \\\n",
       "0                                     Je recommande.   \n",
       "1                                            Parfait   \n",
       "2                          Rapidité et bien organisé   \n",
       "3  2ème fois que j'utilise la plateforme et toujo...   \n",
       "4                                         Whaouu!!!!   \n",
       "\n",
       "                                        Contenu_avis  \\\n",
       "0  En recherche de déménageurs en urgence, ils on...   \n",
       "1  Plusieurs devis dans une fourchette restreinte...   \n",
       "2  Contact fait que tout est rapide et simplifié,...   \n",
       "3  C'est la 2ème fois que j'utilise Nextories. La...   \n",
       "4  Nous avons eu les devis très rapidement malgré...   \n",
       "\n",
       "                                    Réponse_Entrpris  \n",
       "0  Bonjour,Merci pour cette note et pour votre co...  \n",
       "1  Bonjour,Merci pour cette note et pour votre co...  \n",
       "2  Bonjour,Merci pour cette note et pour votre co...  \n",
       "3  Bonjour,Merci pour votre retour positif et pou...  \n",
       "4  Bonjour,Merci pour ce retour et pour votre con...  "
      ]
     },
     "metadata": {},
     "output_type": "display_data"
    },
    {
     "data": {
      "text/html": [
       "<div>\n",
       "<style scoped>\n",
       "    .dataframe tbody tr th:only-of-type {\n",
       "        vertical-align: middle;\n",
       "    }\n",
       "\n",
       "    .dataframe tbody tr th {\n",
       "        vertical-align: top;\n",
       "    }\n",
       "\n",
       "    .dataframe thead th {\n",
       "        text-align: right;\n",
       "    }\n",
       "</style>\n",
       "<table border=\"1\" class=\"dataframe\">\n",
       "  <thead>\n",
       "    <tr style=\"text-align: right;\">\n",
       "      <th></th>\n",
       "      <th>Nom_Entreprise</th>\n",
       "      <th>Nom_Client</th>\n",
       "      <th>Nombre_avis</th>\n",
       "      <th>Pays</th>\n",
       "      <th>Note</th>\n",
       "      <th>Date</th>\n",
       "      <th>Titre_avis</th>\n",
       "      <th>Contenu_avis</th>\n",
       "      <th>Réponse_Entrpris</th>\n",
       "    </tr>\n",
       "  </thead>\n",
       "  <tbody>\n",
       "    <tr>\n",
       "      <th>12630</th>\n",
       "      <td>airselli</td>\n",
       "      <td>Aicha</td>\n",
       "      <td>2</td>\n",
       "      <td>DZ</td>\n",
       "      <td>5</td>\n",
       "      <td>2022-07-28T17:26:02.000Z</td>\n",
       "      <td>Société dynamique professionnelle et bienveill...</td>\n",
       "      <td>C’est la meilleure société de réexpédition en ...</td>\n",
       "      <td>Non</td>\n",
       "    </tr>\n",
       "    <tr>\n",
       "      <th>12631</th>\n",
       "      <td>airselli</td>\n",
       "      <td>Moumen</td>\n",
       "      <td>1</td>\n",
       "      <td>DZ</td>\n",
       "      <td>4</td>\n",
       "      <td>2023-06-21T15:37:37.000Z</td>\n",
       "      <td>Très bonne expérience</td>\n",
       "      <td>Très bonne expérience , le professionnalisme e...</td>\n",
       "      <td>Non</td>\n",
       "    </tr>\n",
       "    <tr>\n",
       "      <th>12632</th>\n",
       "      <td>airselli</td>\n",
       "      <td>zino guendil</td>\n",
       "      <td>3</td>\n",
       "      <td>DZ</td>\n",
       "      <td>5</td>\n",
       "      <td>2023-12-04T19:43:07.000Z</td>\n",
       "      <td>service rapide</td>\n",
       "      <td>Non</td>\n",
       "      <td>Non</td>\n",
       "    </tr>\n",
       "    <tr>\n",
       "      <th>12633</th>\n",
       "      <td>airselli</td>\n",
       "      <td>Fethi</td>\n",
       "      <td>1</td>\n",
       "      <td>DZ</td>\n",
       "      <td>5</td>\n",
       "      <td>2021-11-18T00:02:21.000Z</td>\n",
       "      <td>خدمات مشاء لله عالمية انشالله خاصة لاستاذ خالد...</td>\n",
       "      <td>Non</td>\n",
       "      <td>Non</td>\n",
       "    </tr>\n",
       "    <tr>\n",
       "      <th>12634</th>\n",
       "      <td>airselli</td>\n",
       "      <td>RAHAL Mohammed</td>\n",
       "      <td>1</td>\n",
       "      <td>DZ</td>\n",
       "      <td>5</td>\n",
       "      <td>2022-03-16T17:48:53.000Z</td>\n",
       "      <td>Colie reçu en 4 jours</td>\n",
       "      <td>Service impécable, je recomande.</td>\n",
       "      <td>Non</td>\n",
       "    </tr>\n",
       "  </tbody>\n",
       "</table>\n",
       "</div>"
      ],
      "text/plain": [
       "      Nom_Entreprise      Nom_Client Nombre_avis Pays Note  \\\n",
       "12630       airselli           Aicha           2   DZ    5   \n",
       "12631       airselli          Moumen           1   DZ    4   \n",
       "12632       airselli    zino guendil           3   DZ    5   \n",
       "12633       airselli           Fethi           1   DZ    5   \n",
       "12634       airselli  RAHAL Mohammed           1   DZ    5   \n",
       "\n",
       "                           Date  \\\n",
       "12630  2022-07-28T17:26:02.000Z   \n",
       "12631  2023-06-21T15:37:37.000Z   \n",
       "12632  2023-12-04T19:43:07.000Z   \n",
       "12633  2021-11-18T00:02:21.000Z   \n",
       "12634  2022-03-16T17:48:53.000Z   \n",
       "\n",
       "                                              Titre_avis  \\\n",
       "12630  Société dynamique professionnelle et bienveill...   \n",
       "12631                              Très bonne expérience   \n",
       "12632                                     service rapide   \n",
       "12633  خدمات مشاء لله عالمية انشالله خاصة لاستاذ خالد...   \n",
       "12634                              Colie reçu en 4 jours   \n",
       "\n",
       "                                            Contenu_avis Réponse_Entrpris  \n",
       "12630  C’est la meilleure société de réexpédition en ...              Non  \n",
       "12631  Très bonne expérience , le professionnalisme e...              Non  \n",
       "12632                                                Non              Non  \n",
       "12633                                                Non              Non  \n",
       "12634                   Service impécable, je recomande.              Non  "
      ]
     },
     "metadata": {},
     "output_type": "display_data"
    },
    {
     "name": "stdout",
     "output_type": "stream",
     "text": [
      "<class 'pandas.core.frame.DataFrame'>\n",
      "RangeIndex: 12635 entries, 0 to 12634\n",
      "Data columns (total 9 columns):\n",
      " #   Column            Non-Null Count  Dtype \n",
      "---  ------            --------------  ----- \n",
      " 0   Nom_Entreprise    12635 non-null  object\n",
      " 1   Nom_Client        12635 non-null  object\n",
      " 2   Nombre_avis       12635 non-null  object\n",
      " 3   Pays              12635 non-null  object\n",
      " 4   Note              12635 non-null  object\n",
      " 5   Date              12635 non-null  object\n",
      " 6   Titre_avis        12635 non-null  object\n",
      " 7   Contenu_avis      12635 non-null  object\n",
      " 8   Réponse_Entrpris  12635 non-null  object\n",
      "dtypes: object(9)\n",
      "memory usage: 888.5+ KB\n"
     ]
    },
    {
     "data": {
      "text/plain": [
       "None"
      ]
     },
     "metadata": {},
     "output_type": "display_data"
    }
   ],
   "source": [
    "import re\n",
    "import time\n",
    "# Liste des bases d'URL pour chaque entreprise\n",
    "entreprises_urls = [\n",
    "    \"https://fr.trustpilot.com/review/nextories.com\",\n",
    "    \"https://fr.trustpilot.com/review/www.la-tournee.co\", \n",
    "    \"https://fr.trustpilot.com/review/www.cartonsdedemenagement.com\",\n",
    "    \"https://fr.trustpilot.com/review/locabox.fr\",\n",
    "    \"https://fr.trustpilot.com/review/www.latribuducarton.fr\",\n",
    "    \"https://fr.trustpilot.com/review/merci-facteur.com\",\n",
    "    \"https://fr.trustpilot.com/review/youstock.com\",\n",
    "    \"https://fr.trustpilot.com/review/lockall.fr\",\n",
    "    \"https://fr.trustpilot.com/review/papernest.com\",\n",
    "    \"https://fr.trustpilot.com/review/welkit.fr\",\n",
    "    \"https://fr.trustpilot.com/review/www.cocolis.fr\",\n",
    "    \"https://fr.trustpilot.com/review/www.ecocarton.fr\",\n",
    "    \"https://fr.trustpilot.com/review/zolemba.fr\",\n",
    "    \"https://fr.trustpilot.com/review/delight-cbd.com\",\n",
    "    \"https://fr.trustpilot.com/review/cartonmarket.fr\",\n",
    "    \"https://fr.trustpilot.com/review/www.paysdesenveloppes.fr\",\n",
    "    \"https://fr.trustpilot.com/review/demeclic.fr\",\n",
    "    \"https://fr.trustpilot.com/review/coliback.com\",\n",
    "    \"https://fr.trustpilot.com/review/ubbabio.com\",\n",
    "    \"https://fr.trustpilot.com/review/www.expe-domtom.fr\",\n",
    "    \"https://fr.trustpilot.com/review/weed-side-story.com\",\n",
    "    \"https://fr.trustpilot.com/review/happy-post.com\",\n",
    "    \"https://fr.trustpilot.com/review/www.packhelp.fr\",\n",
    "    \"https://fr.trustpilot.com/review/colicoli.fr\",\n",
    "    \"https://fr.trustpilot.com/review/www.thepackengers.com\",\n",
    "    \"https://fr.trustpilot.com/review/www.shopiles.fr\",\n",
    "    \"https://fr.trustpilot.com/review/www.colisexpat.com\",\n",
    "    \"https://fr.trustpilot.com/review/www.fretbay.com\",\n",
    "    \"https://fr.trustpilot.com/review/upela.com\",\n",
    "    \"https://fr.trustpilot.com/review/limitedresell.com\",\n",
    "    \"https://fr.trustpilot.com/review/parcelmonkey.fr\",\n",
    "    \"https://fr.trustpilot.com/review/demenageurs-bretons.fr\",\n",
    "    \"https://fr.trustpilot.com/review/lettre24.com\",\n",
    "    \"https://fr.trustpilot.com/review/www.officiel-demenagement.com\",\n",
    "    \"https://fr.trustpilot.com/review/pakup-emballage.fr\",\n",
    "    \"https://fr.trustpilot.com/review/stls.fr\",\n",
    "    \"https://fr.trustpilot.com/review/green-kartel.com\",\n",
    "    \"https://fr.trustpilot.com/review/utopya.fr\",\n",
    "    \"https://fr.trustpilot.com/review/www.airselli.com\"\n",
    "   ]\n",
    "\n",
    "def extraire_nom_entreprise(url):\n",
    "    # L'expression régulière capture  le nom de l'entreprise.\n",
    "    match = re.search(r\"review/(?:www\\.)?([\\w-]+)\\.(com|co|fr)\", url)\n",
    "    if match:\n",
    "        return match.group(1)  # Retourne la partie du nom de l'entreprise\n",
    "    return \"xxxx\"\n",
    "\n",
    "\n",
    "\n",
    "nombre_de_pages = 20 # Nombre de pages à parcourir pour chaque entreprise\n",
    "\n",
    "#  stocker les avis par entreprise\n",
    "Nom_Entreprise=[]\n",
    "Nom = []\n",
    "Nombre_avis = []\n",
    "Pays = []\n",
    "Note = []\n",
    "Date = []\n",
    "Titre_avis = []\n",
    "Contenu_avis = []\n",
    "Réponse_Entrpris = []\n",
    "\n",
    "\n",
    "\n",
    "\n",
    "for base_url in entreprises_urls:\n",
    "    Entreprise=extraire_nom_entreprise(base_url)\n",
    "    print(Entreprise)\n",
    "   #Pour eviter la détection un volume anormalement élevé de requêtes provenant de mon adresse IP \n",
    "    time.sleep(10)  # Pause de 10 secondes ::pour simuler un comportement plus humain et moins intensif\n",
    "    \n",
    "    for page in range(1, nombre_de_pages + 1):\n",
    "        # Construction de l'URL pour chaque page\n",
    "        url = f\"{base_url}?page={page}\"\n",
    "        display(url)\n",
    "        # au cas où il y a la réponse de requests n eqaule 200// des erreurs à eviter \n",
    "        try:  \n",
    "            time.sleep(10)  # Pause de 10 secondes :Pour eviter la détection un volume anormalement élevé de requêtes provenant de mon adresse IP \n",
    "            response = requests.get(url)\n",
    "            if response.status_code == 200:\n",
    "                # Récupération du contenu de la page\n",
    "                Soup = ps(response.content, 'lxml')\n",
    "\n",
    "                # Recherche des avis clients sur la page\n",
    "                Avis_Clients = Soup.find_all('article', class_='paper_paper__1PY90 paper_outline__lwsUX card_card__lQWDv card_noPadding__D8PcU styles_reviewCard__hcAvl')\n",
    "\n",
    "                for avis in Avis_Clients:\n",
    "\n",
    "                    # Extraction et ajout des données pour chaque avis\n",
    "                    nom = avis.find('span', {'data-consumer-name-typography': True}).text.strip() if avis.find('span', {'data-consumer-name-typography': True}) else 'Non'\n",
    "                    nombre_avis = avis.find('span', {'data-consumer-reviews-count-typography': True}).text.split(' ')[0] if avis.find('span', {'data-consumer-reviews-count-typography': True}) else '0'\n",
    "\n",
    "                    svg = avis.find('svg')\n",
    "                    if svg and svg.find_next_sibling('span'):\n",
    "                        pays = svg.find_next_sibling('span').text.strip()\n",
    "                    else:\n",
    "                        pays = 'Non'\n",
    "\n",
    "                    note_img = avis.find('div', class_='star-rating_starRating__4rrcf')\n",
    "                    if note_img and note_img.find('img', alt=True):\n",
    "                        note_alt_text = note_img.find('img', alt=True)['alt']\n",
    "                        note = note_alt_text.replace('Noté ', '').replace(' sur 5 étoiles', '')\n",
    "                    else:\n",
    "                        note = 'Non'\n",
    "\n",
    "                    date = avis.find('time')['datetime']\n",
    "                    titre_avis = avis.find('h2').text.strip() if avis.find('h2') else 'Non'\n",
    "                    contenu_avis = avis.find('p', {'data-service-review-text-typography': True}).text.strip() if avis.find('p', {'data-service-review-text-typography': True}) else 'Non'\n",
    "\n",
    "                    reponse_entreprise_element = avis.find('p', class_='styles_message__shHhX')\n",
    "                    reponse_entreprise = reponse_entreprise_element.text.strip() if reponse_entreprise_element else 'Non'\n",
    "\n",
    "\n",
    "\n",
    "                    Nom_Entreprise.append(Entreprise)\n",
    "                    Nom.append(nom)\n",
    "                    Nombre_avis.append(nombre_avis)\n",
    "                    Pays.append(pays)\n",
    "                    Note.append(note)\n",
    "                    Date.append(date)\n",
    "                    Titre_avis.append(titre_avis)\n",
    "                    Contenu_avis.append(contenu_avis)\n",
    "                    Réponse_Entrpris.append(reponse_entreprise)\n",
    "                    \n",
    "            else:\n",
    "                print(f\"Erreur lors de la requête : {response.status_code}\")\n",
    "        except Exception as e:\n",
    "            print(f\"Erreur lors de la récupération des données pour {url}: {e}\")\n",
    "\n",
    "\n",
    "    \n",
    "# Création d'un DataFrame \n",
    "df = pd.DataFrame({\n",
    "\"Nom_Entreprise\": Nom_Entreprise,  \n",
    "\"Nom_Client\": Nom,\n",
    "\"Nombre_avis\": Nombre_avis,\n",
    "\"Pays\": Pays,\n",
    "\"Note\": Note,\n",
    "\"Date\": Date,\n",
    "\"Titre_avis\": Titre_avis,\n",
    "\"Contenu_avis\": Contenu_avis,\n",
    "\"Réponse_Entrpris\": Réponse_Entrpris\n",
    "})\n",
    "\n",
    "\n",
    "display(df.head())\n",
    "display(df.tail())\n",
    "display(df.info())    \n",
    "\n",
    " \n",
    "    \n",
    "\n"
   ]
  },
  {
   "cell_type": "code",
   "execution_count": 156,
   "id": "fefb6a3c",
   "metadata": {},
   "outputs": [],
   "source": [
    "# Sauvegarde du DataFrame dans un fichier CSV\n",
    "df.to_csv(\"Df_avis.csv\", index=False)"
   ]
  },
  {
   "cell_type": "code",
   "execution_count": null,
   "id": "f04b4c93",
   "metadata": {},
   "outputs": [],
   "source": [
    "\n",
    "\n"
   ]
  },
  {
   "cell_type": "code",
   "execution_count": 157,
   "id": "4af115f1",
   "metadata": {},
   "outputs": [
    {
     "data": {
      "text/plain": [
       "Note\n",
       "5    9669\n",
       "1    1200\n",
       "4    1133\n",
       "3     374\n",
       "2     259\n",
       "Name: count, dtype: int64"
      ]
     },
     "metadata": {},
     "output_type": "display_data"
    },
    {
     "name": "stdout",
     "output_type": "stream",
     "text": [
      "<class 'pandas.core.frame.DataFrame'>\n",
      "RangeIndex: 12635 entries, 0 to 12634\n",
      "Data columns (total 9 columns):\n",
      " #   Column            Non-Null Count  Dtype \n",
      "---  ------            --------------  ----- \n",
      " 0   Nom_Entreprise    12635 non-null  object\n",
      " 1   Nom_Client        12635 non-null  object\n",
      " 2   Nombre_avis       12635 non-null  object\n",
      " 3   Pays              12635 non-null  object\n",
      " 4   Note              12635 non-null  int32 \n",
      " 5   Date              12635 non-null  object\n",
      " 6   Titre_avis        12635 non-null  object\n",
      " 7   Contenu_avis      12635 non-null  object\n",
      " 8   Réponse_Entrpris  12635 non-null  object\n",
      "dtypes: int32(1), object(8)\n",
      "memory usage: 839.2+ KB\n"
     ]
    },
    {
     "data": {
      "text/plain": [
       "None"
      ]
     },
     "metadata": {},
     "output_type": "display_data"
    },
    {
     "data": {
      "image/png": "[encoded data removed]",
      "text/plain": [
       "<Figure size 640x480 with 1 Axes>"
      ]
     },
     "metadata": {},
     "output_type": "display_data"
    }
   ],
   "source": [
    "# visulisations\n",
    "\n",
    "df['Note'] = df['Note'].astype(int)\n",
    "display(df.Note.value_counts())\n",
    "import seaborn as sns\n",
    "\n",
    "sns.countplot(x=df['Note'])\n",
    "\n",
    "display(df.info())"
   ]
  },
  {
   "cell_type": "code",
   "execution_count": null,
   "id": "d6c3eaeb",
   "metadata": {},
   "outputs": [],
   "source": []
  },
  {
   "cell_type": "code",
   "execution_count": null,
   "id": "4a3e8de0",
   "metadata": {},
   "outputs": [],
   "source": []
  },
  {
   "cell_type": "code",
   "execution_count": null,
   "id": "e584be20",
   "metadata": {},
   "outputs": [],
   "source": [
    "\n",
    "\n",
    "\n",
    "\n"
   ]
  },
  {
   "cell_type": "code",
   "execution_count": 161,
   "id": "986937fd",
   "metadata": {},
   "outputs": [
    {
     "name": "stdout",
     "output_type": "stream",
     "text": [
      "{'.', \"m'a\", 'sa', 'seras', 'y', 'étions', 'ils', 'es', 'été', '\\\\', 'les', 'qui', 'ayants', 'seriez', 'du', 'son', 'soit', 'avons', 'aurions', 'auriez', 'fûmes', 'eu', '©', 'il', 'me', 'fût', 'auraient', 'as', 'lui', 'l', 'fussions', 'ayantes', 'leur', 'c', 'le', 'étées', 'étiez', 'mon', '!', 'nous', 'ses', 'eut', 'auras', 'a', 'aurai', '_', 'fusses', 'te', 'vous', 'étaient', 'serait', 'elle', 'étés', '...', 'sera', 'serons', 'aie', 'par', 'eussent', '/', 'eusses', 'sois', 'eus', 'même', 'aura', ':', 'étais', 'et', 'vos', 'toi', 'eurent', 'eussiez', 'eûtes', ',', 'est', 'furent', '-', 'pas', 'sont', 'serai', 'aient', 'eusse', 'tu', 'aux', 'eût', 'un', 'j', '<', 'aurez', 'pour', 'était', '(', 'aurons', 'étants', 'étantes', 'fusse', 'eussions', 'ayante', 'des', 'ces', 'eue', 'ton', 'étée', '~', 'ma', 'soyons', 'la', 'd', 'avaient', 'que', 'êtes', 'soyez', 'mes', 'étant', 'serions', 'avait', 'sur', 'eux', 'se', 'auront', 'une', 'soient', '@', 'eûmes', 'tes', '--', 'ont', 'avez', 'mais', '*', 'serez', '``', 'nos', 'fussiez', 'on', 'n', 'dans', 'avions', ';', 'ta', 't', 'de', 'ayez', 'fûtes', 'fussent', '=', 's', \"j'ai\", 'je', 'serais', 'ayant', 'aurait', 'ou', '?', 'notre', '\\\\\\\\', ')', 'aurais', 'votre', '>', 'fus', 'à', 'sommes', 'aviez', 'avais', 'eues', 'en', 'moi', 'au', 'ayons', 'étante', 'ait', 'seraient', 'suis', 'ce', 'seront', 'aies', 'fut', 'ai', 'qu', 'ne', 'avec', 'm'}\n",
      "  Nom_Entreprise            Nom_Client Nombre_avis Pays  Note  \\\n",
      "0      nextories              Papillon           1   FR     5   \n",
      "1      nextories  Parisien en vacances           8   FR     5   \n",
      "2      nextories       SARL Les Plains           3   FR     5   \n",
      "3      nextories               Emeline           5   FR     5   \n",
      "4      nextories           VEROFAYOLLE           1   FR     5   \n",
      "\n",
      "                       Date  \\\n",
      "0  2024-04-05T10:15:56.000Z   \n",
      "1  2024-04-01T18:54:38.000Z   \n",
      "2  2024-03-28T17:10:20.000Z   \n",
      "3  2024-03-23T22:45:24.000Z   \n",
      "4  2024-03-13T17:12:39.000Z   \n",
      "\n",
      "                                          Titre_avis  \\\n",
      "0                                     Je recommande.   \n",
      "1                                            Parfait   \n",
      "2                          Rapidité et bien organisé   \n",
      "3  2ème fois que j'utilise la plateforme et toujo...   \n",
      "4                                         Whaouu!!!!   \n",
      "\n",
      "                                        Contenu_avis  \\\n",
      "0  En recherche déménageurs urgence, parfait.État...   \n",
      "1  Plusieurs devis fourchette restreinte, apres v...   \n",
      "2  Contact fait tout rapide simplifié, sent énerg...   \n",
      "3  C'est 2ème fois j'utilise Nextories. La platef...   \n",
      "4  Nous devis très rapidement malgré changements ...   \n",
      "\n",
      "                                    Réponse_Entrpris  \n",
      "0  Bonjour,Merci pour cette note et pour votre co...  \n",
      "1  Bonjour,Merci pour cette note et pour votre co...  \n",
      "2  Bonjour,Merci pour cette note et pour votre co...  \n",
      "3  Bonjour,Merci pour votre retour positif et pou...  \n",
      "4  Bonjour,Merci pour ce retour et pour votre con...  \n"
     ]
    }
   ],
   "source": [
    "# Définir nauge des mots pour entrepise 1\n",
    "\n",
    "\n",
    "from nltk.corpus import  stopwords \n",
    "\n",
    "# Initialiser la variable des mots vides en français\n",
    "Stop_words = set(stopwords.words('french'))\n",
    "\n",
    "# Ajouter à la liste des stopwords des éléments de syntaxe qui ne servent pas à l'analyse du texte\n",
    "new_stop_words = [\"m'a\",\"j'ai\",\"a\",\",\", \".\", \"``\", \"@\", \"*\", \"(\", \")\", \"...\", \"!\", \"?\", \"-\", \"_\", \">\", \"<\", \":\", \"/\", \"=\", \"--\", \"©\", \"~\", \";\", \"\\\\\", \"\\\\\\\\\"]\n",
    "Stop_words.update(new_stop_words)\n",
    "print(Stop_words)\n",
    "\n",
    "# Définir la fonction stop_words_filtering\n",
    "def Stop_words_filtering(text):\n",
    "    words = text.split()  # Sépare la chaîne de caractères en mots\n",
    "    # Création d'une nouvelle liste contenant les mots filtrés\n",
    "    filtered_list = [mot for mot in words if mot not in Stop_words]\n",
    "    return ' '.join(filtered_list)  # Rejoindre les mots filtrés en une seule chaîne de texte\n",
    "\n",
    "\n",
    "# Appliquer la fonction de filtrage sur la colonne 'Contenu_avis'\n",
    "df['Contenu_avis'] = df['Contenu_avis'].apply(Stop_words_filtering)\n",
    "\n",
    "# Afficher le DataFrame après filtrage\n",
    "print(df.head())\n",
    "\n"
   ]
  },
  {
   "cell_type": "markdown",
   "id": "a50f9b6f",
   "metadata": {},
   "source": [
    "\n",
    "\n"
   ]
  },
  {
   "cell_type": "code",
   "execution_count": 162,
   "id": "0922abf2",
   "metadata": {},
   "outputs": [
    {
     "data": {
      "image/png": "[encoded data removed]",
      "text/plain": [
       "<Figure size 1000x500 with 1 Axes>"
      ]
     },
     "metadata": {},
     "output_type": "display_data"
    },
    {
     "data": {
      "image/png": "[encoded data removed]",
      "text/plain": [
       "<Figure size 640x480 with 1 Axes>"
      ]
     },
     "metadata": {},
     "output_type": "display_data"
    },
    {
     "data": {
      "image/png": "[encoded data removed]",
      "text/plain": [
       "<Figure size 1000x500 with 1 Axes>"
      ]
     },
     "metadata": {},
     "output_type": "display_data"
    },
    {
     "data": {
      "image/png": "[encoded data removed]",
      "text/plain": [
       "<Figure size 1000x500 with 1 Axes>"
      ]
     },
     "metadata": {},
     "output_type": "display_data"
    }
   ],
   "source": [
    "\n",
    "from PIL import Image\n",
    "import numpy as np\n",
    "\n",
    "\n",
    "# Définir la variable text\n",
    "text = \"\"\n",
    "for comment in df['Contenu_avis'] : \n",
    "    text += comment\n",
    "\n",
    "def plot_word_cloud(text, masque, background_color = \"black\") :\n",
    "    # Définir un masque\n",
    "    mask_coloring = np.array(Image.open(str(masque)))\n",
    "\n",
    "    # Définir le calque du nuage des mots\n",
    "    wc = WordCloud(width=800, height=400, background_color=background_color, max_words=200, stopwords=stop_words, mask = mask_coloring, max_font_size=70, random_state=42)\n",
    "\n",
    "    # Générer et afficher le nuage de mots\n",
    "    plt.figure(figsize= (10,5))\n",
    "    wc.generate(text)\n",
    "    plt.imshow(wc)\n",
    "    plt.show()\n",
    "\n",
    "plot_word_cloud(text, \"iron.jpg\")\n",
    "\n",
    "# Code d'affichage du masque\n",
    "import matplotlib.image as mpimg\n",
    "img = mpimg.imread(\"iron.jpg\")\n",
    "plt.imshow(img)\n",
    "plt.show()\n",
    "\n",
    "plot_word_cloud(text, \"coeur.png\", \"white\")\n",
    "plot_word_cloud(text, \"mal.jpg\")"
   ]
  },
  {
   "cell_type": "markdown",
   "id": "80174e9f",
   "metadata": {},
   "source": [
    "# Création d'un histogramme¶\n",
    "\n",
    "\n"
   ]
  },
  {
   "cell_type": "code",
   "execution_count": 163,
   "id": "7b4acc22",
   "metadata": {},
   "outputs": [
    {
     "data": {
      "image/png": "[encoded data removed]",
      "text/plain": [
       "<Figure size 1000x600 with 1 Axes>"
      ]
     },
     "metadata": {},
     "output_type": "display_data"
    }
   ],
   "source": [
    "from collections import Counter\n",
    "import seaborn as sns \n",
    "\n",
    "\n",
    "#wc.generate(text)  # \"Calcul\" du wordcloud\n",
    "\n",
    "# Récupération des mots et de leurs fréquences relatives \n",
    "mots_filtres = wc.words_\n",
    "\n",
    "\"\"\"\n",
    "# Affichage des mots et de leurs fréquences\n",
    "print(\"Mots filtrés et leurs fréquences relatives:\")\n",
    "for mot, frequence in mots_filtres.items():\n",
    "    print(f\"{mot}: {frequence}\")\n",
    "\"\"\"\n",
    "\n",
    "# Convertir les fréquences relatives en fréquences absolues si nécessaire\n",
    "# Ici, nous sélectionnons simplement les 15 mots les plus fréquents\n",
    "mots = list(mots_filtres.keys())[:25]\n",
    "frequences = list(mots_filtres.values())[:25]\n",
    "\n",
    "plt.figure(figsize=(10, 6))\n",
    "sns.barplot(x=frequences, y=mots)\n",
    "plt.title(' mots les plus fréquemment employés')\n",
    "plt.xlabel('Fréquence relative')\n",
    "plt.ylabel('Mots')\n",
    "plt.show()\n"
   ]
  },
  {
   "cell_type": "code",
   "execution_count": null,
   "id": "4cb31d48",
   "metadata": {},
   "outputs": [],
   "source": []
  }
 ],
 "metadata": {
  "kernelspec": {
   "display_name": "Python 3 (ipykernel)",
   "language": "python",
   "name": "python3"
  },
  "language_info": {
   "codemirror_mode": {
    "name": "ipython",
    "version": 3
   },
   "file_extension": ".py",
   "mimetype": "text/x-python",
   "name": "python",
   "nbconvert_exporter": "python",
   "pygments_lexer": "ipython3",
   "version": "3.11.5"
  }
 },
 "nbformat": 4,
 "nbformat_minor": 5
}
